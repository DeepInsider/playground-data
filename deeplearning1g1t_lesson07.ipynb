{
  "nbformat": 4,
  "nbformat_minor": 0,
  "metadata": {
    "colab": {
      "name": "deeplearning1g1t-lesson07.ipynb",
      "version": "0.3.2",
      "provenance": [],
      "private_outputs": true,
      "collapsed_sections": [],
      "toc_visible": true,
      "include_colab_link": true
    },
    "kernelspec": {
      "name": "python3",
      "display_name": "Python 3"
    }
  },
  "cells": [
    {
      "cell_type": "markdown",
      "metadata": {
        "id": "view-in-github",
        "colab_type": "text"
      },
      "source": [
        "[View in Colaboratory](https://colab.research.google.com/github/DeepInsider/playground-data/blob/master/deeplearning1g1t_lesson07.ipynb)"
      ]
    },
    {
      "metadata": {
        "id": "_zPGAalmv_0n",
        "colab_type": "text"
      },
      "cell_type": "markdown",
      "source": [
        "##### Copyright 2018 Digital Advantage - Deep Insider."
      ]
    },
    {
      "metadata": {
        "id": "jXmKBxGSwB_c",
        "colab_type": "code",
        "colab": {}
      },
      "cell_type": "code",
      "source": [
        "#@title Licensed under the Apache License, Version 2.0 (the \"License\");\n",
        "# you may not use this file except in compliance with the License.\n",
        "# You may obtain a copy of the License at\n",
        "#\n",
        "# https://www.apache.org/licenses/LICENSE-2.0\n",
        "#\n",
        "# Unless required by applicable law or agreed to in writing, software\n",
        "# distributed under the License is distributed on an \"AS IS\" BASIS,\n",
        "# WITHOUT WARRANTIES OR CONDITIONS OF ANY KIND, either express or implied.\n",
        "# See the License for the specific language governing permissions and\n",
        "# limitations under the License."
      ],
      "execution_count": 0,
      "outputs": []
    },
    {
      "metadata": {
        "id": "ufLgZqKIno0O",
        "colab_type": "text"
      },
      "cell_type": "markdown",
      "source": [
        "# 「ディープラーニングを始めるための、Python基礎文法入門」のノートブック"
      ]
    },
    {
      "metadata": {
        "id": "oTDOUKReZOxY",
        "colab_type": "text"
      },
      "cell_type": "markdown",
      "source": [
        "※上から順に実行してください。上のコードで実行したものを再利用しているところがあるため、すべて実行しないとエラーになるコードがあります。  \n",
        "　すべてのコードを一括実行したい場合は、メニューバーから［ランタイム］－［すべてのセルを実行］をクリックしてください。"
      ]
    },
    {
      "metadata": {
        "id": "t7W0Uv8Lsiat",
        "colab_type": "text"
      },
      "cell_type": "markdown",
      "source": [
        "※このノートブックは「Python 2」でも実行できるようにしていますが、基本的に「Python 3」を利用することをお勧めします。\n",
        "　Python 3を利用するには、メニューバーから［ランタイム］－［ランタイムのタイプを変更］を選択すると表示される［ノートブックの設定］ダイアログの、［ランタイムのタイプ］欄で「Python 3」に選択し、その右下にある［保存］ボタンをクリックしてください。"
      ]
    },
    {
      "metadata": {
        "id": "XnKEyt7EjioY",
        "colab_type": "text"
      },
      "cell_type": "markdown",
      "source": [
        "## Python バージョン2への対応"
      ]
    },
    {
      "metadata": {
        "id": "77WBf_vijoEu",
        "colab_type": "code",
        "colab": {}
      },
      "cell_type": "code",
      "source": [
        "# Pythonファイルの冒頭で以下を記述する\n",
        "from __future__ import absolute_import\n",
        "from __future__ import division\n",
        "from __future__ import print_function\n",
        "from __future__ import unicode_literals\n",
        "\n",
        "print(3 / 2) # 「1.5」。インポートしないPython 2系だと「1」"
      ],
      "execution_count": 0,
      "outputs": []
    },
    {
      "metadata": {
        "id": "VtxTHwoTnTn4",
        "colab_type": "text"
      },
      "cell_type": "markdown",
      "source": [
        "## ライブラリとパッケージ"
      ]
    },
    {
      "metadata": {
        "id": "qjQURIqNnP21",
        "colab_type": "text"
      },
      "cell_type": "markdown",
      "source": [
        "#### リスト2　tensorflowパッケージをインストールするためのシェルコマンド"
      ]
    },
    {
      "metadata": {
        "id": "BTN0S1JqnJHO",
        "colab_type": "code",
        "colab": {}
      },
      "cell_type": "code",
      "source": [
        "!pip install tensorflow"
      ],
      "execution_count": 0,
      "outputs": []
    },
    {
      "metadata": {
        "id": "fvw0XJo_nZdi",
        "colab_type": "text"
      },
      "cell_type": "markdown",
      "source": [
        "## モジュールのインポート"
      ]
    },
    {
      "metadata": {
        "id": "XIgY5mynnlM4",
        "colab_type": "text"
      },
      "cell_type": "markdown",
      "source": [
        "#### リスト1　モジュールをインポートするコード例"
      ]
    },
    {
      "metadata": {
        "id": "r34MF0Nrk-_c",
        "colab_type": "code",
        "colab": {}
      },
      "cell_type": "code",
      "source": [
        "import tensorflow as tf"
      ],
      "execution_count": 0,
      "outputs": []
    },
    {
      "metadata": {
        "id": "Hi0tc2Dcn6hD",
        "colab_type": "text"
      },
      "cell_type": "markdown",
      "source": [
        "## モジュールの利用と定義"
      ]
    },
    {
      "metadata": {
        "id": "H9qO12NuoIpJ",
        "colab_type": "text"
      },
      "cell_type": "markdown",
      "source": [
        "#### リスト3-1　モジュールを利用するコード例"
      ]
    },
    {
      "metadata": {
        "id": "PE3Pxv3zoJz8",
        "colab_type": "code",
        "colab": {}
      },
      "cell_type": "code",
      "source": [
        "mnist = tf.keras.datasets.mnist"
      ],
      "execution_count": 0,
      "outputs": []
    },
    {
      "metadata": {
        "id": "LOI_sfoNfGh7",
        "colab_type": "text"
      },
      "cell_type": "markdown",
      "source": [
        "#### リスト3-2　モジュール階層の途中のモジュールをインポートするコード例"
      ]
    },
    {
      "metadata": {
        "id": "AU9uk_sEfPRK",
        "colab_type": "code",
        "colab": {}
      },
      "cell_type": "code",
      "source": [
        "from tensorflow.keras import datasets\n",
        "mnist = datasets.mnist"
      ],
      "execution_count": 0,
      "outputs": []
    },
    {
      "metadata": {
        "id": "VbG8VIExs3Gn",
        "colab_type": "text"
      },
      "cell_type": "markdown",
      "source": [
        "## コメント"
      ]
    },
    {
      "metadata": {
        "id": "M5DlohrTtih0",
        "colab_type": "text"
      },
      "cell_type": "markdown",
      "source": [
        "#### リスト3-1　コメントのコード例（行全体）"
      ]
    },
    {
      "metadata": {
        "id": "eh6atVkms-eh",
        "colab_type": "code",
        "colab": {}
      },
      "cell_type": "code",
      "source": [
        "# Display training progress by printing a single dot for each completed epoch（各エポックの完了のたびに「.」を描画することでトレーニングの進捗を表示する）\n",
        "## ……コメントに続くコードは省略……\n",
        "\n",
        "# Store training stats（トレーニング統計を保存する）\n",
        "## ……コメントに続くコードは省略……"
      ],
      "execution_count": 0,
      "outputs": []
    },
    {
      "metadata": {
        "id": "KSKYvnbotggB",
        "colab_type": "text"
      },
      "cell_type": "markdown",
      "source": [
        "#### リスト3-2　コメントのコード例（行途中）"
      ]
    },
    {
      "metadata": {
        "id": "_uxN7w25tMTm",
        "colab_type": "code",
        "colab": {}
      },
      "cell_type": "code",
      "source": [
        "import tensorflow as tf  # tfという名前でtensorflowモジュールをインポート"
      ],
      "execution_count": 0,
      "outputs": []
    },
    {
      "metadata": {
        "id": "k5F_zUjPtsJ7",
        "colab_type": "text"
      },
      "cell_type": "markdown",
      "source": [
        "#### リスト3-3　コメントのコード例（複数行）"
      ]
    },
    {
      "metadata": {
        "id": "SIjnJrk5teoI",
        "colab_type": "code",
        "colab": {}
      },
      "cell_type": "code",
      "source": [
        "'''\n",
        "複数行の\n",
        "コメントが\n",
        "書けます\n",
        "'''"
      ],
      "execution_count": 0,
      "outputs": []
    },
    {
      "metadata": {
        "id": "XH6m72b_74Kq",
        "colab_type": "text"
      },
      "cell_type": "markdown",
      "source": [
        "## 変数の宣言と代入"
      ]
    },
    {
      "metadata": {
        "id": "zqN84lF-77rR",
        "colab_type": "text"
      },
      "cell_type": "markdown",
      "source": [
        "#### リスト4-1　【再掲】変数の宣言と代入のサンプルコード"
      ]
    },
    {
      "metadata": {
        "id": "kHAZjdNz79_q",
        "colab_type": "code",
        "colab": {}
      },
      "cell_type": "code",
      "source": [
        "mnist = tf.keras.datasets.mnist"
      ],
      "execution_count": 0,
      "outputs": []
    },
    {
      "metadata": {
        "id": "QyIlXiTC5vUf",
        "colab_type": "text"
      },
      "cell_type": "markdown",
      "source": [
        "#### リスト4-2　変数の内容の確認"
      ]
    },
    {
      "metadata": {
        "id": "R1UokI5_8AwD",
        "colab_type": "code",
        "colab": {}
      },
      "cell_type": "code",
      "source": [
        "mnist"
      ],
      "execution_count": 0,
      "outputs": []
    },
    {
      "metadata": {
        "id": "XFY3O9x25uv9",
        "colab_type": "text"
      },
      "cell_type": "markdown",
      "source": [
        "## データの型（基本編）"
      ]
    },
    {
      "metadata": {
        "id": "Z2xi0cFL6Lwd",
        "colab_type": "text"
      },
      "cell_type": "markdown",
      "source": [
        "### bool型（ブール型）"
      ]
    },
    {
      "metadata": {
        "id": "O-SptmS56lTB",
        "colab_type": "text"
      },
      "cell_type": "markdown",
      "source": [
        "#### リスト5-1　変数の宣言と「真偽値」の代入を行うコード"
      ]
    },
    {
      "metadata": {
        "id": "OcueRGNUx7Qo",
        "colab_type": "code",
        "colab": {}
      },
      "cell_type": "code",
      "source": [
        "is_a = True\n",
        "is_b = False\n",
        "\n",
        "is_b  # Falseと出力される"
      ],
      "execution_count": 0,
      "outputs": []
    },
    {
      "metadata": {
        "id": "rN2vOvlm6jC4",
        "colab_type": "text"
      },
      "cell_type": "markdown",
      "source": [
        "### int型／float型（数値型）"
      ]
    },
    {
      "metadata": {
        "id": "GKYSR4Jj6o1a",
        "colab_type": "text"
      },
      "cell_type": "markdown",
      "source": [
        "#### リスト5-2　変数の宣言と「整数値」の代入を行うコード"
      ]
    },
    {
      "metadata": {
        "id": "oiiAzscQ6g_t",
        "colab_type": "code",
        "colab": {}
      },
      "cell_type": "code",
      "source": [
        "EPOCHS = 500\n",
        "\n",
        "EPOCHS  # 500と出力される"
      ],
      "execution_count": 0,
      "outputs": []
    },
    {
      "metadata": {
        "id": "kzxsyeE064f-",
        "colab_type": "text"
      },
      "cell_type": "markdown",
      "source": [
        "#### リスト5-3　変数の宣言と「浮動小数点数値」の代入を行うコード"
      ]
    },
    {
      "metadata": {
        "id": "ClP0dRthx8ld",
        "colab_type": "code",
        "colab": {}
      },
      "cell_type": "code",
      "source": [
        "float_variable = 123.456\n",
        "\n",
        "float_variable  # 123.456と出力される"
      ],
      "execution_count": 0,
      "outputs": []
    },
    {
      "metadata": {
        "id": "NsdUk_gd7CpP",
        "colab_type": "text"
      },
      "cell_type": "markdown",
      "source": [
        "### str型（文字列型）"
      ]
    },
    {
      "metadata": {
        "id": "xwvAHVdV7Evm",
        "colab_type": "text"
      },
      "cell_type": "markdown",
      "source": [
        "#### リスト5-4　変数の宣言と「文字列」の代入を行うコード"
      ]
    },
    {
      "metadata": {
        "id": "96qbYp7s7INB",
        "colab_type": "code",
        "colab": {}
      },
      "cell_type": "code",
      "source": [
        "color = 'blue'\n",
        "\n",
        "color  # 'blue'と出力される"
      ],
      "execution_count": 0,
      "outputs": []
    },
    {
      "metadata": {
        "id": "Q1toxEqG7wvb",
        "colab_type": "text"
      },
      "cell_type": "markdown",
      "source": [
        "#### リスト5-5　二重引用符による文字列の記述"
      ]
    },
    {
      "metadata": {
        "id": "gO4-eivQ7PZx",
        "colab_type": "code",
        "colab": {}
      },
      "cell_type": "code",
      "source": [
        "color = \"b'lue\"\n",
        "\n",
        "color  # \"b'lue\"と出力される"
      ],
      "execution_count": 0,
      "outputs": []
    },
    {
      "metadata": {
        "id": "EFvDJoF97ttE",
        "colab_type": "text"
      },
      "cell_type": "markdown",
      "source": [
        "#### リスト5-6　文字列でエスケープシーケンスを使った例"
      ]
    },
    {
      "metadata": {
        "id": "DDu-q94V7Zdo",
        "colab_type": "code",
        "colab": {}
      },
      "cell_type": "code",
      "source": [
        "color = 'b\\'l\"ue'\n",
        "\n",
        "color  # 'b\\'l\"ue'と出力される"
      ],
      "execution_count": 0,
      "outputs": []
    },
    {
      "metadata": {
        "id": "4kjZ2KoKyDxF",
        "colab_type": "code",
        "colab": {}
      },
      "cell_type": "code",
      "source": [
        "# 1つの変数に代入できる\n",
        "tuple_data = ('Taro', 'Yamada')\n",
        "\n",
        "# 個別の変数に分けて代入することもできる\n",
        "(first_name, family_name) = ('Taro', 'Yamada')\n",
        "# もちろんタプル型変数からも同様に分けて代入できる\n",
        "(first_name, family_name) = tuple_data\n",
        "\n",
        "# 丸カッコは省略することもできる\n",
        "first_name, family_name = 'Taro', 'Yamada'"
      ],
      "execution_count": 0,
      "outputs": []
    },
    {
      "metadata": {
        "id": "q_4Y6t9873ak",
        "colab_type": "text"
      },
      "cell_type": "markdown",
      "source": [
        "## データの型（コレクション編）"
      ]
    },
    {
      "metadata": {
        "id": "EtOmXI4P77wA",
        "colab_type": "text"
      },
      "cell_type": "markdown",
      "source": [
        "### list型（リスト型）"
      ]
    },
    {
      "metadata": {
        "id": "88s2Np9q7-8n",
        "colab_type": "text"
      },
      "cell_type": "markdown",
      "source": [
        "#### リスト5-7　変数へ「リスト」値を代入するコード"
      ]
    },
    {
      "metadata": {
        "id": "Q7DPdfnp5GUL",
        "colab_type": "code",
        "colab": {}
      },
      "cell_type": "code",
      "source": [
        "abc_list = ['a', 'b', 'c', 'd', 'e']\n",
        "\n",
        "abc_list"
      ],
      "execution_count": 0,
      "outputs": []
    },
    {
      "metadata": {
        "id": "0VCxqxwF8hm0",
        "colab_type": "text"
      },
      "cell_type": "markdown",
      "source": [
        "### tuple型（タプル型）"
      ]
    },
    {
      "metadata": {
        "id": "FTtI_37x8y3R",
        "colab_type": "text"
      },
      "cell_type": "markdown",
      "source": [
        "#### リスト5-8　1つの変数へ「タプル」値を代入するコード"
      ]
    },
    {
      "metadata": {
        "id": "ChXWgY2E9XDb",
        "colab_type": "code",
        "colab": {}
      },
      "cell_type": "code",
      "source": [
        "# 1つの変数に代入できる\n",
        "tuple_data = ('Taro', 'Yamada')\n",
        "\n",
        "tuple_data  # ('Taro', 'Yamada')と出力される"
      ],
      "execution_count": 0,
      "outputs": []
    },
    {
      "metadata": {
        "id": "O3gcyA1Z-YX0",
        "colab_type": "text"
      },
      "cell_type": "markdown",
      "source": [
        "#### リスト5-9　複数の変数へ「タプル」値を代入するコード"
      ]
    },
    {
      "metadata": {
        "id": "uexW5o6w95nb",
        "colab_type": "code",
        "colab": {}
      },
      "cell_type": "code",
      "source": [
        "# タプル型変数の値を複数の変数に分けて代入できる\n",
        "(first_name, family_name) = tuple_data\n",
        "\n",
        "# タプルの宣言時に、個別の変数に分けて代入することもできる\n",
        "(first_name, family_name) = ('Taro', 'Yamada')\n",
        "\n",
        "family_name  # 'Yamada'と出力される"
      ],
      "execution_count": 0,
      "outputs": []
    },
    {
      "metadata": {
        "id": "j-9GxvWEAq8g",
        "colab_type": "text"
      },
      "cell_type": "markdown",
      "source": [
        "#### リスト5-10　丸括弧を省略したタプルの例"
      ]
    },
    {
      "metadata": {
        "id": "0689lgsIAtgA",
        "colab_type": "code",
        "colab": {}
      },
      "cell_type": "code",
      "source": [
        "first_name, family_name = 'Taro', 'Yamada'\n",
        "\n",
        "family_name  # 'Yamada'と出力される"
      ],
      "execution_count": 0,
      "outputs": []
    },
    {
      "metadata": {
        "id": "CzejGPaPSBTF",
        "colab_type": "text"
      },
      "cell_type": "markdown",
      "source": [
        "#### リスト5-11　タプルを応用して複数の変数をまとめて宣言＆代入する例"
      ]
    },
    {
      "metadata": {
        "id": "txuxD-zpBPx2",
        "colab_type": "code",
        "colab": {}
      },
      "cell_type": "code",
      "source": [
        "is_b, EPOCHS, color = False, 500, 'blue'\n",
        "\n",
        "is_b, EPOCHS, color  # '(False, 500, 'blue')'と出力される"
      ],
      "execution_count": 0,
      "outputs": []
    },
    {
      "metadata": {
        "id": "FWdsYXjNSFPt",
        "colab_type": "text"
      },
      "cell_type": "markdown",
      "source": [
        "### dict型（辞書型）"
      ]
    },
    {
      "metadata": {
        "id": "fDNGl_UySLVo",
        "colab_type": "text"
      },
      "cell_type": "markdown",
      "source": [
        "#### リスト5-13　変数への「辞書」の代入を行っているコード"
      ]
    },
    {
      "metadata": {
        "id": "eqHsINdySPjk",
        "colab_type": "code",
        "colab": {}
      },
      "cell_type": "code",
      "source": [
        "abc_dict = { 'a': 1.2, 'b': 2.4, 'c': 3.6 }\n",
        "\n",
        "abc_dict  # { 'a': 1.2, 'b': 2.4, 'c': 3.6 }と出力される"
      ],
      "execution_count": 0,
      "outputs": []
    },
    {
      "metadata": {
        "id": "WNyCrE1hSX_u",
        "colab_type": "text"
      },
      "cell_type": "markdown",
      "source": [
        "#### リスト5-14　辞書を使用するサンプルコード"
      ]
    },
    {
      "metadata": {
        "id": "mhwdgTjASaTU",
        "colab_type": "code",
        "colab": {}
      },
      "cell_type": "code",
      "source": [
        "abc_dict['a']\n",
        "# 1.2と出力される"
      ],
      "execution_count": 0,
      "outputs": []
    },
    {
      "metadata": {
        "id": "uy2k47_7YQL7",
        "colab_type": "text"
      },
      "cell_type": "markdown",
      "source": [
        "## 関数の利用"
      ]
    },
    {
      "metadata": {
        "id": "-MBHitMLYcWn",
        "colab_type": "text"
      },
      "cell_type": "markdown",
      "source": [
        "#### リスト16-1　関数を利用するコード例"
      ]
    },
    {
      "metadata": {
        "id": "BAvhjcoCYgDz",
        "colab_type": "code",
        "colab": {}
      },
      "cell_type": "code",
      "source": [
        "(x_train, y_train),(x_test, y_test) = mnist.load_data()\n"
      ],
      "execution_count": 0,
      "outputs": []
    },
    {
      "metadata": {
        "id": "96HUZjaN0tYv",
        "colab_type": "text"
      },
      "cell_type": "markdown",
      "source": [
        "#### リスト16-2　戻り値を無視するコード例"
      ]
    },
    {
      "metadata": {
        "id": "83TpHuAJ0wNA",
        "colab_type": "code",
        "colab": {}
      },
      "cell_type": "code",
      "source": [
        "mnist.load_data()\n",
        "# 戻り値は出力（＝表示）されるのみで、変数に保存されない"
      ],
      "execution_count": 0,
      "outputs": []
    },
    {
      "metadata": {
        "id": "-3UzuaTU04Fk",
        "colab_type": "text"
      },
      "cell_type": "markdown",
      "source": [
        "#### リスト16-3　変数内容の出力とprint()関数の出力の違い"
      ]
    },
    {
      "metadata": {
        "id": "EiYFmjXM01Bq",
        "colab_type": "code",
        "colab": {}
      },
      "cell_type": "code",
      "source": [
        "y_train  # array([5, 0, 4, ..., 5, 6, 8], dtype=uint8)のように出力される"
      ],
      "execution_count": 0,
      "outputs": []
    },
    {
      "metadata": {
        "id": "4OuzYd6G1T2r",
        "colab_type": "code",
        "colab": {}
      },
      "cell_type": "code",
      "source": [
        "print(y_train)  # [5 0 4 ... 5 6 8]のように出力される"
      ],
      "execution_count": 0,
      "outputs": []
    },
    {
      "metadata": {
        "id": "tJKmuocj0kTt",
        "colab_type": "text"
      },
      "cell_type": "markdown",
      "source": [
        "## 関数の定義"
      ]
    },
    {
      "metadata": {
        "id": "ZMOcYmn21AtR",
        "colab_type": "text"
      },
      "cell_type": "markdown",
      "source": [
        "#### リスト17-1　関数を定義するコード例"
      ]
    },
    {
      "metadata": {
        "id": "wmDR_Wa51aDH",
        "colab_type": "code",
        "colab": {}
      },
      "cell_type": "code",
      "source": [
        "import matplotlib.pyplot as plt  # 下記コードの実行に必要なライブラリを追記\n",
        "\n",
        "def plot_image(i, predictions_array, true_label, img):\n",
        "  # ……省略……\n",
        "\n",
        "  plt.imshow(img, cmap=plt.cm.binary)\n",
        "  # ……省略……\n"
      ],
      "execution_count": 0,
      "outputs": []
    },
    {
      "metadata": {
        "id": "m0iKxEsemdH7",
        "colab_type": "text"
      },
      "cell_type": "markdown",
      "source": [
        "## 制御構文"
      ]
    },
    {
      "metadata": {
        "id": "M6Y_53BnmelG",
        "colab_type": "text"
      },
      "cell_type": "markdown",
      "source": [
        "### 条件分岐"
      ]
    },
    {
      "metadata": {
        "id": "lWPY7ihRmiwJ",
        "colab_type": "text"
      },
      "cell_type": "markdown",
      "source": [
        "#### リスト18-1　条件分岐を行うコード例"
      ]
    },
    {
      "metadata": {
        "id": "i513TfYCml1R",
        "colab_type": "code",
        "colab": {}
      },
      "cell_type": "code",
      "source": [
        "predicted_label = '猫'\n",
        "true_label = '犬'  # この2行は下記コードの実行に必要な仮のコード\n",
        "\n",
        "if predicted_label is true_label:\n",
        "  color = 'blue'\n",
        "else:\n",
        "  color = 'red'\n",
        "\n",
        "color"
      ],
      "execution_count": 0,
      "outputs": []
    },
    {
      "metadata": {
        "id": "3iiG06JVqTKe",
        "colab_type": "text"
      },
      "cell_type": "markdown",
      "source": [
        "#### リスト18-2　3つ以上の条件分岐を行うコード例"
      ]
    },
    {
      "metadata": {
        "id": "kos17oXcqVlb",
        "colab_type": "code",
        "colab": {}
      },
      "cell_type": "code",
      "source": [
        "predicted_label = '猫'  # この2行は下記コードの実行に必要な仮のコード\n",
        "\n",
        "if predicted_label == '犬':\n",
        "  color = 'blue'\n",
        "elif predicted_label == '猫':\n",
        "  color = 'green'\n",
        "elif predicted_label == '馬':\n",
        "  color = 'yellow'\n",
        "else:\n",
        "  color = 'red'\n",
        "\n",
        "color  # 'green'と出力される"
      ],
      "execution_count": 0,
      "outputs": []
    },
    {
      "metadata": {
        "id": "ZDVCGP4h1OQh",
        "colab_type": "text"
      },
      "cell_type": "markdown",
      "source": [
        "#### リスト18-3　else文が含まれない条件分岐のコード例"
      ]
    },
    {
      "metadata": {
        "id": "-4sx4a-gy2jS",
        "colab_type": "code",
        "colab": {}
      },
      "cell_type": "code",
      "source": [
        "predicted_label = '猫'  # この2行は下記コードの実行に必要な仮のコード\n",
        "\n",
        "color = 'white'\n",
        "\n",
        "if predicted_label == '犬':\n",
        "  color = 'blue'\n",
        "elif predicted_label == '羊':\n",
        "  color = 'pink'\n",
        "\n",
        "color  # 'white'と出力される"
      ],
      "execution_count": 0,
      "outputs": []
    },
    {
      "metadata": {
        "id": "7um54MdmEsz5",
        "colab_type": "text"
      },
      "cell_type": "markdown",
      "source": [
        "### ループ処理（for文）"
      ]
    },
    {
      "metadata": {
        "id": "npbAmQfcE9ja",
        "colab_type": "text"
      },
      "cell_type": "markdown",
      "source": [
        "#### リスト18-4　ループ処理（for文）を行うコード例"
      ]
    },
    {
      "metadata": {
        "id": "53NvmkPDAgXP",
        "colab_type": "code",
        "colab": {}
      },
      "cell_type": "code",
      "source": [
        "import matplotlib.pyplot as plt  # 下記コードの実行に必要なライブラリを追記\n",
        "\n",
        "for i in range(25):\n",
        "  plt.subplot(5, 5, i+1)\n",
        "  # ……省略……"
      ],
      "execution_count": 0,
      "outputs": []
    },
    {
      "metadata": {
        "id": "UPPvkKtXTI0s",
        "colab_type": "text"
      },
      "cell_type": "markdown",
      "source": [
        "#### リスト18-5　ループ処理（while文）を行うコード例"
      ]
    },
    {
      "metadata": {
        "id": "G9nulqCKTMse",
        "colab_type": "code",
        "colab": {}
      },
      "cell_type": "code",
      "source": [
        "import matplotlib.pyplot as plt  # 下記コードの実行に必要なライブラリを追記\n",
        "\n",
        "i = 0\n",
        "while i < 25:\n",
        "  plt.subplot(5, 5, i+1)\n",
        "  i = i + 1\n",
        "  # ……省略……\n",
        "else:\n",
        "  print('ループ終了')"
      ],
      "execution_count": 0,
      "outputs": []
    },
    {
      "metadata": {
        "id": "Zqsj8_gAZMgl",
        "colab_type": "text"
      },
      "cell_type": "markdown",
      "source": [
        "### ループ処理の中断と継続"
      ]
    },
    {
      "metadata": {
        "id": "qURgJomJZQn4",
        "colab_type": "text"
      },
      "cell_type": "markdown",
      "source": [
        "#### リスト18-6　ループ処理を中断するコード例"
      ]
    },
    {
      "metadata": {
        "id": "_z0Hw4cQZPs9",
        "colab_type": "code",
        "colab": {}
      },
      "cell_type": "code",
      "source": [
        "import matplotlib.pyplot as plt  # 下記コードの実行に必要なライブラリを追記\n",
        "\n",
        "for i in range(25):\n",
        "  plt.subplot(5, 5, i+1)\n",
        "  if i >= 2:\n",
        "    break\n",
        "  # ……省略……"
      ],
      "execution_count": 0,
      "outputs": []
    },
    {
      "metadata": {
        "id": "7ljwi4C5a-Uj",
        "colab_type": "text"
      },
      "cell_type": "markdown",
      "source": [
        "#### リスト18-7　次のループ処理にスキップして継続するコード例"
      ]
    },
    {
      "metadata": {
        "id": "jaegexysbBRq",
        "colab_type": "code",
        "colab": {}
      },
      "cell_type": "code",
      "source": [
        "import matplotlib.pyplot as plt  # 下記コードの実行に必要なライブラリを追記\n",
        "\n",
        "for i in range(25):\n",
        "  if i >= 2:\n",
        "    continue\n",
        "  plt.subplot(5, 5, i+1)\n",
        "  # ……省略……"
      ],
      "execution_count": 0,
      "outputs": []
    },
    {
      "metadata": {
        "id": "AKxv9qQGg7Q5",
        "colab_type": "text"
      },
      "cell_type": "markdown",
      "source": [
        "## 四則演算"
      ]
    },
    {
      "metadata": {
        "id": "hPmt3YtkhCII",
        "colab_type": "text"
      },
      "cell_type": "markdown",
      "source": [
        "#### リスト19-1　四則演算のコード例"
      ]
    },
    {
      "metadata": {
        "id": "tI_ppGs3e-lN",
        "colab_type": "code",
        "colab": {}
      },
      "cell_type": "code",
      "source": [
        "num = 5 + 3\n",
        "print(num)  # 8（足し算）\n",
        "\n",
        "num = 5 - 3\n",
        "print(num)  # 2（引き算）\n",
        "\n",
        "num = 5 * 3\n",
        "print(num)  # 15（かけ算）\n",
        "\n",
        "num = 5 / 3\n",
        "print(num)  # 1.6666666666666667（割り算）\n",
        "\n",
        "num = 5 % 3\n",
        "print(num)  # 2（余り）"
      ],
      "execution_count": 0,
      "outputs": []
    },
    {
      "metadata": {
        "id": "a2_bRLPTWT6v",
        "colab_type": "text"
      },
      "cell_type": "markdown",
      "source": [
        "## 文字列フォーマット"
      ]
    },
    {
      "metadata": {
        "id": "DKlV7jNrrdiU",
        "colab_type": "text"
      },
      "cell_type": "markdown",
      "source": [
        "#### リスト20-1　文字列をフォーマットするコード例"
      ]
    },
    {
      "metadata": {
        "id": "6y7UeXaNrVvT",
        "colab_type": "code",
        "colab": {}
      },
      "cell_type": "code",
      "source": [
        "msg = '{} {:2.0f}% ({})'.format('予測結果の分類内容',\n",
        "                                72.5,\n",
        "                                '正解ラベルの分類内容')\n",
        "print(msg)  # '予測結果の分類内容 72% (正解ラベルの分類内容)'"
      ],
      "execution_count": 0,
      "outputs": []
    },
    {
      "metadata": {
        "id": "yi8qI7WMWcoB",
        "colab_type": "text"
      },
      "cell_type": "markdown",
      "source": [
        "## クラスの利用"
      ]
    },
    {
      "metadata": {
        "id": "IFZlnO_TWf5H",
        "colab_type": "text"
      },
      "cell_type": "markdown",
      "source": [
        "#### リスト21-1　クラスのインスタンスを生成するコード例"
      ]
    },
    {
      "metadata": {
        "id": "NzhDtQ8NWisq",
        "colab_type": "code",
        "colab": {}
      },
      "cell_type": "code",
      "source": [
        "model = tf.keras.models.Sequential([\n",
        "  tf.keras.layers.Flatten(),\n",
        "  tf.keras.layers.Dense(512, activation=tf.nn.relu),\n",
        "  tf.keras.layers.Dropout(0.2),\n",
        "  tf.keras.layers.Dense(10, activation=tf.nn.softmax)\n",
        "])"
      ],
      "execution_count": 0,
      "outputs": []
    },
    {
      "metadata": {
        "id": "kDsHdvgDWnMU",
        "colab_type": "text"
      },
      "cell_type": "markdown",
      "source": [
        "#### リスト22-1　インスタンスメソッドのコード例"
      ]
    },
    {
      "metadata": {
        "id": "ZJxxyLtLWmsI",
        "colab_type": "code",
        "colab": {}
      },
      "cell_type": "code",
      "source": [
        "model.compile(optimizer='adam',\n",
        "              loss='sparse_categorical_crossentropy',\n",
        "              metrics=['accuracy'])\n",
        "\n",
        "model.fit(x_train, y_train, epochs=5)\n",
        "model.evaluate(x_test, y_test)"
      ],
      "execution_count": 0,
      "outputs": []
    },
    {
      "metadata": {
        "id": "_u1Fi5DeWsXQ",
        "colab_type": "text"
      },
      "cell_type": "markdown",
      "source": [
        "## オブジェクト指向"
      ]
    },
    {
      "metadata": {
        "id": "MIxCRH4DWuM6",
        "colab_type": "text"
      },
      "cell_type": "markdown",
      "source": [
        "#### リスト23-1　オブジェクトの型を調べているコード例"
      ]
    },
    {
      "metadata": {
        "id": "7nE2-MmPWwSn",
        "colab_type": "code",
        "colab": {}
      },
      "cell_type": "code",
      "source": [
        "a = 1.2\n",
        "type(a)  # floatと出力される"
      ],
      "execution_count": 0,
      "outputs": []
    },
    {
      "metadata": {
        "id": "We7y1OTVXPhH",
        "colab_type": "text"
      },
      "cell_type": "markdown",
      "source": [
        "#### リスト23-2　2つのオブジェクトが同じか違うかを判定しているコード例"
      ]
    },
    {
      "metadata": {
        "id": "u9nfnY0dXAL2",
        "colab_type": "code",
        "colab": {}
      },
      "cell_type": "code",
      "source": [
        "b = 1.2\n",
        "c = a\n",
        "\n",
        "print(a is b)      # False（aとbは数値を同じだがオブジェクトは異なる）\n",
        "print(a is not b)  # True\n",
        "print(a is c)      # True（aとcはオブジェクトが全く同じ）"
      ],
      "execution_count": 0,
      "outputs": []
    },
    {
      "metadata": {
        "id": "O2Khgyn2YSj3",
        "colab_type": "text"
      },
      "cell_type": "markdown",
      "source": [
        "#### リスト23-3　対象クラスのインスタンスかどうかを判別しているコード例"
      ]
    },
    {
      "metadata": {
        "id": "eqiIADlNYXrN",
        "colab_type": "code",
        "colab": {}
      },
      "cell_type": "code",
      "source": [
        "print(isinstance(model, tf.keras.models.Sequential)) # True（modelはtf.keras.models.Sequentialクラスのインスタンス）\n",
        "\n",
        "# ちなみに、データの型の比較は、基本的に次のように書く\n",
        "print(type(a) == float)  # True（aの型はfloat）"
      ],
      "execution_count": 0,
      "outputs": []
    },
    {
      "metadata": {
        "id": "mubXVxcHdOFs",
        "colab_type": "text"
      },
      "cell_type": "markdown",
      "source": [
        "## クラスの定義"
      ]
    },
    {
      "metadata": {
        "id": "ZoqVNbHwdRPO",
        "colab_type": "text"
      },
      "cell_type": "markdown",
      "source": [
        "#### リスト24-1　無視する変数の書き方"
      ]
    },
    {
      "metadata": {
        "id": "jkWI3MYBdUSv",
        "colab_type": "code",
        "colab": {}
      },
      "cell_type": "code",
      "source": [
        "(x_train, y_train),(_, _) = mnist.load_data()"
      ],
      "execution_count": 0,
      "outputs": []
    },
    {
      "metadata": {
        "id": "LyJC805fhHmT",
        "colab_type": "text"
      },
      "cell_type": "markdown",
      "source": [
        "#### リスト24-3　クラスの継承元のコード"
      ]
    },
    {
      "metadata": {
        "id": "uVUorVN2hOS8",
        "colab_type": "code",
        "colab": {}
      },
      "cell_type": "code",
      "source": [
        "from tensorflow.python.keras.engine.network import Network  # 下記コードの実行に必要なモジュールを追記\n",
        "# ……省略……\n",
        "\n",
        "class Model(Network):\n",
        "  # ……省略……\n",
        "\n",
        "  def compile(self,\n",
        "              optimizer,\n",
        "              loss=None,\n",
        "              metrics=None,\n",
        "              loss_weights=None,\n",
        "              sample_weight_mode=None,\n",
        "              weighted_metrics=None,\n",
        "              target_tensors=None,\n",
        "              distribute=None,\n",
        "              **kwargs):\n",
        "    pass # ……省略……\n",
        "\n",
        "  def fit(self,\n",
        "          x=None,\n",
        "          y=None,\n",
        "          batch_size=None,\n",
        "          epochs=1,\n",
        "          verbose=1,\n",
        "          callbacks=None,\n",
        "          validation_split=0.,\n",
        "          validation_data=None,\n",
        "          shuffle=True,\n",
        "          class_weight=None,\n",
        "          sample_weight=None,\n",
        "          initial_epoch=0,\n",
        "          steps_per_epoch=None,\n",
        "          validation_steps=None,\n",
        "          max_queue_size=10,\n",
        "          workers=1,\n",
        "          use_multiprocessing=False,\n",
        "          **kwargs):\n",
        "    pass # ……省略……\n",
        "\n",
        "  def evaluate(self,\n",
        "               x=None,\n",
        "               y=None,\n",
        "               batch_size=None,\n",
        "               verbose=1,\n",
        "               sample_weight=None,\n",
        "               steps=None,\n",
        "               max_queue_size=10,\n",
        "               workers=1,\n",
        "               use_multiprocessing=False):\n",
        "    pass # ……省略……\n",
        "\n",
        "  # ……省略……"
      ],
      "execution_count": 0,
      "outputs": []
    },
    {
      "metadata": {
        "id": "eSiP4rb6dZPm",
        "colab_type": "text"
      },
      "cell_type": "markdown",
      "source": [
        "#### リスト24-2　クラスを定義しているコード例"
      ]
    },
    {
      "metadata": {
        "id": "D1Ex0E9idk6Z",
        "colab_type": "code",
        "colab": {}
      },
      "cell_type": "code",
      "source": [
        "# ……省略……\n",
        "# ※後述のリスト24-3を先に実行しないと、このコードはエラーになる\n",
        "\n",
        "class Sequential(Model):\n",
        "  # ……省略……\n",
        "\n",
        "  # コンストラクターの定義と実装\n",
        "  def __init__(self, layers=None, name=None):\n",
        "    # ……省略……\n",
        "    # インスタンス変数の定義と値の代入\n",
        "    self.supports_masking = True\n",
        "    # ……省略……\n",
        "\n",
        "  # インスタンスメソッドの定義と実装\n",
        "  def add(self, layer):\n",
        "    # ……省略……\n",
        "    # # インスタンス変数の定義や利用\n",
        "    self.built = False\n",
        "    # ……省略……\n",
        "\n",
        "  # ……省略……"
      ],
      "execution_count": 0,
      "outputs": []
    },
    {
      "metadata": {
        "id": "LvXBw7oRjDEO",
        "colab_type": "text"
      },
      "cell_type": "markdown",
      "source": [
        "## お疲れさまでした。基本文法の学習は修了です。"
      ]
    }
  ]
}