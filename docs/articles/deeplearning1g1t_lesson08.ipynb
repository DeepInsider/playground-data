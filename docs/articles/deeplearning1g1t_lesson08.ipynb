{
  "nbformat": 4,
  "nbformat_minor": 0,
  "metadata": {
    "colab": {
      "name": "deeplearning1g1t-lesson08.ipynb",
      "version": "0.3.2",
      "provenance": [],
      "private_outputs": true,
      "collapsed_sections": [],
      "toc_visible": true,
      "include_colab_link": true
    },
    "kernelspec": {
      "name": "python3",
      "display_name": "Python 3"
    }
  },
  "cells": [
    {
      "cell_type": "markdown",
      "metadata": {
        "id": "view-in-github",
        "colab_type": "text"
      },
      "source": [
        "<a href=\"https://colab.research.google.com/github/DeepInsider/playground-data/blob/master/docs/articles/deeplearning1g1t_lesson08.ipynb\" target=\"_parent\"><img src=\"https://colab.research.google.com/assets/colab-badge.svg\" alt=\"Open In Colab\"/></a>"
      ]
    },
    {
      "metadata": {
        "id": "_zPGAalmv_0n",
        "colab_type": "text"
      },
      "cell_type": "markdown",
      "source": [
        "##### Copyright 2018 Digital Advantage - Deep Insider."
      ]
    },
    {
      "metadata": {
        "id": "jXmKBxGSwB_c",
        "colab_type": "code",
        "colab": {}
      },
      "cell_type": "code",
      "source": [
        "#@title Licensed under the Apache License, Version 2.0 (the \"License\");\n",
        "# you may not use this file except in compliance with the License.\n",
        "# You may obtain a copy of the License at\n",
        "#\n",
        "# https://www.apache.org/licenses/LICENSE-2.0\n",
        "#\n",
        "# Unless required by applicable law or agreed to in writing, software\n",
        "# distributed under the License is distributed on an \"AS IS\" BASIS,\n",
        "# WITHOUT WARRANTIES OR CONDITIONS OF ANY KIND, either express or implied.\n",
        "# See the License for the specific language governing permissions and\n",
        "# limitations under the License."
      ],
      "execution_count": 0,
      "outputs": []
    },
    {
      "metadata": {
        "id": "ufLgZqKIno0O",
        "colab_type": "text"
      },
      "cell_type": "markdown",
      "source": [
        "# 「ディープラーニングを始めるための、Pythonデータ構造入門」のノートブック"
      ]
    },
    {
      "metadata": {
        "id": "5UK8Rrsg_RtY",
        "colab_type": "text"
      },
      "cell_type": "markdown",
      "source": [
        "<table valign=\"middle\">\n",
        "  <td>\n",
        "    <a target=\"_blank\" href=\"https://deepinsider.jp/tutor/deeplearning1g1t/lesson08\"> <img src=\"https://re.deepinsider.jp/img/ml-logo/manabu.svg\"/>Deep Insiderで記事を読む</a>\n",
        "  </td>\n",
        "  <td>\n",
        "    <a target=\"_blank\" href=\"https://colab.research.google.com/github/DeepInsider/playground-data/blob/master/docs/articles/deeplearning1g1t_lesson08.ipynb\"> <img src=\"https://re.deepinsider.jp/img/ml-logo/gcolab.svg\" />Google Colabで実行する</a>\n",
        "  </td>\n",
        "  <td>\n",
        "    <a target=\"_blank\" href=\"https://github.com/DeepInsider/playground-data/blob/master/docs/articles/deeplearning1g1t_lesson08.ipynb\"> <img src=\"https://re.deepinsider.jp/img/ml-logo/github.svg\" />GitHubでソースコードを見る</a>\n",
        "  </td>\n",
        "</table>"
      ]
    },
    {
      "metadata": {
        "id": "oTDOUKReZOxY",
        "colab_type": "text"
      },
      "cell_type": "markdown",
      "source": [
        "※上から順に実行してください。上のコードで実行したものを再利用しているところがあるため、すべて実行しないとエラーになるコードがあります。  \n",
        "　すべてのコードを一括実行したい場合は、メニューバーから［ランタイム］－［すべてのセルを実行］をクリックしてください。"
      ]
    },
    {
      "metadata": {
        "id": "t7W0Uv8Lsiat",
        "colab_type": "text"
      },
      "cell_type": "markdown",
      "source": [
        "※このノートブックは「Python 2」でも実行できるようにしていますが、基本的に「Python 3」を利用することをお勧めします。\n",
        "　Python 3を利用するには、メニューバーから［ランタイム］－［ランタイムのタイプを変更］を選択すると表示される［ノートブックの設定］ダイアログの、［ランタイムのタイプ］欄で「Python 3」に選択し、その右下にある［保存］ボタンをクリックしてください。"
      ]
    },
    {
      "metadata": {
        "id": "z1CsqDVH2F2u",
        "colab_type": "code",
        "colab": {}
      },
      "cell_type": "code",
      "source": [
        "# Python バージョン2への対応\n",
        "from __future__ import absolute_import\n",
        "from __future__ import division\n",
        "from __future__ import print_function\n",
        "from __future__ import unicode_literals\n",
        "\n",
        "import sys\n",
        "print(sys.version_info.major)  # 3  # バージョン（メジャー）\n",
        "print(sys.version_info.minor)  # 6  # バージョン（マイナー）"
      ],
      "execution_count": 0,
      "outputs": []
    },
    {
      "metadata": {
        "id": "qs9-GcfNzr2S",
        "colab_type": "text"
      },
      "cell_type": "markdown",
      "source": [
        "## Python言語におけるデータの構造"
      ]
    },
    {
      "metadata": {
        "id": "XnKEyt7EjioY",
        "colab_type": "text"
      },
      "cell_type": "markdown",
      "source": [
        "### Pythonにおける「1つの」データの表現"
      ]
    },
    {
      "metadata": {
        "id": "USh5JSaJzkil",
        "colab_type": "text"
      },
      "cell_type": "markdown",
      "source": [
        "#### リスト1　「単一の」データを表現するコード"
      ]
    },
    {
      "metadata": {
        "id": "77WBf_vijoEu",
        "colab_type": "code",
        "colab": {}
      },
      "cell_type": "code",
      "source": [
        "height = 177.2\n",
        "\n",
        "height  # 177.2と出力される"
      ],
      "execution_count": 0,
      "outputs": []
    },
    {
      "metadata": {
        "id": "BjU3w9P_0ICC",
        "colab_type": "text"
      },
      "cell_type": "markdown",
      "source": [
        "#### リスト2-1　「単一の」データを複数書いて表現するコード"
      ]
    },
    {
      "metadata": {
        "id": "wGVmnc5T0Jt9",
        "colab_type": "code",
        "colab": {}
      },
      "cell_type": "code",
      "source": [
        "hana_height = 165.5\n",
        "taro_height = 177.2\n",
        "jiro_height = 183.2\n",
        "\n",
        "hana_height, taro_height, jiro_height  # (165.5, 177.2, 183.2)"
      ],
      "execution_count": 0,
      "outputs": []
    },
    {
      "metadata": {
        "id": "4kDoMx1D0Hs1",
        "colab_type": "text"
      },
      "cell_type": "markdown",
      "source": [
        "#### リスト2-2　「複数（1次元）の」データを表現するコード"
      ]
    },
    {
      "metadata": {
        "id": "3BOMHgZC0WFC",
        "colab_type": "code",
        "colab": {}
      },
      "cell_type": "code",
      "source": [
        "heights = [ 165.5, 177.2, 183.2 ]\n",
        "\n",
        "heights  # [165.5, 177.2, 183.2]"
      ],
      "execution_count": 0,
      "outputs": []
    },
    {
      "metadata": {
        "id": "Hv4DLVY60Hcd",
        "colab_type": "text"
      },
      "cell_type": "markdown",
      "source": [
        "### Pythonにおける「複数（2次元）の」データの表現"
      ]
    },
    {
      "metadata": {
        "id": "tTf5sHdf0l5L",
        "colab_type": "text"
      },
      "cell_type": "markdown",
      "source": [
        "#### リスト3　「複数（2次元）の」データを表現するコード"
      ]
    },
    {
      "metadata": {
        "id": "LVmt9QWj0tag",
        "colab_type": "code",
        "colab": {}
      },
      "cell_type": "code",
      "source": [
        "people = [ [ 165.5, 58.4 ],\n",
        "           [ 177.2, 67.8 ],\n",
        "           [ 183.2, 83.7 ] ]\n",
        "\n",
        "people  # [165.5, 177.2, 183.2]"
      ],
      "execution_count": 0,
      "outputs": []
    },
    {
      "metadata": {
        "id": "v0VgVt2s07om",
        "colab_type": "text"
      },
      "cell_type": "markdown",
      "source": [
        "### Pythonにおける「複数（多次元）の」データの表現"
      ]
    },
    {
      "metadata": {
        "id": "SvkLtJwa0_QB",
        "colab_type": "text"
      },
      "cell_type": "markdown",
      "source": [
        "#### リスト4　「複数（3次元）の」データを表現するコード"
      ]
    },
    {
      "metadata": {
        "id": "3igBn8Cx0-tT",
        "colab_type": "code",
        "colab": {}
      },
      "cell_type": "code",
      "source": [
        "list3d = [\n",
        "  [ [ 165.5, 58.4 ], [ 177.2, 67.8 ], [ 183.2, 83.7 ] ],\n",
        "  [ [ 155.5, 48.4 ], [ 167.2, 57.8 ], [ 173.2, 73.7 ] ],\n",
        "  [ [ 145.5, 38.4 ], [ 157.2, 47.8 ], [ 163.2, 63.7 ] ]\n",
        "]\n",
        "\n",
        "list3d  # [[[165.5, 58.4], [177.2, 67.8], [183.2, 83.7]],\n",
        "        #  [[155.5, 48.4], [167.2, 57.8], [173.2, 73.7]],\n",
        "        #  [[145.5, 38.4], [157.2, 47.8], [163.2, 63.7]]]"
      ],
      "execution_count": 0,
      "outputs": []
    },
    {
      "metadata": {
        "id": "XqZe-mnY1WXu",
        "colab_type": "text"
      },
      "cell_type": "markdown",
      "source": [
        "## AIプログラムにおけるデータの構造（基本編）"
      ]
    },
    {
      "metadata": {
        "id": "eqkit9cj1bin",
        "colab_type": "text"
      },
      "cell_type": "markdown",
      "source": [
        "### NumPyのインストール"
      ]
    },
    {
      "metadata": {
        "id": "9-qw9ZHJ1htJ",
        "colab_type": "text"
      },
      "cell_type": "markdown",
      "source": [
        "#### リスト5-1　`numpy`パッケージをインストールするためのシェルコマンド"
      ]
    },
    {
      "metadata": {
        "id": "z_qN2Tn_1kR1",
        "colab_type": "code",
        "colab": {}
      },
      "cell_type": "code",
      "source": [
        "!pip install numpy"
      ],
      "execution_count": 0,
      "outputs": []
    },
    {
      "metadata": {
        "id": "oZ-Vk4QM1muw",
        "colab_type": "text"
      },
      "cell_type": "markdown",
      "source": [
        "### numpyモジュールのインポート"
      ]
    },
    {
      "metadata": {
        "id": "tK5-ETzH1ox4",
        "colab_type": "text"
      },
      "cell_type": "markdown",
      "source": [
        "#### リスト5-2　`numpy`モジュールをインポートするコード例"
      ]
    },
    {
      "metadata": {
        "id": "KIeFK1Tz1sCt",
        "colab_type": "code",
        "colab": {}
      },
      "cell_type": "code",
      "source": [
        "import numpy as np"
      ],
      "execution_count": 0,
      "outputs": []
    },
    {
      "metadata": {
        "id": "OBT0vqQN1u61",
        "colab_type": "text"
      },
      "cell_type": "markdown",
      "source": [
        "### NumPyのデータ型「多次元配列」オブジェクトの作成"
      ]
    },
    {
      "metadata": {
        "id": "I2tDKY303Wd8",
        "colab_type": "text"
      },
      "cell_type": "markdown",
      "source": [
        "#### リスト5-3　`array`関数で多次元配列を作成するコード例（値使用）"
      ]
    },
    {
      "metadata": {
        "id": "rkiRaUTX3Lqr",
        "colab_type": "code",
        "colab": {}
      },
      "cell_type": "code",
      "source": [
        "array2d = np.array([ [ 165.5, 58.4 ],\n",
        "                     [ 177.2, 67.8 ],\n",
        "                     [ 183.2, 83.7 ] ])\n",
        "\n",
        "array2d  # array([[165.5,  58.4],\n",
        "         #        [177.2,  67.8],\n",
        "         #        [183.2,  83.7]])"
      ],
      "execution_count": 0,
      "outputs": []
    },
    {
      "metadata": {
        "id": "Uvw4XC9UGaGk",
        "colab_type": "text"
      },
      "cell_type": "markdown",
      "source": [
        "#### リスト5-4　`array`関数で多次元配列を作成するコード例（変数使用）"
      ]
    },
    {
      "metadata": {
        "id": "dTddxyukGzuw",
        "colab_type": "code",
        "colab": {}
      },
      "cell_type": "code",
      "source": [
        "array3d = np.array(list3d)\n",
        "\n",
        "array3d  # array([[[165.5,  58.4],\n",
        "         #         [177.2,  67.8],\n",
        "         #         [183.2,  83.7]],\n",
        "         # \n",
        "         #        [[155.5,  48.4],\n",
        "         #         [167.2,  57.8],\n",
        "         #         [173.2,  73.7]],\n",
        "         # \n",
        "         #        [[145.5,  38.4],\n",
        "         #         [157.2,  47.8],\n",
        "         #         [163.2,  63.7]]])"
      ],
      "execution_count": 0,
      "outputs": []
    },
    {
      "metadata": {
        "id": "GLVGbAwsKeFh",
        "colab_type": "text"
      },
      "cell_type": "markdown",
      "source": [
        "#### リスト5-5　`ndarray`クラスの`tolist()`メソッドで多次元リストに変換するコード例"
      ]
    },
    {
      "metadata": {
        "id": "MZDDcNSMKhpX",
        "colab_type": "code",
        "colab": {}
      },
      "cell_type": "code",
      "source": [
        "tolist3d = array3d.tolist()\n",
        "\n",
        "tolist3d  # [[[165.5, 58.4], [177.2, 67.8], [183.2, 83.7]],\n",
        "          #  [[155.5, 48.4], [167.2, 57.8], [173.2, 73.7]],\n",
        "          #  [[145.5, 38.4], [157.2, 47.8], [163.2, 63.7]]]"
      ],
      "execution_count": 0,
      "outputs": []
    },
    {
      "metadata": {
        "id": "l1OnJ5Sz0lkL",
        "colab_type": "text"
      },
      "cell_type": "markdown",
      "source": [
        "##  AIプログラムにおけるデータの構造（応用編）"
      ]
    },
    {
      "metadata": {
        "id": "SbZNujBPKg67",
        "colab_type": "code",
        "colab": {}
      },
      "cell_type": "code",
      "source": [
        "import pandas as pd\n",
        "df = pd.DataFrame(array2d, columns=['身長', '体重'])\n",
        "df"
      ],
      "execution_count": 0,
      "outputs": []
    },
    {
      "metadata": {
        "id": "pzaEu7Wy0lXL",
        "colab_type": "text"
      },
      "cell_type": "markdown",
      "source": [
        "## AIプログラムにおけるデータの計算"
      ]
    },
    {
      "metadata": {
        "id": "c7wJR2wYOaJQ",
        "colab_type": "text"
      },
      "cell_type": "markdown",
      "source": [
        "### AI・ディープラーニングで数学を使う理由"
      ]
    },
    {
      "metadata": {
        "id": "RSB9qN_lQchE",
        "colab_type": "text"
      },
      "cell_type": "markdown",
      "source": [
        "#### リスト6-1　3人の身長の平均を計算するコード例（個別の値を使用）"
      ]
    },
    {
      "metadata": {
        "id": "6zYX_lS2OXj6",
        "colab_type": "code",
        "colab": {}
      },
      "cell_type": "code",
      "source": [
        "# hana_height = 165.5, taro_height = 177.2, jiro_height = 183.2 # リスト2-1で宣言済み\n",
        "\n",
        "average_height = (\n",
        "  hana_height + \n",
        "  taro_height + \n",
        "  jiro_height \n",
        ") / 3\n",
        "\n",
        "print(average_height)  # 175.29999999999998"
      ],
      "execution_count": 0,
      "outputs": []
    },
    {
      "metadata": {
        "id": "381zY_CFYsbO",
        "colab_type": "text"
      },
      "cell_type": "markdown",
      "source": [
        "#### リスト6-2　3人の身長と体重の平均を計算するコード例（多次元配列を使用）"
      ]
    },
    {
      "metadata": {
        "id": "VewKZXvYUVo4",
        "colab_type": "code",
        "colab": {}
      },
      "cell_type": "code",
      "source": [
        "import numpy as np\n",
        "\n",
        "array1d = np.array([ 165.5, 177.2, 183.2 ])\n",
        "\n",
        "average_height = np.average(array1d)\n",
        "\n",
        "average_height  # 175.29999999999998"
      ],
      "execution_count": 0,
      "outputs": []
    },
    {
      "metadata": {
        "id": "g8V-k_AmkLVZ",
        "colab_type": "text"
      },
      "cell_type": "markdown",
      "source": [
        "### NumPyを使った計算"
      ]
    },
    {
      "metadata": {
        "id": "uNb8IFQS8Qfy",
        "colab_type": "text"
      },
      "cell_type": "markdown",
      "source": [
        "#### リスト7-1　3人の身長と体重の平均を計算するコード例（3行2列の2次元配列）"
      ]
    },
    {
      "metadata": {
        "id": "svh1mOScwfpR",
        "colab_type": "code",
        "colab": {}
      },
      "cell_type": "code",
      "source": [
        "array2d = np.array([ [ 165.5, 58.4 ],\n",
        "                     [ 177.2, 67.8 ],\n",
        "                     [ 183.2, 83.7 ] ])\n",
        "\n",
        "print(array2d.shape)  # (3, 2)\n",
        "print(array2d.ndim)   # 2\n",
        "print(array2d.size)   # 6"
      ],
      "execution_count": 0,
      "outputs": []
    },
    {
      "metadata": {
        "id": "TzSOJIJtFV3C",
        "colab_type": "text"
      },
      "cell_type": "markdown",
      "source": [
        "#### リスト7-2　NumPyを使った行列計算"
      ]
    },
    {
      "metadata": {
        "id": "VmUZzWDt1sPm",
        "colab_type": "code",
        "colab": {}
      },
      "cell_type": "code",
      "source": [
        "diet = np.array([ [ 1.0, 0.0 ],\n",
        "                  [ 0.0, 0.9 ] ])\n",
        "\n",
        "lose_weights = diet @ array2d.T\n",
        "# Python 3.5以降の場合。それ以前のPython 2系などの場合は、以下のmatmul関数を使う必要がある\n",
        "#lose_weights = np.matmul(diet, array2d.T)\n",
        "\n",
        "print(lose_weights.T)  # [[165.5   52.56]\n",
        "                       #  [177.2   61.02]\n",
        "                       #  [183.2   75.33]]"
      ],
      "execution_count": 0,
      "outputs": []
    },
    {
      "metadata": {
        "id": "i2j9QCPlJATS",
        "colab_type": "text"
      },
      "cell_type": "markdown",
      "source": [
        "#### リスト7-3　全要素の平均値を算出（身長／体重別ではない）"
      ]
    },
    {
      "metadata": {
        "id": "kZnS8c6FJDZk",
        "colab_type": "code",
        "colab": {}
      },
      "cell_type": "code",
      "source": [
        "averages = np.average(array2d)\n",
        "\n",
        "averages  # 122.63333333333334"
      ],
      "execution_count": 0,
      "outputs": []
    },
    {
      "metadata": {
        "id": "z73usXAKOqfk",
        "colab_type": "text"
      },
      "cell_type": "markdown",
      "source": [
        "#### リスト7-4　身長／体重別の平均値を算出"
      ]
    },
    {
      "metadata": {
        "id": "yFSr6_WCz3SR",
        "colab_type": "code",
        "colab": {}
      },
      "cell_type": "code",
      "source": [
        "averages = np.average(array2d, axis=0)\n",
        "\n",
        "averages  # array([175.3       ,  69.96666667])"
      ],
      "execution_count": 0,
      "outputs": []
    },
    {
      "metadata": {
        "id": "yeFP5hb0S5xp",
        "colab_type": "text"
      },
      "cell_type": "markdown",
      "source": [
        "#### リスト7-5　3次元配列データで各グループごとの身長／体重別の平均値を算出"
      ]
    },
    {
      "metadata": {
        "id": "7Rqgyr_W0zDr",
        "colab_type": "code",
        "colab": {}
      },
      "cell_type": "code",
      "source": [
        "array3d = np.array(\n",
        "  [ [ [ 165.5, 58.4 ], [ 177.2, 67.8 ], [ 183.2, 83.7 ] ],\n",
        "    [ [ 155.5, 48.4 ], [ 167.2, 57.8 ], [ 173.2, 73.7 ] ],\n",
        "    [ [ 145.5, 38.4 ], [ 157.2, 47.8 ], [ 163.2, 63.7 ] ] ]\n",
        ")\n",
        "\n",
        "avr3d = np.average(array3d, axis=1)\n",
        "\n",
        "print(avr3d)  # [[175.3         69.96666667]\n",
        "              #  [165.3         59.96666667]\n",
        "              #  [155.3         49.96666667]]"
      ],
      "execution_count": 0,
      "outputs": []
    },
    {
      "metadata": {
        "id": "5UPWlLZrkLF7",
        "colab_type": "text"
      },
      "cell_type": "markdown",
      "source": [
        "## Python言語文法（応用編）"
      ]
    },
    {
      "metadata": {
        "id": "8_IKM1J3kK4t",
        "colab_type": "text"
      },
      "cell_type": "markdown",
      "source": [
        "### if 条件式"
      ]
    },
    {
      "metadata": {
        "id": "fbt0yCbrkKqU",
        "colab_type": "text"
      },
      "cell_type": "markdown",
      "source": [
        "#### リスト8-1　条件分岐を行う「文」のコード例"
      ]
    },
    {
      "metadata": {
        "id": "_488Euw47MUj",
        "colab_type": "code",
        "colab": {}
      },
      "cell_type": "code",
      "source": [
        "predicted_label = '猫'\n",
        "true_label = '犬'\n",
        "# 上の2行は下記コードの実行に必要な仮のコード\n",
        "\n",
        "if predicted_label == true_label:\n",
        "  color = 'blue'\n",
        "else:\n",
        "  color = 'red'\n",
        "\n",
        "color  # 'red'と出力される"
      ],
      "execution_count": 0,
      "outputs": []
    },
    {
      "metadata": {
        "id": "99FcFTKo7uYz",
        "colab_type": "text"
      },
      "cell_type": "markdown",
      "source": [
        "#### リスト8-2　条件分岐を行う「式」のコード例"
      ]
    },
    {
      "metadata": {
        "id": "pm0q5ucx7xEc",
        "colab_type": "code",
        "colab": {}
      },
      "cell_type": "code",
      "source": [
        "color = 'blue' if predicted_label == true_label else 'red'\n",
        "\n",
        "color  # 'red'と出力される"
      ],
      "execution_count": 0,
      "outputs": []
    },
    {
      "metadata": {
        "id": "QfR-lVSBDPQO",
        "colab_type": "text"
      },
      "cell_type": "markdown",
      "source": [
        "### and／or／not 論理演算子"
      ]
    },
    {
      "metadata": {
        "id": "JXmhT6B-Dbsw",
        "colab_type": "text"
      },
      "cell_type": "markdown",
      "source": [
        "#### リスト9-1　複数の条件指定を複数の`if`文で記述したコード例"
      ]
    },
    {
      "metadata": {
        "id": "PQpK1emy_Vv8",
        "colab_type": "code",
        "colab": {}
      },
      "cell_type": "code",
      "source": [
        "cond_num = 98\n",
        "cond_str = '猫'\n",
        "# 上の2行は下記コードの実行に必要な仮のコード\n",
        "\n",
        "if cond_num == 100:\n",
        "  if cond_str == '犬':\n",
        "    answer = 'OK'\n",
        "  else:\n",
        "    answer = 'NG'\n",
        "else:\n",
        "    answer = 'NG'\n",
        "\n",
        "answer  # 'NG'と出力される"
      ],
      "execution_count": 0,
      "outputs": []
    },
    {
      "metadata": {
        "id": "Nvny0aKm0G9r",
        "colab_type": "text"
      },
      "cell_type": "markdown",
      "source": [
        "#### リスト9-2　複数の条件指定を1つの`if`文と論理演算子で記述したコード例"
      ]
    },
    {
      "metadata": {
        "id": "xBq3KeAU7L0d",
        "colab_type": "code",
        "colab": {}
      },
      "cell_type": "code",
      "source": [
        "if cond_num == 100 and cond_str == '犬':\n",
        "  answer = 'OK'\n",
        "else:\n",
        "  answer = 'NG'\n",
        "\n",
        "answer  # 'NG'と出力される"
      ],
      "execution_count": 0,
      "outputs": []
    },
    {
      "metadata": {
        "id": "WV1ji86WIsxf",
        "colab_type": "text"
      },
      "cell_type": "markdown",
      "source": [
        "#### リスト9-3　論理演算子`not`で否定条件を記述したコード例"
      ]
    },
    {
      "metadata": {
        "id": "cYaeteRKIwaC",
        "colab_type": "code",
        "colab": {}
      },
      "cell_type": "code",
      "source": [
        "if not cond_num == 100 or not cond_str == '犬':\n",
        "  answer = 'NG'\n",
        "else:\n",
        "  answer = 'OK'\n",
        "\n",
        "answer  # 'NG'と出力される"
      ],
      "execution_count": 0,
      "outputs": []
    },
    {
      "metadata": {
        "id": "ReY1wSu4N8qI",
        "colab_type": "text"
      },
      "cell_type": "markdown",
      "source": [
        "### ラムダ式"
      ]
    },
    {
      "metadata": {
        "id": "bTOdb4TgN-np",
        "colab_type": "text"
      },
      "cell_type": "markdown",
      "source": [
        "#### リスト10-1　`def`文により関数を定義するコード例"
      ]
    },
    {
      "metadata": {
        "id": "II8P06WIOB7O",
        "colab_type": "code",
        "colab": {}
      },
      "cell_type": "code",
      "source": [
        "def add_func(arg_x, arg_y):\n",
        "  return arg_x + arg_y\n",
        "\n",
        "sum = add_func(101, 234)\n",
        "\n",
        "sum  # 335"
      ],
      "execution_count": 0,
      "outputs": []
    },
    {
      "metadata": {
        "id": "aBVEdHKBPOT0",
        "colab_type": "text"
      },
      "cell_type": "markdown",
      "source": [
        "#### リスト10-2　`lambda`式により関数を定義するコード例"
      ]
    },
    {
      "metadata": {
        "id": "gPDTE9wcPRA0",
        "colab_type": "code",
        "colab": {}
      },
      "cell_type": "code",
      "source": [
        "add_lambda = lambda arg_x, arg_y: arg_x + arg_y\n",
        "\n",
        "sum = add_lambda(101, 234)\n",
        "\n",
        "sum  # 335"
      ],
      "execution_count": 0,
      "outputs": []
    },
    {
      "metadata": {
        "id": "9QkbBOObZJR4",
        "colab_type": "code",
        "colab": {}
      },
      "cell_type": "code",
      "source": [
        "heights = [ 165.5, 177.2, 183.2 ]\n",
        "\n",
        "sorted_heights = sorted(heights, key=lambda x: x % 10, reverse=True)\n",
        "\n",
        "sorted_heights  # [177.2, 165.5, 183.2]"
      ],
      "execution_count": 0,
      "outputs": []
    },
    {
      "metadata": {
        "id": "U9uO8mM-bwb0",
        "colab_type": "text"
      },
      "cell_type": "markdown",
      "source": [
        "#### リスト10-4　`def`文で定義したアルゴリズムをコールバック関数として指定するコード例"
      ]
    },
    {
      "metadata": {
        "id": "rQzjq4YIbzrL",
        "colab_type": "code",
        "colab": {}
      },
      "cell_type": "code",
      "source": [
        "def sort_algo(arg_x):\n",
        "  return arg_x % 10\n",
        "\n",
        "sorted_heights = sorted(heights, key=sort_algo, reverse=True)\n",
        "\n",
        "sorted_heights  # [177.2, 165.5, 183.2]"
      ],
      "execution_count": 0,
      "outputs": []
    },
    {
      "metadata": {
        "id": "Fk17itz9cLZd",
        "colab_type": "code",
        "colab": {}
      },
      "cell_type": "code",
      "source": [
        "no_arg_lambda = lambda: 'no argument'\n",
        "\n",
        "print(no_arg_lambda())  # no argument"
      ],
      "execution_count": 0,
      "outputs": []
    },
    {
      "metadata": {
        "id": "mRmjvkYFekgX",
        "colab_type": "text"
      },
      "cell_type": "markdown",
      "source": [
        "### リスト内包表記"
      ]
    },
    {
      "metadata": {
        "id": "Y-NwpBzokJHb",
        "colab_type": "text"
      },
      "cell_type": "markdown",
      "source": [
        "#### リスト11-1　for文によりループ処理を記述したコード例"
      ]
    },
    {
      "metadata": {
        "id": "wBZ9UjeleoP8",
        "colab_type": "code",
        "colab": {}
      },
      "cell_type": "code",
      "source": [
        "for i in range(5):\n",
        "  print(i+1)\n",
        "\n",
        "# 1\n",
        "# 2\n",
        "# 3\n",
        "# 4\n",
        "# 5"
      ],
      "execution_count": 0,
      "outputs": []
    },
    {
      "metadata": {
        "id": "ASB2rjVheudr",
        "colab_type": "text"
      },
      "cell_type": "markdown",
      "source": [
        "#### リスト11-2　リスト内包表記によりループ処理を記述したコード例"
      ]
    },
    {
      "metadata": {
        "id": "vSZHNQGxet8g",
        "colab_type": "code",
        "colab": {}
      },
      "cell_type": "code",
      "source": [
        "new_list = [i+1 for i in range(5)]\n",
        "print(new_list)  # [1, 2, 3, 4, 5]\n",
        "\n",
        "_ = [print(j) for j in new_list]\n",
        "# 1\n",
        "# 2\n",
        "# 3\n",
        "# 4\n",
        "# 5"
      ],
      "execution_count": 0,
      "outputs": []
    },
    {
      "metadata": {
        "id": "nHeShPNy5Cnh",
        "colab_type": "text"
      },
      "cell_type": "markdown",
      "source": [
        "### 例外"
      ]
    },
    {
      "metadata": {
        "id": "7aPgl1U45FaE",
        "colab_type": "text"
      },
      "cell_type": "markdown",
      "source": [
        "#### リスト12-1　ファイルを開いて読み取るコード例"
      ]
    },
    {
      "metadata": {
        "id": "ZzcAILQ0ufSP",
        "colab_type": "code",
        "colab": {}
      },
      "cell_type": "code",
      "source": [
        "# f = open('data.csv')\n",
        "# lines = f.readlines()\n",
        "# f.close()"
      ],
      "execution_count": 0,
      "outputs": []
    },
    {
      "metadata": {
        "id": "3UT1NQjN5KO5",
        "colab_type": "text"
      },
      "cell_type": "markdown",
      "source": [
        "#### リスト12-2　ファイルを開いて読み取るコード例"
      ]
    },
    {
      "metadata": {
        "id": "HyFEVj8Mx8uQ",
        "colab_type": "code",
        "colab": {}
      },
      "cell_type": "code",
      "source": [
        "try:\n",
        "  f = open('data.csv')\n",
        "  print('ファイルは正常に開けました。')\n",
        "\n",
        "except FileNotFoundError as e:\n",
        "#except IOError as e:\n",
        "  print('ファイルがないようです。')\n",
        "  print(e)\n",
        "  #raise # コメントアウトを外すと例外が再発行されます\n",
        "\n",
        "except:\n",
        "  print('何らかの例外が発生しました。')\n",
        "  raise\n",
        "\n",
        "finally:\n",
        "  print('ここは常に最後に実行される。')\n",
        "  \n",
        "#lines = f.readlines()\n",
        "#f.close()"
      ],
      "execution_count": 0,
      "outputs": []
    },
    {
      "metadata": {
        "id": "SxZr0uVLen4u",
        "colab_type": "text"
      },
      "cell_type": "markdown",
      "source": [
        "## Python 標準ライブラリ"
      ]
    },
    {
      "metadata": {
        "id": "HU9Tj3eq6LmP",
        "colab_type": "text"
      },
      "cell_type": "markdown",
      "source": [
        "#### リスト13　インポートした`os`モジュールでOS情報を出力するコード例"
      ]
    },
    {
      "metadata": {
        "id": "3ZcnW06E5ZFy",
        "colab_type": "code",
        "colab": {}
      },
      "cell_type": "code",
      "source": [
        "import os\n",
        "\n",
        "print(os.uname())  # posix.uname_result(sysname='Linux', nodename='x0x0x0', release='4.14.65+', version='#1 SMP Sun Sep 9 02:18:33 PDT 2018', machine='x86_64')"
      ],
      "execution_count": 0,
      "outputs": []
    },
    {
      "metadata": {
        "id": "LvXBw7oRjDEO",
        "colab_type": "text"
      },
      "cell_type": "markdown",
      "source": [
        "## お疲れさまでした。基本文法の学習は修了です。"
      ]
    }
  ]
}