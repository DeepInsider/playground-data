{
  "nbformat": 4,
  "nbformat_minor": 0,
  "metadata": {
    "colab": {
      "name": "tf2-keras-regression.ipynb",
      "provenance": [],
      "collapsed_sections": [],
      "toc_visible": true,
      "authorship_tag": "ABX9TyOQOpAff550mzHJan1bLz8F",
      "include_colab_link": true
    },
    "kernelspec": {
      "name": "python3",
      "display_name": "Python 3"
    }
  },
  "cells": [
    {
      "cell_type": "markdown",
      "metadata": {
        "id": "view-in-github",
        "colab_type": "text"
      },
      "source": [
        "<a href=\"https://colab.research.google.com/github/DeepInsider/playground-data/blob/master/docs/articles/tf2_keras_regression.ipynb\" target=\"_parent\"><img src=\"https://colab.research.google.com/assets/colab-badge.svg\" alt=\"Open In Colab\"/></a>"
      ]
    },
    {
      "cell_type": "markdown",
      "metadata": {
        "id": "wgg9EBlaZvlL",
        "colab_type": "text"
      },
      "source": [
        "##### Copyright 2020 Digital Advantage - Deep Insider."
      ]
    },
    {
      "cell_type": "code",
      "metadata": {
        "id": "TEOZOBUCZmIe",
        "colab_type": "code",
        "colab": {}
      },
      "source": [
        "#@title Licensed under the Apache License, Version 2.0 (the \"License\");\n",
        "# you may not use this file except in compliance with the License.\n",
        "# You may obtain a copy of the License at\n",
        "#\n",
        "# https://www.apache.org/licenses/LICENSE-2.0\n",
        "#\n",
        "# Unless required by applicable law or agreed to in writing, software\n",
        "# distributed under the License is distributed on an \"AS IS\" BASIS,\n",
        "# WITHOUT WARRANTIES OR CONDITIONS OF ANY KIND, either express or implied.\n",
        "# See the License for the specific language governing permissions and\n",
        "# limitations under the License."
      ],
      "execution_count": 0,
      "outputs": []
    },
    {
      "cell_type": "markdown",
      "metadata": {
        "id": "B9f3P9vJa_ny",
        "colab_type": "text"
      },
      "source": [
        "# 「回帰問題（全1回）」 ― 連載『TensorFlow 2.0＋Keras（ tf.keras）入門』のノートブック（3）"
      ]
    },
    {
      "cell_type": "markdown",
      "metadata": {
        "id": "1FPq6jqNbbRF",
        "colab_type": "text"
      },
      "source": [
        "<table valign=\"middle\">\n",
        "  <td>\n",
        "    <a target=\"_blank\" href=\"https://www.atmarkit.co.jp/ait/subtop/features/di/tf2keras_index.html\"> <img src=\"https://re.deepinsider.jp/img/ml-logo/manabu.svg\"/>Deep Insiderで記事を読む</a>\n",
        "  </td>\n",
        "  <td>\n",
        "    <a target=\"_blank\" href=\"https://colab.research.google.com/github/DeepInsider/playground-data/blob/master/docs/articles/tf2_keras_regression.ipynb\"> <img src=\"https://re.deepinsider.jp/img/ml-logo/gcolab.svg\" />Google Colabで実行する</a>\n",
        "  </td>\n",
        "  <td>\n",
        "    <a target=\"_blank\" href=\"https://github.com/DeepInsider/playground-data/blob/master/docs/articles/tf2_keras_regression.ipynb\"> <img src=\"https://re.deepinsider.jp/img/ml-logo/github.svg\" />GitHubでソースコードを見る</a>\n",
        "  </td>\n",
        "</table>"
      ]
    },
    {
      "cell_type": "markdown",
      "metadata": {
        "id": "xPxuZnIgbi5g",
        "colab_type": "text"
      },
      "source": [
        "※上から順に実行してください。上のコードで実行したものを再利用しているところがあるため、すべて実行しないとエラーになるコードがあります。  \n",
        "　すべてのコードを一括実行したい場合は、メニューバーから［ランタイム］－［すべてのセルを実行］をクリックしてください。"
      ]
    },
    {
      "cell_type": "markdown",
      "metadata": {
        "id": "tQ5Dbdm7bkxF",
        "colab_type": "text"
      },
      "source": [
        "※「Python 3」を利用してください。  \n",
        "　Python 3を利用するには、メニューバーから［ランタイム］－［ランタイムのタイプを変更］を選択すると表示される［ノートブックの設定］ダイアログの、［ランタイムのタイプ］欄で「Python 3」に選択し、その右下にある［保存］ボタンをクリックしてください。"
      ]
    },
    {
      "cell_type": "markdown",
      "metadata": {
        "id": "LYonXhqkb5JO",
        "colab_type": "text"
      },
      "source": [
        "# 第7回　回帰問題をディープラーニング（基本のDNN）で解こう"
      ]
    },
    {
      "cell_type": "markdown",
      "metadata": {
        "id": "4ZnbsnJncAKQ",
        "colab_type": "text"
      },
      "source": [
        "## ■本稿の目的と方針"
      ]
    },
    {
      "cell_type": "markdown",
      "metadata": {
        "id": "0OOY3rbJcDFT",
        "colab_type": "text"
      },
      "source": [
        "ディープラーニングの基本形である「DNN（ディープニューラルネットワーク」をTensorFlow 2.xで実装する方法を示す。これにより、連載第1回～第3回ですでに身に付けたニューラルネットワーク＆ディープラーニングの知識だけでも、さまざまな機械学習が行えることを確認する。\n",
        "\n",
        "- 前提知識は、基本的なニューラルネットワークを組めること。具体的には『[TensorFlow 2＋Keras（tf.keras）入門 - ＠IT](https://www.atmarkit.co.jp/ait/subtop/features/di/tf2keras_index.html)』の第1回～第6回の知識レベルが必要\n",
        "- 今回の課題： 「マルチガウシアン」座標点データセット（後述）の推論を、第1回～第3回のDNN知識および、第4回～第6回の書き方の知識だけで解決してみよう\n",
        "- 第1回～第3回は、これまでのSequentialモデルではなく、サブクラスモデル（Subclassing API）で実装する（学習／訓練は、カスタムループではなく、簡単に利用できる`compile()`＆`fit()`メソッドを利用する）"
      ]
    },
    {
      "cell_type": "markdown",
      "metadata": {
        "id": "h2ZZrCd9cxJU",
        "colab_type": "text"
      },
      "source": [
        "## ■本稿で説明する大まかな流れ"
      ]
    },
    {
      "cell_type": "markdown",
      "metadata": {
        "id": "Qy0qGfJGcy6u",
        "colab_type": "text"
      },
      "source": [
        "- （0）本ノートブックを実行するための事前準備\n",
        "- （1）データの準備\n",
        "- （2）モデルの定義\n",
        "- （3）学習／最適化（オプティマイザー）\n",
        "- （4）評価／精度検証\n",
        "- （5）推論／未知データによるテスト"
      ]
    },
    {
      "cell_type": "markdown",
      "metadata": {
        "id": "MNqkjmv5dokQ",
        "colab_type": "text"
      },
      "source": [
        "## ■（0）本ノートブックを実行するための事前準備"
      ]
    },
    {
      "cell_type": "code",
      "metadata": {
        "id": "Fap2oUjZd9AC",
        "colab_type": "code",
        "colab": {}
      },
      "source": [
        "# Google Colabで最新の2.xを使う場合、2.xに切り替える（Colab専用）\n",
        "%tensorflow_version 2.x"
      ],
      "execution_count": 0,
      "outputs": []
    },
    {
      "cell_type": "markdown",
      "metadata": {
        "id": "Ash0jDJkdziw",
        "colab_type": "text"
      },
      "source": [
        "### ●前提条件"
      ]
    },
    {
      "cell_type": "markdown",
      "metadata": {
        "id": "KEBGZlmJc16X",
        "colab_type": "text"
      },
      "source": [
        "### 【チェック】Pythonバージョン（※3系を使うこと）\n",
        "Colabにインストール済みのものを使う。もし2系になっている場合は、メニューバーの［ランタイム］－［ランタイムのタイプを変更］をクリックして切り替えてほしい。"
      ]
    },
    {
      "cell_type": "code",
      "metadata": {
        "id": "2t7XPyFbc4Wh",
        "colab_type": "code",
        "outputId": "7c62ab5b-5361-4f57-9eac-7fae4fac9e35",
        "colab": {
          "base_uri": "https://localhost:8080/",
          "height": 51
        }
      },
      "source": [
        "import sys\n",
        "print('Python', sys.version)\n",
        "# Python 3.6.9 (default, Apr 18 2020, 01:56:04)   …… などと表示される"
      ],
      "execution_count": 21,
      "outputs": [
        {
          "output_type": "stream",
          "text": [
            "Python 3.6.9 (default, Apr 18 2020, 01:56:04) \n",
            "[GCC 8.4.0]\n"
          ],
          "name": "stdout"
        }
      ]
    },
    {
      "cell_type": "markdown",
      "metadata": {
        "id": "Wgd5Lomrc6M7",
        "colab_type": "text"
      },
      "source": [
        "### 【チェック】TensorFlowバージョン（※2系を使うこと）\n",
        "基本的にはColabにインストール済みのものを使う。もし2系になっている場合は、リスト4-0を実行してバージョン2.0を使う。"
      ]
    },
    {
      "cell_type": "code",
      "metadata": {
        "id": "VR4lIe01c8IX",
        "colab_type": "code",
        "outputId": "7babe026-c527-476e-b06a-0406d8dcaea8",
        "colab": {
          "base_uri": "https://localhost:8080/",
          "height": 34
        }
      },
      "source": [
        "import tensorflow as tf\n",
        "print('TensorFlow', tf.__version__)\n",
        "# TensorFlow 2.2.0 ……などと表示される"
      ],
      "execution_count": 22,
      "outputs": [
        {
          "output_type": "stream",
          "text": [
            "TensorFlow 2.2.0\n"
          ],
          "name": "stdout"
        }
      ]
    },
    {
      "cell_type": "markdown",
      "metadata": {
        "id": "pgOpPdrEc_Wu",
        "colab_type": "text"
      },
      "source": [
        "### リスト0-1　［オプション］ライブラリ「TensorFlow」最新バージョンのインストール"
      ]
    },
    {
      "cell_type": "code",
      "metadata": {
        "id": "3JUkOoiGdIYE",
        "colab_type": "code",
        "outputId": "f6b42301-cc32-432c-acc1-59aa4853ade9",
        "colab": {
          "base_uri": "https://localhost:8080/",
          "height": 632
        }
      },
      "source": [
        "# Google Colabで最新の2.xを使う場合（Colab専用）\n",
        "%tensorflow_version 2.x\n",
        "\n",
        "# 最新バージョンにアップグレードする場合\n",
        "!pip install --upgrade tensorflow\n",
        "\n",
        "# バージョンを明示してアップグレードする場合\n",
        "#!pip install --upgrade tensorflow===2.1.0\n",
        "\n",
        "# 最新バージョンをインストールする場合\n",
        "#!pip install tensorflow\n",
        "\n",
        "# バージョンを明示してインストールする場合\n",
        "#!pip install tensorflow===2.1.0"
      ],
      "execution_count": 23,
      "outputs": [
        {
          "output_type": "stream",
          "text": [
            "Requirement already up-to-date: tensorflow in /usr/local/lib/python3.6/dist-packages (2.2.0)\n",
            "Requirement already satisfied, skipping upgrade: opt-einsum>=2.3.2 in /usr/local/lib/python3.6/dist-packages (from tensorflow) (3.2.1)\n",
            "Requirement already satisfied, skipping upgrade: scipy==1.4.1; python_version >= \"3\" in /usr/local/lib/python3.6/dist-packages (from tensorflow) (1.4.1)\n",
            "Requirement already satisfied, skipping upgrade: h5py<2.11.0,>=2.10.0 in /usr/local/lib/python3.6/dist-packages (from tensorflow) (2.10.0)\n",
            "Requirement already satisfied, skipping upgrade: tensorboard<2.3.0,>=2.2.0 in /usr/local/lib/python3.6/dist-packages (from tensorflow) (2.2.1)\n",
            "Requirement already satisfied, skipping upgrade: tensorflow-estimator<2.3.0,>=2.2.0 in /usr/local/lib/python3.6/dist-packages (from tensorflow) (2.2.0)\n",
            "Requirement already satisfied, skipping upgrade: protobuf>=3.8.0 in /usr/local/lib/python3.6/dist-packages (from tensorflow) (3.10.0)\n",
            "Requirement already satisfied, skipping upgrade: grpcio>=1.8.6 in /usr/local/lib/python3.6/dist-packages (from tensorflow) (1.28.1)\n",
            "Requirement already satisfied, skipping upgrade: google-pasta>=0.1.8 in /usr/local/lib/python3.6/dist-packages (from tensorflow) (0.2.0)\n",
            "Requirement already satisfied, skipping upgrade: numpy<2.0,>=1.16.0 in /usr/local/lib/python3.6/dist-packages (from tensorflow) (1.18.4)\n",
            "Requirement already satisfied, skipping upgrade: keras-preprocessing>=1.1.0 in /usr/local/lib/python3.6/dist-packages (from tensorflow) (1.1.0)\n",
            "Requirement already satisfied, skipping upgrade: six>=1.12.0 in /usr/local/lib/python3.6/dist-packages (from tensorflow) (1.12.0)\n",
            "Requirement already satisfied, skipping upgrade: wheel>=0.26; python_version >= \"3\" in /usr/local/lib/python3.6/dist-packages (from tensorflow) (0.34.2)\n",
            "Requirement already satisfied, skipping upgrade: astunparse==1.6.3 in /usr/local/lib/python3.6/dist-packages (from tensorflow) (1.6.3)\n",
            "Requirement already satisfied, skipping upgrade: wrapt>=1.11.1 in /usr/local/lib/python3.6/dist-packages (from tensorflow) (1.12.1)\n",
            "Requirement already satisfied, skipping upgrade: termcolor>=1.1.0 in /usr/local/lib/python3.6/dist-packages (from tensorflow) (1.1.0)\n",
            "Requirement already satisfied, skipping upgrade: gast==0.3.3 in /usr/local/lib/python3.6/dist-packages (from tensorflow) (0.3.3)\n",
            "Requirement already satisfied, skipping upgrade: absl-py>=0.7.0 in /usr/local/lib/python3.6/dist-packages (from tensorflow) (0.9.0)\n",
            "Requirement already satisfied, skipping upgrade: requests<3,>=2.21.0 in /usr/local/lib/python3.6/dist-packages (from tensorboard<2.3.0,>=2.2.0->tensorflow) (2.23.0)\n",
            "Requirement already satisfied, skipping upgrade: setuptools>=41.0.0 in /usr/local/lib/python3.6/dist-packages (from tensorboard<2.3.0,>=2.2.0->tensorflow) (46.3.0)\n",
            "Requirement already satisfied, skipping upgrade: google-auth<2,>=1.6.3 in /usr/local/lib/python3.6/dist-packages (from tensorboard<2.3.0,>=2.2.0->tensorflow) (1.7.2)\n",
            "Requirement already satisfied, skipping upgrade: tensorboard-plugin-wit>=1.6.0 in /usr/local/lib/python3.6/dist-packages (from tensorboard<2.3.0,>=2.2.0->tensorflow) (1.6.0.post3)\n",
            "Requirement already satisfied, skipping upgrade: google-auth-oauthlib<0.5,>=0.4.1 in /usr/local/lib/python3.6/dist-packages (from tensorboard<2.3.0,>=2.2.0->tensorflow) (0.4.1)\n",
            "Requirement already satisfied, skipping upgrade: werkzeug>=0.11.15 in /usr/local/lib/python3.6/dist-packages (from tensorboard<2.3.0,>=2.2.0->tensorflow) (1.0.1)\n",
            "Requirement already satisfied, skipping upgrade: markdown>=2.6.8 in /usr/local/lib/python3.6/dist-packages (from tensorboard<2.3.0,>=2.2.0->tensorflow) (3.2.1)\n",
            "Requirement already satisfied, skipping upgrade: chardet<4,>=3.0.2 in /usr/local/lib/python3.6/dist-packages (from requests<3,>=2.21.0->tensorboard<2.3.0,>=2.2.0->tensorflow) (3.0.4)\n",
            "Requirement already satisfied, skipping upgrade: certifi>=2017.4.17 in /usr/local/lib/python3.6/dist-packages (from requests<3,>=2.21.0->tensorboard<2.3.0,>=2.2.0->tensorflow) (2020.4.5.1)\n",
            "Requirement already satisfied, skipping upgrade: urllib3!=1.25.0,!=1.25.1,<1.26,>=1.21.1 in /usr/local/lib/python3.6/dist-packages (from requests<3,>=2.21.0->tensorboard<2.3.0,>=2.2.0->tensorflow) (1.24.3)\n",
            "Requirement already satisfied, skipping upgrade: idna<3,>=2.5 in /usr/local/lib/python3.6/dist-packages (from requests<3,>=2.21.0->tensorboard<2.3.0,>=2.2.0->tensorflow) (2.9)\n",
            "Requirement already satisfied, skipping upgrade: rsa<4.1,>=3.1.4 in /usr/local/lib/python3.6/dist-packages (from google-auth<2,>=1.6.3->tensorboard<2.3.0,>=2.2.0->tensorflow) (4.0)\n",
            "Requirement already satisfied, skipping upgrade: pyasn1-modules>=0.2.1 in /usr/local/lib/python3.6/dist-packages (from google-auth<2,>=1.6.3->tensorboard<2.3.0,>=2.2.0->tensorflow) (0.2.8)\n",
            "Requirement already satisfied, skipping upgrade: cachetools<3.2,>=2.0.0 in /usr/local/lib/python3.6/dist-packages (from google-auth<2,>=1.6.3->tensorboard<2.3.0,>=2.2.0->tensorflow) (3.1.1)\n",
            "Requirement already satisfied, skipping upgrade: requests-oauthlib>=0.7.0 in /usr/local/lib/python3.6/dist-packages (from google-auth-oauthlib<0.5,>=0.4.1->tensorboard<2.3.0,>=2.2.0->tensorflow) (1.3.0)\n",
            "Requirement already satisfied, skipping upgrade: pyasn1>=0.1.3 in /usr/local/lib/python3.6/dist-packages (from rsa<4.1,>=3.1.4->google-auth<2,>=1.6.3->tensorboard<2.3.0,>=2.2.0->tensorflow) (0.4.8)\n",
            "Requirement already satisfied, skipping upgrade: oauthlib>=3.0.0 in /usr/local/lib/python3.6/dist-packages (from requests-oauthlib>=0.7.0->google-auth-oauthlib<0.5,>=0.4.1->tensorboard<2.3.0,>=2.2.0->tensorflow) (3.1.0)\n"
          ],
          "name": "stdout"
        }
      ]
    },
    {
      "cell_type": "markdown",
      "metadata": {
        "id": "T0bzDzHsdG7X",
        "colab_type": "text"
      },
      "source": [
        "### ［オプション］【チェック】TensorFlowバージョン（※インストール後の確認）\n",
        "バージョン2.xになっているか再度チェックする。"
      ]
    },
    {
      "cell_type": "code",
      "metadata": {
        "id": "V5jv2PVmeKKw",
        "colab_type": "code",
        "outputId": "5fabb665-b176-4205-c5d8-73b628c8f597",
        "colab": {
          "base_uri": "https://localhost:8080/",
          "height": 34
        }
      },
      "source": [
        "import tensorflow as tf\n",
        "print('TensorFlow', tf.__version__)\n",
        "# TensorFlow 2.2.0 ……などと表示される"
      ],
      "execution_count": 24,
      "outputs": [
        {
          "output_type": "stream",
          "text": [
            "TensorFlow 2.2.0\n"
          ],
          "name": "stdout"
        }
      ]
    },
    {
      "cell_type": "markdown",
      "metadata": {
        "id": "-58AiIA-eyd9",
        "colab_type": "text"
      },
      "source": [
        "## ■（1）データの準備"
      ]
    },
    {
      "cell_type": "markdown",
      "metadata": {
        "id": "0i9hnIbWe02L",
        "colab_type": "text"
      },
      "source": [
        "\n",
        "「[第1回　初めてのニューラルネットワーク実装、まずは準備をしよう ― 仕組み理解×初実装（前編）：TensorFlow 2＋Keras（tf.keras）入門 - ＠IT](https://www.atmarkit.co.jp/ait/articles/1909/19/news026.html)」の記事と同じように、シンプルな座標点データを生成して使う。具体的には「マルチガウシアン」の座標点データセットとして「[playground-data · PyPI](https://pypi.org/project/playground-data/)」を使用する。playground-dataパッケージの使い方は、前述の記事を参照してほしい。\n",
        "\n",
        "なお、座標点データは、「[ニューラルネットワーク Playground - Deep Insider](https://deepinsider.github.io/playground/)」（以下、Playground）と同じ生成仕様となっている。\n",
        "\n",
        "![「マルチガウシアン」座標点データセットの例](https://image.itmedia.co.jp/ait/articles/1909/19/l_di-02-4.gif)"
      ]
    },
    {
      "cell_type": "markdown",
      "metadata": {
        "id": "9C1oBOIGgMqy",
        "colab_type": "text"
      },
      "source": [
        "#### リスト1-1　ライブラリ「playground-data」のインストール"
      ]
    },
    {
      "cell_type": "code",
      "metadata": {
        "id": "AMi01mjdgXYi",
        "colab_type": "code",
        "outputId": "7692f400-1195-4aa4-a231-7eeced7c7751",
        "colab": {
          "base_uri": "https://localhost:8080/",
          "height": 153
        }
      },
      "source": [
        "# 座標点データを生成するライブラリのインストール\n",
        "!pip install playground-data"
      ],
      "execution_count": 25,
      "outputs": [
        {
          "output_type": "stream",
          "text": [
            "Requirement already satisfied: playground-data in /usr/local/lib/python3.6/dist-packages (1.1.0)\n",
            "Requirement already satisfied: matplotlib in /usr/local/lib/python3.6/dist-packages (from playground-data) (3.2.1)\n",
            "Requirement already satisfied: numpy in /usr/local/lib/python3.6/dist-packages (from playground-data) (1.18.4)\n",
            "Requirement already satisfied: kiwisolver>=1.0.1 in /usr/local/lib/python3.6/dist-packages (from matplotlib->playground-data) (1.2.0)\n",
            "Requirement already satisfied: python-dateutil>=2.1 in /usr/local/lib/python3.6/dist-packages (from matplotlib->playground-data) (2.8.1)\n",
            "Requirement already satisfied: cycler>=0.10 in /usr/local/lib/python3.6/dist-packages (from matplotlib->playground-data) (0.10.0)\n",
            "Requirement already satisfied: pyparsing!=2.0.4,!=2.1.2,!=2.1.6,>=2.0.1 in /usr/local/lib/python3.6/dist-packages (from matplotlib->playground-data) (2.4.7)\n",
            "Requirement already satisfied: six>=1.5 in /usr/local/lib/python3.6/dist-packages (from python-dateutil>=2.1->matplotlib->playground-data) (1.12.0)\n"
          ],
          "name": "stdout"
        }
      ]
    },
    {
      "cell_type": "markdown",
      "metadata": {
        "id": "4X_KhJK6Ehbk",
        "colab_type": "text"
      },
      "source": [
        "### リスト1-2　「マルチガウシアン」座標点データの生成"
      ]
    },
    {
      "cell_type": "code",
      "metadata": {
        "id": "zJdufL5_gSFs",
        "colab_type": "code",
        "outputId": "87cd7d8b-dd89-414f-fef2-24ce45a3cd6a",
        "colab": {
          "base_uri": "https://localhost:8080/",
          "height": 425
        }
      },
      "source": [
        "# playground-dataライブラリのplygdataパッケージを「pg」という別名でインポート\n",
        "import plygdata as pg\n",
        "\n",
        "# 設定値を定数として定義\n",
        "PROBLEM_DATA_TYPE = pg.DatasetType.RegressGaussian # 問題種別：「回帰（Regress）」、データ種別：「マルチガウシアン（Gaussian）」を選択\n",
        "TRAINING_DATA_RATIO = 0.5  # データの何％を訓練【Training】用に？ (残りは精度検証【Validation】用) ： 50％\n",
        "DATA_NOISE = 0.0           # ノイズ： 0％\n",
        "\n",
        "# 定義済みの定数を引数に指定して、データを生成する\n",
        "data_list = pg.generate_data(PROBLEM_DATA_TYPE, DATA_NOISE)\n",
        "\n",
        "# データを「訓練用」と「精度検証用」を指定の比率で分割し、さらにそれぞれを「データ（X）」と「教師ラベル（y）」に分ける\n",
        "X_train, y_train, X_valid, y_valid = pg.split_data(data_list, training_size=TRAINING_DATA_RATIO)\n",
        "\n",
        "# データ分割後の各変数の内容例として、それぞれ5件ずつ出力（※出力内容は実行ごとに異なる）\n",
        "print('X_train:'); print(X_train[:5]) # [[-2.38054557 -4.32394847], ……]\n",
        "print('y_train:'); print(y_train[:5]) # [[ 0.        ], [-0.2487588 ], ……]\n",
        "print('X_valid:'); print(X_valid[:5]) # [[-0.02550047 -0.53284492], ……]\n",
        "print('y_valid:'); print(y_valid[:5]) # [[ 0.01633982], [ 0.        ], ……]"
      ],
      "execution_count": 26,
      "outputs": [
        {
          "output_type": "stream",
          "text": [
            "X_train:\n",
            "[[ 2.73018514 -1.77319105]\n",
            " [-4.91082808 -1.11460616]\n",
            " [ 4.30479501 -4.3492769 ]\n",
            " [ 3.436885   -2.92442219]\n",
            " [-3.37017952  2.06764774]]\n",
            "y_train:\n",
            "[[-0.26844668]\n",
            " [-0.17100605]\n",
            " [-0.06288674]\n",
            " [-0.64742636]\n",
            " [ 0.61803066]]\n",
            "X_valid:\n",
            "[[-1.27859951  3.16452691]\n",
            " [-1.57874977 -5.55888729]\n",
            " [ 1.74136431  3.38264891]\n",
            " [-1.83325343 -3.50671952]\n",
            " [ 4.66343268 -4.56156968]]\n",
            "y_valid:\n",
            "[[-0.27951185]\n",
            " [ 0.        ]\n",
            " [-0.02385724]\n",
            " [ 0.        ]\n",
            " [ 0.        ]]\n"
          ],
          "name": "stdout"
        }
      ]
    },
    {
      "cell_type": "markdown",
      "metadata": {
        "id": "uliiZwxLEsOh",
        "colab_type": "text"
      },
      "source": [
        "### リスト1-3　入力データの描画"
      ]
    },
    {
      "cell_type": "code",
      "metadata": {
        "id": "fyDL2sPJkpEj",
        "colab_type": "code",
        "outputId": "b20b7fe4-ee08-4d1a-efbd-4a6b906f467c",
        "colab": {
          "base_uri": "https://localhost:8080/",
          "height": 477
        }
      },
      "source": [
        "pg.plot_points_with_playground_style(X_train, y_train)"
      ],
      "execution_count": 27,
      "outputs": [
        {
          "output_type": "execute_result",
          "data": {
            "text/plain": [
              "(<Figure size 500x500 with 1 Axes>,\n",
              " <matplotlib.axes._subplots.AxesSubplot at 0x7f698007a588>)"
            ]
          },
          "metadata": {
            "tags": []
          },
          "execution_count": 27
        },
        {
          "output_type": "display_data",
          "data": {
            "image/png": "[encoded data removed]",
            "text/plain": [
              "<Figure size 500x500 with 1 Axes>"
            ]
          },
          "metadata": {
            "tags": []
          }
        }
      ]
    },
    {
      "cell_type": "markdown",
      "metadata": {
        "id": "I103gDcNhzaJ",
        "colab_type": "text"
      },
      "source": [
        "このコードのポイント：\n",
        "\n",
        "- 「マルチガウシアン」座標点データセットは、前述したPyPIパッケージ「playground-data」（別名として`pg`を定義）の[`pg.generate_data()`関数](https://github.com/DeepInsider/playground-data/blob/master/plygdata/dataset.py#L101)で取得できる\n",
        "- `generate_data(PROBLEM_DATA_TYPE, DATA_NOISE)`関数の、第1引数には[`pg.DatasetType`クラス変数](https://github.com/DeepInsider/playground-data/blob/master/plygdata/state.py#L36)で問題種別を、第2引数にはfloat値で座標点生成時のノイズを指定する。戻り値は［X座標、Y座標、正解ラベル］が1200件（回帰の場合。分類の場合は500件）ほど格納されたPython多次元リストとなっている\n",
        "- この座標点データを訓練用と精度検証用に分割したい場合は、[`pg.split_data(data_list, training_size=TRAINING_DATA_RATIO)`関数](https://github.com/DeepInsider/playground-data/blob/master/plygdata/datahelper.py#L34)を使えばよい。第1引数には先ほど生成したPython多次元リストを、引数`training_size`にはfloat値で訓練用データの割合を指定すればよい。\n",
        "- 座標点データのサンプル出力では、グラフ描画用の`pg.plot_points_with_playground_style(X_train, y_train)`関数を利用している。第1引数に訓練用データの入力データ（＝特徴量）を、第2引数には訓練用データのラベルを指定する。"
      ]
    },
    {
      "cell_type": "markdown",
      "metadata": {
        "id": "ZgQ85AFymIBh",
        "colab_type": "text"
      },
      "source": [
        "### ●バッチデータの作成について\n",
        "\n",
        "今回は、tf.kerasの基本である`compile()`＆`fit()`メソッドを使用する。その場合、`fit()`メソッドがデータをミニバッチ学習用に自動分割したり、トレーニング時にエポックごとのループ処理を自動的に行ってくれたりするため、手動でバッチデータ化する必要がない。そのため、本ノートブックでは「バッチデータの作成」は割愛する。\n",
        "\n",
        "なお、エキスパート向けである「`tf.GradientTape`クラスを使ったカスタムループ」を実装する場合は、バッチデータを作成する必要がある。その方法は、「[第5回　お勧めの、TensorFlow 2.0最新の書き方入門（エキスパート向け） (2ページ目)](https://www.atmarkit.co.jp/ait/articles/2003/10/news016_2.html)」で説明している。"
      ]
    },
    {
      "cell_type": "markdown",
      "metadata": {
        "id": "7uWEXF8lmh8s",
        "colab_type": "text"
      },
      "source": [
        "## ■（2）モデルの定義"
      ]
    },
    {
      "cell_type": "markdown",
      "metadata": {
        "id": "9ce8AGCumn-9",
        "colab_type": "text"
      },
      "source": [
        "既に何度か説明しているが、以下の通りで進めていく。\n",
        "- `tf.keras.Model`クラスを**サブクラス化**してモデルを定義する（**初中級者以上にお勧め**）\n",
        "- tf.kerasの基本である`compile()`＆`fit()`メソッドを使用する（今回はカスタムループの実装は不要なため）"
      ]
    },
    {
      "cell_type": "markdown",
      "metadata": {
        "id": "SruJESirhjCH",
        "colab_type": "text"
      },
      "source": [
        "### ●ディープニューラルネットワークのモデル設計\n",
        "- 入力の数（`INPUT_FEATURES`）は、$X_1$と$X_2$で**2つ**\n",
        "- 隠れ層のレイヤー数は、**2つ**\n",
        "  - 隠れ層にある1つ目のニューロンの数（`LAYER1_NEURONS`）は、**4つ**\n",
        "  - 隠れ層にある2つ目のニューロンの数（`LAYER2_NEURONS`）は、**3つ**\n",
        "- 出力層にあるニューロンの数（`OUTPUT_RESULTS`）は、**1つ**"
      ]
    },
    {
      "cell_type": "markdown",
      "metadata": {
        "id": "Gn6Ha0DVzb66",
        "colab_type": "text"
      },
      "source": [
        "### リスト2-1　モデルの定義"
      ]
    },
    {
      "cell_type": "code",
      "metadata": {
        "id": "kWnt6R4qexwB",
        "colab_type": "code",
        "colab": {}
      },
      "source": [
        "import tensorflow as tf  # ライブラリ「TensorFlow」のtensorflowパッケージをインポート\n",
        "from tensorflow.keras import layers       # 「レイヤーズ」モジュールのインポート\n",
        "from IPython.display import Image\n",
        "\n",
        "\n",
        "# 定数（モデル定義時に必要となるもの）\n",
        "INPUT_FEATURES = 2    # 入力（特徴）の数： 2（＝X座標とY座標）\n",
        "LAYER1_NEURONS = 4    # ニューロンの数： 4\n",
        "LAYER2_NEURONS = 3    # ニューロンの数： 3\n",
        "OUTPUT_RESULTS = 1    # 出力結果の数： 1（＝結果は基本的に「-1.0」～「1.0」の数値）\n",
        "\n",
        "# 変数（モデル定義時に必要となるもの）\n",
        "activation1 = layers.Activation('tanh' # 活性化関数（隠れ層用）： tanh関数（変更可能）\n",
        "    , name='activation1'               # 名前付け\n",
        "    )\n",
        "activation2 = layers.Activation('tanh' # 活性化関数（隠れ層用）： tanh関数（変更可能）\n",
        "    , name='activation2'               \n",
        "    )\n",
        "acti_out = layers.Activation('linear'  # 活性化関数（出力層用）： そのまま出力（固定）\n",
        "    , name='acti_out'                  \n",
        "    )\n",
        "\n",
        "# tf.keras.Modelによるモデルの定義\n",
        "class NeuralNetwork(tf.keras.Model):\n",
        "\n",
        "  # ### レイヤーを定義 ###\n",
        "  def __init__(self):\n",
        "    super(NeuralNetwork, self).__init__()\n",
        "\n",
        "    # 入力層は定義「不要」。実際の入力によって決まるので\n",
        "\n",
        "    # 隠れ層：1つ目のレイヤー（layer）\n",
        "    self.layer1 = layers.Dense(    # 全結合層（線形変換）\n",
        "      #input_shape=(INPUT_FEATURES,),  # 入力層（定義不要）\n",
        "      LAYER1_NEURONS,              # 次のレイヤーへの出力ユニット数\n",
        "      name='layer1')\n",
        "\n",
        "    # 隠れ層：2つ目のレイヤー（layer）\n",
        "    self.layer2 = layers.Dense(    # 全結合層\n",
        "      LAYER2_NEURONS,              # 次のレイヤーへの出力ユニット数\n",
        "      name='layer2')\n",
        "\n",
        "    # 出力層\n",
        "    self.layer_out = layers.Dense( # 全結合層\n",
        "      OUTPUT_RESULTS,              # 出力結果への出力ユニット数\n",
        "      name='layer_out')\n",
        "\n",
        "  # ### フォワードパスを定義 ###\n",
        "  def call(self, inputs, training=None):   # 入力と、訓練／評価モード\n",
        "    # 「出力＝活性化関数（第n層（入力））」の形式で記述\n",
        "    x1 = activation1(self.layer1(inputs))  # 活性化関数は変数として定義\n",
        "    x2 = activation2(self.layer2(x1))      # 同上\n",
        "    outputs = acti_out(self.layer_out(x2)) # そのまま出力（＝「恒等関数」）\n",
        "    return outputs\n",
        "\n",
        "  # モデル内容の出力を行う独自メソッド\n",
        "  def get_functional_model(self):\n",
        "    x = layers.Input(shape=(INPUT_FEATURES,), name='input_features')\n",
        "    static_model = tf.keras.Model(inputs=[x], outputs=self.call(x)) \n",
        "    return static_model"
      ],
      "execution_count": 0,
      "outputs": []
    },
    {
      "cell_type": "markdown",
      "metadata": {
        "id": "g2Ly2Prnm-2K",
        "colab_type": "text"
      },
      "source": [
        "このコードのポイント：\n",
        "- このコードは、「[第5回　お勧めの、TensorFlow 2.0最新の書き方入門（エキスパート向け） (1/2)：TensorFlow 2＋Keras（tf.keras）入門 - ＠IT](https://www.atmarkit.co.jp/ait/articles/2003/10/news016.html)」で説明したものとほぼ同じ書き方（サブクラス型）である\n",
        "- ニューラルネットワークモデルの定義方法は、「[第2回　ニューラルネットワーク最速入門 ― 仕組み理解×初実装（中編）：TensorFlow 2＋Keras（tf.keras）入門 - ＠IT](https://www.atmarkit.co.jp/ait/articles/1910/17/news026.html)」で説明した通り\n",
        "- 隠れ層の活性化関数は、今回も[Tanh関数](https://www.atmarkit.co.jp/ait/articles/2003/19/news015.html)を使用した。これはオレンジ色（＝-1.0）～青色（＝1.0）の範囲で数値を出力できるためである。より一般的な[ReLU関数](https://www.atmarkit.co.jp/ait/articles/2003/11/news016.html)（`\"relu\"`という文字列を指定）を使ってもよい\n",
        "- 出力層の活性化関数は、今回は[線形関数（＝恒等関数）](https://www.atmarkit.co.jp/ait/articles/2004/01/news045.html)を指定している。この関数はそのまま出力するという意味なので、活性化関数自体は使わなくても同じ意味となる\n",
        "- `get_functional_model()`メソッドは、次のリスト2-2でモデル内容を描画するために用意した独自の関数である（本来の処理には不要）"
      ]
    },
    {
      "cell_type": "markdown",
      "metadata": {
        "id": "cfdhd4ohzh1Q",
        "colab_type": "text"
      },
      "source": [
        "### リスト2-2　モデル内容（テキスト）の確認"
      ]
    },
    {
      "cell_type": "code",
      "metadata": {
        "id": "--HUU8B-E6d0",
        "colab_type": "code",
        "outputId": "1ea7fdfa-cae9-41c6-bac5-6a3e303fe246",
        "colab": {
          "base_uri": "https://localhost:8080/",
          "height": 391
        }
      },
      "source": [
        "# モデル（NeuralNetworkクラス）のインスタンス化\n",
        "model = NeuralNetwork()\n",
        "s_model = model.get_functional_model()\n",
        "s_model.summary() # モデルの内容を出力"
      ],
      "execution_count": 29,
      "outputs": [
        {
          "output_type": "stream",
          "text": [
            "Model: \"model_1\"\n",
            "_________________________________________________________________\n",
            "Layer (type)                 Output Shape              Param #   \n",
            "=================================================================\n",
            "input_features (InputLayer)  [(None, 2)]               0         \n",
            "_________________________________________________________________\n",
            "layer1 (Dense)               (None, 4)                 12        \n",
            "_________________________________________________________________\n",
            "activation1 (Activation)     (None, 4)                 0         \n",
            "_________________________________________________________________\n",
            "layer2 (Dense)               (None, 3)                 15        \n",
            "_________________________________________________________________\n",
            "activation2 (Activation)     (None, 3)                 0         \n",
            "_________________________________________________________________\n",
            "layer_out (Dense)            (None, 1)                 4         \n",
            "_________________________________________________________________\n",
            "acti_out (Activation)        (None, 1)                 0         \n",
            "=================================================================\n",
            "Total params: 31\n",
            "Trainable params: 31\n",
            "Non-trainable params: 0\n",
            "_________________________________________________________________\n"
          ],
          "name": "stdout"
        }
      ]
    },
    {
      "cell_type": "markdown",
      "metadata": {
        "id": "EBIjx5i1E9N1",
        "colab_type": "text"
      },
      "source": [
        "### リスト2-3　モデル内容（図）の確認"
      ]
    },
    {
      "cell_type": "code",
      "metadata": {
        "id": "ZgoeOvvxnArM",
        "colab_type": "code",
        "outputId": "3e06d8e6-504e-4c45-bdad-bb347b2a127f",
        "colab": {
          "base_uri": "https://localhost:8080/",
          "height": 754
        }
      },
      "source": [
        "# Plot model graph\n",
        "filename = 'model.png';\n",
        "tf.keras.utils.plot_model(s_model, show_shapes=True, show_layer_names=True, to_file=filename)\n",
        "from IPython.display import Image\n",
        "Image(retina=False, filename=filename)"
      ],
      "execution_count": 30,
      "outputs": [
        {
          "output_type": "execute_result",
          "data": {
            "image/png": "[encoded data removed]",
            "text/plain": [
              "<IPython.core.display.Image object>"
            ]
          },
          "metadata": {
            "tags": []
          },
          "execution_count": 30
        }
      ]
    },
    {
      "cell_type": "markdown",
      "metadata": {
        "id": "oYJugkH-nG74",
        "colab_type": "text"
      },
      "source": [
        "## ■（3）学習／最適化（オプティマイザー）"
      ]
    },
    {
      "cell_type": "markdown",
      "metadata": {
        "id": "5LXXiURp-0W-",
        "colab_type": "text"
      },
      "source": [
        "これまでに学んで来た内容とほぼ変わらないため、説明を割愛する。"
      ]
    },
    {
      "cell_type": "markdown",
      "metadata": {
        "id": "y7jI_TmCpdfk",
        "colab_type": "text"
      },
      "source": [
        "### リスト3-1　学習方法（損失関数／最適化／学習率）の定義"
      ]
    },
    {
      "cell_type": "code",
      "metadata": {
        "id": "dULWvXF7pe_l",
        "colab_type": "code",
        "colab": {}
      },
      "source": [
        "# 定数（学習方法設計時に必要となる数値）\n",
        "LOSS = 'mean_squared_error'  # 損失関数：平均二乗誤差\n",
        "OPTIMIZER = tf.keras.optimizers.SGD  # 最適化：確率的勾配降下法\n",
        "LEARNING_RATE = 0.01     # 学習率： 0.01\n",
        "\n",
        "# 学習方法を定義する\n",
        "model.compile(optimizer=OPTIMIZER(learning_rate=LEARNING_RATE),\n",
        "              loss=LOSS,\n",
        "              metrics=[])  # 精度（分類では正解率。回帰では損失）"
      ],
      "execution_count": 0,
      "outputs": []
    },
    {
      "cell_type": "markdown",
      "metadata": {
        "id": "MGQcHIPUqfZ2",
        "colab_type": "text"
      },
      "source": [
        "### リスト3-2　トレーニング（ミニバッチ学習）"
      ]
    },
    {
      "cell_type": "code",
      "metadata": {
        "id": "8Rzif4OkqeKI",
        "colab_type": "code",
        "outputId": "24335704-e35f-410f-ebd2-bb7b70b71074",
        "colab": {
          "base_uri": "https://localhost:8080/",
          "height": 1000
        }
      },
      "source": [
        "# 定数（ミニバッチ学習時に必要となるもの）\n",
        "BATCH_SIZE = 15   # バッチサイズ： 15（選択肢は「1」～「30」）\n",
        "EPOCHS = 300     # エポック数： 300\n",
        "\n",
        "# 早期終了（今回はコメントアウト）\n",
        "#es = tf.keras.callbacks.EarlyStopping(monitor='val_loss', patience=5)\n",
        "\n",
        "# 学習する\n",
        "hist = model.fit(x=X_train,                          # 訓練用データ\n",
        "                 y=y_train,                          # 訓練用ラベル\n",
        "                 validation_data=(X_valid, y_valid), # 精度検証用\n",
        "                 batch_size=BATCH_SIZE,              # バッチサイズ\n",
        "                 epochs=EPOCHS,                      # エポック数\n",
        "                 verbose=1,                          # 実行状況表示\n",
        "                 callbacks=[])                       # コールバック（早期終了しない場合）\n",
        "                 #callbacks=[es])                    # コールバック（早期終了する場合）"
      ],
      "execution_count": 32,
      "outputs": [
        {
          "output_type": "stream",
          "text": [
            "Epoch 1/300\n",
            "40/40 [==============================] - 0s 4ms/step - loss: 0.1257 - val_loss: 0.0676\n",
            "Epoch 2/300\n",
            "40/40 [==============================] - 0s 2ms/step - loss: 0.0606 - val_loss: 0.0589\n",
            "Epoch 3/300\n",
            "40/40 [==============================] - 0s 2ms/step - loss: 0.0578 - val_loss: 0.0562\n",
            "Epoch 4/300\n",
            "40/40 [==============================] - 0s 2ms/step - loss: 0.0560 - val_loss: 0.0549\n",
            "Epoch 5/300\n",
            "40/40 [==============================] - 0s 2ms/step - loss: 0.0545 - val_loss: 0.0533\n",
            "Epoch 6/300\n",
            "40/40 [==============================] - 0s 2ms/step - loss: 0.0535 - val_loss: 0.0525\n",
            "Epoch 7/300\n",
            "40/40 [==============================] - 0s 2ms/step - loss: 0.0525 - val_loss: 0.0516\n",
            "Epoch 8/300\n",
            "40/40 [==============================] - 0s 2ms/step - loss: 0.0518 - val_loss: 0.0511\n",
            "Epoch 9/300\n",
            "40/40 [==============================] - 0s 2ms/step - loss: 0.0512 - val_loss: 0.0509\n",
            "Epoch 10/300\n",
            "40/40 [==============================] - 0s 2ms/step - loss: 0.0507 - val_loss: 0.0496\n",
            "Epoch 11/300\n",
            "40/40 [==============================] - 0s 2ms/step - loss: 0.0502 - val_loss: 0.0503\n",
            "Epoch 12/300\n",
            "40/40 [==============================] - 0s 2ms/step - loss: 0.0498 - val_loss: 0.0496\n",
            "Epoch 13/300\n",
            "40/40 [==============================] - 0s 2ms/step - loss: 0.0496 - val_loss: 0.0490\n",
            "Epoch 14/300\n",
            "40/40 [==============================] - 0s 2ms/step - loss: 0.0493 - val_loss: 0.0485\n",
            "Epoch 15/300\n",
            "40/40 [==============================] - 0s 2ms/step - loss: 0.0490 - val_loss: 0.0488\n",
            "Epoch 16/300\n",
            "40/40 [==============================] - 0s 2ms/step - loss: 0.0487 - val_loss: 0.0482\n",
            "Epoch 17/300\n",
            "40/40 [==============================] - 0s 3ms/step - loss: 0.0484 - val_loss: 0.0485\n",
            "Epoch 18/300\n",
            "40/40 [==============================] - 0s 2ms/step - loss: 0.0484 - val_loss: 0.0481\n",
            "Epoch 19/300\n",
            "40/40 [==============================] - 0s 2ms/step - loss: 0.0481 - val_loss: 0.0480\n",
            "Epoch 20/300\n",
            "40/40 [==============================] - 0s 2ms/step - loss: 0.0479 - val_loss: 0.0479\n",
            "Epoch 21/300\n",
            "40/40 [==============================] - 0s 2ms/step - loss: 0.0477 - val_loss: 0.0480\n",
            "Epoch 22/300\n",
            "40/40 [==============================] - 0s 2ms/step - loss: 0.0475 - val_loss: 0.0479\n",
            "Epoch 23/300\n",
            "40/40 [==============================] - 0s 3ms/step - loss: 0.0472 - val_loss: 0.0477\n",
            "Epoch 24/300\n",
            "40/40 [==============================] - 0s 2ms/step - loss: 0.0472 - val_loss: 0.0474\n",
            "Epoch 25/300\n",
            "40/40 [==============================] - 0s 2ms/step - loss: 0.0469 - val_loss: 0.0475\n",
            "Epoch 26/300\n",
            "40/40 [==============================] - 0s 2ms/step - loss: 0.0467 - val_loss: 0.0469\n",
            "Epoch 27/300\n",
            "40/40 [==============================] - 0s 2ms/step - loss: 0.0468 - val_loss: 0.0468\n",
            "Epoch 28/300\n",
            "40/40 [==============================] - 0s 2ms/step - loss: 0.0463 - val_loss: 0.0470\n",
            "Epoch 29/300\n",
            "40/40 [==============================] - 0s 3ms/step - loss: 0.0464 - val_loss: 0.0471\n",
            "Epoch 30/300\n",
            "40/40 [==============================] - 0s 2ms/step - loss: 0.0461 - val_loss: 0.0467\n",
            "Epoch 31/300\n",
            "40/40 [==============================] - 0s 3ms/step - loss: 0.0461 - val_loss: 0.0464\n",
            "Epoch 32/300\n",
            "40/40 [==============================] - 0s 3ms/step - loss: 0.0458 - val_loss: 0.0470\n",
            "Epoch 33/300\n",
            "40/40 [==============================] - 0s 3ms/step - loss: 0.0458 - val_loss: 0.0463\n",
            "Epoch 34/300\n",
            "40/40 [==============================] - 0s 2ms/step - loss: 0.0455 - val_loss: 0.0463\n",
            "Epoch 35/300\n",
            "40/40 [==============================] - 0s 3ms/step - loss: 0.0455 - val_loss: 0.0463\n",
            "Epoch 36/300\n",
            "40/40 [==============================] - 0s 3ms/step - loss: 0.0453 - val_loss: 0.0468\n",
            "Epoch 37/300\n",
            "40/40 [==============================] - 0s 2ms/step - loss: 0.0452 - val_loss: 0.0458\n",
            "Epoch 38/300\n",
            "40/40 [==============================] - 0s 2ms/step - loss: 0.0450 - val_loss: 0.0466\n",
            "Epoch 39/300\n",
            "40/40 [==============================] - 0s 2ms/step - loss: 0.0448 - val_loss: 0.0469\n",
            "Epoch 40/300\n",
            "40/40 [==============================] - 0s 2ms/step - loss: 0.0449 - val_loss: 0.0459\n",
            "Epoch 41/300\n",
            "40/40 [==============================] - 0s 2ms/step - loss: 0.0445 - val_loss: 0.0459\n",
            "Epoch 42/300\n",
            "40/40 [==============================] - 0s 2ms/step - loss: 0.0445 - val_loss: 0.0452\n",
            "Epoch 43/300\n",
            "40/40 [==============================] - 0s 2ms/step - loss: 0.0445 - val_loss: 0.0457\n",
            "Epoch 44/300\n",
            "40/40 [==============================] - 0s 3ms/step - loss: 0.0443 - val_loss: 0.0456\n",
            "Epoch 45/300\n",
            "40/40 [==============================] - 0s 2ms/step - loss: 0.0442 - val_loss: 0.0454\n",
            "Epoch 46/300\n",
            "40/40 [==============================] - 0s 3ms/step - loss: 0.0441 - val_loss: 0.0458\n",
            "Epoch 47/300\n",
            "40/40 [==============================] - 0s 2ms/step - loss: 0.0441 - val_loss: 0.0451\n",
            "Epoch 48/300\n",
            "40/40 [==============================] - 0s 2ms/step - loss: 0.0438 - val_loss: 0.0453\n",
            "Epoch 49/300\n",
            "40/40 [==============================] - 0s 3ms/step - loss: 0.0438 - val_loss: 0.0448\n",
            "Epoch 50/300\n",
            "40/40 [==============================] - 0s 3ms/step - loss: 0.0436 - val_loss: 0.0452\n",
            "Epoch 51/300\n",
            "40/40 [==============================] - 0s 3ms/step - loss: 0.0434 - val_loss: 0.0450\n",
            "Epoch 52/300\n",
            "40/40 [==============================] - 0s 2ms/step - loss: 0.0435 - val_loss: 0.0447\n",
            "Epoch 53/300\n",
            "40/40 [==============================] - 0s 3ms/step - loss: 0.0432 - val_loss: 0.0450\n",
            "Epoch 54/300\n",
            "40/40 [==============================] - 0s 2ms/step - loss: 0.0432 - val_loss: 0.0446\n",
            "Epoch 55/300\n",
            "40/40 [==============================] - 0s 3ms/step - loss: 0.0430 - val_loss: 0.0443\n",
            "Epoch 56/300\n",
            "40/40 [==============================] - 0s 3ms/step - loss: 0.0430 - val_loss: 0.0441\n",
            "Epoch 57/300\n",
            "40/40 [==============================] - 0s 2ms/step - loss: 0.0429 - val_loss: 0.0439\n",
            "Epoch 58/300\n",
            "40/40 [==============================] - 0s 3ms/step - loss: 0.0428 - val_loss: 0.0439\n",
            "Epoch 59/300\n",
            "40/40 [==============================] - 0s 2ms/step - loss: 0.0426 - val_loss: 0.0437\n",
            "Epoch 60/300\n",
            "40/40 [==============================] - 0s 2ms/step - loss: 0.0425 - val_loss: 0.0440\n",
            "Epoch 61/300\n",
            "40/40 [==============================] - 0s 3ms/step - loss: 0.0422 - val_loss: 0.0439\n",
            "Epoch 62/300\n",
            "40/40 [==============================] - 0s 3ms/step - loss: 0.0424 - val_loss: 0.0438\n",
            "Epoch 63/300\n",
            "40/40 [==============================] - 0s 2ms/step - loss: 0.0424 - val_loss: 0.0433\n",
            "Epoch 64/300\n",
            "40/40 [==============================] - 0s 2ms/step - loss: 0.0423 - val_loss: 0.0433\n",
            "Epoch 65/300\n",
            "40/40 [==============================] - 0s 3ms/step - loss: 0.0418 - val_loss: 0.0433\n",
            "Epoch 66/300\n",
            "40/40 [==============================] - 0s 2ms/step - loss: 0.0420 - val_loss: 0.0437\n",
            "Epoch 67/300\n",
            "40/40 [==============================] - 0s 2ms/step - loss: 0.0417 - val_loss: 0.0431\n",
            "Epoch 68/300\n",
            "40/40 [==============================] - 0s 2ms/step - loss: 0.0419 - val_loss: 0.0428\n",
            "Epoch 69/300\n",
            "40/40 [==============================] - 0s 2ms/step - loss: 0.0417 - val_loss: 0.0430\n",
            "Epoch 70/300\n",
            "40/40 [==============================] - 0s 2ms/step - loss: 0.0414 - val_loss: 0.0428\n",
            "Epoch 71/300\n",
            "40/40 [==============================] - 0s 2ms/step - loss: 0.0413 - val_loss: 0.0432\n",
            "Epoch 72/300\n",
            "40/40 [==============================] - 0s 3ms/step - loss: 0.0414 - val_loss: 0.0430\n",
            "Epoch 73/300\n",
            "40/40 [==============================] - 0s 3ms/step - loss: 0.0412 - val_loss: 0.0429\n",
            "Epoch 74/300\n",
            "40/40 [==============================] - 0s 2ms/step - loss: 0.0412 - val_loss: 0.0430\n",
            "Epoch 75/300\n",
            "40/40 [==============================] - 0s 3ms/step - loss: 0.0410 - val_loss: 0.0433\n",
            "Epoch 76/300\n",
            "40/40 [==============================] - 0s 2ms/step - loss: 0.0410 - val_loss: 0.0425\n",
            "Epoch 77/300\n",
            "40/40 [==============================] - 0s 2ms/step - loss: 0.0410 - val_loss: 0.0423\n",
            "Epoch 78/300\n",
            "40/40 [==============================] - 0s 2ms/step - loss: 0.0407 - val_loss: 0.0424\n",
            "Epoch 79/300\n",
            "40/40 [==============================] - 0s 2ms/step - loss: 0.0408 - val_loss: 0.0427\n",
            "Epoch 80/300\n",
            "40/40 [==============================] - 0s 2ms/step - loss: 0.0407 - val_loss: 0.0424\n",
            "Epoch 81/300\n",
            "40/40 [==============================] - 0s 2ms/step - loss: 0.0405 - val_loss: 0.0425\n",
            "Epoch 82/300\n",
            "40/40 [==============================] - 0s 2ms/step - loss: 0.0406 - val_loss: 0.0419\n",
            "Epoch 83/300\n",
            "40/40 [==============================] - 0s 2ms/step - loss: 0.0405 - val_loss: 0.0419\n",
            "Epoch 84/300\n",
            "40/40 [==============================] - 0s 3ms/step - loss: 0.0402 - val_loss: 0.0424\n",
            "Epoch 85/300\n",
            "40/40 [==============================] - 0s 3ms/step - loss: 0.0404 - val_loss: 0.0414\n",
            "Epoch 86/300\n",
            "40/40 [==============================] - 0s 2ms/step - loss: 0.0402 - val_loss: 0.0419\n",
            "Epoch 87/300\n",
            "40/40 [==============================] - 0s 2ms/step - loss: 0.0403 - val_loss: 0.0414\n",
            "Epoch 88/300\n",
            "40/40 [==============================] - 0s 2ms/step - loss: 0.0401 - val_loss: 0.0413\n",
            "Epoch 89/300\n",
            "40/40 [==============================] - 0s 2ms/step - loss: 0.0400 - val_loss: 0.0416\n",
            "Epoch 90/300\n",
            "40/40 [==============================] - 0s 3ms/step - loss: 0.0400 - val_loss: 0.0411\n",
            "Epoch 91/300\n",
            "40/40 [==============================] - 0s 2ms/step - loss: 0.0401 - val_loss: 0.0412\n",
            "Epoch 92/300\n",
            "40/40 [==============================] - 0s 3ms/step - loss: 0.0399 - val_loss: 0.0413\n",
            "Epoch 93/300\n",
            "40/40 [==============================] - 0s 2ms/step - loss: 0.0399 - val_loss: 0.0410\n",
            "Epoch 94/300\n",
            "40/40 [==============================] - 0s 2ms/step - loss: 0.0395 - val_loss: 0.0423\n",
            "Epoch 95/300\n",
            "40/40 [==============================] - 0s 3ms/step - loss: 0.0398 - val_loss: 0.0410\n",
            "Epoch 96/300\n",
            "40/40 [==============================] - 0s 2ms/step - loss: 0.0397 - val_loss: 0.0410\n",
            "Epoch 97/300\n",
            "40/40 [==============================] - 0s 3ms/step - loss: 0.0395 - val_loss: 0.0410\n",
            "Epoch 98/300\n",
            "40/40 [==============================] - 0s 2ms/step - loss: 0.0400 - val_loss: 0.0409\n",
            "Epoch 99/300\n",
            "40/40 [==============================] - 0s 2ms/step - loss: 0.0394 - val_loss: 0.0405\n",
            "Epoch 100/300\n",
            "40/40 [==============================] - 0s 2ms/step - loss: 0.0395 - val_loss: 0.0407\n",
            "Epoch 101/300\n",
            "40/40 [==============================] - 0s 2ms/step - loss: 0.0394 - val_loss: 0.0405\n",
            "Epoch 102/300\n",
            "40/40 [==============================] - 0s 3ms/step - loss: 0.0394 - val_loss: 0.0411\n",
            "Epoch 103/300\n",
            "40/40 [==============================] - 0s 2ms/step - loss: 0.0395 - val_loss: 0.0413\n",
            "Epoch 104/300\n",
            "40/40 [==============================] - 0s 2ms/step - loss: 0.0394 - val_loss: 0.0408\n",
            "Epoch 105/300\n",
            "40/40 [==============================] - 0s 3ms/step - loss: 0.0392 - val_loss: 0.0407\n",
            "Epoch 106/300\n",
            "40/40 [==============================] - 0s 2ms/step - loss: 0.0392 - val_loss: 0.0406\n",
            "Epoch 107/300\n",
            "40/40 [==============================] - 0s 2ms/step - loss: 0.0391 - val_loss: 0.0416\n",
            "Epoch 108/300\n",
            "40/40 [==============================] - 0s 2ms/step - loss: 0.0392 - val_loss: 0.0405\n",
            "Epoch 109/300\n",
            "40/40 [==============================] - 0s 2ms/step - loss: 0.0391 - val_loss: 0.0400\n",
            "Epoch 110/300\n",
            "40/40 [==============================] - 0s 2ms/step - loss: 0.0391 - val_loss: 0.0405\n",
            "Epoch 111/300\n",
            "40/40 [==============================] - 0s 2ms/step - loss: 0.0388 - val_loss: 0.0399\n",
            "Epoch 112/300\n",
            "40/40 [==============================] - 0s 3ms/step - loss: 0.0390 - val_loss: 0.0403\n",
            "Epoch 113/300\n",
            "40/40 [==============================] - 0s 2ms/step - loss: 0.0390 - val_loss: 0.0399\n",
            "Epoch 114/300\n",
            "40/40 [==============================] - 0s 3ms/step - loss: 0.0390 - val_loss: 0.0402\n",
            "Epoch 115/300\n",
            "40/40 [==============================] - 0s 3ms/step - loss: 0.0390 - val_loss: 0.0398\n",
            "Epoch 116/300\n",
            "40/40 [==============================] - 0s 2ms/step - loss: 0.0387 - val_loss: 0.0405\n",
            "Epoch 117/300\n",
            "40/40 [==============================] - 0s 2ms/step - loss: 0.0388 - val_loss: 0.0401\n",
            "Epoch 118/300\n",
            "40/40 [==============================] - 0s 2ms/step - loss: 0.0389 - val_loss: 0.0401\n",
            "Epoch 119/300\n",
            "40/40 [==============================] - 0s 2ms/step - loss: 0.0389 - val_loss: 0.0401\n",
            "Epoch 120/300\n",
            "40/40 [==============================] - 0s 2ms/step - loss: 0.0389 - val_loss: 0.0404\n",
            "Epoch 121/300\n",
            "40/40 [==============================] - 0s 2ms/step - loss: 0.0387 - val_loss: 0.0397\n",
            "Epoch 122/300\n",
            "40/40 [==============================] - 0s 3ms/step - loss: 0.0387 - val_loss: 0.0401\n",
            "Epoch 123/300\n",
            "40/40 [==============================] - 0s 2ms/step - loss: 0.0388 - val_loss: 0.0400\n",
            "Epoch 124/300\n",
            "40/40 [==============================] - 0s 3ms/step - loss: 0.0385 - val_loss: 0.0405\n",
            "Epoch 125/300\n",
            "40/40 [==============================] - 0s 3ms/step - loss: 0.0387 - val_loss: 0.0397\n",
            "Epoch 126/300\n",
            "40/40 [==============================] - 0s 2ms/step - loss: 0.0387 - val_loss: 0.0403\n",
            "Epoch 127/300\n",
            "40/40 [==============================] - 0s 2ms/step - loss: 0.0385 - val_loss: 0.0397\n",
            "Epoch 128/300\n",
            "40/40 [==============================] - 0s 2ms/step - loss: 0.0384 - val_loss: 0.0404\n",
            "Epoch 129/300\n",
            "40/40 [==============================] - 0s 2ms/step - loss: 0.0384 - val_loss: 0.0398\n",
            "Epoch 130/300\n",
            "40/40 [==============================] - 0s 2ms/step - loss: 0.0386 - val_loss: 0.0398\n",
            "Epoch 131/300\n",
            "40/40 [==============================] - 0s 3ms/step - loss: 0.0385 - val_loss: 0.0397\n",
            "Epoch 132/300\n",
            "40/40 [==============================] - 0s 2ms/step - loss: 0.0382 - val_loss: 0.0395\n",
            "Epoch 133/300\n",
            "40/40 [==============================] - 0s 2ms/step - loss: 0.0383 - val_loss: 0.0400\n",
            "Epoch 134/300\n",
            "40/40 [==============================] - 0s 2ms/step - loss: 0.0383 - val_loss: 0.0394\n",
            "Epoch 135/300\n",
            "40/40 [==============================] - 0s 2ms/step - loss: 0.0383 - val_loss: 0.0401\n",
            "Epoch 136/300\n",
            "40/40 [==============================] - 0s 3ms/step - loss: 0.0382 - val_loss: 0.0395\n",
            "Epoch 137/300\n",
            "40/40 [==============================] - 0s 2ms/step - loss: 0.0385 - val_loss: 0.0403\n",
            "Epoch 138/300\n",
            "40/40 [==============================] - 0s 2ms/step - loss: 0.0382 - val_loss: 0.0399\n",
            "Epoch 139/300\n",
            "40/40 [==============================] - 0s 2ms/step - loss: 0.0385 - val_loss: 0.0397\n",
            "Epoch 140/300\n",
            "40/40 [==============================] - 0s 2ms/step - loss: 0.0380 - val_loss: 0.0398\n",
            "Epoch 141/300\n",
            "40/40 [==============================] - 0s 2ms/step - loss: 0.0384 - val_loss: 0.0397\n",
            "Epoch 142/300\n",
            "40/40 [==============================] - 0s 3ms/step - loss: 0.0381 - val_loss: 0.0394\n",
            "Epoch 143/300\n",
            "40/40 [==============================] - 0s 2ms/step - loss: 0.0381 - val_loss: 0.0394\n",
            "Epoch 144/300\n",
            "40/40 [==============================] - 0s 3ms/step - loss: 0.0381 - val_loss: 0.0392\n",
            "Epoch 145/300\n",
            "40/40 [==============================] - 0s 2ms/step - loss: 0.0380 - val_loss: 0.0391\n",
            "Epoch 146/300\n",
            "40/40 [==============================] - 0s 2ms/step - loss: 0.0383 - val_loss: 0.0392\n",
            "Epoch 147/300\n",
            "40/40 [==============================] - 0s 2ms/step - loss: 0.0381 - val_loss: 0.0394\n",
            "Epoch 148/300\n",
            "40/40 [==============================] - 0s 2ms/step - loss: 0.0381 - val_loss: 0.0395\n",
            "Epoch 149/300\n",
            "40/40 [==============================] - 0s 3ms/step - loss: 0.0379 - val_loss: 0.0397\n",
            "Epoch 150/300\n",
            "40/40 [==============================] - 0s 3ms/step - loss: 0.0382 - val_loss: 0.0393\n",
            "Epoch 151/300\n",
            "40/40 [==============================] - 0s 3ms/step - loss: 0.0379 - val_loss: 0.0399\n",
            "Epoch 152/300\n",
            "40/40 [==============================] - 0s 2ms/step - loss: 0.0381 - val_loss: 0.0393\n",
            "Epoch 153/300\n",
            "40/40 [==============================] - 0s 3ms/step - loss: 0.0380 - val_loss: 0.0394\n",
            "Epoch 154/300\n",
            "40/40 [==============================] - 0s 2ms/step - loss: 0.0379 - val_loss: 0.0400\n",
            "Epoch 155/300\n",
            "40/40 [==============================] - 0s 2ms/step - loss: 0.0379 - val_loss: 0.0395\n",
            "Epoch 156/300\n",
            "40/40 [==============================] - 0s 2ms/step - loss: 0.0380 - val_loss: 0.0391\n",
            "Epoch 157/300\n",
            "40/40 [==============================] - 0s 2ms/step - loss: 0.0379 - val_loss: 0.0393\n",
            "Epoch 158/300\n",
            "40/40 [==============================] - 0s 3ms/step - loss: 0.0378 - val_loss: 0.0389\n",
            "Epoch 159/300\n",
            "40/40 [==============================] - 0s 2ms/step - loss: 0.0378 - val_loss: 0.0398\n",
            "Epoch 160/300\n",
            "40/40 [==============================] - 0s 2ms/step - loss: 0.0379 - val_loss: 0.0393\n",
            "Epoch 161/300\n",
            "40/40 [==============================] - 0s 2ms/step - loss: 0.0378 - val_loss: 0.0394\n",
            "Epoch 162/300\n",
            "40/40 [==============================] - 0s 3ms/step - loss: 0.0379 - val_loss: 0.0391\n",
            "Epoch 163/300\n",
            "40/40 [==============================] - 0s 3ms/step - loss: 0.0377 - val_loss: 0.0394\n",
            "Epoch 164/300\n",
            "40/40 [==============================] - 0s 3ms/step - loss: 0.0377 - val_loss: 0.0389\n",
            "Epoch 165/300\n",
            "40/40 [==============================] - 0s 3ms/step - loss: 0.0379 - val_loss: 0.0391\n",
            "Epoch 166/300\n",
            "40/40 [==============================] - 0s 2ms/step - loss: 0.0377 - val_loss: 0.0389\n",
            "Epoch 167/300\n",
            "40/40 [==============================] - 0s 3ms/step - loss: 0.0377 - val_loss: 0.0390\n",
            "Epoch 168/300\n",
            "40/40 [==============================] - 0s 2ms/step - loss: 0.0375 - val_loss: 0.0388\n",
            "Epoch 169/300\n",
            "40/40 [==============================] - 0s 2ms/step - loss: 0.0376 - val_loss: 0.0388\n",
            "Epoch 170/300\n",
            "40/40 [==============================] - 0s 2ms/step - loss: 0.0378 - val_loss: 0.0390\n",
            "Epoch 171/300\n",
            "40/40 [==============================] - 0s 3ms/step - loss: 0.0374 - val_loss: 0.0388\n",
            "Epoch 172/300\n",
            "40/40 [==============================] - 0s 3ms/step - loss: 0.0376 - val_loss: 0.0392\n",
            "Epoch 173/300\n",
            "40/40 [==============================] - 0s 3ms/step - loss: 0.0374 - val_loss: 0.0387\n",
            "Epoch 174/300\n",
            "40/40 [==============================] - 0s 2ms/step - loss: 0.0376 - val_loss: 0.0388\n",
            "Epoch 175/300\n",
            "40/40 [==============================] - 0s 2ms/step - loss: 0.0373 - val_loss: 0.0392\n",
            "Epoch 176/300\n",
            "40/40 [==============================] - 0s 3ms/step - loss: 0.0376 - val_loss: 0.0388\n",
            "Epoch 177/300\n",
            "40/40 [==============================] - 0s 2ms/step - loss: 0.0373 - val_loss: 0.0393\n",
            "Epoch 178/300\n",
            "40/40 [==============================] - 0s 2ms/step - loss: 0.0372 - val_loss: 0.0385\n",
            "Epoch 179/300\n",
            "40/40 [==============================] - 0s 2ms/step - loss: 0.0373 - val_loss: 0.0389\n",
            "Epoch 180/300\n",
            "40/40 [==============================] - 0s 2ms/step - loss: 0.0371 - val_loss: 0.0385\n",
            "Epoch 181/300\n",
            "40/40 [==============================] - 0s 2ms/step - loss: 0.0374 - val_loss: 0.0385\n",
            "Epoch 182/300\n",
            "40/40 [==============================] - 0s 2ms/step - loss: 0.0373 - val_loss: 0.0390\n",
            "Epoch 183/300\n",
            "40/40 [==============================] - 0s 3ms/step - loss: 0.0372 - val_loss: 0.0385\n",
            "Epoch 184/300\n",
            "40/40 [==============================] - 0s 2ms/step - loss: 0.0373 - val_loss: 0.0384\n",
            "Epoch 185/300\n",
            "40/40 [==============================] - 0s 2ms/step - loss: 0.0371 - val_loss: 0.0386\n",
            "Epoch 186/300\n",
            "40/40 [==============================] - 0s 2ms/step - loss: 0.0373 - val_loss: 0.0387\n",
            "Epoch 187/300\n",
            "40/40 [==============================] - 0s 2ms/step - loss: 0.0370 - val_loss: 0.0395\n",
            "Epoch 188/300\n",
            "40/40 [==============================] - 0s 3ms/step - loss: 0.0372 - val_loss: 0.0383\n",
            "Epoch 189/300\n",
            "40/40 [==============================] - 0s 2ms/step - loss: 0.0371 - val_loss: 0.0382\n",
            "Epoch 190/300\n",
            "40/40 [==============================] - 0s 2ms/step - loss: 0.0370 - val_loss: 0.0385\n",
            "Epoch 191/300\n",
            "40/40 [==============================] - 0s 2ms/step - loss: 0.0371 - val_loss: 0.0384\n",
            "Epoch 192/300\n",
            "40/40 [==============================] - 0s 2ms/step - loss: 0.0372 - val_loss: 0.0386\n",
            "Epoch 193/300\n",
            "40/40 [==============================] - 0s 3ms/step - loss: 0.0370 - val_loss: 0.0387\n",
            "Epoch 194/300\n",
            "40/40 [==============================] - 0s 2ms/step - loss: 0.0370 - val_loss: 0.0383\n",
            "Epoch 195/300\n",
            "40/40 [==============================] - 0s 2ms/step - loss: 0.0371 - val_loss: 0.0384\n",
            "Epoch 196/300\n",
            "40/40 [==============================] - 0s 2ms/step - loss: 0.0368 - val_loss: 0.0386\n",
            "Epoch 197/300\n",
            "40/40 [==============================] - 0s 2ms/step - loss: 0.0370 - val_loss: 0.0381\n",
            "Epoch 198/300\n",
            "40/40 [==============================] - 0s 2ms/step - loss: 0.0368 - val_loss: 0.0383\n",
            "Epoch 199/300\n",
            "40/40 [==============================] - 0s 2ms/step - loss: 0.0369 - val_loss: 0.0383\n",
            "Epoch 200/300\n",
            "40/40 [==============================] - 0s 2ms/step - loss: 0.0370 - val_loss: 0.0381\n",
            "Epoch 201/300\n",
            "40/40 [==============================] - 0s 2ms/step - loss: 0.0368 - val_loss: 0.0382\n",
            "Epoch 202/300\n",
            "40/40 [==============================] - 0s 2ms/step - loss: 0.0367 - val_loss: 0.0385\n",
            "Epoch 203/300\n",
            "40/40 [==============================] - 0s 2ms/step - loss: 0.0369 - val_loss: 0.0381\n",
            "Epoch 204/300\n",
            "40/40 [==============================] - 0s 2ms/step - loss: 0.0367 - val_loss: 0.0384\n",
            "Epoch 205/300\n",
            "40/40 [==============================] - 0s 2ms/step - loss: 0.0367 - val_loss: 0.0388\n",
            "Epoch 206/300\n",
            "40/40 [==============================] - 0s 2ms/step - loss: 0.0366 - val_loss: 0.0384\n",
            "Epoch 207/300\n",
            "40/40 [==============================] - 0s 2ms/step - loss: 0.0368 - val_loss: 0.0383\n",
            "Epoch 208/300\n",
            "40/40 [==============================] - 0s 2ms/step - loss: 0.0367 - val_loss: 0.0380\n",
            "Epoch 209/300\n",
            "40/40 [==============================] - 0s 2ms/step - loss: 0.0368 - val_loss: 0.0380\n",
            "Epoch 210/300\n",
            "40/40 [==============================] - 0s 2ms/step - loss: 0.0367 - val_loss: 0.0378\n",
            "Epoch 211/300\n",
            "40/40 [==============================] - 0s 3ms/step - loss: 0.0363 - val_loss: 0.0385\n",
            "Epoch 212/300\n",
            "40/40 [==============================] - 0s 3ms/step - loss: 0.0367 - val_loss: 0.0381\n",
            "Epoch 213/300\n",
            "40/40 [==============================] - 0s 2ms/step - loss: 0.0365 - val_loss: 0.0384\n",
            "Epoch 214/300\n",
            "40/40 [==============================] - 0s 2ms/step - loss: 0.0365 - val_loss: 0.0378\n",
            "Epoch 215/300\n",
            "40/40 [==============================] - 0s 2ms/step - loss: 0.0365 - val_loss: 0.0379\n",
            "Epoch 216/300\n",
            "40/40 [==============================] - 0s 2ms/step - loss: 0.0366 - val_loss: 0.0377\n",
            "Epoch 217/300\n",
            "40/40 [==============================] - 0s 2ms/step - loss: 0.0364 - val_loss: 0.0381\n",
            "Epoch 218/300\n",
            "40/40 [==============================] - 0s 2ms/step - loss: 0.0365 - val_loss: 0.0381\n",
            "Epoch 219/300\n",
            "40/40 [==============================] - 0s 2ms/step - loss: 0.0364 - val_loss: 0.0379\n",
            "Epoch 220/300\n",
            "40/40 [==============================] - 0s 2ms/step - loss: 0.0365 - val_loss: 0.0380\n",
            "Epoch 221/300\n",
            "40/40 [==============================] - 0s 2ms/step - loss: 0.0367 - val_loss: 0.0383\n",
            "Epoch 222/300\n",
            "40/40 [==============================] - 0s 3ms/step - loss: 0.0362 - val_loss: 0.0381\n",
            "Epoch 223/300\n",
            "40/40 [==============================] - 0s 2ms/step - loss: 0.0363 - val_loss: 0.0376\n",
            "Epoch 224/300\n",
            "40/40 [==============================] - 0s 2ms/step - loss: 0.0363 - val_loss: 0.0377\n",
            "Epoch 225/300\n",
            "40/40 [==============================] - 0s 2ms/step - loss: 0.0363 - val_loss: 0.0377\n",
            "Epoch 226/300\n",
            "40/40 [==============================] - 0s 2ms/step - loss: 0.0362 - val_loss: 0.0382\n",
            "Epoch 227/300\n",
            "40/40 [==============================] - 0s 2ms/step - loss: 0.0362 - val_loss: 0.0378\n",
            "Epoch 228/300\n",
            "40/40 [==============================] - 0s 2ms/step - loss: 0.0360 - val_loss: 0.0377\n",
            "Epoch 229/300\n",
            "40/40 [==============================] - 0s 2ms/step - loss: 0.0362 - val_loss: 0.0377\n",
            "Epoch 230/300\n",
            "40/40 [==============================] - 0s 2ms/step - loss: 0.0362 - val_loss: 0.0380\n",
            "Epoch 231/300\n",
            "40/40 [==============================] - 0s 2ms/step - loss: 0.0362 - val_loss: 0.0379\n",
            "Epoch 232/300\n",
            "40/40 [==============================] - 0s 2ms/step - loss: 0.0360 - val_loss: 0.0382\n",
            "Epoch 233/300\n",
            "40/40 [==============================] - 0s 2ms/step - loss: 0.0361 - val_loss: 0.0382\n",
            "Epoch 234/300\n",
            "40/40 [==============================] - 0s 2ms/step - loss: 0.0360 - val_loss: 0.0375\n",
            "Epoch 235/300\n",
            "40/40 [==============================] - 0s 2ms/step - loss: 0.0361 - val_loss: 0.0376\n",
            "Epoch 236/300\n",
            "40/40 [==============================] - 0s 2ms/step - loss: 0.0360 - val_loss: 0.0377\n",
            "Epoch 237/300\n",
            "40/40 [==============================] - 0s 2ms/step - loss: 0.0362 - val_loss: 0.0374\n",
            "Epoch 238/300\n",
            "40/40 [==============================] - 0s 2ms/step - loss: 0.0360 - val_loss: 0.0373\n",
            "Epoch 239/300\n",
            "40/40 [==============================] - 0s 2ms/step - loss: 0.0358 - val_loss: 0.0378\n",
            "Epoch 240/300\n",
            "40/40 [==============================] - 0s 2ms/step - loss: 0.0360 - val_loss: 0.0378\n",
            "Epoch 241/300\n",
            "40/40 [==============================] - 0s 2ms/step - loss: 0.0359 - val_loss: 0.0373\n",
            "Epoch 242/300\n",
            "40/40 [==============================] - 0s 2ms/step - loss: 0.0361 - val_loss: 0.0374\n",
            "Epoch 243/300\n",
            "40/40 [==============================] - 0s 3ms/step - loss: 0.0359 - val_loss: 0.0375\n",
            "Epoch 244/300\n",
            "40/40 [==============================] - 0s 2ms/step - loss: 0.0360 - val_loss: 0.0374\n",
            "Epoch 245/300\n",
            "40/40 [==============================] - 0s 2ms/step - loss: 0.0359 - val_loss: 0.0375\n",
            "Epoch 246/300\n",
            "40/40 [==============================] - 0s 2ms/step - loss: 0.0357 - val_loss: 0.0377\n",
            "Epoch 247/300\n",
            "40/40 [==============================] - 0s 2ms/step - loss: 0.0360 - val_loss: 0.0375\n",
            "Epoch 248/300\n",
            "40/40 [==============================] - 0s 2ms/step - loss: 0.0358 - val_loss: 0.0373\n",
            "Epoch 249/300\n",
            "40/40 [==============================] - 0s 2ms/step - loss: 0.0359 - val_loss: 0.0372\n",
            "Epoch 250/300\n",
            "40/40 [==============================] - 0s 3ms/step - loss: 0.0357 - val_loss: 0.0372\n",
            "Epoch 251/300\n",
            "40/40 [==============================] - 0s 2ms/step - loss: 0.0359 - val_loss: 0.0373\n",
            "Epoch 252/300\n",
            "40/40 [==============================] - 0s 3ms/step - loss: 0.0358 - val_loss: 0.0371\n",
            "Epoch 253/300\n",
            "40/40 [==============================] - 0s 3ms/step - loss: 0.0357 - val_loss: 0.0372\n",
            "Epoch 254/300\n",
            "40/40 [==============================] - 0s 2ms/step - loss: 0.0358 - val_loss: 0.0370\n",
            "Epoch 255/300\n",
            "40/40 [==============================] - 0s 3ms/step - loss: 0.0357 - val_loss: 0.0376\n",
            "Epoch 256/300\n",
            "40/40 [==============================] - 0s 2ms/step - loss: 0.0357 - val_loss: 0.0375\n",
            "Epoch 257/300\n",
            "40/40 [==============================] - 0s 2ms/step - loss: 0.0356 - val_loss: 0.0373\n",
            "Epoch 258/300\n",
            "40/40 [==============================] - 0s 2ms/step - loss: 0.0357 - val_loss: 0.0374\n",
            "Epoch 259/300\n",
            "40/40 [==============================] - 0s 2ms/step - loss: 0.0356 - val_loss: 0.0372\n",
            "Epoch 260/300\n",
            "40/40 [==============================] - 0s 2ms/step - loss: 0.0356 - val_loss: 0.0372\n",
            "Epoch 261/300\n",
            "40/40 [==============================] - 0s 2ms/step - loss: 0.0355 - val_loss: 0.0372\n",
            "Epoch 262/300\n",
            "40/40 [==============================] - 0s 3ms/step - loss: 0.0355 - val_loss: 0.0375\n",
            "Epoch 263/300\n",
            "40/40 [==============================] - 0s 2ms/step - loss: 0.0355 - val_loss: 0.0378\n",
            "Epoch 264/300\n",
            "40/40 [==============================] - 0s 2ms/step - loss: 0.0357 - val_loss: 0.0375\n",
            "Epoch 265/300\n",
            "40/40 [==============================] - 0s 2ms/step - loss: 0.0354 - val_loss: 0.0374\n",
            "Epoch 266/300\n",
            "40/40 [==============================] - 0s 2ms/step - loss: 0.0354 - val_loss: 0.0376\n",
            "Epoch 267/300\n",
            "40/40 [==============================] - 0s 2ms/step - loss: 0.0354 - val_loss: 0.0371\n",
            "Epoch 268/300\n",
            "40/40 [==============================] - 0s 2ms/step - loss: 0.0353 - val_loss: 0.0375\n",
            "Epoch 269/300\n",
            "40/40 [==============================] - 0s 2ms/step - loss: 0.0353 - val_loss: 0.0374\n",
            "Epoch 270/300\n",
            "40/40 [==============================] - 0s 2ms/step - loss: 0.0355 - val_loss: 0.0371\n",
            "Epoch 271/300\n",
            "40/40 [==============================] - 0s 2ms/step - loss: 0.0354 - val_loss: 0.0372\n",
            "Epoch 272/300\n",
            "40/40 [==============================] - 0s 3ms/step - loss: 0.0353 - val_loss: 0.0367\n",
            "Epoch 273/300\n",
            "40/40 [==============================] - 0s 2ms/step - loss: 0.0353 - val_loss: 0.0374\n",
            "Epoch 274/300\n",
            "40/40 [==============================] - 0s 2ms/step - loss: 0.0352 - val_loss: 0.0371\n",
            "Epoch 275/300\n",
            "40/40 [==============================] - 0s 3ms/step - loss: 0.0352 - val_loss: 0.0371\n",
            "Epoch 276/300\n",
            "40/40 [==============================] - 0s 2ms/step - loss: 0.0352 - val_loss: 0.0368\n",
            "Epoch 277/300\n",
            "40/40 [==============================] - 0s 3ms/step - loss: 0.0352 - val_loss: 0.0370\n",
            "Epoch 278/300\n",
            "40/40 [==============================] - 0s 2ms/step - loss: 0.0353 - val_loss: 0.0370\n",
            "Epoch 279/300\n",
            "40/40 [==============================] - 0s 2ms/step - loss: 0.0352 - val_loss: 0.0371\n",
            "Epoch 280/300\n",
            "40/40 [==============================] - 0s 2ms/step - loss: 0.0353 - val_loss: 0.0373\n",
            "Epoch 281/300\n",
            "40/40 [==============================] - 0s 2ms/step - loss: 0.0351 - val_loss: 0.0369\n",
            "Epoch 282/300\n",
            "40/40 [==============================] - 0s 3ms/step - loss: 0.0351 - val_loss: 0.0369\n",
            "Epoch 283/300\n",
            "40/40 [==============================] - 0s 2ms/step - loss: 0.0350 - val_loss: 0.0367\n",
            "Epoch 284/300\n",
            "40/40 [==============================] - 0s 2ms/step - loss: 0.0352 - val_loss: 0.0367\n",
            "Epoch 285/300\n",
            "40/40 [==============================] - 0s 2ms/step - loss: 0.0350 - val_loss: 0.0372\n",
            "Epoch 286/300\n",
            "40/40 [==============================] - 0s 2ms/step - loss: 0.0352 - val_loss: 0.0368\n",
            "Epoch 287/300\n",
            "40/40 [==============================] - 0s 2ms/step - loss: 0.0352 - val_loss: 0.0369\n",
            "Epoch 288/300\n",
            "40/40 [==============================] - 0s 2ms/step - loss: 0.0350 - val_loss: 0.0368\n",
            "Epoch 289/300\n",
            "40/40 [==============================] - 0s 2ms/step - loss: 0.0350 - val_loss: 0.0372\n",
            "Epoch 290/300\n",
            "40/40 [==============================] - 0s 3ms/step - loss: 0.0351 - val_loss: 0.0366\n",
            "Epoch 291/300\n",
            "40/40 [==============================] - 0s 2ms/step - loss: 0.0350 - val_loss: 0.0367\n",
            "Epoch 292/300\n",
            "40/40 [==============================] - 0s 3ms/step - loss: 0.0348 - val_loss: 0.0367\n",
            "Epoch 293/300\n",
            "40/40 [==============================] - 0s 2ms/step - loss: 0.0352 - val_loss: 0.0367\n",
            "Epoch 294/300\n",
            "40/40 [==============================] - 0s 2ms/step - loss: 0.0350 - val_loss: 0.0366\n",
            "Epoch 295/300\n",
            "40/40 [==============================] - 0s 2ms/step - loss: 0.0350 - val_loss: 0.0370\n",
            "Epoch 296/300\n",
            "40/40 [==============================] - 0s 2ms/step - loss: 0.0351 - val_loss: 0.0367\n",
            "Epoch 297/300\n",
            "40/40 [==============================] - 0s 2ms/step - loss: 0.0351 - val_loss: 0.0366\n",
            "Epoch 298/300\n",
            "40/40 [==============================] - 0s 2ms/step - loss: 0.0349 - val_loss: 0.0368\n",
            "Epoch 299/300\n",
            "40/40 [==============================] - 0s 2ms/step - loss: 0.0352 - val_loss: 0.0366\n",
            "Epoch 300/300\n",
            "40/40 [==============================] - 0s 2ms/step - loss: 0.0350 - val_loss: 0.0365\n"
          ],
          "name": "stdout"
        }
      ]
    },
    {
      "cell_type": "markdown",
      "metadata": {
        "id": "ImMFiqK8nkup",
        "colab_type": "text"
      },
      "source": [
        "## ■（4）評価／精度検証"
      ]
    },
    {
      "cell_type": "markdown",
      "metadata": {
        "id": "v_0OS2mt_Btl",
        "colab_type": "text"
      },
      "source": [
        "これも、これまでの記事とほぼ同じ内容なので説明を割愛する。"
      ]
    },
    {
      "cell_type": "markdown",
      "metadata": {
        "id": "-3UolziXnm9e",
        "colab_type": "text"
      },
      "source": [
        "### リスト4-1　損失値の推移グラフ描画"
      ]
    },
    {
      "cell_type": "code",
      "metadata": {
        "id": "rb-3ert_nqWo",
        "colab_type": "code",
        "outputId": "a5e5aa8e-73bc-4aec-8747-bf66e5a75797",
        "colab": {
          "base_uri": "https://localhost:8080/",
          "height": 279
        }
      },
      "source": [
        "import matplotlib.pyplot as plt\n",
        "\n",
        "# 学習結果（損失）のグラフを描画\n",
        "train_loss = hist.history['loss']\n",
        "valid_loss = hist.history['val_loss']\n",
        "epochs = len(train_loss)\n",
        "plt.plot(range(epochs), train_loss, marker='.', label='loss (Training data)')\n",
        "plt.plot(range(epochs), valid_loss, marker='.', label='loss (validation data)')\n",
        "plt.legend(loc='best')\n",
        "plt.grid()\n",
        "plt.xlabel('epoch')\n",
        "plt.ylabel('loss')\n",
        "plt.show()"
      ],
      "execution_count": 33,
      "outputs": [
        {
          "output_type": "display_data",
          "data": {
            "image/png": "[encoded data removed]",
            "text/plain": [
              "<Figure size 432x288 with 1 Axes>"
            ]
          },
          "metadata": {
            "tags": [],
            "needs_background": "light"
          }
        }
      ]
    },
    {
      "cell_type": "markdown",
      "metadata": {
        "id": "h5SX6m8Qnoy_",
        "colab_type": "text"
      },
      "source": [
        "実行結果のポイント：\n",
        "- 損失（loss）は訓練データでも精度検証データでも同様に下がっている"
      ]
    },
    {
      "cell_type": "markdown",
      "metadata": {
        "id": "nvkBhFbKrhzg",
        "colab_type": "text"
      },
      "source": [
        "## ■（5）推論／未知データによるテスト"
      ]
    },
    {
      "cell_type": "markdown",
      "metadata": {
        "id": "MFlB998sBL5T",
        "colab_type": "text"
      },
      "source": [
        "### リスト5-1　入力データの描画（リスト1-3の再掲）"
      ]
    },
    {
      "cell_type": "code",
      "metadata": {
        "id": "pzOWnFCkBRLw",
        "colab_type": "code",
        "outputId": "ead989ea-603e-41d1-d604-fa620c88d93c",
        "colab": {
          "base_uri": "https://localhost:8080/",
          "height": 477
        }
      },
      "source": [
        "pg.plot_points_with_playground_style(X_train, y_train)"
      ],
      "execution_count": 34,
      "outputs": [
        {
          "output_type": "execute_result",
          "data": {
            "text/plain": [
              "(<Figure size 500x500 with 1 Axes>,\n",
              " <matplotlib.axes._subplots.AxesSubplot at 0x7f697ed7df60>)"
            ]
          },
          "metadata": {
            "tags": []
          },
          "execution_count": 34
        },
        {
          "output_type": "display_data",
          "data": {
            "image/png": "[encoded data removed]",
            "text/plain": [
              "<Figure size 500x500 with 1 Axes>"
            ]
          },
          "metadata": {
            "tags": []
          }
        }
      ]
    },
    {
      "cell_type": "markdown",
      "metadata": {
        "id": "gQGV20CFBaQs",
        "colab_type": "text"
      },
      "source": [
        "このコードのポイント：\n",
        "- 「playground-data」PyPIパッケージには、入力データを描画するための`plot_points_with_playground_style()`関数が用意されており、上記のコードのようにして使える"
      ]
    },
    {
      "cell_type": "markdown",
      "metadata": {
        "id": "JfFPZWnDBUIh",
        "colab_type": "text"
      },
      "source": [
        "### リスト5-2　未知データによるテスト（推論）"
      ]
    },
    {
      "cell_type": "markdown",
      "metadata": {
        "id": "XsBgGK6AB-QM",
        "colab_type": "text"
      },
      "source": [
        "上のグラフで青い部分の座標を指定して推論してみよう。例えば次のコードでは、(0.0, -3.0)の座標の結果値を推論してみている。"
      ]
    },
    {
      "cell_type": "code",
      "metadata": {
        "id": "O4D9Z7-xq1-W",
        "colab_type": "code",
        "outputId": "2e28d410-6b15-4e99-9e85-0419659c65b8",
        "colab": {
          "base_uri": "https://localhost:8080/",
          "height": 34
        }
      },
      "source": [
        "# 推論（予測）する\n",
        "model.predict([[0.0, -3.0]])\n",
        "# array([[0.19012895]], dtype=float32) ……などと出力される"
      ],
      "execution_count": 35,
      "outputs": [
        {
          "output_type": "execute_result",
          "data": {
            "text/plain": [
              "array([[0.19869453]], dtype=float32)"
            ]
          },
          "metadata": {
            "tags": []
          },
          "execution_count": 35
        }
      ]
    },
    {
      "cell_type": "markdown",
      "metadata": {
        "id": "FtsHJqNt6Zva",
        "colab_type": "text"
      },
      "source": [
        "実行結果のポイント：\n",
        "- 「0.19012895」と出力され、やや青色になっている"
      ]
    },
    {
      "cell_type": "markdown",
      "metadata": {
        "id": "zHAgH1mgC-_w",
        "colab_type": "text"
      },
      "source": [
        "### リスト5-3　学習結果の描画"
      ]
    },
    {
      "cell_type": "markdown",
      "metadata": {
        "id": "lFxGOpp8D0Ey",
        "colab_type": "text"
      },
      "source": [
        "全ての座標点でこのようなこの出力結果をプロットすると、（分類問題における決定境界のような）グラフを描画できる。「playground-data」PyPIパッケージには、学習結果（決定境界）を描画するための`draw_decision_boundary()`関数が用意されており、次のコードのようにして使える。"
      ]
    },
    {
      "cell_type": "code",
      "metadata": {
        "id": "wZj-PPLLC3l8",
        "colab_type": "code",
        "outputId": "875f3aad-5dfb-4484-feda-ea4e0b60cf55",
        "colab": {
          "base_uri": "https://localhost:8080/",
          "height": 460
        }
      },
      "source": [
        "# 決定境界のグラフを描画する\n",
        "fig = pg.get_playground_figure()\n",
        "ax = pg.get_playground_axes(fig)\n",
        "pg.draw_decision_boundary(fig, ax, trained_model=model)"
      ],
      "execution_count": 36,
      "outputs": [
        {
          "output_type": "execute_result",
          "data": {
            "text/plain": [
              "<matplotlib.image.AxesImage at 0x7f697ca60160>"
            ]
          },
          "metadata": {
            "tags": []
          },
          "execution_count": 36
        },
        {
          "output_type": "display_data",
          "data": {
            "image/png": "[encoded data removed]",
            "text/plain": [
              "<Figure size 500x500 with 2 Axes>"
            ]
          },
          "metadata": {
            "tags": []
          }
        }
      ]
    },
    {
      "cell_type": "markdown",
      "metadata": {
        "id": "whqm5XgBnx86",
        "colab_type": "text"
      },
      "source": [
        "# お疲れさまでした。第7回は修了です。"
      ]
    }
  ]
}