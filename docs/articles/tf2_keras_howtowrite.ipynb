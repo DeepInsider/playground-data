{
  "nbformat": 4,
  "nbformat_minor": 0,
  "metadata": {
    "colab": {
      "name": "tf2-keras-howtowrite.ipynb",
      "provenance": [],
      "private_outputs": true,
      "collapsed_sections": [],
      "toc_visible": true,
      "authorship_tag": "ABX9TyPrI5Y9jq5n1+skb9eJdxQ5",
      "include_colab_link": true
    },
    "kernelspec": {
      "name": "python3",
      "display_name": "Python 3"
    }
  },
  "cells": [
    {
      "cell_type": "markdown",
      "metadata": {
        "id": "view-in-github",
        "colab_type": "text"
      },
      "source": [
        "<a href=\"https://colab.research.google.com/github/DeepInsider/playground-data/blob/master/docs/articles/tf2_keras_howtowrite.ipynb\" target=\"_parent\"><img src=\"https://colab.research.google.com/assets/colab-badge.svg\" alt=\"Open In Colab\"/></a>"
      ]
    },
    {
      "cell_type": "markdown",
      "metadata": {
        "id": "xrXUPcCWRzTL",
        "colab_type": "text"
      },
      "source": [
        "##### Copyright 2020 Digital Advantage - Deep Insider."
      ]
    },
    {
      "cell_type": "code",
      "metadata": {
        "id": "EXnYORgX8UHF",
        "colab_type": "code",
        "colab": {}
      },
      "source": [
        "#@title Licensed under the Apache License, Version 2.0 (the \"License\");\n",
        "# you may not use this file except in compliance with the License.\n",
        "# You may obtain a copy of the License at\n",
        "#\n",
        "# https://www.apache.org/licenses/LICENSE-2.0\n",
        "#\n",
        "# Unless required by applicable law or agreed to in writing, software\n",
        "# distributed under the License is distributed on an \"AS IS\" BASIS,\n",
        "# WITHOUT WARRANTIES OR CONDITIONS OF ANY KIND, either express or implied.\n",
        "# See the License for the specific language governing permissions and\n",
        "# limitations under the License."
      ],
      "execution_count": 0,
      "outputs": []
    },
    {
      "cell_type": "markdown",
      "metadata": {
        "id": "UpiqfKZH8kvb",
        "colab_type": "text"
      },
      "source": [
        "# 連載『TensorFlow 2.0＋Keras（ tf.keras）入門』のノートブック（2）"
      ]
    },
    {
      "cell_type": "markdown",
      "metadata": {
        "id": "eJQ94tq_8teO",
        "colab_type": "text"
      },
      "source": [
        "<table valign=\"middle\">\n",
        "  <td>\n",
        "    <a target=\"_blank\" href=\"https://www.atmarkit.co.jp/ait/subtop/features/di/tf2keras_index.html\"> <img src=\"https://re.deepinsider.jp/img/ml-logo/manabu.svg\"/>Deep Insiderで記事を読む</a>\n",
        "  </td>\n",
        "  <td>\n",
        "    <a target=\"_blank\" href=\"https://colab.research.google.com/github/DeepInsider/playground-data/blob/master/docs/articles/tf2_keras_howtowrite.ipynb\"> <img src=\"https://re.deepinsider.jp/img/ml-logo/gcolab.svg\" />Google Colabで実行する</a>\n",
        "  </td>\n",
        "  <td>\n",
        "    <a target=\"_blank\" href=\"https://github.com/DeepInsider/playground-data/blob/master/docs/articles/tf2_keras_howtowrite.ipynb\"> <img src=\"https://re.deepinsider.jp/img/ml-logo/github.svg\" />GitHubでソースコードを見る</a>\n",
        "  </td>\n",
        "</table>"
      ]
    },
    {
      "cell_type": "markdown",
      "metadata": {
        "id": "cNvW2O8uR6xq",
        "colab_type": "text"
      },
      "source": [
        "※上から順に実行してください。上のコードで実行したものを再利用しているところがあるため、すべて実行しないとエラーになるコードがあります。  \n",
        "　すべてのコードを一括実行したい場合は、メニューバーから［ランタイム］－［すべてのセルを実行］をクリックしてください（※TensofFlowのバージョン2.xでない場合、エラーになります）。"
      ]
    },
    {
      "cell_type": "markdown",
      "metadata": {
        "id": "pN0BBckBSRKz",
        "colab_type": "text"
      },
      "source": [
        "※「Python 3」を利用してください。  \n",
        "　Python 3を利用するには、メニューバーから［ランタイム］－［ランタイムのタイプを変更］を選択すると表示される［ノートブックの設定］ダイアログの、［ランタイムのタイプ］欄で「Python 3」に選択し、その右下にある［保存］ボタンをクリックしてください。"
      ]
    },
    {
      "cell_type": "markdown",
      "metadata": {
        "id": "uoW15afO8xBX",
        "colab_type": "text"
      },
      "source": [
        "# 第4回　知ってる？！ TensorFlow 2.0最新の書き方入門（初中級者向け）"
      ]
    },
    {
      "cell_type": "markdown",
      "metadata": {
        "id": "jXt-tmpH9Lls",
        "colab_type": "text"
      },
      "source": [
        "## ■TensorFlowにおける、3種類／6通りのモデルの書き方"
      ]
    },
    {
      "cell_type": "markdown",
      "metadata": {
        "id": "PJksPiJx9Ng-",
        "colab_type": "text"
      },
      "source": [
        "TensorFlow 2.0のモデルの書き方には下記の6通りある。本稿ではこの書き方を説明する。\n",
        "\n",
        "**【Sequentialモデル】**（今回）\n",
        "- （1）`tf.keras.models.Sequential`クラスの**コンストラクター利用**\n",
        "- （2）`tf.keras.models.Sequential`オブジェクトの`add`**メソッドで追加**\n",
        "\n",
        "**【Functional API】**（今回）\n",
        "- （3）`tf.keras.Model`クラスの**コンストラクター利用**\n",
        "\n",
        "**【Subclassingモデル】**（次回）\n",
        "- （4）`tf.keras.Model`クラスの**サブクラス化**\n",
        "- （5）`TensorFlow低水準API`で**カスタム実装**\n",
        "\n",
        "**【作成済みEstimators】**（次回）\n",
        "- （6）`tf.estimator.Estimator`が提供する**作成済みモデル**（**Pre-made Estimators**）の利用"
      ]
    },
    {
      "cell_type": "markdown",
      "metadata": {
        "id": "uVbuh4ZBybiC",
        "colab_type": "text"
      },
      "source": [
        "### ●今回と次回について\n"
      ]
    },
    {
      "cell_type": "markdown",
      "metadata": {
        "id": "OPflhIuPywds",
        "colab_type": "text"
      },
      "source": [
        "- 「第4回　知ってる？！ TensorFlow 2.0最新の書き方入門（初中級者向け）」（今回）\n",
        "- 「第5回　お勧めの、TensorFlow 2.0最新の書き方入門（エキスパート向け）」（次回）"
      ]
    },
    {
      "cell_type": "markdown",
      "metadata": {
        "id": "-8BZxKjqkxTD",
        "colab_type": "text"
      },
      "source": [
        "### ●TensorFlowのエコシステム／機能構成図\n"
      ]
    },
    {
      "cell_type": "markdown",
      "metadata": {
        "id": "9MFgq_gh0jNx",
        "colab_type": "text"
      },
      "source": [
        "![TensorFlow全体の機能構成図](https://github.com/DeepInsider/playground-data/raw/master/docs/articles/tensorflow-ecosystem-2.0.png)"
      ]
    },
    {
      "cell_type": "markdown",
      "metadata": {
        "id": "vT2IIbxs1mPe",
        "colab_type": "text"
      },
      "source": [
        "## ■コードの書き方を実行するための準備"
      ]
    },
    {
      "cell_type": "markdown",
      "metadata": {
        "id": "o_0iqMHC4E2o",
        "colab_type": "text"
      },
      "source": [
        "### ●前提条件"
      ]
    },
    {
      "cell_type": "markdown",
      "metadata": {
        "id": "0vo7QQTfqHG9",
        "colab_type": "text"
      },
      "source": [
        "### 【チェック】Pythonバージョン（※3系を使うこと）\n",
        "Colabにインストール済みのものを使う。もし2系になっている場合は、メニューバーの［ランタイム］－［ランタイムのタイプを変更］をクリックして切り替えてほしい。"
      ]
    },
    {
      "cell_type": "code",
      "metadata": {
        "id": "f4PO0HWIqMQI",
        "colab_type": "code",
        "colab": {}
      },
      "source": [
        "import sys\n",
        "print('Python', sys.version)\n",
        "# Python 3.6.9 (default, Nov  7 2019, 10:44:02)  …… などと表示される"
      ],
      "execution_count": 0,
      "outputs": []
    },
    {
      "cell_type": "markdown",
      "metadata": {
        "id": "HzRCOJw6AOop",
        "colab_type": "text"
      },
      "source": [
        "### 【チェック】TensorFlowバージョン（※2系を使うこと）\n",
        "基本的にはColabにインストール済みのものを使う。もし2系になっている場合は、リスト4-0を実行してバージョン2.0を使う。"
      ]
    },
    {
      "cell_type": "code",
      "metadata": {
        "id": "kYqIF_SCAQeH",
        "colab_type": "code",
        "colab": {}
      },
      "source": [
        "import tensorflow as tf\n",
        "print('TensorFlow', tf.__version__)\n",
        "# TensorFlow 1.15.0 ……などと表示される"
      ],
      "execution_count": 0,
      "outputs": []
    },
    {
      "cell_type": "markdown",
      "metadata": {
        "id": "_sg36M_-ATxR",
        "colab_type": "text"
      },
      "source": [
        "### リスト0-1　［オプション］ライブラリ「TensorFlow」最新バージョンのインストール"
      ]
    },
    {
      "cell_type": "markdown",
      "metadata": {
        "id": "Ak9jig-eEWg4",
        "colab_type": "text"
      },
      "source": [
        "※Google Colabでを使う場合は、「%tensorflow_version 2.x」というマジックコマンドを使用してください。  \n",
        "　「TensorFlow 2.x selected.」と表示されればOKです。\n",
        "　「TensorFlow is already loaded. Please restart the runtime to change versions.」と表示される場合は、メニューバーから［ランタイム］－［ランタイムを再起動］を実行した上で、再度マジックコマンドの実行結果を確かめてください。"
      ]
    },
    {
      "cell_type": "code",
      "metadata": {
        "id": "qJgCZ6-KAYtw",
        "colab_type": "code",
        "colab": {}
      },
      "source": [
        "# Google Colabで最新の2.xを使う場合（Colab専用）\n",
        "%tensorflow_version 2.x\n",
        "\n",
        "# 最新バージョンにアップグレードする場合\n",
        "!pip install --upgrade tensorflow\n",
        "\n",
        "# バージョンを明示してアップグレードする場合\n",
        "#!pip install --upgrade tensorflow===2.1.0\n",
        "\n",
        "# 最新バージョンをインストールする場合\n",
        "#!pip install tensorflow\n",
        "\n",
        "# バージョンを明示してインストールする場合\n",
        "#!pip install tensorflow===2.1.0"
      ],
      "execution_count": 0,
      "outputs": []
    },
    {
      "cell_type": "markdown",
      "metadata": {
        "id": "KhO5Mj7YAeAG",
        "colab_type": "text"
      },
      "source": [
        "### ［オプション］【チェック】TensorFlowバージョン（※インストール後の確認）\n",
        "バージョン2.xになっているか再度チェックする。"
      ]
    },
    {
      "cell_type": "code",
      "metadata": {
        "id": "_6eq67BTAgM_",
        "colab_type": "code",
        "colab": {}
      },
      "source": [
        "import tensorflow as tf\n",
        "print('TensorFlow', tf.__version__)\n",
        "# TensorFlow 2.1.0 ……などと表示される"
      ],
      "execution_count": 0,
      "outputs": []
    },
    {
      "cell_type": "markdown",
      "metadata": {
        "id": "vkIfaer6-RFY",
        "colab_type": "text"
      },
      "source": [
        "### ●データについて"
      ]
    },
    {
      "cell_type": "markdown",
      "metadata": {
        "id": "3n6D3vKUpDJS",
        "colab_type": "text"
      },
      "source": [
        "「[第1回　初めてのニューラルネットワーク実装、まずは準備をしよう ― 仕組み理解×初実装（前編）：TensorFlow 2＋Keras（tf.keras）入門 - ＠IT](https://www.atmarkit.co.jp/ait/articles/1909/19/news026.html)」の記事と同じように、シンプルな座標点データを生成して使う。使い方は、前述の記事を参照してほしい。\n",
        "\n",
        "なお、座標点データは、「[ニューラルネットワーク Playground - Deep Insider](https://deepinsider.github.io/playground/)」（以下、Playground）と同じ生成仕様となっている。"
      ]
    },
    {
      "cell_type": "markdown",
      "metadata": {
        "id": "RfxpuUIw-bz1",
        "colab_type": "text"
      },
      "source": [
        "### リスト0-x　座標点データの生成"
      ]
    },
    {
      "cell_type": "code",
      "metadata": {
        "id": "ij95BzkypJZQ",
        "colab_type": "code",
        "colab": {}
      },
      "source": [
        "# 座標点データを生成するライブラリのインストール\n",
        "!pip install playground-data"
      ],
      "execution_count": 0,
      "outputs": []
    },
    {
      "cell_type": "code",
      "metadata": {
        "id": "zH9qg4Qt-dER",
        "colab_type": "code",
        "colab": {}
      },
      "source": [
        "# playground-dataライブラリのplygdataパッケージを「pg」という別名でインポート\n",
        "import plygdata as pg\n",
        "\n",
        "# 設定値を定数として定義\n",
        "PROBLEM_DATA_TYPE = pg.DatasetType.ClassifyCircleData # 問題種別：「分類（Classification）」、データ種別：「円（CircleData）」を選択\n",
        "TRAINING_DATA_RATIO = 0.5  # データの何％を訓練【Training】用に？ (残りは精度検証【Validation】用) ： 50％\n",
        "DATA_NOISE = 0.0           # ノイズ： 0％\n",
        "\n",
        "# 定義済みの定数を引数に指定して、データを生成する\n",
        "data_list = pg.generate_data(PROBLEM_DATA_TYPE, DATA_NOISE)\n",
        "\n",
        "# データを「訓練用」と「精度検証用」を指定の比率で分割し、さらにそれぞれを「データ（X）」と「教師ラベル（y）」に分ける\n",
        "X_train, y_train, X_valid, y_valid = pg.split_data(data_list, training_size=TRAINING_DATA_RATIO)\n",
        "\n",
        "# データ分割後の各変数の内容例として、それぞれ5件ずつ出力（※出力内容は実行ごとに異なる）\n",
        "print('X_train:'); print(X_train[:5]) # [[-0.07940614  1.15175421], ……]\n",
        "print('y_train:'); print(y_train[:5]) # [[ 1.], ……  [-1.]]\n",
        "print('X_valid:'); print(X_valid[:5]) # [[ 0.10066901  1.19950826], ……]\n",
        "print('y_valid:'); print(y_valid[:5]) # [[ 1.], ……  [-1.]]"
      ],
      "execution_count": 0,
      "outputs": []
    },
    {
      "cell_type": "markdown",
      "metadata": {
        "id": "UtsZKVi0ujx5",
        "colab_type": "text"
      },
      "source": [
        "### ●ディープニューラルネットワークのモデル設計\n",
        "- 入力の数（`INPUT_FEATURES`）は、$X_1$と$X_2$で**2つ**\n",
        "- 隠れ層のレイヤー数は、**2つ**\n",
        "  - 隠れ層にある1つ目のニューロンの数（`LAYER1_NEURONS`）は、**3つ**\n",
        "  - 隠れ層にある2つ目のニューロンの数（`LAYER2_NEURONS`）は、**3つ**\n",
        "- 出力層にあるニューロンの数（`OUTPUT_RESULTS`）は、**1つ**"
      ]
    },
    {
      "cell_type": "markdown",
      "metadata": {
        "id": "mVEH9qMkCRjG",
        "colab_type": "text"
      },
      "source": [
        "### リスト0-2　インポートと変数の宣言（全ての書き方に共通）"
      ]
    },
    {
      "cell_type": "code",
      "metadata": {
        "id": "RRGiReEFrFHl",
        "colab_type": "code",
        "colab": {}
      },
      "source": [
        "# ライブラリ「TensorFlow」のtensorflowパッケージを「tf」という別名でインポート\n",
        "import tensorflow as tf\n",
        "from tensorflow.keras import layers       # 「レイヤーズ」モジュールのインポート\n",
        "\n",
        "# 定数（モデル定義時に必要となる数値）\n",
        "INPUT_FEATURES = 2  # 入力（特徴）の数： 2\n",
        "LAYER1_NEURONS = 3  # ニューロンの数： 3\n",
        "LAYER2_NEURONS = 3  # ニューロンの数： 3\n",
        "OUTPUT_RESULTS = 1  # 出力結果の数： 1"
      ],
      "execution_count": 0,
      "outputs": []
    },
    {
      "cell_type": "markdown",
      "metadata": {
        "id": "hDiENTZrTfZ8",
        "colab_type": "text"
      },
      "source": [
        "### リスト0-3　正解率（精度）のカスタム指標（全ての書き方に共通）"
      ]
    },
    {
      "cell_type": "code",
      "metadata": {
        "id": "MX6Y7A1DTdjh",
        "colab_type": "code",
        "colab": {}
      },
      "source": [
        "import tensorflow.keras.backend as K\n",
        "\n",
        "def tanh_accuracy(y_true, y_pred):           # y_trueは正解、y_predは予測（出力）\n",
        "  threshold = K.cast(0.0, y_pred.dtype)              # -1か1かを分ける閾値を作成\n",
        "  y_pred = K.cast(y_pred >= threshold, y_pred.dtype) # 閾値未満で0、以上で1に変換\n",
        "  # 2倍して-1.0することで、0／1を-1.0／1.0にスケール変換して正解率を計算\n",
        "  return K.mean(K.equal(y_true, y_pred * 2 - 1.0), axis=-1)"
      ],
      "execution_count": 0,
      "outputs": []
    },
    {
      "cell_type": "markdown",
      "metadata": {
        "id": "AiuBRdfareeA",
        "colab_type": "text"
      },
      "source": [
        "## ■（1）Sequentialクラスのコンストラクター利用［tf.keras - Sequential API］"
      ]
    },
    {
      "cell_type": "markdown",
      "metadata": {
        "id": "gIUy5Fck8UaM",
        "colab_type": "text"
      },
      "source": [
        "### リスト1-1　Sequentialクラスのコンストラクターを利用した書き方"
      ]
    },
    {
      "cell_type": "code",
      "metadata": {
        "id": "vu4KYYhCqwCM",
        "colab_type": "code",
        "colab": {}
      },
      "source": [
        "model = tf.keras.models.Sequential([    # モデルの生成\n",
        "\n",
        "  # 隠れ層：1つ目のレイヤー\n",
        "  layers.Dense(                 # 全結合層\n",
        "      input_shape=(INPUT_FEATURES,),       # 入力の形状（＝入力層）\n",
        "      name='layer1',                       # 表示用に名前付け\n",
        "      kernel_initializer='random_uniform', # 重さの初期化（一様分布のランダム値）\n",
        "      bias_initializer='zeros',            # バイアスの初期化（0）\n",
        "      units=LAYER1_NEURONS,                # ユニットの数      \n",
        "      activation='tanh'),                  # 活性化関数\n",
        "\n",
        "  # 隠れ層：2つ目のレイヤー\n",
        "  layers.Dense(                 # 全結合層\n",
        "      name='layer2',                       # 表示用に名前付け\n",
        "      kernel_initializer='random_uniform', # 重さの初期化\n",
        "      bias_initializer='zeros',            # バイアスの初期化\n",
        "      units=LAYER2_NEURONS,                # ユニットの数\n",
        "      activation='tanh'),                  # 活性化関数\n",
        "\n",
        "  # 出力層\n",
        "  layers.Dense(                 # 全結合層\n",
        "      name='layer_out',                    # 表示用に名前付け\n",
        "      kernel_initializer='random_uniform', # 重さの初期化\n",
        "      bias_initializer='zeros',            # バイアスの初期化\n",
        "      units=OUTPUT_RESULTS,                # ユニットの数\n",
        "      activation='tanh'),                  # 活性化関数\n",
        "\n",
        "], name='sequential_constructor'           # モデルにも名前付け\n",
        ")\n",
        "\n",
        "# 以上でモデル設計は完了\n",
        "model.summary()                         # モデルの内容を出力"
      ],
      "execution_count": 0,
      "outputs": []
    },
    {
      "cell_type": "markdown",
      "metadata": {
        "id": "Mgb1lix1MKuH",
        "colab_type": "text"
      },
      "source": [
        "### リスト1-2　モデル構成図を表示するコード"
      ]
    },
    {
      "cell_type": "code",
      "metadata": {
        "id": "ZAe2bE4jLD1R",
        "colab_type": "code",
        "colab": {}
      },
      "source": [
        "tf.keras.utils.plot_model(model, show_shapes=True, show_layer_names=True, to_file='model.png')\n",
        "from IPython.display import Image\n",
        "Image(retina=False, filename='model.png')"
      ],
      "execution_count": 0,
      "outputs": []
    },
    {
      "cell_type": "markdown",
      "metadata": {
        "id": "0vEZEkj7Mv4W",
        "colab_type": "text"
      },
      "source": [
        "### ●重み／バイアスの初期化指定【応用】"
      ]
    },
    {
      "cell_type": "markdown",
      "metadata": {
        "id": "d60n1mj3Pwj7",
        "colab_type": "text"
      },
      "source": [
        "### リスト1-3　重み／バイアスを初期化するための独自イニシャライザー"
      ]
    },
    {
      "cell_type": "code",
      "metadata": {
        "id": "SnwcjMqiM1ny",
        "colab_type": "code",
        "colab": {}
      },
      "source": [
        "random_init = tf.keras.initializers.RandomUniform(\n",
        "    minval=-1.0, maxval=1.0) # 下限と上限を指定した一様分布でランダム値"
      ],
      "execution_count": 0,
      "outputs": []
    },
    {
      "cell_type": "markdown",
      "metadata": {
        "id": "_CIMUuMtQdqj",
        "colab_type": "text"
      },
      "source": [
        "### ●学習と推論： 書き方入門（初中級者向け）で共通"
      ]
    },
    {
      "cell_type": "markdown",
      "metadata": {
        "id": "ofCov2fKRVh7",
        "colab_type": "text"
      },
      "source": [
        "リスト1-4　学習方法を設定、学習、推論（予測）するコード（共通）"
      ]
    },
    {
      "cell_type": "code",
      "metadata": {
        "id": "_DKTr9pscl1y",
        "colab_type": "code",
        "colab": {}
      },
      "source": [
        "# 学習方法を設定し、学習し、推論（予測）する\n",
        "model.compile(tf.keras.optimizers.SGD(lr=0.03), 'mean_squared_error', [tanh_accuracy])\n",
        "model.fit(X_train, y_train, validation_data=(X_valid, y_valid), batch_size=15, epochs=100, verbose=1)\n",
        "model.predict([[0.1,-0.2]])"
      ],
      "execution_count": 0,
      "outputs": []
    },
    {
      "cell_type": "markdown",
      "metadata": {
        "id": "KpLef31zT99O",
        "colab_type": "text"
      },
      "source": [
        "モデルの書き方だけでなく、学習に関するコードも、下記のように2種類ある。\n",
        "\n",
        "- **初中級者向けの書き方：** リスト1-4のように`compile()`＆`fit()`メソッドを呼び出す、簡単で手軽な書き方\n",
        "- **エキスパート向けの書き方：** 次回説明するが、`tf.GradientTape`クラス（自動微分の記録機能）を使った柔軟で拡張性の高い書き方（PyTorchの書き方に近い）"
      ]
    },
    {
      "cell_type": "markdown",
      "metadata": {
        "id": "mlfUU17pU0Dg",
        "colab_type": "text"
      },
      "source": [
        "### ●作成済みモデルのリセット"
      ]
    },
    {
      "cell_type": "markdown",
      "metadata": {
        "id": "wplbU3-eVYxF",
        "colab_type": "text"
      },
      "source": [
        "### リスト1-5　次に進む前にモデルをリセットするコード"
      ]
    },
    {
      "cell_type": "code",
      "metadata": {
        "id": "KMvG2oRsvHDJ",
        "colab_type": "code",
        "colab": {}
      },
      "source": [
        "tf.keras.backend.clear_session() # 計算グラフを破棄する\n",
        "del model                        # 変数を削除する"
      ],
      "execution_count": 0,
      "outputs": []
    },
    {
      "cell_type": "markdown",
      "metadata": {
        "id": "tpyomA8ErqNa",
        "colab_type": "text"
      },
      "source": [
        "## ■（2）Sequentialオブジェクトのaddメソッドで追加［tf.keras - Sequential API］"
      ]
    },
    {
      "cell_type": "markdown",
      "metadata": {
        "id": "G7sNPO8hV7zV",
        "colab_type": "text"
      },
      "source": [
        "### リスト2-1　Sequentialオブジェクトのaddメソッドを利用した書き方"
      ]
    },
    {
      "cell_type": "code",
      "metadata": {
        "id": "9ExiZydu2WFM",
        "colab_type": "code",
        "colab": {}
      },
      "source": [
        "model = tf.keras.models.Sequential(  # モデルの生成\n",
        "    name='sequential_add_method'     # モデルにも名前付け\n",
        ")\n",
        "\n",
        "# 隠れ層：1つ目のレイヤー\n",
        "model.add(layers.Dense(        # 全結合層\n",
        "    input_shape=(INPUT_FEATURES,),   # 入力の形状（＝入力層）\n",
        "    name='layer1',                   # 表示用に名前付け\n",
        "    units=LAYER1_NEURONS,            # ユニットの数\n",
        "    activation='tanh'))              # 活性化関数\n",
        "\n",
        "# 隠れ層：2つ目のレイヤー\n",
        "model.add(layers.Dense(        # 全結合層\n",
        "    name='layer2',                   # 表示用に名前付け\n",
        "    units=LAYER2_NEURONS,            # ユニットの数\n",
        "    activation='tanh'))              # 活性化関数\n",
        "\n",
        "# 出力層\n",
        "model.add(layers.Dense(        # 全結合層\n",
        "    name='layer_out',                # 表示用に名前付け\n",
        "    units=OUTPUT_RESULTS,            # ユニットの数\n",
        "    activation='tanh'))              # 活性化関数\n",
        "\n",
        "# 以上でモデル設計は完了\n",
        "model.summary()                      # モデルの内容を出力"
      ],
      "execution_count": 0,
      "outputs": []
    },
    {
      "cell_type": "code",
      "metadata": {
        "id": "Udfm1JImWAvO",
        "colab_type": "code",
        "colab": {}
      },
      "source": [
        "# モデルの構成図を表示\n",
        "tf.keras.utils.plot_model(model, show_shapes=True, show_layer_names=True, to_file='model.png')\n",
        "from IPython.display import Image\n",
        "Image(retina=False, filename='model.png')"
      ],
      "execution_count": 0,
      "outputs": []
    },
    {
      "cell_type": "code",
      "metadata": {
        "id": "R7_1K9L1caSG",
        "colab_type": "code",
        "colab": {}
      },
      "source": [
        "# 学習方法を設定し、学習し、推論（予測）する\n",
        "model.compile(tf.keras.optimizers.SGD(lr=0.03), 'mean_squared_error', [tanh_accuracy])\n",
        "model.fit(X_train, y_train, validation_data=(X_valid, y_valid), batch_size=15, epochs=100, verbose=1)\n",
        "model.predict([[0.1,-0.2]])"
      ],
      "execution_count": 0,
      "outputs": []
    },
    {
      "cell_type": "code",
      "metadata": {
        "id": "Ou0328ZYcM0d",
        "colab_type": "code",
        "colab": {}
      },
      "source": [
        "# 次に進む前にモデルをリセット\n",
        "tf.keras.backend.clear_session() # グラフを破棄する\n",
        "del model                        # 変数を削除する"
      ],
      "execution_count": 0,
      "outputs": []
    },
    {
      "cell_type": "markdown",
      "metadata": {
        "id": "HQad_ZlBtP0O",
        "colab_type": "text"
      },
      "source": [
        "## ■（3）Modelクラスのコンストラクター利用［tf-keras - Functional API］"
      ]
    },
    {
      "cell_type": "markdown",
      "metadata": {
        "id": "1q_Wo_kpapPY",
        "colab_type": "text"
      },
      "source": [
        "### リスト3-1　Modelクラスのコンストラクターを利用した書き方"
      ]
    },
    {
      "cell_type": "code",
      "metadata": {
        "id": "1yHaU8-q2TQp",
        "colab_type": "code",
        "colab": {}
      },
      "source": [
        "# ### 活性化を変数（ハイパーパラメーター）として定義 ###\n",
        "# 変数（モデル定義時に必要となる数値）\n",
        "activation1 = layers.Activation('tanh' # 活性化関数（隠れ層用）： tanh関数（変更可能）\n",
        "    , name='activation1'               # 活性化関数にも名前付け\n",
        "    )\n",
        "activation2 = layers.Activation('tanh' # 活性化関数（隠れ層用）： tanh関数（変更可能）\n",
        "    , name='activation2'               # 活性化関数にも名前付け\n",
        "    )\n",
        "acti_out = layers.Activation('tanh'    # 活性化関数（出力層用）： tanh関数（固定）\n",
        "    , name='acti_out'                  # 活性化関数にも名前付け\n",
        "    )\n",
        "\n",
        "# ### レイヤーを定義 ###\n",
        "# input_shape引数の代わりに、Inputクラスを使うことも可能\n",
        "inputs = layers.Input(          # 入力層\n",
        "    name='layer_in',                 # 表示用に名前付け\n",
        "    shape=(INPUT_FEATURES,))         # 入力の形状\n",
        "\n",
        "# 隠れ層：1つ目のレイヤー\n",
        "layer1 = layers.Dense(          # 全結合層\n",
        "    #input_shape=(INPUT_FEATURES,),  # ※入力層は定義済みなので不要\n",
        "    name='layer1',                   # 表示用に名前付け\n",
        "    units=LAYER1_NEURONS)            # ユニットの数\n",
        "\n",
        "# 隠れ層：2つ目のレイヤー\n",
        "layer2 = layers.Dense(          # 全結合層\n",
        "    name='layer2',                   # 表示用に名前付け\n",
        "    units=LAYER2_NEURONS)            # ユニットの数\n",
        "\n",
        "# 出力層\n",
        "layer_out = layers.Dense(       # 全結合層\n",
        "    name='layer_out',                # 表示用に名前付け\n",
        "    units=OUTPUT_RESULTS)            # ユニットの数\n",
        "\n",
        "# ### フィードフォワードを定義 ###\n",
        "# 「出力＝活性化関数（第n層（入力））」の形式で記述\n",
        "x1 = activation1(layer1(inputs))     # 活性化関数は変数として定義\n",
        "x2 = activation2(layer2(x1))         # 同上\n",
        "outputs = acti_out(layer_out(x2))    # ※活性化関数は「tanh」固定\n",
        "\n",
        "# ### モデルの生成 ###\n",
        "model = tf.keras.Model(inputs=inputs, outputs=outputs\n",
        "    , name='model_constructor'       # モデルにも名前付け\n",
        ")\n",
        "\n",
        "# ### 以上でモデル設計は完了 ###\n",
        "model.summary()                      # モデルの内容を出力"
      ],
      "execution_count": 0,
      "outputs": []
    },
    {
      "cell_type": "code",
      "metadata": {
        "id": "I8urDYqda5Ov",
        "colab_type": "code",
        "colab": {}
      },
      "source": [
        "# モデルの構成図を表示\n",
        "tf.keras.utils.plot_model(model, show_shapes=True, show_layer_names=True, to_file='model.png')\n",
        "from IPython.display import Image\n",
        "Image(retina=False, filename='model.png')"
      ],
      "execution_count": 0,
      "outputs": []
    },
    {
      "cell_type": "code",
      "metadata": {
        "id": "TlySSL3AkNY3",
        "colab_type": "code",
        "colab": {}
      },
      "source": [
        "# 学習方法を設定し、学習し、推論（予測）する\n",
        "model.compile(tf.keras.optimizers.SGD(lr=0.03), 'mean_squared_error', [tanh_accuracy])\n",
        "model.fit(X_train, y_train, validation_data=(X_valid, y_valid), batch_size=15, epochs=100, verbose=1)\n",
        "model.predict([[0.1,-0.2]])"
      ],
      "execution_count": 0,
      "outputs": []
    },
    {
      "cell_type": "code",
      "metadata": {
        "id": "mzKfe4APisbj",
        "colab_type": "code",
        "colab": {}
      },
      "source": [
        "# 次に進む前にモデルをリセット\n",
        "tf.keras.backend.clear_session() # グラフを破棄する\n",
        "del model                        # 変数を削除する"
      ],
      "execution_count": 0,
      "outputs": []
    },
    {
      "cell_type": "markdown",
      "metadata": {
        "id": "aJSe9Kgh_vGt",
        "colab_type": "text"
      },
      "source": [
        "# (つづく)\n"
      ]
    }
  ]
}