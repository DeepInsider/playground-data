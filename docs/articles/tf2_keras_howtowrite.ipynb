{
  "nbformat": 4,
  "nbformat_minor": 0,
  "metadata": {
    "colab": {
      "name": "tf2-keras-howtowrite.ipynb",
      "provenance": [],
      "collapsed_sections": [],
      "toc_visible": true,
      "authorship_tag": "ABX9TyPI2SxT7iSs6OGs/jet2c3I",
      "include_colab_link": true
    },
    "kernelspec": {
      "name": "python3",
      "display_name": "Python 3"
    },
    "accelerator": "TPU"
  },
  "cells": [
    {
      "cell_type": "markdown",
      "metadata": {
        "id": "view-in-github",
        "colab_type": "text"
      },
      "source": [
        "<a href=\"https://colab.research.google.com/github/DeepInsider/playground-data/blob/master/docs/articles/tf2_keras_howtowrite.ipynb\" target=\"_parent\"><img src=\"https://colab.research.google.com/assets/colab-badge.svg\" alt=\"Open In Colab\"/></a>"
      ]
    },
    {
      "cell_type": "markdown",
      "metadata": {
        "id": "xrXUPcCWRzTL",
        "colab_type": "text"
      },
      "source": [
        "##### Copyright 2020 Digital Advantage - Deep Insider."
      ]
    },
    {
      "cell_type": "code",
      "metadata": {
        "id": "EXnYORgX8UHF",
        "colab_type": "code",
        "colab": {}
      },
      "source": [
        "#@title Licensed under the Apache License, Version 2.0 (the \"License\");\n",
        "# you may not use this file except in compliance with the License.\n",
        "# You may obtain a copy of the License at\n",
        "#\n",
        "# https://www.apache.org/licenses/LICENSE-2.0\n",
        "#\n",
        "# Unless required by applicable law or agreed to in writing, software\n",
        "# distributed under the License is distributed on an \"AS IS\" BASIS,\n",
        "# WITHOUT WARRANTIES OR CONDITIONS OF ANY KIND, either express or implied.\n",
        "# See the License for the specific language governing permissions and\n",
        "# limitations under the License."
      ],
      "execution_count": 0,
      "outputs": []
    },
    {
      "cell_type": "markdown",
      "metadata": {
        "id": "UpiqfKZH8kvb",
        "colab_type": "text"
      },
      "source": [
        "# 連載『TensorFlow 2.0＋Keras（ tf.keras）入門』のノートブック（2）"
      ]
    },
    {
      "cell_type": "markdown",
      "metadata": {
        "id": "eJQ94tq_8teO",
        "colab_type": "text"
      },
      "source": [
        "# <table valign=\"middle\">\n",
        "  <td>\n",
        "    <a target=\"_blank\" href=\"https://www.atmarkit.co.jp/ait/subtop/features/di/tf2keras_index.html\"> <img src=\"https://re.deepinsider.jp/img/ml-logo/manabu.svg\"/>Deep Insiderで記事を読む</a>\n",
        "  </td>\n",
        "  <td>\n",
        "    <a target=\"_blank\" href=\"https://colab.research.google.com/github/DeepInsider/playground-data/blob/master/docs/articles/tf2_keras_dnn.ipynb\"> <img src=\"https://re.deepinsider.jp/img/ml-logo/gcolab.svg\" />Google Colabで実行する</a>\n",
        "  </td>\n",
        "  <td>\n",
        "    <a target=\"_blank\" href=\"https://github.com/DeepInsider/playground-data/blob/master/docs/articles/tf2_keras_dnn.ipynb\"> <img src=\"https://re.deepinsider.jp/img/ml-logo/github.svg\" />GitHubでソースコードを見る</a>\n",
        "  </td>\n",
        "</table>"
      ]
    },
    {
      "cell_type": "markdown",
      "metadata": {
        "id": "cNvW2O8uR6xq",
        "colab_type": "text"
      },
      "source": [
        "※上から順に実行してください。上のコードで実行したものを再利用しているところがあるため、すべて実行しないとエラーになるコードがあります。  \n",
        "　すべてのコードを一括実行したい場合は、メニューバーから［ランタイム］－［すべてのセルを実行］をクリックしてください（※TensofFlowのバージョン2.xでない場合、エラーになります）。"
      ]
    },
    {
      "cell_type": "markdown",
      "metadata": {
        "id": "pN0BBckBSRKz",
        "colab_type": "text"
      },
      "source": [
        "※「Python 3」を利用してください。  \n",
        "　Python 3を利用するには、メニューバーから［ランタイム］－［ランタイムのタイプを変更］を選択すると表示される［ノートブックの設定］ダイアログの、［ランタイムのタイプ］欄で「Python 3」に選択し、その右下にある［保存］ボタンをクリックしてください。"
      ]
    },
    {
      "cell_type": "markdown",
      "metadata": {
        "id": "uoW15afO8xBX",
        "colab_type": "text"
      },
      "source": [
        "# 第4回　知ってる？！ TensorFlow 2.0最新の書き方入門（初中級者向け）"
      ]
    },
    {
      "cell_type": "markdown",
      "metadata": {
        "id": "jXt-tmpH9Lls",
        "colab_type": "text"
      },
      "source": [
        "## ■TensorFlowにおける、3種類／6通りのモデルの書き方"
      ]
    },
    {
      "cell_type": "markdown",
      "metadata": {
        "id": "PJksPiJx9Ng-",
        "colab_type": "text"
      },
      "source": [
        "TensorFlow 2.0のモデルの書き方には下記の6通りある。本稿ではこの書き方を説明する。\n",
        "\n",
        "**【Sequentialモデル】**（今回）\n",
        "- （1）`tf.keras.models.Sequential`クラスの**コンストラクター利用**： コンパクトで簡単な書き方。**ニューラルネットワークを学びたい初心者には最もお勧め**できる。例：[連載第2回](https://www.atmarkit.co.jp/ait/articles/1910/17/news026.html)\n",
        "- （2）`tf.keras.models.Sequential`オブジェクトの`add`**メソッドで追加**： シンプルだが、より柔軟性のある書き方。初心者向き。上記のコントラクターでは対応できない場合に使用\n",
        "\n",
        "**【Functional API】**（今回）\n",
        "- （3）`tf.keras.Model`クラスの**コンストラクター利用**： 柔軟に記述できるが、コード量は増える。次のサブクラス化の方がコードが見やすい。**初中級者向き。柔軟性を高めつつ、再利用性も確保したい時に使用\n",
        "\n",
        "**【Subclassingモデル】**（次回）\n",
        "- （4）`tf.keras.Model`クラスの**サブクラス化**： 数学ライブラリ「NumPy」を使って記述するような感覚で記述できる方法で、柔軟性や拡張性に優れる。ライブラリ「PyTorch」にかなり近い記述が可能なので、**両方のライブラリを使いこなした人や、TensorFlowを日常的に使いこなしたい初中級者以上には最もお勧め**できる。次回、重点的に解説する\n",
        "- （5）`TensorFlow低水準API`で**カスタム実装**： 上記のサブクラス化のレイヤーや活性化関数／損失関数／評価関数などを独自のコードで書く方法。**Kerasの基本機能だけでは足りない上級者向け**\n",
        "\n",
        "**【作成済みEstimators】**（次回）\n",
        "- （6）`tf.estimator.Estimator`が提供する**作成済みモデル**（**Pre-made Estimators**）の利用： 目的ごとに用意さｒた`DNNRegressor`（回帰）／`DNNClassifier`（分類）クラスなどを使ってモデルを定義できるが、融通が利かないのに、コードが長くなる場合がある。互換性のために残されている（＝将来的に廃止される可能性も高い）ので非推奨"
      ]
    },
    {
      "cell_type": "markdown",
      "metadata": {
        "id": "uVbuh4ZBybiC",
        "colab_type": "text"
      },
      "source": [
        "### ●今回と次回について\n"
      ]
    },
    {
      "cell_type": "markdown",
      "metadata": {
        "id": "OPflhIuPywds",
        "colab_type": "text"
      },
      "source": [
        "- 「第4回　知ってる？！ TensorFlow 2.0最新の書き方入門（初中級者向け）」（今回）\n",
        "- 「第5回　お勧めの、TensorFlow 2.0最新の書き方入門（エキスパート向け）」（次回）"
      ]
    },
    {
      "cell_type": "markdown",
      "metadata": {
        "id": "-8BZxKjqkxTD",
        "colab_type": "text"
      },
      "source": [
        "### ●TensorFlowのエコシステム／機能構成図\n"
      ]
    },
    {
      "cell_type": "markdown",
      "metadata": {
        "id": "9MFgq_gh0jNx",
        "colab_type": "text"
      },
      "source": [
        "![TensorFlow全体の機能構成図](https://github.com/DeepInsider/playground-data/raw/master/docs/articles/tensorflow-ecosystem-2.0.png)"
      ]
    },
    {
      "cell_type": "markdown",
      "metadata": {
        "id": "vT2IIbxs1mPe",
        "colab_type": "text"
      },
      "source": [
        "## ■コードの書き方を実行するための準備"
      ]
    },
    {
      "cell_type": "markdown",
      "metadata": {
        "id": "o_0iqMHC4E2o",
        "colab_type": "text"
      },
      "source": [
        "### ●前提条件"
      ]
    },
    {
      "cell_type": "markdown",
      "metadata": {
        "id": "0vo7QQTfqHG9",
        "colab_type": "text"
      },
      "source": [
        "### 【チェック】Pythonバージョン（※3系を使うこと）\n",
        "Colabにインストール済みのものを使う。もし2系になっている場合は、メニューバーの［ランタイム］－［ランタイムのタイプを変更］をクリックして切り替えてほしい。"
      ]
    },
    {
      "cell_type": "code",
      "metadata": {
        "id": "f4PO0HWIqMQI",
        "colab_type": "code",
        "outputId": "27209321-30c5-4559-903c-3058c84e7421",
        "colab": {
          "base_uri": "https://localhost:8080/",
          "height": 51
        }
      },
      "source": [
        "import sys\n",
        "print('Python', sys.version)\n",
        "# Python 3.6.9 (default, Nov  7 2019, 10:44:02)  …… などと表示される"
      ],
      "execution_count": 0,
      "outputs": [
        {
          "output_type": "stream",
          "text": [
            "Python 3.6.9 (default, Nov  7 2019, 10:44:02) \n",
            "[GCC 8.3.0]\n"
          ],
          "name": "stdout"
        }
      ]
    },
    {
      "cell_type": "markdown",
      "metadata": {
        "id": "HzRCOJw6AOop",
        "colab_type": "text"
      },
      "source": [
        "### 【チェック】TensorFlowバージョン（※2系を使うこと）\n",
        "基本的にはColabにインストール済みのものを使う。もし2系になっている場合は、リスト4-0を実行してバージョン2.0を使う。"
      ]
    },
    {
      "cell_type": "code",
      "metadata": {
        "id": "kYqIF_SCAQeH",
        "colab_type": "code",
        "outputId": "18924b05-0082-41ae-c868-8794c6c5745b",
        "colab": {
          "base_uri": "https://localhost:8080/",
          "height": 34
        }
      },
      "source": [
        "import tensorflow as tf\n",
        "print('TensorFlow', tf.__version__)\n",
        "# TensorFlow 1.15.0 ……などと表示される"
      ],
      "execution_count": 0,
      "outputs": [
        {
          "output_type": "stream",
          "text": [
            "TensorFlow 2.1.0\n"
          ],
          "name": "stdout"
        }
      ]
    },
    {
      "cell_type": "markdown",
      "metadata": {
        "id": "_sg36M_-ATxR",
        "colab_type": "text"
      },
      "source": [
        "### リスト0-1　［オプション］ライブラリ「TensorFlow」最新バージョンのインストール"
      ]
    },
    {
      "cell_type": "markdown",
      "metadata": {
        "id": "Ak9jig-eEWg4",
        "colab_type": "text"
      },
      "source": [
        "※Google Colabでを使う場合は、「%tensorflow_version 2.x」というマジックコマンドを使用してください。  \n",
        "　「TensorFlow 2.x selected.」と表示されればOKです。\n",
        "　「TensorFlow is already loaded. Please restart the runtime to change versions.」と表示される場合は、メニューバーから［ランタイム］－［ランタイムを再起動］を実行した上で、再度マジックコマンドの実行結果を確かめてください。"
      ]
    },
    {
      "cell_type": "code",
      "metadata": {
        "id": "qJgCZ6-KAYtw",
        "colab_type": "code",
        "outputId": "7b030711-b9eb-4767-a633-e2b92d802654",
        "colab": {
          "base_uri": "https://localhost:8080/",
          "height": 612
        }
      },
      "source": [
        "# Google Colabで最新の2.xを使う場合（Colab専用）\n",
        "%tensorflow_version 2.x\n",
        "\n",
        "# 最新バージョンにアップグレードする場合\n",
        "!pip install --upgrade tensorflow\n",
        "\n",
        "# バージョンを明示してアップグレードする場合\n",
        "#!pip install --upgrade tensorflow===2.1.0\n",
        "\n",
        "# 最新バージョンをインストールする場合\n",
        "#!pip install tensorflow\n",
        "\n",
        "# バージョンを明示してインストールする場合\n",
        "#!pip install tensorflow===2.1.0"
      ],
      "execution_count": 0,
      "outputs": [
        {
          "output_type": "stream",
          "text": [
            "Requirement already up-to-date: tensorflow in /tensorflow-2.1.0/python3.6 (2.1.0)\n",
            "Requirement already satisfied, skipping upgrade: google-pasta>=0.1.6 in /tensorflow-2.1.0/python3.6 (from tensorflow) (0.1.8)\n",
            "Requirement already satisfied, skipping upgrade: gast==0.2.2 in /tensorflow-2.1.0/python3.6 (from tensorflow) (0.2.2)\n",
            "Requirement already satisfied, skipping upgrade: absl-py>=0.7.0 in /tensorflow-2.1.0/python3.6 (from tensorflow) (0.9.0)\n",
            "Requirement already satisfied, skipping upgrade: wrapt>=1.11.1 in /tensorflow-2.1.0/python3.6 (from tensorflow) (1.12.0)\n",
            "Requirement already satisfied, skipping upgrade: tensorflow-estimator<2.2.0,>=2.1.0rc0 in /tensorflow-2.1.0/python3.6 (from tensorflow) (2.1.0)\n",
            "Requirement already satisfied, skipping upgrade: protobuf>=3.8.0 in /tensorflow-2.1.0/python3.6 (from tensorflow) (3.11.3)\n",
            "Requirement already satisfied, skipping upgrade: numpy<2.0,>=1.16.0 in /tensorflow-2.1.0/python3.6 (from tensorflow) (1.18.1)\n",
            "Requirement already satisfied, skipping upgrade: astor>=0.6.0 in /tensorflow-2.1.0/python3.6 (from tensorflow) (0.8.1)\n",
            "Requirement already satisfied, skipping upgrade: grpcio>=1.8.6 in /tensorflow-2.1.0/python3.6 (from tensorflow) (1.27.2)\n",
            "Requirement already satisfied, skipping upgrade: termcolor>=1.1.0 in /tensorflow-2.1.0/python3.6 (from tensorflow) (1.1.0)\n",
            "Requirement already satisfied, skipping upgrade: tensorboard<2.2.0,>=2.1.0 in /tensorflow-2.1.0/python3.6 (from tensorflow) (2.1.0)\n",
            "Requirement already satisfied, skipping upgrade: scipy==1.4.1; python_version >= \"3\" in /tensorflow-2.1.0/python3.6 (from tensorflow) (1.4.1)\n",
            "Requirement already satisfied, skipping upgrade: keras-preprocessing>=1.1.0 in /tensorflow-2.1.0/python3.6 (from tensorflow) (1.1.0)\n",
            "Requirement already satisfied, skipping upgrade: opt-einsum>=2.3.2 in /tensorflow-2.1.0/python3.6 (from tensorflow) (3.1.0)\n",
            "Requirement already satisfied, skipping upgrade: wheel>=0.26; python_version >= \"3\" in /tensorflow-2.1.0/python3.6 (from tensorflow) (0.34.2)\n",
            "Requirement already satisfied, skipping upgrade: six>=1.12.0 in /tensorflow-2.1.0/python3.6 (from tensorflow) (1.14.0)\n",
            "Requirement already satisfied, skipping upgrade: keras-applications>=1.0.8 in /tensorflow-2.1.0/python3.6 (from tensorflow) (1.0.8)\n",
            "Requirement already satisfied, skipping upgrade: setuptools in /tensorflow-2.1.0/python3.6 (from protobuf>=3.8.0->tensorflow) (45.2.0)\n",
            "Requirement already satisfied, skipping upgrade: werkzeug>=0.11.15 in /tensorflow-2.1.0/python3.6 (from tensorboard<2.2.0,>=2.1.0->tensorflow) (1.0.0)\n",
            "Requirement already satisfied, skipping upgrade: google-auth<2,>=1.6.3 in /tensorflow-2.1.0/python3.6 (from tensorboard<2.2.0,>=2.1.0->tensorflow) (1.11.2)\n",
            "Requirement already satisfied, skipping upgrade: google-auth-oauthlib<0.5,>=0.4.1 in /tensorflow-2.1.0/python3.6 (from tensorboard<2.2.0,>=2.1.0->tensorflow) (0.4.1)\n",
            "Requirement already satisfied, skipping upgrade: markdown>=2.6.8 in /tensorflow-2.1.0/python3.6 (from tensorboard<2.2.0,>=2.1.0->tensorflow) (3.2.1)\n",
            "Requirement already satisfied, skipping upgrade: requests<3,>=2.21.0 in /tensorflow-2.1.0/python3.6 (from tensorboard<2.2.0,>=2.1.0->tensorflow) (2.22.0)\n",
            "Requirement already satisfied, skipping upgrade: h5py in /tensorflow-2.1.0/python3.6 (from keras-applications>=1.0.8->tensorflow) (2.10.0)\n",
            "Requirement already satisfied, skipping upgrade: cachetools<5.0,>=2.0.0 in /tensorflow-2.1.0/python3.6 (from google-auth<2,>=1.6.3->tensorboard<2.2.0,>=2.1.0->tensorflow) (4.0.0)\n",
            "Requirement already satisfied, skipping upgrade: pyasn1-modules>=0.2.1 in /tensorflow-2.1.0/python3.6 (from google-auth<2,>=1.6.3->tensorboard<2.2.0,>=2.1.0->tensorflow) (0.2.8)\n",
            "Requirement already satisfied, skipping upgrade: rsa<4.1,>=3.1.4 in /tensorflow-2.1.0/python3.6 (from google-auth<2,>=1.6.3->tensorboard<2.2.0,>=2.1.0->tensorflow) (4.0)\n",
            "Requirement already satisfied, skipping upgrade: requests-oauthlib>=0.7.0 in /tensorflow-2.1.0/python3.6 (from google-auth-oauthlib<0.5,>=0.4.1->tensorboard<2.2.0,>=2.1.0->tensorflow) (1.3.0)\n",
            "Requirement already satisfied, skipping upgrade: idna<2.9,>=2.5 in /tensorflow-2.1.0/python3.6 (from requests<3,>=2.21.0->tensorboard<2.2.0,>=2.1.0->tensorflow) (2.8)\n",
            "Requirement already satisfied, skipping upgrade: urllib3!=1.25.0,!=1.25.1,<1.26,>=1.21.1 in /tensorflow-2.1.0/python3.6 (from requests<3,>=2.21.0->tensorboard<2.2.0,>=2.1.0->tensorflow) (1.25.8)\n",
            "Requirement already satisfied, skipping upgrade: chardet<3.1.0,>=3.0.2 in /tensorflow-2.1.0/python3.6 (from requests<3,>=2.21.0->tensorboard<2.2.0,>=2.1.0->tensorflow) (3.0.4)\n",
            "Requirement already satisfied, skipping upgrade: certifi>=2017.4.17 in /tensorflow-2.1.0/python3.6 (from requests<3,>=2.21.0->tensorboard<2.2.0,>=2.1.0->tensorflow) (2019.11.28)\n",
            "Requirement already satisfied, skipping upgrade: pyasn1<0.5.0,>=0.4.6 in /tensorflow-2.1.0/python3.6 (from pyasn1-modules>=0.2.1->google-auth<2,>=1.6.3->tensorboard<2.2.0,>=2.1.0->tensorflow) (0.4.8)\n",
            "Requirement already satisfied, skipping upgrade: oauthlib>=3.0.0 in /tensorflow-2.1.0/python3.6 (from requests-oauthlib>=0.7.0->google-auth-oauthlib<0.5,>=0.4.1->tensorboard<2.2.0,>=2.1.0->tensorflow) (3.1.0)\n"
          ],
          "name": "stdout"
        }
      ]
    },
    {
      "cell_type": "markdown",
      "metadata": {
        "id": "KhO5Mj7YAeAG",
        "colab_type": "text"
      },
      "source": [
        "### ［オプション］【チェック】TensorFlowバージョン（※インストール後の確認）\n",
        "バージョン2.xになっているか再度チェックする。"
      ]
    },
    {
      "cell_type": "code",
      "metadata": {
        "id": "_6eq67BTAgM_",
        "colab_type": "code",
        "outputId": "50e407d0-f1af-4aae-c675-66ef76f1ae59",
        "colab": {
          "base_uri": "https://localhost:8080/",
          "height": 34
        }
      },
      "source": [
        "import tensorflow as tf\n",
        "print('TensorFlow', tf.__version__)\n",
        "# TensorFlow 2.1.0 ……などと表示される"
      ],
      "execution_count": 0,
      "outputs": [
        {
          "output_type": "stream",
          "text": [
            "TensorFlow 2.1.0\n"
          ],
          "name": "stdout"
        }
      ]
    },
    {
      "cell_type": "markdown",
      "metadata": {
        "id": "vkIfaer6-RFY",
        "colab_type": "text"
      },
      "source": [
        "### ●データについて"
      ]
    },
    {
      "cell_type": "markdown",
      "metadata": {
        "id": "3n6D3vKUpDJS",
        "colab_type": "text"
      },
      "source": [
        "「[第1回　初めてのニューラルネットワーク実装、まずは準備をしよう ― 仕組み理解×初実装（前編）：TensorFlow 2＋Keras（tf.keras）入門 - ＠IT](https://www.atmarkit.co.jp/ait/articles/1909/19/news026.html)」の記事と同じように、シンプルな座標点データを生成して使う。使い方は、前述の記事を参照してほしい。\n",
        "\n",
        "なお、座標点データは、「[ニューラルネットワーク Playground - Deep Insider](https://deepinsider.github.io/playground/)」（以下、Playground）と同じ生成仕様となっている。"
      ]
    },
    {
      "cell_type": "markdown",
      "metadata": {
        "id": "RfxpuUIw-bz1",
        "colab_type": "text"
      },
      "source": [
        "### リスト0-x　座標点データの生成"
      ]
    },
    {
      "cell_type": "code",
      "metadata": {
        "id": "ij95BzkypJZQ",
        "colab_type": "code",
        "outputId": "0c62bf0a-c994-4fb9-89b0-a8a337a2b52d",
        "colab": {
          "base_uri": "https://localhost:8080/",
          "height": 170
        }
      },
      "source": [
        "# 座標点データを生成するライブラリのインストール\n",
        "!pip install playground-data"
      ],
      "execution_count": 0,
      "outputs": [
        {
          "output_type": "stream",
          "text": [
            "Requirement already satisfied: playground-data in /usr/local/lib/python3.6/dist-packages (1.1.0)\n",
            "Requirement already satisfied: numpy in /tensorflow-2.1.0/python3.6 (from playground-data) (1.18.1)\n",
            "Requirement already satisfied: matplotlib in /usr/local/lib/python3.6/dist-packages (from playground-data) (3.1.3)\n",
            "Requirement already satisfied: pyparsing!=2.0.4,!=2.1.2,!=2.1.6,>=2.0.1 in /usr/local/lib/python3.6/dist-packages (from matplotlib->playground-data) (2.4.6)\n",
            "Requirement already satisfied: kiwisolver>=1.0.1 in /usr/local/lib/python3.6/dist-packages (from matplotlib->playground-data) (1.1.0)\n",
            "Requirement already satisfied: cycler>=0.10 in /usr/local/lib/python3.6/dist-packages (from matplotlib->playground-data) (0.10.0)\n",
            "Requirement already satisfied: python-dateutil>=2.1 in /usr/local/lib/python3.6/dist-packages (from matplotlib->playground-data) (2.6.1)\n",
            "Requirement already satisfied: setuptools in /tensorflow-2.1.0/python3.6 (from kiwisolver>=1.0.1->matplotlib->playground-data) (45.2.0)\n",
            "Requirement already satisfied: six in /tensorflow-2.1.0/python3.6 (from cycler>=0.10->matplotlib->playground-data) (1.14.0)\n"
          ],
          "name": "stdout"
        }
      ]
    },
    {
      "cell_type": "code",
      "metadata": {
        "id": "zH9qg4Qt-dER",
        "colab_type": "code",
        "outputId": "55a7f6cd-21a7-4051-ac72-8af03c33a252",
        "colab": {
          "base_uri": "https://localhost:8080/",
          "height": 425
        }
      },
      "source": [
        "# playground-dataライブラリのplygdataパッケージを「pg」という別名でインポート\n",
        "import plygdata as pg\n",
        "\n",
        "# 設定値を定数として定義\n",
        "PROBLEM_DATA_TYPE = pg.DatasetType.ClassifyCircleData # 問題種別：「分類（Classification）」、データ種別：「円（CircleData）」を選択\n",
        "TRAINING_DATA_RATIO = 0.5  # データの何％を訓練【Training】用に？ (残りは精度検証【Validation】用) ： 50％\n",
        "DATA_NOISE = 0.0           # ノイズ： 0％\n",
        "\n",
        "# 定義済みの定数を引数に指定して、データを生成する\n",
        "data_list = pg.generate_data(PROBLEM_DATA_TYPE, DATA_NOISE)\n",
        "\n",
        "# データを「訓練用」と「精度検証用」を指定の比率で分割し、さらにそれぞれを「データ（X）」と「教師ラベル（y）」に分ける\n",
        "X_train, y_train, X_valid, y_valid = pg.split_data(data_list, training_size=TRAINING_DATA_RATIO)\n",
        "\n",
        "# データ分割後の各変数の内容例として、それぞれ5件ずつ出力（※出力内容は実行ごとに異なる）\n",
        "print('X_train:'); print(X_train[:5]) # [[-0.07940614  1.15175421], ……]\n",
        "print('y_train:'); print(y_train[:5]) # [[ 1.], ……  [-1.]]\n",
        "print('X_valid:'); print(X_valid[:5]) # [[ 0.10066901  1.19950826], ……]\n",
        "print('y_valid:'); print(y_valid[:5]) # [[ 1.], ……  [-1.]]"
      ],
      "execution_count": 0,
      "outputs": [
        {
          "output_type": "stream",
          "text": [
            "X_train:\n",
            "[[ 4.44518246  1.496433  ]\n",
            " [-4.12770977 -2.28657882]\n",
            " [ 0.17226167 -0.13775929]\n",
            " [ 2.09356596 -3.48564878]\n",
            " [-3.06613233 -2.50005571]]\n",
            "y_train:\n",
            "[[-1.]\n",
            " [-1.]\n",
            " [ 1.]\n",
            " [-1.]\n",
            " [-1.]]\n",
            "X_valid:\n",
            "[[-0.92604211 -0.82810435]\n",
            " [ 0.36993929 -0.6415146 ]\n",
            " [ 1.05498629 -0.32952731]\n",
            " [ 1.46399102  4.104153  ]\n",
            " [-1.17816008 -4.02663891]]\n",
            "y_valid:\n",
            "[[ 1.]\n",
            " [ 1.]\n",
            " [ 1.]\n",
            " [-1.]\n",
            " [-1.]]\n"
          ],
          "name": "stdout"
        }
      ]
    },
    {
      "cell_type": "markdown",
      "metadata": {
        "id": "UtsZKVi0ujx5",
        "colab_type": "text"
      },
      "source": [
        "### ●ディープニューラルネットワークのモデル設計\n",
        "- 入力の数（`INPUT_FEATURES`）は、$X_1$と$X_2$で**2つ**\n",
        "- 隠れ層のレイヤー数は、**2つ**\n",
        "  - 隠れ層にある1つ目のニューロンの数（`LAYER1_NEURONS`）は、**3つ**\n",
        "  - 隠れ層にある2つ目のニューロンの数（`LAYER2_NEURONS`）は、**3つ**\n",
        "- 出力層にあるニューロンの数（`OUTPUT_RESULTS`）は、**1つ**"
      ]
    },
    {
      "cell_type": "markdown",
      "metadata": {
        "id": "mVEH9qMkCRjG",
        "colab_type": "text"
      },
      "source": [
        "### リスト0-2　インポートと変数の宣言（全ての書き方に共通）"
      ]
    },
    {
      "cell_type": "code",
      "metadata": {
        "id": "RRGiReEFrFHl",
        "colab_type": "code",
        "colab": {}
      },
      "source": [
        "# ライブラリ「TensorFlow」のtensorflowパッケージを「tf」という別名でインポート\n",
        "import tensorflow as tf\n",
        "from tensorflow.keras import layers       # 「レイヤーズ」モジュールのインポート\n",
        "\n",
        "# 定数（モデル定義時に必要となる数値）\n",
        "INPUT_FEATURES = 2  # 入力（特徴）の数： 2\n",
        "LAYER1_NEURONS = 3  # ニューロンの数： 3\n",
        "LAYER2_NEURONS = 3  # ニューロンの数： 3\n",
        "OUTPUT_RESULTS = 1  # 出力結果の数： 1"
      ],
      "execution_count": 0,
      "outputs": []
    },
    {
      "cell_type": "markdown",
      "metadata": {
        "id": "hDiENTZrTfZ8",
        "colab_type": "text"
      },
      "source": [
        "### リスト0-3　正解率（精度）のカスタム指標（全ての書き方に共通）"
      ]
    },
    {
      "cell_type": "code",
      "metadata": {
        "id": "MX6Y7A1DTdjh",
        "colab_type": "code",
        "colab": {}
      },
      "source": [
        "import tensorflow.keras.backend as K\n",
        "\n",
        "def tanh_accuracy(y_true, y_pred):           # y_trueは正解、y_predは予測（出力）\n",
        "  threshold = K.cast(0.0, y_pred.dtype)              # -1か1かを分ける閾値を作成\n",
        "  y_pred = K.cast(y_pred >= threshold, y_pred.dtype) # 閾値未満で0、以上で1に変換\n",
        "  # 2倍して-1.0することで、0／1を-1.0／1.0にスケール変換して正解率を計算\n",
        "  return K.mean(K.equal(y_true, y_pred * 2 - 1.0), axis=-1)"
      ],
      "execution_count": 0,
      "outputs": []
    },
    {
      "cell_type": "markdown",
      "metadata": {
        "id": "AiuBRdfareeA",
        "colab_type": "text"
      },
      "source": [
        "## ■（1）Sequentialクラスのコンストラクター利用［tf.keras - Sequential API］"
      ]
    },
    {
      "cell_type": "markdown",
      "metadata": {
        "id": "gIUy5Fck8UaM",
        "colab_type": "text"
      },
      "source": [
        "### リスト1-1　Sequentialクラスのコンストラクターを利用した書き方"
      ]
    },
    {
      "cell_type": "code",
      "metadata": {
        "id": "vu4KYYhCqwCM",
        "colab_type": "code",
        "outputId": "9873bab4-ecad-4530-bc7c-95e55d52f009",
        "colab": {
          "base_uri": "https://localhost:8080/",
          "height": 255
        }
      },
      "source": [
        "model = tf.keras.models.Sequential([    # モデルの生成\n",
        "\n",
        "  # 隠れ層：1つ目のレイヤー\n",
        "  layers.Dense(                 # 全結合層（線形変換）\n",
        "      input_shape=(INPUT_FEATURES,),       # 入力の形状（＝入力層）\n",
        "      name='layer1',                       # 表示用に名前付け\n",
        "      kernel_initializer='random_uniform', # 重さの初期化（一様分布のランダム値）\n",
        "      bias_initializer='zeros',            # バイアスの初期化（0）\n",
        "      units=LAYER1_NEURONS,                # ユニットの数      \n",
        "      activation='tanh'),                  # 活性化関数\n",
        "\n",
        "  # 隠れ層：2つ目のレイヤー\n",
        "  layers.Dense(                 # 全結合層（線形変換）\n",
        "      name='layer2',                       # 表示用に名前付け\n",
        "      kernel_initializer='random_uniform', # 重さの初期化\n",
        "      bias_initializer='zeros',            # バイアスの初期化\n",
        "      units=LAYER2_NEURONS,                # ユニットの数\n",
        "      activation='tanh'),                  # 活性化関数\n",
        "\n",
        "  # 出力層\n",
        "  layers.Dense(                 # 全結合層（線形変換）\n",
        "      name='layer_out',                    # 表示用に名前付け\n",
        "      kernel_initializer='random_uniform', # 重さの初期化\n",
        "      bias_initializer='zeros',            # バイアスの初期化\n",
        "      units=OUTPUT_RESULTS,                # ユニットの数\n",
        "      activation='tanh'),                  # 活性化関数\n",
        "\n",
        "], name='sequential_constructor'           # モデルにも名前付け\n",
        ")\n",
        "\n",
        "# 以上でモデル設計は完了\n",
        "model.summary()                         # モデルの内容を出力"
      ],
      "execution_count": 0,
      "outputs": [
        {
          "output_type": "stream",
          "text": [
            "Model: \"sequential_constructor\"\n",
            "_________________________________________________________________\n",
            "Layer (type)                 Output Shape              Param #   \n",
            "=================================================================\n",
            "layer1 (Dense)               (None, 3)                 9         \n",
            "_________________________________________________________________\n",
            "layer2 (Dense)               (None, 3)                 12        \n",
            "_________________________________________________________________\n",
            "layer_out (Dense)            (None, 1)                 4         \n",
            "=================================================================\n",
            "Total params: 25\n",
            "Trainable params: 25\n",
            "Non-trainable params: 0\n",
            "_________________________________________________________________\n"
          ],
          "name": "stdout"
        }
      ]
    },
    {
      "cell_type": "markdown",
      "metadata": {
        "id": "Mgb1lix1MKuH",
        "colab_type": "text"
      },
      "source": [
        "### リスト1-2　モデル構成図を表示するコード"
      ]
    },
    {
      "cell_type": "code",
      "metadata": {
        "id": "ZAe2bE4jLD1R",
        "colab_type": "code",
        "outputId": "d15e054e-9dd1-4fb0-d4ce-788cf1cd896c",
        "colab": {
          "base_uri": "https://localhost:8080/",
          "height": 422
        }
      },
      "source": [
        "tf.keras.utils.plot_model(model, show_shapes=True, show_layer_names=True, to_file='model.png')\n",
        "from IPython.display import Image\n",
        "Image(retina=False, filename='model.png')"
      ],
      "execution_count": 0,
      "outputs": [
        {
          "output_type": "execute_result",
          "data": {
            "image/png": "[encoded data removed]",
            "text/plain": [
              "<IPython.core.display.Image object>"
            ]
          },
          "metadata": {
            "tags": []
          },
          "execution_count": 31
        }
      ]
    },
    {
      "cell_type": "markdown",
      "metadata": {
        "id": "0vEZEkj7Mv4W",
        "colab_type": "text"
      },
      "source": [
        "### ●重み／バイアスの初期化指定【応用】"
      ]
    },
    {
      "cell_type": "markdown",
      "metadata": {
        "id": "d60n1mj3Pwj7",
        "colab_type": "text"
      },
      "source": [
        "### リスト1-3　重み／バイアスを初期化するための独自イニシャライザー"
      ]
    },
    {
      "cell_type": "code",
      "metadata": {
        "id": "SnwcjMqiM1ny",
        "colab_type": "code",
        "colab": {}
      },
      "source": [
        "random_init = tf.keras.initializers.RandomUniform(\n",
        "    minval=-1.0, maxval=1.0) # 下限と上限を指定した一様分布でランダム値"
      ],
      "execution_count": 0,
      "outputs": []
    },
    {
      "cell_type": "markdown",
      "metadata": {
        "id": "_CIMUuMtQdqj",
        "colab_type": "text"
      },
      "source": [
        "### ●学習と推論： 書き方入門（初中級者向け）で共通"
      ]
    },
    {
      "cell_type": "markdown",
      "metadata": {
        "id": "ofCov2fKRVh7",
        "colab_type": "text"
      },
      "source": [
        "リスト1-4　学習方法を設定、学習、推論（予測）するコード（共通）"
      ]
    },
    {
      "cell_type": "code",
      "metadata": {
        "id": "_DKTr9pscl1y",
        "colab_type": "code",
        "outputId": "3dd1693f-ca0e-4b2f-8969-32c50f971d16",
        "colab": {
          "base_uri": "https://localhost:8080/",
          "height": 1000
        }
      },
      "source": [
        "# 学習方法を設定し、学習し、推論（予測）する\n",
        "model.compile(tf.keras.optimizers.SGD(lr=0.03), 'mean_squared_error', [tanh_accuracy])\n",
        "model.fit(X_train, y_train, validation_data=(X_valid, y_valid), batch_size=15,epochs=100, verbose=1)\n",
        "model.predict([[0.1,-0.2]])"
      ],
      "execution_count": 0,
      "outputs": [
        {
          "output_type": "stream",
          "text": [
            "Train on 250 samples, validate on 250 samples\n",
            "Epoch 1/100\n",
            "250/250 [==============================] - 0s 1ms/sample - loss: 1.0005 - tanh_accuracy: 0.5120 - val_loss: 1.0028 - val_tanh_accuracy: 0.4800\n",
            "Epoch 2/100\n",
            "250/250 [==============================] - 0s 218us/sample - loss: 1.0001 - tanh_accuracy: 0.4960 - val_loss: 1.0078 - val_tanh_accuracy: 0.4800\n",
            "Epoch 3/100\n",
            "250/250 [==============================] - 0s 237us/sample - loss: 1.0014 - tanh_accuracy: 0.5200 - val_loss: 1.0043 - val_tanh_accuracy: 0.4800\n",
            "Epoch 4/100\n",
            "250/250 [==============================] - 0s 201us/sample - loss: 1.0007 - tanh_accuracy: 0.4840 - val_loss: 1.0098 - val_tanh_accuracy: 0.4800\n",
            "Epoch 5/100\n",
            "250/250 [==============================] - 0s 196us/sample - loss: 1.0007 - tanh_accuracy: 0.5200 - val_loss: 1.0068 - val_tanh_accuracy: 0.4800\n",
            "Epoch 6/100\n",
            "250/250 [==============================] - 0s 212us/sample - loss: 1.0029 - tanh_accuracy: 0.5080 - val_loss: 1.0076 - val_tanh_accuracy: 0.4800\n",
            "Epoch 7/100\n",
            "250/250 [==============================] - 0s 191us/sample - loss: 1.0002 - tanh_accuracy: 0.5200 - val_loss: 1.0101 - val_tanh_accuracy: 0.4800\n",
            "Epoch 8/100\n",
            "250/250 [==============================] - 0s 193us/sample - loss: 1.0011 - tanh_accuracy: 0.5200 - val_loss: 1.0067 - val_tanh_accuracy: 0.4800\n",
            "Epoch 9/100\n",
            "250/250 [==============================] - 0s 204us/sample - loss: 1.0035 - tanh_accuracy: 0.5200 - val_loss: 1.0061 - val_tanh_accuracy: 0.4800\n",
            "Epoch 10/100\n",
            "250/250 [==============================] - 0s 206us/sample - loss: 1.0007 - tanh_accuracy: 0.4880 - val_loss: 1.0111 - val_tanh_accuracy: 0.4800\n",
            "Epoch 11/100\n",
            "250/250 [==============================] - 0s 228us/sample - loss: 1.0020 - tanh_accuracy: 0.5200 - val_loss: 1.0075 - val_tanh_accuracy: 0.4800\n",
            "Epoch 12/100\n",
            "250/250 [==============================] - 0s 198us/sample - loss: 1.0006 - tanh_accuracy: 0.5200 - val_loss: 1.0083 - val_tanh_accuracy: 0.4800\n",
            "Epoch 13/100\n",
            "250/250 [==============================] - 0s 210us/sample - loss: 1.0017 - tanh_accuracy: 0.5200 - val_loss: 1.0049 - val_tanh_accuracy: 0.4800\n",
            "Epoch 14/100\n",
            "250/250 [==============================] - 0s 206us/sample - loss: 1.0037 - tanh_accuracy: 0.5200 - val_loss: 1.0032 - val_tanh_accuracy: 0.4800\n",
            "Epoch 15/100\n",
            "250/250 [==============================] - 0s 227us/sample - loss: 1.0000 - tanh_accuracy: 0.5200 - val_loss: 1.0027 - val_tanh_accuracy: 0.4800\n",
            "Epoch 16/100\n",
            "250/250 [==============================] - 0s 212us/sample - loss: 0.9993 - tanh_accuracy: 0.5200 - val_loss: 1.0037 - val_tanh_accuracy: 0.4800\n",
            "Epoch 17/100\n",
            "250/250 [==============================] - 0s 237us/sample - loss: 1.0005 - tanh_accuracy: 0.5200 - val_loss: 1.0007 - val_tanh_accuracy: 0.4800\n",
            "Epoch 18/100\n",
            "250/250 [==============================] - 0s 239us/sample - loss: 1.0012 - tanh_accuracy: 0.5000 - val_loss: 1.0054 - val_tanh_accuracy: 0.4800\n",
            "Epoch 19/100\n",
            "250/250 [==============================] - 0s 198us/sample - loss: 1.0021 - tanh_accuracy: 0.5200 - val_loss: 1.0014 - val_tanh_accuracy: 0.4800\n",
            "Epoch 20/100\n",
            "250/250 [==============================] - 0s 204us/sample - loss: 1.0052 - tanh_accuracy: 0.4720 - val_loss: 1.0036 - val_tanh_accuracy: 0.4800\n",
            "Epoch 21/100\n",
            "250/250 [==============================] - 0s 265us/sample - loss: 1.0014 - tanh_accuracy: 0.5200 - val_loss: 1.0056 - val_tanh_accuracy: 0.4800\n",
            "Epoch 22/100\n",
            "250/250 [==============================] - 0s 206us/sample - loss: 1.0015 - tanh_accuracy: 0.5200 - val_loss: 1.0033 - val_tanh_accuracy: 0.4800\n",
            "Epoch 23/100\n",
            "250/250 [==============================] - 0s 243us/sample - loss: 1.0040 - tanh_accuracy: 0.5200 - val_loss: 1.0031 - val_tanh_accuracy: 0.4800\n",
            "Epoch 24/100\n",
            "250/250 [==============================] - 0s 232us/sample - loss: 0.9997 - tanh_accuracy: 0.5200 - val_loss: 1.0054 - val_tanh_accuracy: 0.4800\n",
            "Epoch 25/100\n",
            "250/250 [==============================] - 0s 200us/sample - loss: 1.0013 - tanh_accuracy: 0.5200 - val_loss: 1.0006 - val_tanh_accuracy: 0.4800\n",
            "Epoch 26/100\n",
            "250/250 [==============================] - 0s 208us/sample - loss: 1.0024 - tanh_accuracy: 0.5200 - val_loss: 0.9997 - val_tanh_accuracy: 0.5200\n",
            "Epoch 27/100\n",
            "250/250 [==============================] - 0s 202us/sample - loss: 1.0038 - tanh_accuracy: 0.4920 - val_loss: 0.9994 - val_tanh_accuracy: 0.5200\n",
            "Epoch 28/100\n",
            "250/250 [==============================] - 0s 204us/sample - loss: 1.0049 - tanh_accuracy: 0.4560 - val_loss: 1.0026 - val_tanh_accuracy: 0.4800\n",
            "Epoch 29/100\n",
            "250/250 [==============================] - 0s 197us/sample - loss: 1.0003 - tanh_accuracy: 0.5200 - val_loss: 1.0028 - val_tanh_accuracy: 0.4800\n",
            "Epoch 30/100\n",
            "250/250 [==============================] - 0s 214us/sample - loss: 1.0032 - tanh_accuracy: 0.5200 - val_loss: 1.0017 - val_tanh_accuracy: 0.4800\n",
            "Epoch 31/100\n",
            "250/250 [==============================] - 0s 205us/sample - loss: 1.0011 - tanh_accuracy: 0.5200 - val_loss: 0.9997 - val_tanh_accuracy: 0.5200\n",
            "Epoch 32/100\n",
            "250/250 [==============================] - 0s 207us/sample - loss: 1.0038 - tanh_accuracy: 0.4840 - val_loss: 1.0001 - val_tanh_accuracy: 0.4800\n",
            "Epoch 33/100\n",
            "250/250 [==============================] - 0s 210us/sample - loss: 1.0036 - tanh_accuracy: 0.5160 - val_loss: 1.0033 - val_tanh_accuracy: 0.4800\n",
            "Epoch 34/100\n",
            "250/250 [==============================] - 0s 203us/sample - loss: 0.9993 - tanh_accuracy: 0.5080 - val_loss: 1.0081 - val_tanh_accuracy: 0.4800\n",
            "Epoch 35/100\n",
            "250/250 [==============================] - 0s 214us/sample - loss: 1.0008 - tanh_accuracy: 0.5200 - val_loss: 1.0037 - val_tanh_accuracy: 0.4800\n",
            "Epoch 36/100\n",
            "250/250 [==============================] - 0s 214us/sample - loss: 1.0017 - tanh_accuracy: 0.5200 - val_loss: 1.0016 - val_tanh_accuracy: 0.4800\n",
            "Epoch 37/100\n",
            "250/250 [==============================] - 0s 220us/sample - loss: 1.0048 - tanh_accuracy: 0.5200 - val_loss: 1.0000 - val_tanh_accuracy: 0.5200\n",
            "Epoch 38/100\n",
            "250/250 [==============================] - 0s 251us/sample - loss: 1.0025 - tanh_accuracy: 0.4840 - val_loss: 1.0043 - val_tanh_accuracy: 0.4800\n",
            "Epoch 39/100\n",
            "250/250 [==============================] - 0s 223us/sample - loss: 1.0009 - tanh_accuracy: 0.5200 - val_loss: 1.0048 - val_tanh_accuracy: 0.4800\n",
            "Epoch 40/100\n",
            "250/250 [==============================] - 0s 211us/sample - loss: 1.0019 - tanh_accuracy: 0.5000 - val_loss: 1.0065 - val_tanh_accuracy: 0.4800\n",
            "Epoch 41/100\n",
            "250/250 [==============================] - 0s 209us/sample - loss: 1.0029 - tanh_accuracy: 0.5200 - val_loss: 1.0103 - val_tanh_accuracy: 0.4800\n",
            "Epoch 42/100\n",
            "250/250 [==============================] - 0s 228us/sample - loss: 0.9997 - tanh_accuracy: 0.5200 - val_loss: 1.0018 - val_tanh_accuracy: 0.4800\n",
            "Epoch 43/100\n",
            "250/250 [==============================] - 0s 207us/sample - loss: 1.0042 - tanh_accuracy: 0.5200 - val_loss: 1.0009 - val_tanh_accuracy: 0.4800\n",
            "Epoch 44/100\n",
            "250/250 [==============================] - 0s 231us/sample - loss: 1.0016 - tanh_accuracy: 0.5080 - val_loss: 1.0037 - val_tanh_accuracy: 0.4800\n",
            "Epoch 45/100\n",
            "250/250 [==============================] - 0s 227us/sample - loss: 1.0013 - tanh_accuracy: 0.4800 - val_loss: 1.0045 - val_tanh_accuracy: 0.4800\n",
            "Epoch 46/100\n",
            "250/250 [==============================] - 0s 221us/sample - loss: 1.0012 - tanh_accuracy: 0.5200 - val_loss: 1.0039 - val_tanh_accuracy: 0.4800\n",
            "Epoch 47/100\n",
            "250/250 [==============================] - 0s 249us/sample - loss: 1.0024 - tanh_accuracy: 0.5200 - val_loss: 1.0037 - val_tanh_accuracy: 0.4800\n",
            "Epoch 48/100\n",
            "250/250 [==============================] - 0s 230us/sample - loss: 1.0017 - tanh_accuracy: 0.5200 - val_loss: 1.0033 - val_tanh_accuracy: 0.4800\n",
            "Epoch 49/100\n",
            "250/250 [==============================] - 0s 244us/sample - loss: 1.0021 - tanh_accuracy: 0.4880 - val_loss: 1.0057 - val_tanh_accuracy: 0.4800\n",
            "Epoch 50/100\n",
            "250/250 [==============================] - 0s 226us/sample - loss: 1.0021 - tanh_accuracy: 0.5200 - val_loss: 1.0086 - val_tanh_accuracy: 0.4800\n",
            "Epoch 51/100\n",
            "250/250 [==============================] - 0s 235us/sample - loss: 1.0033 - tanh_accuracy: 0.5200 - val_loss: 1.0048 - val_tanh_accuracy: 0.4800\n",
            "Epoch 52/100\n",
            "250/250 [==============================] - 0s 263us/sample - loss: 1.0000 - tanh_accuracy: 0.4960 - val_loss: 1.0087 - val_tanh_accuracy: 0.4800\n",
            "Epoch 53/100\n",
            "250/250 [==============================] - 0s 236us/sample - loss: 1.0003 - tanh_accuracy: 0.5200 - val_loss: 1.0028 - val_tanh_accuracy: 0.4800\n",
            "Epoch 54/100\n",
            "250/250 [==============================] - 0s 240us/sample - loss: 1.0011 - tanh_accuracy: 0.4680 - val_loss: 1.0066 - val_tanh_accuracy: 0.4800\n",
            "Epoch 55/100\n",
            "250/250 [==============================] - 0s 233us/sample - loss: 1.0023 - tanh_accuracy: 0.5280 - val_loss: 1.0047 - val_tanh_accuracy: 0.4800\n",
            "Epoch 56/100\n",
            "250/250 [==============================] - 0s 231us/sample - loss: 0.9992 - tanh_accuracy: 0.5200 - val_loss: 1.0008 - val_tanh_accuracy: 0.4800\n",
            "Epoch 57/100\n",
            "250/250 [==============================] - 0s 220us/sample - loss: 1.0014 - tanh_accuracy: 0.5240 - val_loss: 1.0017 - val_tanh_accuracy: 0.4800\n",
            "Epoch 58/100\n",
            "250/250 [==============================] - 0s 230us/sample - loss: 1.0022 - tanh_accuracy: 0.5200 - val_loss: 1.0014 - val_tanh_accuracy: 0.4800\n",
            "Epoch 59/100\n",
            "250/250 [==============================] - 0s 218us/sample - loss: 1.0018 - tanh_accuracy: 0.5280 - val_loss: 1.0031 - val_tanh_accuracy: 0.4800\n",
            "Epoch 60/100\n",
            "250/250 [==============================] - 0s 238us/sample - loss: 1.0018 - tanh_accuracy: 0.5200 - val_loss: 1.0042 - val_tanh_accuracy: 0.4800\n",
            "Epoch 61/100\n",
            "250/250 [==============================] - 0s 272us/sample - loss: 1.0018 - tanh_accuracy: 0.5200 - val_loss: 1.0050 - val_tanh_accuracy: 0.4800\n",
            "Epoch 62/100\n",
            "250/250 [==============================] - 0s 246us/sample - loss: 1.0011 - tanh_accuracy: 0.5200 - val_loss: 1.0050 - val_tanh_accuracy: 0.4800\n",
            "Epoch 63/100\n",
            "250/250 [==============================] - 0s 246us/sample - loss: 1.0023 - tanh_accuracy: 0.5200 - val_loss: 1.0017 - val_tanh_accuracy: 0.4800\n",
            "Epoch 64/100\n",
            "250/250 [==============================] - 0s 241us/sample - loss: 1.0013 - tanh_accuracy: 0.5200 - val_loss: 1.0009 - val_tanh_accuracy: 0.4800\n",
            "Epoch 65/100\n",
            "250/250 [==============================] - 0s 243us/sample - loss: 1.0023 - tanh_accuracy: 0.5200 - val_loss: 1.0019 - val_tanh_accuracy: 0.4800\n",
            "Epoch 66/100\n",
            "250/250 [==============================] - 0s 287us/sample - loss: 1.0021 - tanh_accuracy: 0.4560 - val_loss: 1.0110 - val_tanh_accuracy: 0.4800\n",
            "Epoch 67/100\n",
            "250/250 [==============================] - 0s 304us/sample - loss: 1.0010 - tanh_accuracy: 0.5200 - val_loss: 1.0150 - val_tanh_accuracy: 0.4800\n",
            "Epoch 68/100\n",
            "250/250 [==============================] - 0s 236us/sample - loss: 1.0020 - tanh_accuracy: 0.5200 - val_loss: 1.0072 - val_tanh_accuracy: 0.4800\n",
            "Epoch 69/100\n",
            "250/250 [==============================] - 0s 237us/sample - loss: 1.0004 - tanh_accuracy: 0.5200 - val_loss: 1.0061 - val_tanh_accuracy: 0.4800\n",
            "Epoch 70/100\n",
            "250/250 [==============================] - 0s 247us/sample - loss: 0.9986 - tanh_accuracy: 0.5200 - val_loss: 1.0017 - val_tanh_accuracy: 0.4800\n",
            "Epoch 71/100\n",
            "250/250 [==============================] - 0s 239us/sample - loss: 1.0012 - tanh_accuracy: 0.5200 - val_loss: 1.0012 - val_tanh_accuracy: 0.4800\n",
            "Epoch 72/100\n",
            "250/250 [==============================] - 0s 267us/sample - loss: 1.0022 - tanh_accuracy: 0.5200 - val_loss: 1.0010 - val_tanh_accuracy: 0.4800\n",
            "Epoch 73/100\n",
            "250/250 [==============================] - 0s 257us/sample - loss: 1.0035 - tanh_accuracy: 0.5200 - val_loss: 1.0000 - val_tanh_accuracy: 0.5200\n",
            "Epoch 74/100\n",
            "250/250 [==============================] - 0s 232us/sample - loss: 1.0042 - tanh_accuracy: 0.5080 - val_loss: 1.0026 - val_tanh_accuracy: 0.4800\n",
            "Epoch 75/100\n",
            "250/250 [==============================] - 0s 251us/sample - loss: 1.0021 - tanh_accuracy: 0.5200 - val_loss: 1.0018 - val_tanh_accuracy: 0.4800\n",
            "Epoch 76/100\n",
            "250/250 [==============================] - 0s 240us/sample - loss: 1.0019 - tanh_accuracy: 0.5200 - val_loss: 1.0021 - val_tanh_accuracy: 0.4800\n",
            "Epoch 77/100\n",
            "250/250 [==============================] - 0s 230us/sample - loss: 1.0000 - tanh_accuracy: 0.5160 - val_loss: 1.0053 - val_tanh_accuracy: 0.4800\n",
            "Epoch 78/100\n",
            "250/250 [==============================] - 0s 237us/sample - loss: 1.0036 - tanh_accuracy: 0.5200 - val_loss: 1.0015 - val_tanh_accuracy: 0.4800\n",
            "Epoch 79/100\n",
            "250/250 [==============================] - 0s 252us/sample - loss: 1.0052 - tanh_accuracy: 0.4840 - val_loss: 1.0035 - val_tanh_accuracy: 0.4800\n",
            "Epoch 80/100\n",
            "250/250 [==============================] - 0s 238us/sample - loss: 1.0009 - tanh_accuracy: 0.5200 - val_loss: 1.0039 - val_tanh_accuracy: 0.4800\n",
            "Epoch 81/100\n",
            "250/250 [==============================] - 0s 233us/sample - loss: 1.0020 - tanh_accuracy: 0.5080 - val_loss: 1.0074 - val_tanh_accuracy: 0.4800\n",
            "Epoch 82/100\n",
            "250/250 [==============================] - 0s 228us/sample - loss: 1.0031 - tanh_accuracy: 0.5200 - val_loss: 1.0062 - val_tanh_accuracy: 0.4800\n",
            "Epoch 83/100\n",
            "250/250 [==============================] - 0s 245us/sample - loss: 1.0007 - tanh_accuracy: 0.5200 - val_loss: 1.0052 - val_tanh_accuracy: 0.4800\n",
            "Epoch 84/100\n",
            "250/250 [==============================] - 0s 245us/sample - loss: 1.0015 - tanh_accuracy: 0.5200 - val_loss: 1.0043 - val_tanh_accuracy: 0.4800\n",
            "Epoch 85/100\n",
            "250/250 [==============================] - 0s 225us/sample - loss: 1.0027 - tanh_accuracy: 0.5120 - val_loss: 1.0024 - val_tanh_accuracy: 0.4800\n",
            "Epoch 86/100\n",
            "250/250 [==============================] - 0s 274us/sample - loss: 1.0008 - tanh_accuracy: 0.4960 - val_loss: 1.0040 - val_tanh_accuracy: 0.4800\n",
            "Epoch 87/100\n",
            "250/250 [==============================] - 0s 238us/sample - loss: 1.0020 - tanh_accuracy: 0.4960 - val_loss: 1.0062 - val_tanh_accuracy: 0.4800\n",
            "Epoch 88/100\n",
            "250/250 [==============================] - 0s 241us/sample - loss: 1.0019 - tanh_accuracy: 0.5200 - val_loss: 1.0044 - val_tanh_accuracy: 0.4800\n",
            "Epoch 89/100\n",
            "250/250 [==============================] - 0s 228us/sample - loss: 1.0010 - tanh_accuracy: 0.5200 - val_loss: 1.0039 - val_tanh_accuracy: 0.4800\n",
            "Epoch 90/100\n",
            "250/250 [==============================] - 0s 266us/sample - loss: 1.0013 - tanh_accuracy: 0.4880 - val_loss: 1.0056 - val_tanh_accuracy: 0.4800\n",
            "Epoch 91/100\n",
            "250/250 [==============================] - 0s 305us/sample - loss: 1.0020 - tanh_accuracy: 0.5200 - val_loss: 1.0090 - val_tanh_accuracy: 0.4800\n",
            "Epoch 92/100\n",
            "250/250 [==============================] - 0s 255us/sample - loss: 1.0008 - tanh_accuracy: 0.5200 - val_loss: 1.0069 - val_tanh_accuracy: 0.4800\n",
            "Epoch 93/100\n",
            "250/250 [==============================] - 0s 225us/sample - loss: 1.0018 - tanh_accuracy: 0.5200 - val_loss: 1.0037 - val_tanh_accuracy: 0.4800\n",
            "Epoch 94/100\n",
            "250/250 [==============================] - 0s 265us/sample - loss: 1.0051 - tanh_accuracy: 0.4840 - val_loss: 1.0051 - val_tanh_accuracy: 0.4800\n",
            "Epoch 95/100\n",
            "250/250 [==============================] - 0s 241us/sample - loss: 1.0019 - tanh_accuracy: 0.4920 - val_loss: 1.0115 - val_tanh_accuracy: 0.4800\n",
            "Epoch 96/100\n",
            "250/250 [==============================] - 0s 225us/sample - loss: 1.0019 - tanh_accuracy: 0.5200 - val_loss: 1.0041 - val_tanh_accuracy: 0.4800\n",
            "Epoch 97/100\n",
            "250/250 [==============================] - 0s 240us/sample - loss: 1.0043 - tanh_accuracy: 0.4840 - val_loss: 1.0063 - val_tanh_accuracy: 0.4800\n",
            "Epoch 98/100\n",
            "250/250 [==============================] - 0s 237us/sample - loss: 1.0017 - tanh_accuracy: 0.5200 - val_loss: 1.0049 - val_tanh_accuracy: 0.4800\n",
            "Epoch 99/100\n",
            "250/250 [==============================] - 0s 267us/sample - loss: 1.0030 - tanh_accuracy: 0.5200 - val_loss: 1.0047 - val_tanh_accuracy: 0.4800\n",
            "Epoch 100/100\n",
            "250/250 [==============================] - 0s 269us/sample - loss: 1.0010 - tanh_accuracy: 0.5040 - val_loss: 1.0078 - val_tanh_accuracy: 0.4800\n"
          ],
          "name": "stdout"
        },
        {
          "output_type": "execute_result",
          "data": {
            "text/plain": [
              "array([[-0.05683679]], dtype=float32)"
            ]
          },
          "metadata": {
            "tags": []
          },
          "execution_count": 33
        }
      ]
    },
    {
      "cell_type": "markdown",
      "metadata": {
        "id": "KpLef31zT99O",
        "colab_type": "text"
      },
      "source": [
        "モデルの書き方だけでなく、学習に関するコードも、下記のように2種類ある。\n",
        "\n",
        "- **初中級者向けの書き方：** リスト1-4のように`compile()`＆`fit()`メソッドを呼び出す、簡単で手軽な書き方\n",
        "- **エキスパート向けの書き方：** 次回説明するが、`tf.GradientTape`クラス（自動微分の記録機能）を使った柔軟で拡張性の高い書き方（PyTorchの書き方に近い）"
      ]
    },
    {
      "cell_type": "markdown",
      "metadata": {
        "id": "mlfUU17pU0Dg",
        "colab_type": "text"
      },
      "source": [
        "### ●作成済みモデルのリセット"
      ]
    },
    {
      "cell_type": "markdown",
      "metadata": {
        "id": "wplbU3-eVYxF",
        "colab_type": "text"
      },
      "source": [
        "### リスト1-5　次に進む前にモデルをリセットするコード"
      ]
    },
    {
      "cell_type": "code",
      "metadata": {
        "id": "KMvG2oRsvHDJ",
        "colab_type": "code",
        "colab": {}
      },
      "source": [
        "tf.keras.backend.clear_session() # グラフを破棄する\n",
        "del model                        # 変数を削除する"
      ],
      "execution_count": 0,
      "outputs": []
    },
    {
      "cell_type": "markdown",
      "metadata": {
        "id": "tpyomA8ErqNa",
        "colab_type": "text"
      },
      "source": [
        "## ■（2）Sequentialオブジェクトのaddメソッドで追加［tf.keras - Sequential API］"
      ]
    },
    {
      "cell_type": "markdown",
      "metadata": {
        "id": "G7sNPO8hV7zV",
        "colab_type": "text"
      },
      "source": [
        "### リスト2-1　Sequentialオブジェクトのaddメソッドを利用した書き方"
      ]
    },
    {
      "cell_type": "code",
      "metadata": {
        "id": "9ExiZydu2WFM",
        "colab_type": "code",
        "outputId": "2aa9ae6b-3774-4c88-d9bb-208ba5f1fb05",
        "colab": {
          "base_uri": "https://localhost:8080/",
          "height": 255
        }
      },
      "source": [
        "model = tf.keras.models.Sequential(  # モデルの生成\n",
        "    name='sequential_add_method'     # モデルにも名前付け\n",
        ")\n",
        "\n",
        "# 隠れ層：1つ目のレイヤー\n",
        "model.add(layers.Dense(        # 全結合層（線形変換）\n",
        "    input_shape=(INPUT_FEATURES,),   # 入力の形状（＝入力層）\n",
        "    name='layer1',                   # 表示用に名前付け\n",
        "    units=LAYER1_NEURONS,            # ユニットの数\n",
        "    activation='tanh'))              # 活性化関数\n",
        "\n",
        "# 隠れ層：2つ目のレイヤー\n",
        "model.add(layers.Dense(        # 全結合層（線形変換）\n",
        "    name='layer2',                   # 表示用に名前付け\n",
        "    units=LAYER2_NEURONS,            # ユニットの数\n",
        "    activation='tanh'))              # 活性化関数\n",
        "\n",
        "# 出力層\n",
        "model.add(layers.Dense(        # 全結合層（線形変換）\n",
        "    name='layer_out',                # 表示用に名前付け\n",
        "    units=OUTPUT_RESULTS,            # ユニットの数\n",
        "    activation='tanh'))              # 活性化関数\n",
        "\n",
        "# 以上でモデル設計は完了\n",
        "model.summary()                      # モデルの内容を出力"
      ],
      "execution_count": 0,
      "outputs": [
        {
          "output_type": "stream",
          "text": [
            "Model: \"sequential_add_method\"\n",
            "_________________________________________________________________\n",
            "Layer (type)                 Output Shape              Param #   \n",
            "=================================================================\n",
            "layer1 (Dense)               (None, 3)                 9         \n",
            "_________________________________________________________________\n",
            "layer2 (Dense)               (None, 3)                 12        \n",
            "_________________________________________________________________\n",
            "layer_out (Dense)            (None, 1)                 4         \n",
            "=================================================================\n",
            "Total params: 25\n",
            "Trainable params: 25\n",
            "Non-trainable params: 0\n",
            "_________________________________________________________________\n"
          ],
          "name": "stdout"
        }
      ]
    },
    {
      "cell_type": "code",
      "metadata": {
        "id": "Udfm1JImWAvO",
        "colab_type": "code",
        "outputId": "8f46c19f-ecee-4f88-eed6-06e31ae9e4e8",
        "colab": {
          "base_uri": "https://localhost:8080/",
          "height": 422
        }
      },
      "source": [
        "# モデルの構成図を表示\n",
        "tf.keras.utils.plot_model(model, show_shapes=True, show_layer_names=True, to_file='model.png')\n",
        "from IPython.display import Image\n",
        "Image(retina=False, filename='model.png')"
      ],
      "execution_count": 0,
      "outputs": [
        {
          "output_type": "execute_result",
          "data": {
            "image/png": "[encoded data removed]",
            "text/plain": [
              "<IPython.core.display.Image object>"
            ]
          },
          "metadata": {
            "tags": []
          },
          "execution_count": 36
        }
      ]
    },
    {
      "cell_type": "code",
      "metadata": {
        "id": "R7_1K9L1caSG",
        "colab_type": "code",
        "outputId": "6bc3e729-4b1e-4e03-8209-447f83a8755e",
        "colab": {
          "base_uri": "https://localhost:8080/",
          "height": 1000
        }
      },
      "source": [
        "# 学習方法を設定し、学習し、推論（予測）する\n",
        "model.compile(tf.keras.optimizers.SGD(lr=0.03), 'mean_squared_error', [tanh_accuracy])\n",
        "model.fit(X_train, y_train, validation_data=(X_valid, y_valid), batch_size=15,epochs=100, verbose=1)\n",
        "model.predict([[0.1,-0.2]])"
      ],
      "execution_count": 0,
      "outputs": [
        {
          "output_type": "stream",
          "text": [
            "Train on 250 samples, validate on 250 samples\n",
            "Epoch 1/100\n",
            "250/250 [==============================] - 0s 2ms/sample - loss: 1.0095 - tanh_accuracy: 0.4520 - val_loss: 1.0011 - val_tanh_accuracy: 0.4800\n",
            "Epoch 2/100\n",
            "250/250 [==============================] - 0s 238us/sample - loss: 0.9986 - tanh_accuracy: 0.4920 - val_loss: 1.0002 - val_tanh_accuracy: 0.4600\n",
            "Epoch 3/100\n",
            "250/250 [==============================] - 0s 249us/sample - loss: 0.9955 - tanh_accuracy: 0.4680 - val_loss: 0.9965 - val_tanh_accuracy: 0.4520\n",
            "Epoch 4/100\n",
            "250/250 [==============================] - 0s 229us/sample - loss: 0.9872 - tanh_accuracy: 0.5120 - val_loss: 0.9891 - val_tanh_accuracy: 0.4720\n",
            "Epoch 5/100\n",
            "250/250 [==============================] - 0s 234us/sample - loss: 0.9823 - tanh_accuracy: 0.5160 - val_loss: 0.9843 - val_tanh_accuracy: 0.4840\n",
            "Epoch 6/100\n",
            "250/250 [==============================] - 0s 247us/sample - loss: 0.9729 - tanh_accuracy: 0.5200 - val_loss: 0.9735 - val_tanh_accuracy: 0.5360\n",
            "Epoch 7/100\n",
            "250/250 [==============================] - 0s 240us/sample - loss: 0.9620 - tanh_accuracy: 0.5840 - val_loss: 0.9682 - val_tanh_accuracy: 0.5640\n",
            "Epoch 8/100\n",
            "250/250 [==============================] - 0s 249us/sample - loss: 0.9472 - tanh_accuracy: 0.6240 - val_loss: 0.9446 - val_tanh_accuracy: 0.6040\n",
            "Epoch 9/100\n",
            "250/250 [==============================] - 0s 239us/sample - loss: 0.9299 - tanh_accuracy: 0.6200 - val_loss: 0.9246 - val_tanh_accuracy: 0.6280\n",
            "Epoch 10/100\n",
            "250/250 [==============================] - 0s 231us/sample - loss: 0.9036 - tanh_accuracy: 0.6560 - val_loss: 0.8901 - val_tanh_accuracy: 0.6560\n",
            "Epoch 11/100\n",
            "250/250 [==============================] - 0s 227us/sample - loss: 0.8683 - tanh_accuracy: 0.6800 - val_loss: 0.8539 - val_tanh_accuracy: 0.7720\n",
            "Epoch 12/100\n",
            "250/250 [==============================] - 0s 248us/sample - loss: 0.8222 - tanh_accuracy: 0.7680 - val_loss: 0.8087 - val_tanh_accuracy: 0.7840\n",
            "Epoch 13/100\n",
            "250/250 [==============================] - 0s 240us/sample - loss: 0.7754 - tanh_accuracy: 0.7800 - val_loss: 0.7607 - val_tanh_accuracy: 0.7680\n",
            "Epoch 14/100\n",
            "250/250 [==============================] - 0s 234us/sample - loss: 0.7175 - tanh_accuracy: 0.7920 - val_loss: 0.7049 - val_tanh_accuracy: 0.7640\n",
            "Epoch 15/100\n",
            "250/250 [==============================] - 0s 246us/sample - loss: 0.6601 - tanh_accuracy: 0.8040 - val_loss: 0.6571 - val_tanh_accuracy: 0.7720\n",
            "Epoch 16/100\n",
            "250/250 [==============================] - 0s 250us/sample - loss: 0.6044 - tanh_accuracy: 0.8200 - val_loss: 0.6131 - val_tanh_accuracy: 0.7680\n",
            "Epoch 17/100\n",
            "250/250 [==============================] - 0s 243us/sample - loss: 0.5545 - tanh_accuracy: 0.8200 - val_loss: 0.5722 - val_tanh_accuracy: 0.7840\n",
            "Epoch 18/100\n",
            "250/250 [==============================] - 0s 241us/sample - loss: 0.5133 - tanh_accuracy: 0.8400 - val_loss: 0.5519 - val_tanh_accuracy: 0.8120\n",
            "Epoch 19/100\n",
            "250/250 [==============================] - 0s 226us/sample - loss: 0.4758 - tanh_accuracy: 0.8560 - val_loss: 0.5113 - val_tanh_accuracy: 0.8160\n",
            "Epoch 20/100\n",
            "250/250 [==============================] - 0s 242us/sample - loss: 0.4439 - tanh_accuracy: 0.8680 - val_loss: 0.4739 - val_tanh_accuracy: 0.8480\n",
            "Epoch 21/100\n",
            "250/250 [==============================] - 0s 259us/sample - loss: 0.4132 - tanh_accuracy: 0.8840 - val_loss: 0.4338 - val_tanh_accuracy: 0.8760\n",
            "Epoch 22/100\n",
            "250/250 [==============================] - 0s 258us/sample - loss: 0.3813 - tanh_accuracy: 0.8880 - val_loss: 0.4069 - val_tanh_accuracy: 0.8600\n",
            "Epoch 23/100\n",
            "250/250 [==============================] - 0s 319us/sample - loss: 0.3531 - tanh_accuracy: 0.8880 - val_loss: 0.3607 - val_tanh_accuracy: 0.8880\n",
            "Epoch 24/100\n",
            "250/250 [==============================] - 0s 246us/sample - loss: 0.3185 - tanh_accuracy: 0.9200 - val_loss: 0.3509 - val_tanh_accuracy: 0.8880\n",
            "Epoch 25/100\n",
            "250/250 [==============================] - 0s 249us/sample - loss: 0.2848 - tanh_accuracy: 0.9120 - val_loss: 0.2848 - val_tanh_accuracy: 0.9200\n",
            "Epoch 26/100\n",
            "250/250 [==============================] - 0s 257us/sample - loss: 0.2462 - tanh_accuracy: 0.9480 - val_loss: 0.2541 - val_tanh_accuracy: 0.9320\n",
            "Epoch 27/100\n",
            "250/250 [==============================] - 0s 269us/sample - loss: 0.2074 - tanh_accuracy: 0.9560 - val_loss: 0.2086 - val_tanh_accuracy: 0.9760\n",
            "Epoch 28/100\n",
            "250/250 [==============================] - 0s 259us/sample - loss: 0.1757 - tanh_accuracy: 0.9960 - val_loss: 0.1846 - val_tanh_accuracy: 0.9840\n",
            "Epoch 29/100\n",
            "250/250 [==============================] - 0s 244us/sample - loss: 0.1480 - tanh_accuracy: 0.9920 - val_loss: 0.1614 - val_tanh_accuracy: 0.9920\n",
            "Epoch 30/100\n",
            "250/250 [==============================] - 0s 249us/sample - loss: 0.1329 - tanh_accuracy: 0.9960 - val_loss: 0.1439 - val_tanh_accuracy: 0.9920\n",
            "Epoch 31/100\n",
            "250/250 [==============================] - 0s 247us/sample - loss: 0.1153 - tanh_accuracy: 1.0000 - val_loss: 0.1306 - val_tanh_accuracy: 0.9960\n",
            "Epoch 32/100\n",
            "250/250 [==============================] - 0s 262us/sample - loss: 0.1021 - tanh_accuracy: 1.0000 - val_loss: 0.1173 - val_tanh_accuracy: 0.9920\n",
            "Epoch 33/100\n",
            "250/250 [==============================] - 0s 241us/sample - loss: 0.0915 - tanh_accuracy: 1.0000 - val_loss: 0.1088 - val_tanh_accuracy: 0.9960\n",
            "Epoch 34/100\n",
            "250/250 [==============================] - 0s 242us/sample - loss: 0.0832 - tanh_accuracy: 1.0000 - val_loss: 0.1050 - val_tanh_accuracy: 0.9960\n",
            "Epoch 35/100\n",
            "250/250 [==============================] - 0s 229us/sample - loss: 0.0766 - tanh_accuracy: 1.0000 - val_loss: 0.0917 - val_tanh_accuracy: 0.9960\n",
            "Epoch 36/100\n",
            "250/250 [==============================] - 0s 231us/sample - loss: 0.0689 - tanh_accuracy: 1.0000 - val_loss: 0.0864 - val_tanh_accuracy: 0.9960\n",
            "Epoch 37/100\n",
            "250/250 [==============================] - 0s 237us/sample - loss: 0.0644 - tanh_accuracy: 1.0000 - val_loss: 0.0872 - val_tanh_accuracy: 0.9920\n",
            "Epoch 38/100\n",
            "250/250 [==============================] - 0s 229us/sample - loss: 0.0602 - tanh_accuracy: 1.0000 - val_loss: 0.0852 - val_tanh_accuracy: 0.9920\n",
            "Epoch 39/100\n",
            "250/250 [==============================] - 0s 233us/sample - loss: 0.0567 - tanh_accuracy: 1.0000 - val_loss: 0.0775 - val_tanh_accuracy: 0.9960\n",
            "Epoch 40/100\n",
            "250/250 [==============================] - 0s 263us/sample - loss: 0.0515 - tanh_accuracy: 1.0000 - val_loss: 0.0709 - val_tanh_accuracy: 0.9960\n",
            "Epoch 41/100\n",
            "250/250 [==============================] - 0s 233us/sample - loss: 0.0486 - tanh_accuracy: 1.0000 - val_loss: 0.0649 - val_tanh_accuracy: 0.9960\n",
            "Epoch 42/100\n",
            "250/250 [==============================] - 0s 240us/sample - loss: 0.0464 - tanh_accuracy: 1.0000 - val_loss: 0.0599 - val_tanh_accuracy: 1.0000\n",
            "Epoch 43/100\n",
            "250/250 [==============================] - 0s 230us/sample - loss: 0.0424 - tanh_accuracy: 1.0000 - val_loss: 0.0600 - val_tanh_accuracy: 0.9960\n",
            "Epoch 44/100\n",
            "250/250 [==============================] - 0s 259us/sample - loss: 0.0410 - tanh_accuracy: 1.0000 - val_loss: 0.0565 - val_tanh_accuracy: 0.9960\n",
            "Epoch 45/100\n",
            "250/250 [==============================] - 0s 249us/sample - loss: 0.0377 - tanh_accuracy: 1.0000 - val_loss: 0.0543 - val_tanh_accuracy: 0.9960\n",
            "Epoch 46/100\n",
            "250/250 [==============================] - 0s 227us/sample - loss: 0.0356 - tanh_accuracy: 1.0000 - val_loss: 0.0513 - val_tanh_accuracy: 0.9960\n",
            "Epoch 47/100\n",
            "250/250 [==============================] - 0s 237us/sample - loss: 0.0342 - tanh_accuracy: 1.0000 - val_loss: 0.0534 - val_tanh_accuracy: 0.9960\n",
            "Epoch 48/100\n",
            "250/250 [==============================] - 0s 235us/sample - loss: 0.0319 - tanh_accuracy: 1.0000 - val_loss: 0.0490 - val_tanh_accuracy: 0.9960\n",
            "Epoch 49/100\n",
            "250/250 [==============================] - 0s 236us/sample - loss: 0.0306 - tanh_accuracy: 1.0000 - val_loss: 0.0525 - val_tanh_accuracy: 0.9960\n",
            "Epoch 50/100\n",
            "250/250 [==============================] - 0s 239us/sample - loss: 0.0296 - tanh_accuracy: 1.0000 - val_loss: 0.0471 - val_tanh_accuracy: 0.9960\n",
            "Epoch 51/100\n",
            "250/250 [==============================] - 0s 260us/sample - loss: 0.0282 - tanh_accuracy: 1.0000 - val_loss: 0.0448 - val_tanh_accuracy: 0.9960\n",
            "Epoch 52/100\n",
            "250/250 [==============================] - 0s 272us/sample - loss: 0.0265 - tanh_accuracy: 1.0000 - val_loss: 0.0440 - val_tanh_accuracy: 0.9960\n",
            "Epoch 53/100\n",
            "250/250 [==============================] - 0s 248us/sample - loss: 0.0256 - tanh_accuracy: 1.0000 - val_loss: 0.0426 - val_tanh_accuracy: 0.9960\n",
            "Epoch 54/100\n",
            "250/250 [==============================] - 0s 263us/sample - loss: 0.0245 - tanh_accuracy: 1.0000 - val_loss: 0.0422 - val_tanh_accuracy: 0.9960\n",
            "Epoch 55/100\n",
            "250/250 [==============================] - 0s 246us/sample - loss: 0.0234 - tanh_accuracy: 1.0000 - val_loss: 0.0410 - val_tanh_accuracy: 0.9960\n",
            "Epoch 56/100\n",
            "250/250 [==============================] - 0s 249us/sample - loss: 0.0244 - tanh_accuracy: 1.0000 - val_loss: 0.0427 - val_tanh_accuracy: 0.9960\n",
            "Epoch 57/100\n",
            "250/250 [==============================] - 0s 215us/sample - loss: 0.0221 - tanh_accuracy: 1.0000 - val_loss: 0.0393 - val_tanh_accuracy: 0.9960\n",
            "Epoch 58/100\n",
            "250/250 [==============================] - 0s 224us/sample - loss: 0.0213 - tanh_accuracy: 1.0000 - val_loss: 0.0384 - val_tanh_accuracy: 0.9960\n",
            "Epoch 59/100\n",
            "250/250 [==============================] - 0s 227us/sample - loss: 0.0201 - tanh_accuracy: 1.0000 - val_loss: 0.0361 - val_tanh_accuracy: 0.9960\n",
            "Epoch 60/100\n",
            "250/250 [==============================] - 0s 222us/sample - loss: 0.0195 - tanh_accuracy: 1.0000 - val_loss: 0.0359 - val_tanh_accuracy: 0.9960\n",
            "Epoch 61/100\n",
            "250/250 [==============================] - 0s 234us/sample - loss: 0.0193 - tanh_accuracy: 1.0000 - val_loss: 0.0356 - val_tanh_accuracy: 0.9960\n",
            "Epoch 62/100\n",
            "250/250 [==============================] - 0s 236us/sample - loss: 0.0179 - tanh_accuracy: 1.0000 - val_loss: 0.0355 - val_tanh_accuracy: 0.9960\n",
            "Epoch 63/100\n",
            "250/250 [==============================] - 0s 240us/sample - loss: 0.0178 - tanh_accuracy: 1.0000 - val_loss: 0.0347 - val_tanh_accuracy: 0.9960\n",
            "Epoch 64/100\n",
            "250/250 [==============================] - 0s 228us/sample - loss: 0.0172 - tanh_accuracy: 1.0000 - val_loss: 0.0354 - val_tanh_accuracy: 0.9960\n",
            "Epoch 65/100\n",
            "250/250 [==============================] - 0s 235us/sample - loss: 0.0162 - tanh_accuracy: 1.0000 - val_loss: 0.0369 - val_tanh_accuracy: 0.9960\n",
            "Epoch 66/100\n",
            "250/250 [==============================] - 0s 244us/sample - loss: 0.0160 - tanh_accuracy: 1.0000 - val_loss: 0.0328 - val_tanh_accuracy: 0.9960\n",
            "Epoch 67/100\n",
            "250/250 [==============================] - 0s 257us/sample - loss: 0.0155 - tanh_accuracy: 1.0000 - val_loss: 0.0331 - val_tanh_accuracy: 0.9960\n",
            "Epoch 68/100\n",
            "250/250 [==============================] - 0s 218us/sample - loss: 0.0156 - tanh_accuracy: 1.0000 - val_loss: 0.0318 - val_tanh_accuracy: 0.9960\n",
            "Epoch 69/100\n",
            "250/250 [==============================] - 0s 236us/sample - loss: 0.0149 - tanh_accuracy: 1.0000 - val_loss: 0.0317 - val_tanh_accuracy: 0.9960\n",
            "Epoch 70/100\n",
            "250/250 [==============================] - 0s 237us/sample - loss: 0.0146 - tanh_accuracy: 1.0000 - val_loss: 0.0315 - val_tanh_accuracy: 0.9960\n",
            "Epoch 71/100\n",
            "250/250 [==============================] - 0s 228us/sample - loss: 0.0141 - tanh_accuracy: 1.0000 - val_loss: 0.0316 - val_tanh_accuracy: 0.9960\n",
            "Epoch 72/100\n",
            "250/250 [==============================] - 0s 219us/sample - loss: 0.0135 - tanh_accuracy: 1.0000 - val_loss: 0.0320 - val_tanh_accuracy: 0.9960\n",
            "Epoch 73/100\n",
            "250/250 [==============================] - 0s 237us/sample - loss: 0.0133 - tanh_accuracy: 1.0000 - val_loss: 0.0303 - val_tanh_accuracy: 0.9960\n",
            "Epoch 74/100\n",
            "250/250 [==============================] - 0s 231us/sample - loss: 0.0127 - tanh_accuracy: 1.0000 - val_loss: 0.0300 - val_tanh_accuracy: 0.9960\n",
            "Epoch 75/100\n",
            "250/250 [==============================] - 0s 239us/sample - loss: 0.0127 - tanh_accuracy: 1.0000 - val_loss: 0.0312 - val_tanh_accuracy: 0.9960\n",
            "Epoch 76/100\n",
            "250/250 [==============================] - 0s 244us/sample - loss: 0.0122 - tanh_accuracy: 1.0000 - val_loss: 0.0275 - val_tanh_accuracy: 0.9960\n",
            "Epoch 77/100\n",
            "250/250 [==============================] - 0s 236us/sample - loss: 0.0119 - tanh_accuracy: 1.0000 - val_loss: 0.0278 - val_tanh_accuracy: 0.9960\n",
            "Epoch 78/100\n",
            "250/250 [==============================] - 0s 226us/sample - loss: 0.0119 - tanh_accuracy: 1.0000 - val_loss: 0.0284 - val_tanh_accuracy: 0.9960\n",
            "Epoch 79/100\n",
            "250/250 [==============================] - 0s 257us/sample - loss: 0.0114 - tanh_accuracy: 1.0000 - val_loss: 0.0282 - val_tanh_accuracy: 0.9960\n",
            "Epoch 80/100\n",
            "250/250 [==============================] - 0s 237us/sample - loss: 0.0113 - tanh_accuracy: 1.0000 - val_loss: 0.0278 - val_tanh_accuracy: 0.9960\n",
            "Epoch 81/100\n",
            "250/250 [==============================] - 0s 223us/sample - loss: 0.0107 - tanh_accuracy: 1.0000 - val_loss: 0.0263 - val_tanh_accuracy: 0.9960\n",
            "Epoch 82/100\n",
            "250/250 [==============================] - 0s 219us/sample - loss: 0.0108 - tanh_accuracy: 1.0000 - val_loss: 0.0270 - val_tanh_accuracy: 0.9960\n",
            "Epoch 83/100\n",
            "250/250 [==============================] - 0s 249us/sample - loss: 0.0106 - tanh_accuracy: 1.0000 - val_loss: 0.0267 - val_tanh_accuracy: 0.9960\n",
            "Epoch 84/100\n",
            "250/250 [==============================] - 0s 242us/sample - loss: 0.0104 - tanh_accuracy: 1.0000 - val_loss: 0.0265 - val_tanh_accuracy: 0.9960\n",
            "Epoch 85/100\n",
            "250/250 [==============================] - 0s 222us/sample - loss: 0.0100 - tanh_accuracy: 1.0000 - val_loss: 0.0259 - val_tanh_accuracy: 0.9960\n",
            "Epoch 86/100\n",
            "250/250 [==============================] - 0s 247us/sample - loss: 0.0098 - tanh_accuracy: 1.0000 - val_loss: 0.0259 - val_tanh_accuracy: 0.9960\n",
            "Epoch 87/100\n",
            "250/250 [==============================] - 0s 241us/sample - loss: 0.0095 - tanh_accuracy: 1.0000 - val_loss: 0.0260 - val_tanh_accuracy: 0.9960\n",
            "Epoch 88/100\n",
            "250/250 [==============================] - 0s 248us/sample - loss: 0.0093 - tanh_accuracy: 1.0000 - val_loss: 0.0250 - val_tanh_accuracy: 0.9960\n",
            "Epoch 89/100\n",
            "250/250 [==============================] - 0s 244us/sample - loss: 0.0093 - tanh_accuracy: 1.0000 - val_loss: 0.0251 - val_tanh_accuracy: 0.9960\n",
            "Epoch 90/100\n",
            "250/250 [==============================] - 0s 243us/sample - loss: 0.0090 - tanh_accuracy: 1.0000 - val_loss: 0.0253 - val_tanh_accuracy: 0.9960\n",
            "Epoch 91/100\n",
            "250/250 [==============================] - 0s 277us/sample - loss: 0.0088 - tanh_accuracy: 1.0000 - val_loss: 0.0254 - val_tanh_accuracy: 0.9960\n",
            "Epoch 92/100\n",
            "250/250 [==============================] - 0s 325us/sample - loss: 0.0087 - tanh_accuracy: 1.0000 - val_loss: 0.0252 - val_tanh_accuracy: 0.9960\n",
            "Epoch 93/100\n",
            "250/250 [==============================] - 0s 272us/sample - loss: 0.0086 - tanh_accuracy: 1.0000 - val_loss: 0.0240 - val_tanh_accuracy: 0.9960\n",
            "Epoch 94/100\n",
            "250/250 [==============================] - 0s 247us/sample - loss: 0.0082 - tanh_accuracy: 1.0000 - val_loss: 0.0246 - val_tanh_accuracy: 0.9960\n",
            "Epoch 95/100\n",
            "250/250 [==============================] - 0s 252us/sample - loss: 0.0082 - tanh_accuracy: 1.0000 - val_loss: 0.0248 - val_tanh_accuracy: 0.9960\n",
            "Epoch 96/100\n",
            "250/250 [==============================] - 0s 253us/sample - loss: 0.0081 - tanh_accuracy: 1.0000 - val_loss: 0.0243 - val_tanh_accuracy: 0.9960\n",
            "Epoch 97/100\n",
            "250/250 [==============================] - 0s 250us/sample - loss: 0.0078 - tanh_accuracy: 1.0000 - val_loss: 0.0245 - val_tanh_accuracy: 0.9960\n",
            "Epoch 98/100\n",
            "250/250 [==============================] - 0s 276us/sample - loss: 0.0081 - tanh_accuracy: 1.0000 - val_loss: 0.0242 - val_tanh_accuracy: 0.9960\n",
            "Epoch 99/100\n",
            "250/250 [==============================] - 0s 236us/sample - loss: 0.0077 - tanh_accuracy: 1.0000 - val_loss: 0.0231 - val_tanh_accuracy: 0.9960\n",
            "Epoch 100/100\n",
            "250/250 [==============================] - 0s 244us/sample - loss: 0.0076 - tanh_accuracy: 1.0000 - val_loss: 0.0229 - val_tanh_accuracy: 0.9960\n"
          ],
          "name": "stdout"
        },
        {
          "output_type": "execute_result",
          "data": {
            "text/plain": [
              "array([[0.9911068]], dtype=float32)"
            ]
          },
          "metadata": {
            "tags": []
          },
          "execution_count": 37
        }
      ]
    },
    {
      "cell_type": "code",
      "metadata": {
        "id": "Ou0328ZYcM0d",
        "colab_type": "code",
        "colab": {}
      },
      "source": [
        "# 次に進む前にモデルをリセット\n",
        "tf.keras.backend.clear_session() # グラフを破棄する\n",
        "del model                        # 変数を削除する"
      ],
      "execution_count": 0,
      "outputs": []
    },
    {
      "cell_type": "markdown",
      "metadata": {
        "id": "HQad_ZlBtP0O",
        "colab_type": "text"
      },
      "source": [
        "## ■（3）Modelクラスのコンストラクター利用［tf-keras - Functional API］"
      ]
    },
    {
      "cell_type": "markdown",
      "metadata": {
        "id": "1q_Wo_kpapPY",
        "colab_type": "text"
      },
      "source": [
        "### リスト3-1　Modelクラスのコンストラクターを利用した書き方"
      ]
    },
    {
      "cell_type": "code",
      "metadata": {
        "id": "1yHaU8-q2TQp",
        "colab_type": "code",
        "outputId": "99112aaa-015b-48f5-bba9-7b99d75a1b6f",
        "colab": {
          "base_uri": "https://localhost:8080/",
          "height": 391
        }
      },
      "source": [
        "# ### 活性化を変数（ハイパーパラメーター）として定義 ###\n",
        "# 変数（モデル定義時に必要となる数値）\n",
        "        # 慣例では入力も出力も「x」と同じ変数名で記述する（よって以下では「x」と書く）\n",
        "activation1 = layers.Activation('tanh' # 活性化関数（隠れ層用）： tanh関数（変更可能）\n",
        "    , name='activation1'               # 活性化関数にも名前付け\n",
        "    )\n",
        "activation2 = layers.Activation('tanh' # 活性化関数（隠れ層用）： tanh関数（変更可能）\n",
        "    , name='activation2'               # 活性化関数にも名前付け\n",
        "    )\n",
        "acti_out = layers.Activation('tanh'    # 活性化関数（出力層用）： tanh関数（固定）\n",
        "    , name='acti_out'                  # 活性化関数にも名前付け\n",
        "    )\n",
        "\n",
        "# ### レイヤーを定義 ###\n",
        "# input_shape引数の代わりに、Inputクラスを使うことも可能\n",
        "inputs = layers.Input(          # 入力層\n",
        "    name='layer_in',                 # 表示用に名前付け\n",
        "    shape=(INPUT_FEATURES,))         # 入力の形状\n",
        "\n",
        "# 隠れ層：1つ目のレイヤー\n",
        "layer1 = layers.Dense(          # 全結合層（線形変換）\n",
        "    #input_shape=(INPUT_FEATURES,),  # ※入力層は定義済みなので不要\n",
        "    name='layer1',                   # 表示用に名前付け\n",
        "    units=LAYER1_NEURONS)            # ユニットの数\n",
        "\n",
        "# 隠れ層：2つ目のレイヤー\n",
        "layer2 = layers.Dense(          # 全結合層（線形変換）\n",
        "    name='layer2',                   # 表示用に名前付け\n",
        "    units=LAYER2_NEURONS)            # ユニットの数\n",
        "\n",
        "# 出力層\n",
        "layer_out = layers.Dense(       # 全結合層（線形変換）\n",
        "    name='layer_out',                # 表示用に名前付け\n",
        "    units=OUTPUT_RESULTS)            # ユニットの数\n",
        "\n",
        "# ### フィードフォワードを定義 ###\n",
        "# 「出力＝活性化関数（第n層（入力））」の形式で記述\n",
        "x1 = activation1(layer1(inputs))     # 活性化関数は変数として定義\n",
        "x2 = activation2(layer2(x1))         # 同上\n",
        "outputs = acti_out(layer_out(x2))    # ※活性化関数は「tanh」固定\n",
        "\n",
        "# ### モデルの生成 ###\n",
        "model = tf.keras.Model(inputs=inputs, outputs=outputs\n",
        "    , name='model_constructor'       # モデルにも名前付け\n",
        ")\n",
        "\n",
        "# ### 以上でモデル設計は完了 ###\n",
        "model.summary()                      # モデルの内容を出力"
      ],
      "execution_count": 0,
      "outputs": [
        {
          "output_type": "stream",
          "text": [
            "Model: \"model_constructor\"\n",
            "_________________________________________________________________\n",
            "Layer (type)                 Output Shape              Param #   \n",
            "=================================================================\n",
            "layer_in (InputLayer)        [(None, 2)]               0         \n",
            "_________________________________________________________________\n",
            "layer1 (Dense)               (None, 3)                 9         \n",
            "_________________________________________________________________\n",
            "activation1 (Activation)     (None, 3)                 0         \n",
            "_________________________________________________________________\n",
            "layer2 (Dense)               (None, 3)                 12        \n",
            "_________________________________________________________________\n",
            "activation2 (Activation)     (None, 3)                 0         \n",
            "_________________________________________________________________\n",
            "layer_out (Dense)            (None, 1)                 4         \n",
            "_________________________________________________________________\n",
            "acti_out (Activation)        (None, 1)                 0         \n",
            "=================================================================\n",
            "Total params: 25\n",
            "Trainable params: 25\n",
            "Non-trainable params: 0\n",
            "_________________________________________________________________\n"
          ],
          "name": "stdout"
        }
      ]
    },
    {
      "cell_type": "code",
      "metadata": {
        "id": "I8urDYqda5Ov",
        "colab_type": "code",
        "outputId": "92aab9dc-4b60-4f8b-b025-069391452bbc",
        "colab": {
          "base_uri": "https://localhost:8080/",
          "height": 754
        }
      },
      "source": [
        "# モデルの構成図を表示\n",
        "tf.keras.utils.plot_model(model, show_shapes=True, show_layer_names=True, to_file='model.png')\n",
        "from IPython.display import Image\n",
        "Image(retina=False, filename='model.png')"
      ],
      "execution_count": 0,
      "outputs": [
        {
          "output_type": "execute_result",
          "data": {
            "image/png": "[encoded data removed]",
            "text/plain": [
              "<IPython.core.display.Image object>"
            ]
          },
          "metadata": {
            "tags": []
          },
          "execution_count": 40
        }
      ]
    },
    {
      "cell_type": "code",
      "metadata": {
        "id": "TlySSL3AkNY3",
        "colab_type": "code",
        "outputId": "9e38ca42-7120-48a1-ec72-7a7a14d8beb3",
        "colab": {
          "base_uri": "https://localhost:8080/",
          "height": 1000
        }
      },
      "source": [
        "# 学習方法を設定し、学習し、推論（予測）する\n",
        "model.compile(tf.keras.optimizers.SGD(lr=0.03), 'mean_squared_error', [tanh_accuracy])\n",
        "model.fit(X_train, y_train, validation_data=(X_valid, y_valid), batch_size=15,epochs=100, verbose=1)\n",
        "model.predict([[0.1,-0.2]])"
      ],
      "execution_count": 0,
      "outputs": [
        {
          "output_type": "stream",
          "text": [
            "Train on 250 samples, validate on 250 samples\n",
            "Epoch 1/100\n",
            "250/250 [==============================] - 0s 2ms/sample - loss: 1.0755 - tanh_accuracy: 0.5680 - val_loss: 0.9802 - val_tanh_accuracy: 0.6200\n",
            "Epoch 2/100\n",
            "250/250 [==============================] - 0s 237us/sample - loss: 0.9611 - tanh_accuracy: 0.6320 - val_loss: 0.9292 - val_tanh_accuracy: 0.6640\n",
            "Epoch 3/100\n",
            "250/250 [==============================] - 0s 282us/sample - loss: 0.9011 - tanh_accuracy: 0.6720 - val_loss: 0.8556 - val_tanh_accuracy: 0.7200\n",
            "Epoch 4/100\n",
            "250/250 [==============================] - 0s 256us/sample - loss: 0.8412 - tanh_accuracy: 0.7360 - val_loss: 0.7921 - val_tanh_accuracy: 0.7240\n",
            "Epoch 5/100\n",
            "250/250 [==============================] - 0s 252us/sample - loss: 0.7752 - tanh_accuracy: 0.7880 - val_loss: 0.7424 - val_tanh_accuracy: 0.7800\n",
            "Epoch 6/100\n",
            "250/250 [==============================] - 0s 264us/sample - loss: 0.6975 - tanh_accuracy: 0.8200 - val_loss: 0.6747 - val_tanh_accuracy: 0.8120\n",
            "Epoch 7/100\n",
            "250/250 [==============================] - 0s 291us/sample - loss: 0.6320 - tanh_accuracy: 0.8480 - val_loss: 0.6186 - val_tanh_accuracy: 0.8040\n",
            "Epoch 8/100\n",
            "250/250 [==============================] - 0s 322us/sample - loss: 0.5576 - tanh_accuracy: 0.8400 - val_loss: 0.5613 - val_tanh_accuracy: 0.8160\n",
            "Epoch 9/100\n",
            "250/250 [==============================] - 0s 245us/sample - loss: 0.4953 - tanh_accuracy: 0.8400 - val_loss: 0.5145 - val_tanh_accuracy: 0.8160\n",
            "Epoch 10/100\n",
            "250/250 [==============================] - 0s 215us/sample - loss: 0.4426 - tanh_accuracy: 0.8600 - val_loss: 0.4877 - val_tanh_accuracy: 0.8760\n",
            "Epoch 11/100\n",
            "250/250 [==============================] - 0s 228us/sample - loss: 0.4015 - tanh_accuracy: 0.8720 - val_loss: 0.4426 - val_tanh_accuracy: 0.9080\n",
            "Epoch 12/100\n",
            "250/250 [==============================] - 0s 226us/sample - loss: 0.3658 - tanh_accuracy: 0.9480 - val_loss: 0.4062 - val_tanh_accuracy: 0.9080\n",
            "Epoch 13/100\n",
            "250/250 [==============================] - 0s 255us/sample - loss: 0.3255 - tanh_accuracy: 0.9640 - val_loss: 0.3827 - val_tanh_accuracy: 0.8960\n",
            "Epoch 14/100\n",
            "250/250 [==============================] - 0s 232us/sample - loss: 0.2990 - tanh_accuracy: 0.9640 - val_loss: 0.3549 - val_tanh_accuracy: 0.9040\n",
            "Epoch 15/100\n",
            "250/250 [==============================] - 0s 220us/sample - loss: 0.2745 - tanh_accuracy: 0.9720 - val_loss: 0.3379 - val_tanh_accuracy: 0.9320\n",
            "Epoch 16/100\n",
            "250/250 [==============================] - 0s 216us/sample - loss: 0.2541 - tanh_accuracy: 0.9640 - val_loss: 0.3203 - val_tanh_accuracy: 0.9120\n",
            "Epoch 17/100\n",
            "250/250 [==============================] - 0s 263us/sample - loss: 0.2302 - tanh_accuracy: 0.9680 - val_loss: 0.3011 - val_tanh_accuracy: 0.9160\n",
            "Epoch 18/100\n",
            "250/250 [==============================] - 0s 240us/sample - loss: 0.2124 - tanh_accuracy: 0.9680 - val_loss: 0.2706 - val_tanh_accuracy: 0.9400\n",
            "Epoch 19/100\n",
            "250/250 [==============================] - 0s 234us/sample - loss: 0.1968 - tanh_accuracy: 0.9720 - val_loss: 0.2549 - val_tanh_accuracy: 0.9360\n",
            "Epoch 20/100\n",
            "250/250 [==============================] - 0s 225us/sample - loss: 0.1778 - tanh_accuracy: 0.9800 - val_loss: 0.2467 - val_tanh_accuracy: 0.9280\n",
            "Epoch 21/100\n",
            "250/250 [==============================] - 0s 221us/sample - loss: 0.1626 - tanh_accuracy: 0.9800 - val_loss: 0.2238 - val_tanh_accuracy: 0.9360\n",
            "Epoch 22/100\n",
            "250/250 [==============================] - 0s 215us/sample - loss: 0.1482 - tanh_accuracy: 0.9840 - val_loss: 0.2106 - val_tanh_accuracy: 0.9360\n",
            "Epoch 23/100\n",
            "250/250 [==============================] - 0s 236us/sample - loss: 0.1382 - tanh_accuracy: 0.9800 - val_loss: 0.1943 - val_tanh_accuracy: 0.9440\n",
            "Epoch 24/100\n",
            "250/250 [==============================] - 0s 224us/sample - loss: 0.1254 - tanh_accuracy: 0.9840 - val_loss: 0.1724 - val_tanh_accuracy: 0.9560\n",
            "Epoch 25/100\n",
            "250/250 [==============================] - 0s 226us/sample - loss: 0.1148 - tanh_accuracy: 0.9880 - val_loss: 0.1515 - val_tanh_accuracy: 0.9720\n",
            "Epoch 26/100\n",
            "250/250 [==============================] - 0s 216us/sample - loss: 0.1035 - tanh_accuracy: 0.9920 - val_loss: 0.1418 - val_tanh_accuracy: 0.9720\n",
            "Epoch 27/100\n",
            "250/250 [==============================] - 0s 232us/sample - loss: 0.0957 - tanh_accuracy: 0.9920 - val_loss: 0.1275 - val_tanh_accuracy: 0.9760\n",
            "Epoch 28/100\n",
            "250/250 [==============================] - 0s 223us/sample - loss: 0.0922 - tanh_accuracy: 0.9920 - val_loss: 0.1222 - val_tanh_accuracy: 0.9760\n",
            "Epoch 29/100\n",
            "250/250 [==============================] - 0s 222us/sample - loss: 0.0841 - tanh_accuracy: 0.9920 - val_loss: 0.1124 - val_tanh_accuracy: 0.9760\n",
            "Epoch 30/100\n",
            "250/250 [==============================] - 0s 222us/sample - loss: 0.0781 - tanh_accuracy: 0.9920 - val_loss: 0.1087 - val_tanh_accuracy: 0.9760\n",
            "Epoch 31/100\n",
            "250/250 [==============================] - 0s 241us/sample - loss: 0.0725 - tanh_accuracy: 0.9920 - val_loss: 0.1033 - val_tanh_accuracy: 0.9760\n",
            "Epoch 32/100\n",
            "250/250 [==============================] - 0s 251us/sample - loss: 0.0694 - tanh_accuracy: 0.9920 - val_loss: 0.0952 - val_tanh_accuracy: 0.9880\n",
            "Epoch 33/100\n",
            "250/250 [==============================] - 0s 231us/sample - loss: 0.0666 - tanh_accuracy: 1.0000 - val_loss: 0.1016 - val_tanh_accuracy: 0.9760\n",
            "Epoch 34/100\n",
            "250/250 [==============================] - 0s 247us/sample - loss: 0.0621 - tanh_accuracy: 0.9920 - val_loss: 0.0854 - val_tanh_accuracy: 0.9880\n",
            "Epoch 35/100\n",
            "250/250 [==============================] - 0s 224us/sample - loss: 0.0594 - tanh_accuracy: 0.9920 - val_loss: 0.0853 - val_tanh_accuracy: 0.9880\n",
            "Epoch 36/100\n",
            "250/250 [==============================] - 0s 246us/sample - loss: 0.0584 - tanh_accuracy: 0.9920 - val_loss: 0.0829 - val_tanh_accuracy: 0.9840\n",
            "Epoch 37/100\n",
            "250/250 [==============================] - 0s 223us/sample - loss: 0.0543 - tanh_accuracy: 0.9920 - val_loss: 0.0752 - val_tanh_accuracy: 0.9880\n",
            "Epoch 38/100\n",
            "250/250 [==============================] - 0s 212us/sample - loss: 0.0527 - tanh_accuracy: 0.9960 - val_loss: 0.0755 - val_tanh_accuracy: 0.9800\n",
            "Epoch 39/100\n",
            "250/250 [==============================] - 0s 214us/sample - loss: 0.0507 - tanh_accuracy: 0.9960 - val_loss: 0.0764 - val_tanh_accuracy: 0.9800\n",
            "Epoch 40/100\n",
            "250/250 [==============================] - 0s 208us/sample - loss: 0.0492 - tanh_accuracy: 0.9960 - val_loss: 0.0690 - val_tanh_accuracy: 0.9920\n",
            "Epoch 41/100\n",
            "250/250 [==============================] - 0s 216us/sample - loss: 0.0458 - tanh_accuracy: 0.9960 - val_loss: 0.0755 - val_tanh_accuracy: 0.9800\n",
            "Epoch 42/100\n",
            "250/250 [==============================] - 0s 214us/sample - loss: 0.0454 - tanh_accuracy: 0.9960 - val_loss: 0.0687 - val_tanh_accuracy: 0.9880\n",
            "Epoch 43/100\n",
            "250/250 [==============================] - 0s 216us/sample - loss: 0.0460 - tanh_accuracy: 0.9960 - val_loss: 0.0666 - val_tanh_accuracy: 0.9880\n",
            "Epoch 44/100\n",
            "250/250 [==============================] - 0s 207us/sample - loss: 0.0418 - tanh_accuracy: 0.9960 - val_loss: 0.0692 - val_tanh_accuracy: 0.9880\n",
            "Epoch 45/100\n",
            "250/250 [==============================] - 0s 231us/sample - loss: 0.0404 - tanh_accuracy: 0.9960 - val_loss: 0.0672 - val_tanh_accuracy: 0.9880\n",
            "Epoch 46/100\n",
            "250/250 [==============================] - 0s 278us/sample - loss: 0.0389 - tanh_accuracy: 0.9960 - val_loss: 0.0625 - val_tanh_accuracy: 0.9880\n",
            "Epoch 47/100\n",
            "250/250 [==============================] - 0s 237us/sample - loss: 0.0370 - tanh_accuracy: 1.0000 - val_loss: 0.0574 - val_tanh_accuracy: 0.9880\n",
            "Epoch 48/100\n",
            "250/250 [==============================] - 0s 232us/sample - loss: 0.0379 - tanh_accuracy: 0.9960 - val_loss: 0.0642 - val_tanh_accuracy: 0.9840\n",
            "Epoch 49/100\n",
            "250/250 [==============================] - 0s 235us/sample - loss: 0.0362 - tanh_accuracy: 0.9960 - val_loss: 0.0561 - val_tanh_accuracy: 0.9880\n",
            "Epoch 50/100\n",
            "250/250 [==============================] - 0s 231us/sample - loss: 0.0349 - tanh_accuracy: 1.0000 - val_loss: 0.0575 - val_tanh_accuracy: 0.9880\n",
            "Epoch 51/100\n",
            "250/250 [==============================] - 0s 240us/sample - loss: 0.0335 - tanh_accuracy: 1.0000 - val_loss: 0.0614 - val_tanh_accuracy: 0.9880\n",
            "Epoch 52/100\n",
            "250/250 [==============================] - 0s 226us/sample - loss: 0.0314 - tanh_accuracy: 1.0000 - val_loss: 0.0561 - val_tanh_accuracy: 0.9880\n",
            "Epoch 53/100\n",
            "250/250 [==============================] - 0s 223us/sample - loss: 0.0316 - tanh_accuracy: 1.0000 - val_loss: 0.0544 - val_tanh_accuracy: 0.9880\n",
            "Epoch 54/100\n",
            "250/250 [==============================] - 0s 225us/sample - loss: 0.0307 - tanh_accuracy: 1.0000 - val_loss: 0.0529 - val_tanh_accuracy: 0.9880\n",
            "Epoch 55/100\n",
            "250/250 [==============================] - 0s 215us/sample - loss: 0.0297 - tanh_accuracy: 0.9960 - val_loss: 0.0517 - val_tanh_accuracy: 0.9880\n",
            "Epoch 56/100\n",
            "250/250 [==============================] - 0s 236us/sample - loss: 0.0297 - tanh_accuracy: 1.0000 - val_loss: 0.0558 - val_tanh_accuracy: 0.9880\n",
            "Epoch 57/100\n",
            "250/250 [==============================] - 0s 246us/sample - loss: 0.0294 - tanh_accuracy: 1.0000 - val_loss: 0.0544 - val_tanh_accuracy: 0.9880\n",
            "Epoch 58/100\n",
            "250/250 [==============================] - 0s 224us/sample - loss: 0.0282 - tanh_accuracy: 1.0000 - val_loss: 0.0620 - val_tanh_accuracy: 0.9880\n",
            "Epoch 59/100\n",
            "250/250 [==============================] - 0s 227us/sample - loss: 0.0297 - tanh_accuracy: 0.9960 - val_loss: 0.0535 - val_tanh_accuracy: 0.9880\n",
            "Epoch 60/100\n",
            "250/250 [==============================] - 0s 251us/sample - loss: 0.0266 - tanh_accuracy: 1.0000 - val_loss: 0.0547 - val_tanh_accuracy: 0.9880\n",
            "Epoch 61/100\n",
            "250/250 [==============================] - 0s 231us/sample - loss: 0.0254 - tanh_accuracy: 1.0000 - val_loss: 0.0475 - val_tanh_accuracy: 0.9880\n",
            "Epoch 62/100\n",
            "250/250 [==============================] - 0s 225us/sample - loss: 0.0240 - tanh_accuracy: 1.0000 - val_loss: 0.0506 - val_tanh_accuracy: 0.9880\n",
            "Epoch 63/100\n",
            "250/250 [==============================] - 0s 257us/sample - loss: 0.0246 - tanh_accuracy: 1.0000 - val_loss: 0.0485 - val_tanh_accuracy: 0.9880\n",
            "Epoch 64/100\n",
            "250/250 [==============================] - 0s 224us/sample - loss: 0.0237 - tanh_accuracy: 1.0000 - val_loss: 0.0461 - val_tanh_accuracy: 0.9880\n",
            "Epoch 65/100\n",
            "250/250 [==============================] - 0s 219us/sample - loss: 0.0236 - tanh_accuracy: 1.0000 - val_loss: 0.0496 - val_tanh_accuracy: 0.9880\n",
            "Epoch 66/100\n",
            "250/250 [==============================] - 0s 264us/sample - loss: 0.0232 - tanh_accuracy: 1.0000 - val_loss: 0.0485 - val_tanh_accuracy: 0.9880\n",
            "Epoch 67/100\n",
            "250/250 [==============================] - 0s 239us/sample - loss: 0.0225 - tanh_accuracy: 1.0000 - val_loss: 0.0452 - val_tanh_accuracy: 0.9880\n",
            "Epoch 68/100\n",
            "250/250 [==============================] - 0s 250us/sample - loss: 0.0218 - tanh_accuracy: 1.0000 - val_loss: 0.0465 - val_tanh_accuracy: 0.9880\n",
            "Epoch 69/100\n",
            "250/250 [==============================] - 0s 245us/sample - loss: 0.0218 - tanh_accuracy: 1.0000 - val_loss: 0.0435 - val_tanh_accuracy: 0.9880\n",
            "Epoch 70/100\n",
            "250/250 [==============================] - 0s 228us/sample - loss: 0.0207 - tanh_accuracy: 1.0000 - val_loss: 0.0485 - val_tanh_accuracy: 0.9880\n",
            "Epoch 71/100\n",
            "250/250 [==============================] - 0s 294us/sample - loss: 0.0202 - tanh_accuracy: 1.0000 - val_loss: 0.0436 - val_tanh_accuracy: 0.9880\n",
            "Epoch 72/100\n",
            "250/250 [==============================] - 0s 248us/sample - loss: 0.0194 - tanh_accuracy: 1.0000 - val_loss: 0.0473 - val_tanh_accuracy: 0.9880\n",
            "Epoch 73/100\n",
            "250/250 [==============================] - 0s 231us/sample - loss: 0.0200 - tanh_accuracy: 1.0000 - val_loss: 0.0461 - val_tanh_accuracy: 0.9880\n",
            "Epoch 74/100\n",
            "250/250 [==============================] - 0s 242us/sample - loss: 0.0192 - tanh_accuracy: 1.0000 - val_loss: 0.0442 - val_tanh_accuracy: 0.9880\n",
            "Epoch 75/100\n",
            "250/250 [==============================] - 0s 237us/sample - loss: 0.0190 - tanh_accuracy: 1.0000 - val_loss: 0.0425 - val_tanh_accuracy: 0.9880\n",
            "Epoch 76/100\n",
            "250/250 [==============================] - 0s 226us/sample - loss: 0.0183 - tanh_accuracy: 1.0000 - val_loss: 0.0433 - val_tanh_accuracy: 0.9880\n",
            "Epoch 77/100\n",
            "250/250 [==============================] - 0s 231us/sample - loss: 0.0182 - tanh_accuracy: 1.0000 - val_loss: 0.0439 - val_tanh_accuracy: 0.9880\n",
            "Epoch 78/100\n",
            "250/250 [==============================] - 0s 262us/sample - loss: 0.0177 - tanh_accuracy: 1.0000 - val_loss: 0.0441 - val_tanh_accuracy: 0.9880\n",
            "Epoch 79/100\n",
            "250/250 [==============================] - 0s 232us/sample - loss: 0.0188 - tanh_accuracy: 1.0000 - val_loss: 0.0404 - val_tanh_accuracy: 0.9880\n",
            "Epoch 80/100\n",
            "250/250 [==============================] - 0s 224us/sample - loss: 0.0168 - tanh_accuracy: 1.0000 - val_loss: 0.0435 - val_tanh_accuracy: 0.9880\n",
            "Epoch 81/100\n",
            "250/250 [==============================] - 0s 239us/sample - loss: 0.0166 - tanh_accuracy: 1.0000 - val_loss: 0.0390 - val_tanh_accuracy: 0.9880\n",
            "Epoch 82/100\n",
            "250/250 [==============================] - 0s 254us/sample - loss: 0.0168 - tanh_accuracy: 1.0000 - val_loss: 0.0401 - val_tanh_accuracy: 0.9880\n",
            "Epoch 83/100\n",
            "250/250 [==============================] - 0s 228us/sample - loss: 0.0160 - tanh_accuracy: 1.0000 - val_loss: 0.0398 - val_tanh_accuracy: 0.9880\n",
            "Epoch 84/100\n",
            "250/250 [==============================] - 0s 251us/sample - loss: 0.0160 - tanh_accuracy: 1.0000 - val_loss: 0.0404 - val_tanh_accuracy: 0.9880\n",
            "Epoch 85/100\n",
            "250/250 [==============================] - 0s 266us/sample - loss: 0.0155 - tanh_accuracy: 1.0000 - val_loss: 0.0420 - val_tanh_accuracy: 0.9880\n",
            "Epoch 86/100\n",
            "250/250 [==============================] - 0s 226us/sample - loss: 0.0155 - tanh_accuracy: 1.0000 - val_loss: 0.0407 - val_tanh_accuracy: 0.9880\n",
            "Epoch 87/100\n",
            "250/250 [==============================] - 0s 251us/sample - loss: 0.0155 - tanh_accuracy: 1.0000 - val_loss: 0.0408 - val_tanh_accuracy: 0.9880\n",
            "Epoch 88/100\n",
            "250/250 [==============================] - 0s 236us/sample - loss: 0.0148 - tanh_accuracy: 1.0000 - val_loss: 0.0429 - val_tanh_accuracy: 0.9880\n",
            "Epoch 89/100\n",
            "250/250 [==============================] - 0s 219us/sample - loss: 0.0149 - tanh_accuracy: 1.0000 - val_loss: 0.0437 - val_tanh_accuracy: 0.9880\n",
            "Epoch 90/100\n",
            "250/250 [==============================] - 0s 266us/sample - loss: 0.0142 - tanh_accuracy: 1.0000 - val_loss: 0.0417 - val_tanh_accuracy: 0.9880\n",
            "Epoch 91/100\n",
            "250/250 [==============================] - 0s 231us/sample - loss: 0.0142 - tanh_accuracy: 1.0000 - val_loss: 0.0396 - val_tanh_accuracy: 0.9880\n",
            "Epoch 92/100\n",
            "250/250 [==============================] - 0s 218us/sample - loss: 0.0137 - tanh_accuracy: 1.0000 - val_loss: 0.0422 - val_tanh_accuracy: 0.9880\n",
            "Epoch 93/100\n",
            "250/250 [==============================] - 0s 232us/sample - loss: 0.0135 - tanh_accuracy: 1.0000 - val_loss: 0.0392 - val_tanh_accuracy: 0.9880\n",
            "Epoch 94/100\n",
            "250/250 [==============================] - 0s 219us/sample - loss: 0.0135 - tanh_accuracy: 1.0000 - val_loss: 0.0420 - val_tanh_accuracy: 0.9880\n",
            "Epoch 95/100\n",
            "250/250 [==============================] - 0s 223us/sample - loss: 0.0136 - tanh_accuracy: 1.0000 - val_loss: 0.0388 - val_tanh_accuracy: 0.9880\n",
            "Epoch 96/100\n",
            "250/250 [==============================] - 0s 270us/sample - loss: 0.0131 - tanh_accuracy: 1.0000 - val_loss: 0.0387 - val_tanh_accuracy: 0.9880\n",
            "Epoch 97/100\n",
            "250/250 [==============================] - 0s 235us/sample - loss: 0.0127 - tanh_accuracy: 1.0000 - val_loss: 0.0399 - val_tanh_accuracy: 0.9880\n",
            "Epoch 98/100\n",
            "250/250 [==============================] - 0s 210us/sample - loss: 0.0128 - tanh_accuracy: 1.0000 - val_loss: 0.0373 - val_tanh_accuracy: 0.9880\n",
            "Epoch 99/100\n",
            "250/250 [==============================] - 0s 224us/sample - loss: 0.0122 - tanh_accuracy: 1.0000 - val_loss: 0.0379 - val_tanh_accuracy: 0.9880\n",
            "Epoch 100/100\n",
            "250/250 [==============================] - 0s 250us/sample - loss: 0.0122 - tanh_accuracy: 1.0000 - val_loss: 0.0373 - val_tanh_accuracy: 0.9880\n"
          ],
          "name": "stdout"
        },
        {
          "output_type": "execute_result",
          "data": {
            "text/plain": [
              "array([[0.98861]], dtype=float32)"
            ]
          },
          "metadata": {
            "tags": []
          },
          "execution_count": 41
        }
      ]
    },
    {
      "cell_type": "code",
      "metadata": {
        "id": "mzKfe4APisbj",
        "colab_type": "code",
        "colab": {}
      },
      "source": [
        "# 次に進む前にモデルをリセット\n",
        "tf.keras.backend.clear_session() # グラフを破棄する\n",
        "del model                        # 変数を削除する"
      ],
      "execution_count": 0,
      "outputs": []
    },
    {
      "cell_type": "markdown",
      "metadata": {
        "id": "aJSe9Kgh_vGt",
        "colab_type": "text"
      },
      "source": [
        "# (つづく)\n"
      ]
    }
  ]
}