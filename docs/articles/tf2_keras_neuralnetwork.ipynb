{
  "nbformat": 4,
  "nbformat_minor": 0,
  "metadata": {
    "colab": {
      "name": "tf2-keras-neuralnetwork.ipynb",
      "provenance": [],
      "private_outputs": true,
      "collapsed_sections": [],
      "toc_visible": true,
      "include_colab_link": true
    },
    "kernelspec": {
      "name": "python3",
      "display_name": "Python 3"
    }
  },
  "cells": [
    {
      "cell_type": "markdown",
      "metadata": {
        "id": "view-in-github",
        "colab_type": "text"
      },
      "source": [
        "<a href=\"https://colab.research.google.com/github/DeepInsider/playground-data/blob/master/docs/articles/tf2_keras_neuralnetwork.ipynb\" target=\"_parent\"><img src=\"https://colab.research.google.com/assets/colab-badge.svg\" alt=\"Open In Colab\"/></a>"
      ]
    },
    {
      "cell_type": "code",
      "metadata": {
        "id": "WZhsEJSQM7Jh",
        "colab_type": "code",
        "cellView": "both",
        "colab": {}
      },
      "source": [
        "#@title Licensed under the Apache License, Version 2.0 (the \"License\");\n",
        "# you may not use this file except in compliance with the License.\n",
        "# You may obtain a copy of the License at\n",
        "#\n",
        "# https://www.apache.org/licenses/LICENSE-2.0\n",
        "#\n",
        "# Unless required by applicable law or agreed to in writing, software\n",
        "# distributed under the License is distributed on an \"AS IS\" BASIS,\n",
        "# WITHOUT WARRANTIES OR CONDITIONS OF ANY KIND, either express or implied.\n",
        "# See the License for the specific language governing permissions and\n",
        "# limitations under the License."
      ],
      "execution_count": 0,
      "outputs": []
    },
    {
      "cell_type": "markdown",
      "metadata": {
        "id": "p4JztMOxNIvu",
        "colab_type": "text"
      },
      "source": [
        "# 「ニューラルネットワーク ― 仕組みの理解×初めての実装（全3回）」 ― 連載『TensorFlow 2.0＋Keras（ tf.keras）入門』のノートブック（1）"
      ]
    },
    {
      "cell_type": "markdown",
      "metadata": {
        "id": "FteEuY5_NVhO",
        "colab_type": "text"
      },
      "source": [
        "# <table valign=\"middle\">\n",
        "  <td>\n",
        "    <a target=\"_blank\" href=\"https://www.atmarkit.co.jp/ait/subtop/features/di/tf2keras_index.html\"> <img src=\"https://re.deepinsider.jp/img/ml-logo/manabu.svg\"/>Deep Insiderで記事を読む</a>\n",
        "  </td>\n",
        "  <td>\n",
        "    <a target=\"_blank\" href=\"https://colab.research.google.com/github/DeepInsider/playground-data/blob/master/docs/articles/tf2_keras_neuralnetwork.ipynb\"> <img src=\"https://re.deepinsider.jp/img/ml-logo/gcolab.svg\" />Google Colabで実行する</a>\n",
        "  </td>\n",
        "  <td>\n",
        "    <a target=\"_blank\" href=\"https://github.com/DeepInsider/playground-data/blob/master/docs/articles/tf2_keras_neuralnetwork.ipynb\"> <img src=\"https://re.deepinsider.jp/img/ml-logo/github.svg\" />GitHubでソースコードを見る</a>\n",
        "  </td>\n",
        "</table>"
      ]
    },
    {
      "cell_type": "markdown",
      "metadata": {
        "id": "2ueKLtX95oVW",
        "colab_type": "text"
      },
      "source": [
        "# 第1回　初めてのニューラルネットワーク実装の準備をしよう ― 仕組み理解×初実装（前編）"
      ]
    },
    {
      "cell_type": "markdown",
      "metadata": {
        "id": "pzMyXEPUNmKU",
        "colab_type": "text"
      },
      "source": [
        "## ■ディープラーニングの大まかな流れ"
      ]
    },
    {
      "cell_type": "markdown",
      "metadata": {
        "id": "iFOYuPJ6Ngnu",
        "colab_type": "text"
      },
      "source": [
        "- （1）データ準備\n",
        "- （2）問題種別\n",
        "- （3）前処理\n",
        "- （4）“手法” の選択： モデルの定義\n",
        "- （5）“学習方法” の設計： モデルの生成\n",
        "- （6）学習 ： トレーニング\n",
        "- （7）評価\n",
        "- （8）テスト"
      ]
    },
    {
      "cell_type": "markdown",
      "metadata": {
        "id": "SlVhlTU3N17D",
        "colab_type": "text"
      },
      "source": [
        "## ■（1）データ準備"
      ]
    },
    {
      "cell_type": "markdown",
      "metadata": {
        "id": "lMboLmdvjYaq",
        "colab_type": "text"
      },
      "source": [
        "### 【チェック】Pythonバージョン（※3系を使うこと）\n",
        "Colabにインストール済みのものを使う。もし2系になっている場合は、メニューバーの［ランタイム］－［ランタイムのタイプを変更］をクリックして切り替えてほしい。"
      ]
    },
    {
      "cell_type": "code",
      "metadata": {
        "id": "SziRZWCujWXN",
        "colab_type": "code",
        "colab": {}
      },
      "source": [
        "import sys\n",
        "print('Python', sys.version)\n",
        "# Python 3.6.8 (default, Jan 14 2019, 11:02:34) …… などと表示される"
      ],
      "execution_count": 0,
      "outputs": []
    },
    {
      "cell_type": "markdown",
      "metadata": {
        "id": "j2fU5kIiRher",
        "colab_type": "text"
      },
      "source": [
        "### リスト1　座標点データを生成するライブラリのインストール"
      ]
    },
    {
      "cell_type": "code",
      "metadata": {
        "id": "vnL886VJR-HB",
        "colab_type": "code",
        "colab": {}
      },
      "source": [
        "!pip install playground-data"
      ],
      "execution_count": 0,
      "outputs": []
    },
    {
      "cell_type": "markdown",
      "metadata": {
        "id": "BDTRqJ35OhXl",
        "colab_type": "text"
      },
      "source": [
        "## ■（2）問題種別"
      ]
    },
    {
      "cell_type": "markdown",
      "metadata": {
        "id": "GqQsWTEPuTQa",
        "colab_type": "text"
      },
      "source": [
        "### リスト2　問題種別とデータ種別の選択"
      ]
    },
    {
      "cell_type": "code",
      "metadata": {
        "id": "-M_-s3ooRmVd",
        "colab_type": "code",
        "colab": {}
      },
      "source": [
        "# playground-dataライブラリのplygdataパッケージを「pg」という別名でインポート\n",
        "import plygdata as pg\n",
        "\n",
        "# 問題種別で「分類（Classification）」を選択し、\n",
        "# データ種別で「2つのガウシアンデータ（TwoGaussData）」を選択する場合の、\n",
        "# 設定値を定数として定義\n",
        "PROBLEM_DATA_TYPE = pg.DatasetType.ClassifyTwoGaussData\n",
        "\n",
        "# ※実際のデータ生成は、後述の「pg.generate_data()関数の呼び出し」で行う"
      ],
      "execution_count": 0,
      "outputs": []
    },
    {
      "cell_type": "markdown",
      "metadata": {
        "id": "HO2bR6YxuZQb",
        "colab_type": "text"
      },
      "source": [
        "## ■（3）前処理"
      ]
    },
    {
      "cell_type": "markdown",
      "metadata": {
        "id": "n42V67PUOJXm",
        "colab_type": "text"
      },
      "source": [
        "### リスト3　前処理としてのデータ分割"
      ]
    },
    {
      "cell_type": "code",
      "metadata": {
        "id": "1A5hg4HbQvRd",
        "colab_type": "code",
        "colab": {}
      },
      "source": [
        "# 各種設定を定数として定義\n",
        "TRAINING_DATA_RATIO = 0.5  # データの何％を訓練【Training】用に？ (残りは精度検証【Validation】用) ： 50％\n",
        "DATA_NOISE = 0.0           # ノイズ： 0％\n",
        "\n",
        "# 定義済みの定数を引数に指定して、データを生成する\n",
        "data_list = pg.generate_data(PROBLEM_DATA_TYPE, DATA_NOISE)\n",
        "\n",
        "# データを「訓練用」と「精度検証用」を指定の比率で分割し、さらにそれぞれを「データ（X）」と「教師ラベル（y）」に分ける\n",
        "X_train, y_train, X_valid, y_valid = pg.split_data(data_list, training_size=TRAINING_DATA_RATIO)"
      ],
      "execution_count": 0,
      "outputs": []
    },
    {
      "cell_type": "markdown",
      "metadata": {
        "id": "rM61atkBkE-0",
        "colab_type": "text"
      },
      "source": [
        "### 【チェック】データ分割後の各変数の内容例"
      ]
    },
    {
      "cell_type": "code",
      "metadata": {
        "id": "ihdjta06UTEd",
        "colab_type": "code",
        "colab": {}
      },
      "source": [
        "# それぞれ5件ずつ出力\n",
        "print('X_train:'); print(X_train[:5])\n",
        "print('y_train:'); print(y_train[:5])\n",
        "print('X_valid:'); print(X_valid[:5])\n",
        "print('y_valid:'); print(y_valid[:5])"
      ],
      "execution_count": 0,
      "outputs": []
    },
    {
      "cell_type": "markdown",
      "metadata": {
        "id": "5IvcvfhndoFZ",
        "colab_type": "text"
      },
      "source": [
        "# 第2回　ニューラルネットワーク最速入門 ― 仕組み理解×初実装（中編）"
      ]
    },
    {
      "cell_type": "markdown",
      "metadata": {
        "id": "mFwgzpvAOsQo",
        "colab_type": "text"
      },
      "source": [
        "## ■（4）“手法”の選択とモデルの定義： ニューロン"
      ]
    },
    {
      "cell_type": "markdown",
      "metadata": {
        "id": "ZivcroJDOuAe",
        "colab_type": "text"
      },
      "source": [
        "### 活性化関数のグラフ（前編）\n",
        "後掲する（後編）に続きます。"
      ]
    },
    {
      "cell_type": "code",
      "metadata": {
        "id": "pDK-mz7rOwd4",
        "colab_type": "code",
        "cellView": "form",
        "colab": {}
      },
      "source": [
        "#@title シグモイド関数\n",
        "# This code will be hidden when the notebook is loaded.\n",
        "\n",
        "import numpy as np\n",
        "import matplotlib.pyplot as plt\n",
        "\n",
        "def sigmoid(x):\n",
        "  return 1.0 / (1.0 + np.exp(-x))\n",
        "\n",
        "x = np.arange(-6.0, 6.0, 0.001)\n",
        "plt.plot(x, sigmoid(x), label = \"Sigmoid\")\n",
        "plt.xlim(-6, 6)\n",
        "plt.ylim(-0.2, 1.2)\n",
        "plt.grid()\n",
        "plt.legend()\n",
        "plt.show()"
      ],
      "execution_count": 0,
      "outputs": []
    },
    {
      "cell_type": "code",
      "metadata": {
        "id": "h4_Ly_wBO6gA",
        "colab_type": "code",
        "cellView": "form",
        "colab": {}
      },
      "source": [
        "#@title tanh関数\n",
        "# This code will be hidden when the notebook is loaded.\n",
        "\n",
        "import numpy as np\n",
        "import matplotlib.pyplot as plt\n",
        "\n",
        "def sigmoid(x):\n",
        "  return 1.0 / (1.0 + np.exp(-x))\n",
        "\n",
        "def tanh(x):\n",
        "  return np.tanh(x)\n",
        "\n",
        "x = np.arange(-6.0, 6.0, 0.001)\n",
        "plt.plot(x, sigmoid(x), label = \"Sigmoid\")\n",
        "plt.plot(x, tanh(x), label = \"tanh\")\n",
        "plt.xlim(-6, 6)\n",
        "plt.ylim(-1.2, 1.2)\n",
        "plt.grid()\n",
        "plt.legend()\n",
        "plt.show()"
      ],
      "execution_count": 0,
      "outputs": []
    },
    {
      "cell_type": "markdown",
      "metadata": {
        "id": "RiSQljRoPDYF",
        "colab_type": "text"
      },
      "source": [
        "### 【チェック】TensorFlowバージョン（※2系を使うこと）\n",
        "基本的にはColabにインストール済みのものを使う。もし2系になっている場合は、リスト4-0を実行してバージョン2.0を使う。"
      ]
    },
    {
      "cell_type": "code",
      "metadata": {
        "id": "KOdS0iBJPF7n",
        "colab_type": "code",
        "colab": {}
      },
      "source": [
        "import tensorflow as tf\n",
        "print('TensorFlow', tf.__version__)\n",
        "# TensorFlow 1.15.0-rc3 ……などと表示される"
      ],
      "execution_count": 0,
      "outputs": []
    },
    {
      "cell_type": "markdown",
      "metadata": {
        "id": "9jBv9nSHU5mG",
        "colab_type": "text"
      },
      "source": [
        "### リスト4-0　［オプション］ライブラリ「TensorFlow」最新バージョンのインストール"
      ]
    },
    {
      "cell_type": "code",
      "metadata": {
        "id": "lSkcAJcUPL68",
        "colab_type": "code",
        "colab": {}
      },
      "source": [
        "# 最新バージョンにアップグレードする場合\n",
        "!pip install --upgrade tensorflow\n",
        "\n",
        "# バージョンを明示してアップグレードする場合\n",
        "#!pip install --upgrade tensorflow===2.0.0\n",
        "\n",
        "# 最新バージョンをインストールする場合\n",
        "#!pip install tensorflow\n",
        "\n",
        "# バージョンを明示してインストールする場合\n",
        "#!pip install tensorflow===2.0.0"
      ],
      "execution_count": 0,
      "outputs": []
    },
    {
      "cell_type": "markdown",
      "metadata": {
        "id": "pikKWy-tHseG",
        "colab_type": "text"
      },
      "source": [
        "### ［オプション］【チェック】TensorFlowバージョン（※インストール後の確認）\n",
        "バージョン2.xになっているか再度チェックする。"
      ]
    },
    {
      "cell_type": "code",
      "metadata": {
        "id": "3ofxIBjnHrun",
        "colab_type": "code",
        "colab": {}
      },
      "source": [
        "import tensorflow as tf\n",
        "print('TensorFlow', tf.__version__)\n",
        "# TensorFlow 2.0.0 ……などと表示される"
      ],
      "execution_count": 0,
      "outputs": []
    },
    {
      "cell_type": "markdown",
      "metadata": {
        "id": "q6aG55jaPQb5",
        "colab_type": "text"
      },
      "source": [
        "### リスト4-1　ニューロンのモデル設計\n",
        "- ニューロンへの入力＝$(w_1 \\times X_1)+(w_2 \\times X_2)+b$\n",
        "- ニューロンからの出力＝$a((w_1 \\times X_1)+(w_2 \\times X_2)+b)$\n",
        "  - $a()$は活性化関数を意味する。つまりニューロンの入力結果を、活性化関数で変換したうえで、出力する\n",
        "  - 今回の活性化関数は、**tanh**関数とする\n",
        "- $w_1=0.6$、$w_2=-0.2$、$b=0.8$と仮定して、ニューロンのモデルを定義\n",
        "  - ※これらの値は通常は学習により決定されるが、今回は未学習なので仮の固定数値としている\n",
        "  - 重さ（$w_1$と$w_2$）は2次元配列でまとめて表記する： `weight_array`\n",
        "    - 通常は、ニューロンは複数あるので、2次元配列で表記する\n",
        "    - 複数の重みが「行」を構成し、複数のニューロンが「列」を構成する\n",
        "    - 今回は、重みが**2つ**で、ニューロンが**1つ**なので、**2行1列**で記述する\n",
        "    -  `[[ 0.6],`<br>&nbsp;&nbsp;`[-0.2]]`\n",
        "  - バイアス（$b$）は1次元配列でまとめて表記する： `bias_array`\n",
        "    - `[0.8]`\n",
        "- そのニューロンに、座標$(X_1, X_2)$データを入力する\n",
        "  - 通常のデータは表形式（＝2次元配列）だが、今回は$(1.0, 2.0)$という1つのデータ\n",
        "    - 1つのデータでも2次元配列（具体的には**1行2列**）で表現する必要がある\n",
        "  - 入力の数（`INPUT_FEATURES`）は、$X_1$と$X_2$で**2つ**\n",
        "  - ニューロンの数（`LAYER1_NEURONS`）は、**1つ**"
      ]
    },
    {
      "cell_type": "code",
      "metadata": {
        "id": "HGz53J6VPZH3",
        "colab_type": "code",
        "colab": {}
      },
      "source": [
        "# ライブラリ「TensorFlow」のtensorflowパッケージを「tf」という別名でインポート\n",
        "import tensorflow as tf\n",
        "# ライブラリ「NumPy」のnumpyパッケージを「np」という別名でインポート\n",
        "import numpy as np\n",
        "\n",
        "# 定数（モデル定義時に必要となるもの）\n",
        "INPUT_FEATURES = 2  # 入力（特徴）の数： 2\n",
        "LAYER1_NEURONS = 1  # ニューロンの数： 1\n",
        "\n",
        "# パラメーター（ニューロンへの入力で必要となるもの）\n",
        "weight_array = np.array([[ 0.6 ],\n",
        "                         [-0.2 ]])       # 重み\n",
        "bias_array   = np.array([  0.8 ])        # バイアス\n",
        "\n",
        "# 積層型のモデルの定義\n",
        "model = tf.keras.models.Sequential([\n",
        "  tf.keras.layers.Dense(\n",
        "    input_shape=(INPUT_FEATURES,),       # 入力の形状\n",
        "    units=LAYER1_NEURONS,                # ユニットの数\n",
        "    weights=[weight_array, bias_array],  # 重みとバイアスの初期値\n",
        "    activation='tanh')                   # 活性化関数\n",
        "])\n",
        "\n",
        "# このモデルに、データを入力して、出力を得る（＝予測：predictする）\n",
        "X_data = np.array([[1.0, 2.0]])          # 入力する座標データ（1.0、2.0）\n",
        "print(model.predict(X_data))             # 出力を得る\n",
        "# [[0.7615942]] ……などと表示される"
      ],
      "execution_count": 0,
      "outputs": []
    },
    {
      "cell_type": "markdown",
      "metadata": {
        "id": "QiQtSHb4jDZV",
        "colab_type": "text"
      },
      "source": [
        "## ■（4）“手法”の選択とモデルの定義： ニューラルネットワーク"
      ]
    },
    {
      "cell_type": "markdown",
      "metadata": {
        "id": "_VT16L_p1o1R",
        "colab_type": "text"
      },
      "source": [
        "### リスト4-2　ニューラルネットワークのモデル設計\n",
        "- 入力の数（`INPUT_FEATURES`）は、$X_1$と$X_2$で**2つ**\n",
        "- 隠れ層のレイヤー数は、**2つ**\n",
        "  - 隠れ層にある1つ目のニューロンの数（`LAYER1_NEURONS`）は、**3つ**\n",
        "  - 隠れ層にある2つ目のニューロンの数（`LAYER2_NEURONS`）は、**3つ**\n",
        "- 出力層にあるニューロンの数（`OUTPUT_RESULTS`）は、**1つ**\n"
      ]
    },
    {
      "cell_type": "code",
      "metadata": {
        "id": "Udhyk4YZ1rNA",
        "colab_type": "code",
        "colab": {}
      },
      "source": [
        "# ライブラリ「TensorFlow」のtensorflowパッケージを「tf」という別名でインポート\n",
        "import tensorflow as tf\n",
        "# ライブラリ「NumPy」のnumpyパッケージを「np」という別名でインポート\n",
        "import numpy as np\n",
        "\n",
        "# 定数（モデル定義時に必要となる数値）\n",
        "INPUT_FEATURES = 2  # 入力（特徴）の数： 2\n",
        "LAYER1_NEURONS = 3  # ニューロンの数： 3\n",
        "LAYER2_NEURONS = 3  # ニューロンの数： 3\n",
        "OUTPUT_RESULTS = 1  # 出力結果の数： 1\n",
        "\n",
        "# 今度は重みとバイアスのパラメーターは指定しない（通常は指定しない）\n",
        "\n",
        "# 積層型のモデルの定義\n",
        "model = tf.keras.models.Sequential([\n",
        "  # 隠れ層：1つ目のレイヤー\n",
        "  tf.keras.layers.Dense(\n",
        "    input_shape=(INPUT_FEATURES,),       # 入力の形状（＝入力層）\n",
        "    units=LAYER1_NEURONS,                # ユニットの数\n",
        "    activation='tanh'),                  # 活性化関数\n",
        "  # 隠れ層：2つ目のレイヤー\n",
        "  tf.keras.layers.Dense(\n",
        "    units=LAYER2_NEURONS,                # ユニットの数\n",
        "    activation='tanh'),                  # 活性化関数\n",
        "  # 出力層\n",
        "  tf.keras.layers.Dense(\n",
        "    units=OUTPUT_RESULTS,                 # ユニットの数\n",
        "    activation='tanh'),                  # 活性化関数\n",
        "])"
      ],
      "execution_count": 0,
      "outputs": []
    },
    {
      "cell_type": "code",
      "metadata": {
        "id": "5_hvgG8B1rFP",
        "colab_type": "code",
        "colab": {}
      },
      "source": [
        "model.summary()"
      ],
      "execution_count": 0,
      "outputs": []
    },
    {
      "cell_type": "markdown",
      "metadata": {
        "id": "2ar9vyuqRiMv",
        "colab_type": "text"
      },
      "source": [
        "## ■（4）“手法” の選択とモデルの定義： 活性化関数"
      ]
    },
    {
      "cell_type": "markdown",
      "metadata": {
        "id": "jfGHPJhDRqpx",
        "colab_type": "text"
      },
      "source": [
        "### 活性化関数のグラフ（後編）\n",
        "前掲した（前編）の続きです。"
      ]
    },
    {
      "cell_type": "code",
      "metadata": {
        "id": "65eY3wAHSnu6",
        "colab_type": "code",
        "cellView": "form",
        "colab": {}
      },
      "source": [
        "#@title 線形関数\n",
        "# This code will be hidden when the notebook is loaded.\n",
        "\n",
        "import numpy as np\n",
        "import matplotlib.pyplot as plt\n",
        "\n",
        "def sigmoid(x):\n",
        "  return 1.0 / (1.0 + np.exp(-x))\n",
        "\n",
        "def linear(x):\n",
        "  return x\n",
        "\n",
        "x = np.arange(-6.0, 6.0, 0.001)\n",
        "plt.plot(x, sigmoid(x), label = \"Sigmoid\")\n",
        "plt.plot(x, linear(x), label = \"Linear\")\n",
        "plt.xlim(-6, 6)\n",
        "plt.ylim(-1.2, 1.2)\n",
        "plt.grid()\n",
        "plt.legend()\n",
        "plt.show()"
      ],
      "execution_count": 0,
      "outputs": []
    },
    {
      "cell_type": "code",
      "metadata": {
        "id": "NGStJujqS2P-",
        "colab_type": "code",
        "cellView": "form",
        "colab": {}
      },
      "source": [
        "#@title ReLU関数\n",
        "# This code will be hidden when the notebook is loaded.\n",
        "\n",
        "import numpy as np\n",
        "import matplotlib.pyplot as plt\n",
        "\n",
        "def sigmoid(x):\n",
        "  return 1.0 / (1.0 + np.exp(-x))\n",
        "\n",
        "def relu(x):\n",
        "  return np.maximum(0, x)\n",
        "\n",
        "x = np.arange(-6.0, 6.0, 0.001)\n",
        "plt.plot(x, sigmoid(x), label = \"Sigmoid\")\n",
        "plt.plot(x, relu(x), label = \"ReLU\")\n",
        "plt.xlim(-6, 6)\n",
        "plt.ylim(-1.2, 1.2)\n",
        "plt.grid()\n",
        "plt.legend()\n",
        "plt.show()"
      ],
      "execution_count": 0,
      "outputs": []
    },
    {
      "cell_type": "markdown",
      "metadata": {
        "id": "i5LzThaRjiQO",
        "colab_type": "text"
      },
      "source": [
        "### リスト4-3　活性化関数の指定例"
      ]
    },
    {
      "cell_type": "code",
      "metadata": {
        "id": "PTcPVVXfjrk-",
        "colab_type": "code",
        "colab": {}
      },
      "source": [
        "# ライブラリ「TensorFlow」のtensorflowパッケージを「tf」という別名でインポート\n",
        "import tensorflow as tf\n",
        "# ライブラリ「NumPy」のnumpyパッケージを「np」という別名でインポート\n",
        "import numpy as np\n",
        "\n",
        "# 定数（モデル定義時に必要となる数値）\n",
        "INPUT_FEATURES = 2      # 入力（特徴）の数： 2\n",
        "LAYER1_NEURONS = 3      # ニューロンの数： 3\n",
        "LAYER2_NEURONS = 3      # ニューロンの数： 3\n",
        "OUTPUT_RESULTS = 1      # 出力結果の数： 1\n",
        "ACTIVATION = 'sigmoid'  # 活性化関数（ここを書き換える）： シグモイド関数\n",
        "\n",
        "# 積層型のモデルの定義\n",
        "model = tf.keras.models.Sequential([\n",
        "  # 隠れ層：1つ目のレイヤー\n",
        "  tf.keras.layers.Dense(\n",
        "    input_shape=(INPUT_FEATURES,),       # 入力の形状（＝入力層）\n",
        "    units=LAYER1_NEURONS,                # ユニットの数\n",
        "    activation=ACTIVATION),              # 活性化関数\n",
        "  # 隠れ層：2つ目のレイヤー\n",
        "  tf.keras.layers.Dense(\n",
        "    units=LAYER2_NEURONS,                # ユニットの数\n",
        "    activation=ACTIVATION),              # 活性化関数\n",
        "  # 出力層\n",
        "  tf.keras.layers.Dense(\n",
        "    units=OUTPUT_RESULTS,                # ユニットの数\n",
        "    activation='tanh'),                  # 活性化関数\n",
        "])"
      ],
      "execution_count": 0,
      "outputs": []
    },
    {
      "cell_type": "markdown",
      "metadata": {
        "id": "vv8-7jmHRke1",
        "colab_type": "text"
      },
      "source": [
        "## ■（4）“手法” の選択とモデルの定義： 正則化"
      ]
    },
    {
      "cell_type": "markdown",
      "metadata": {
        "id": "g_edc57slBW6",
        "colab_type": "text"
      },
      "source": [
        "### リスト4-4　正則化の指定例"
      ]
    },
    {
      "cell_type": "code",
      "metadata": {
        "id": "28aZTzo_lFGU",
        "colab_type": "code",
        "colab": {}
      },
      "source": [
        "# ライブラリ「TensorFlow」のtensorflowパッケージを「tf」という別名でインポート\n",
        "import tensorflow as tf\n",
        "# ライブラリ「NumPy」のnumpyパッケージを「np」という別名でインポート\n",
        "import numpy as np\n",
        "\n",
        "# 定数（モデル定義時に必要となるもの）\n",
        "INPUT_FEATURES = 2      # 入力（特徴）の数： 2\n",
        "LAYER1_NEURONS = 3      # ニューロンの数： 3\n",
        "LAYER2_NEURONS = 3      # ニューロンの数： 3\n",
        "OUTPUT_RESULTS = 1      # 出力結果の数： 1\n",
        "ACTIVATION = 'tanh'     # 活性化関数（ここを書き換える）： シグモイド関数\n",
        "REGULARIZATION = tf.keras.regularizers.l2(0.03)  # 正則化： L2、 正則化率： 0.03\n",
        "\n",
        "# 積層型のモデルの定義\n",
        "model = tf.keras.models.Sequential([\n",
        "  # 隠れ層：1つ目のレイヤー\n",
        "  tf.keras.layers.Dense(\n",
        "    input_shape=(INPUT_FEATURES,),        # 入力の形状（＝入力層）\n",
        "    units=LAYER1_NEURONS,                 # ユニットの数\n",
        "    activation=ACTIVATION,                # 活性化関数\n",
        "    kernel_regularizer= REGULARIZATION),  # 正則化\n",
        "                  \n",
        "  # 隠れ層：2つ目のレイヤー\n",
        "  tf.keras.layers.Dense(\n",
        "    units=LAYER2_NEURONS,                 # ユニットの数\n",
        "    activation=ACTIVATION,                # 活性化関数\n",
        "    kernel_regularizer= REGULARIZATION),  # 正則化\n",
        "\n",
        "  # 出力層\n",
        "  tf.keras.layers.Dense(\n",
        "    units=OUTPUT_RESULTS,                 # ユニットの数\n",
        "    activation='tanh',                    # 活性化関数\n",
        "    kernel_regularizer= REGULARIZATION)   # 正則化    \n",
        "])"
      ],
      "execution_count": 0,
      "outputs": []
    },
    {
      "cell_type": "markdown",
      "metadata": {
        "id": "VKuMufbLdpGV",
        "colab_type": "text"
      },
      "source": [
        "# 第3回　ディープラーニング最速入門 ― 仕組み理解×初実装（後編）"
      ]
    },
    {
      "cell_type": "markdown",
      "metadata": {
        "id": "wiaaAwr4jDNG",
        "colab_type": "text"
      },
      "source": [
        "## ■（5）“学習方法” の設計とモデルの生成： 損失関数"
      ]
    },
    {
      "cell_type": "markdown",
      "metadata": {
        "id": "2Yctz_lisMwV",
        "colab_type": "text"
      },
      "source": [
        "### リスト5-1　損失関数の定義"
      ]
    },
    {
      "cell_type": "code",
      "metadata": {
        "id": "pnPuPqW9sRT6",
        "colab_type": "code",
        "colab": {}
      },
      "source": [
        "# 定数（学習方法設計時に必要となる数値）\n",
        "LOSS = 'mean_squared_error'  # 損失関数：平均二乗誤差"
      ],
      "execution_count": 0,
      "outputs": []
    },
    {
      "cell_type": "markdown",
      "metadata": {
        "id": "BCbCa5p3snZ0",
        "colab_type": "text"
      },
      "source": [
        "## ■（5）“学習方法” の設計とモデルの生成： 最適化"
      ]
    },
    {
      "cell_type": "markdown",
      "metadata": {
        "id": "EFXEfgjXskEg",
        "colab_type": "text"
      },
      "source": [
        "### リスト5-2　最適化の定義"
      ]
    },
    {
      "cell_type": "code",
      "metadata": {
        "id": "1NOoaJ1Isgqw",
        "colab_type": "code",
        "colab": {}
      },
      "source": [
        "# （必要に応じて）TensorFlow v2の最新バージョンにアップグレードする必要がある\n",
        "#!pip install --upgrade tensorflow\n",
        "# ライブラリ「TensorFlow」のtensorflowパッケージを「tf」という別名でインポート\n",
        "import tensorflow as tf\n",
        "\n",
        "# 定数（学習方法設計時に必要となるもの）\n",
        "OPTIMIZER = tf.keras.optimizers.SGD  # 最適化：確率的勾配降下法"
      ],
      "execution_count": 0,
      "outputs": []
    },
    {
      "cell_type": "markdown",
      "metadata": {
        "id": "ZkEWzzu1tjaX",
        "colab_type": "text"
      },
      "source": [
        "## ■（5）“学習方法” の設計とモデルの生成： 学習率"
      ]
    },
    {
      "cell_type": "markdown",
      "metadata": {
        "id": "e6Hr38pKttxO",
        "colab_type": "text"
      },
      "source": [
        "### リスト5-3　学習率の定義"
      ]
    },
    {
      "cell_type": "code",
      "metadata": {
        "id": "Ss5mZa3ZtwSd",
        "colab_type": "code",
        "colab": {}
      },
      "source": [
        "# 定数（学習方法設計時に必要となるもの）\n",
        "LEARNING_RATE = 0.03     # 学習率： 0.03"
      ],
      "execution_count": 0,
      "outputs": []
    },
    {
      "cell_type": "markdown",
      "metadata": {
        "id": "_5EZb3CQvkjf",
        "colab_type": "text"
      },
      "source": [
        "### リスト5-4　【前回の復習】モデルの定義"
      ]
    },
    {
      "cell_type": "code",
      "metadata": {
        "id": "XPXUXDepwmdf",
        "colab_type": "code",
        "colab": {}
      },
      "source": [
        "# ライブラリ「TensorFlow」のtensorflowパッケージを「tf」という別名でインポート\n",
        "import tensorflow as tf\n",
        "\n",
        "# 定数（モデル定義時に必要となる数値）\n",
        "INPUT_FEATURES = 2      # 入力（特徴）の数： 2\n",
        "LAYER1_NEURONS = 3      # ニューロンの数： 3\n",
        "LAYER2_NEURONS = 3      # ニューロンの数： 3\n",
        "OUTPUT_RESULTS = 1      # 出力結果の数： 1\n",
        "ACTIVATION = 'tanh'     # 活性化関数（ここを書き換える）： tanh関数\n",
        "\n",
        "# 積層型のモデルの定義\n",
        "model = tf.keras.models.Sequential([\n",
        "\n",
        "  # 隠れ層：1つ目のレイヤー\n",
        "  tf.keras.layers.Dense(\n",
        "    input_shape=(INPUT_FEATURES,),       # 入力の形状（＝入力層）\n",
        "    units=LAYER1_NEURONS,                # ユニットの数\n",
        "    activation=ACTIVATION),              # 活性化関数\n",
        "\n",
        "  # 隠れ層：2つ目のレイヤー\n",
        "  tf.keras.layers.Dense(\n",
        "    units=LAYER2_NEURONS,                # ユニットの数\n",
        "    activation=ACTIVATION),              # 活性化関数\n",
        "\n",
        "  # 出力層\n",
        "  tf.keras.layers.Dense(\n",
        "    units=OUTPUT_RESULTS,                # ユニットの数\n",
        "    activation='tanh'),                  # 活性化関数\n",
        "])"
      ],
      "execution_count": 0,
      "outputs": []
    },
    {
      "cell_type": "code",
      "metadata": {
        "id": "UzLt-2FKdEjc",
        "colab_type": "code",
        "colab": {}
      },
      "source": [
        "model.summary()"
      ],
      "execution_count": 0,
      "outputs": []
    },
    {
      "cell_type": "markdown",
      "metadata": {
        "id": "Trk7kOFowxiQ",
        "colab_type": "text"
      },
      "source": [
        "### リスト5-5　正解率（精度）のカスタム指標"
      ]
    },
    {
      "cell_type": "code",
      "metadata": {
        "id": "5exRP34Hxez8",
        "colab_type": "code",
        "colab": {}
      },
      "source": [
        "import tensorflow.keras.backend as K\n",
        "\n",
        "def tanh_accuracy(y_true, y_pred):           # y_trueは正解、y_predは予測（出力）\n",
        "  threshold = K.cast(0.0, y_pred.dtype)              # -1か1かを分ける閾値を作成\n",
        "  y_pred = K.cast(y_pred >= threshold, y_pred.dtype) # 閾値未満で0、以上で1に変換\n",
        "  # 2倍して-1.0することで、0／1を-1.0／1.0にスケール変換して正解率を計算\n",
        "  return K.mean(K.equal(y_true, y_pred * 2 - 1.0), axis=-1)"
      ],
      "execution_count": 0,
      "outputs": []
    },
    {
      "cell_type": "markdown",
      "metadata": {
        "id": "K48EyWqY8QCw",
        "colab_type": "text"
      },
      "source": [
        "### リスト5-6　モデルの生成"
      ]
    },
    {
      "cell_type": "code",
      "metadata": {
        "id": "mMaORFyxw31H",
        "colab_type": "code",
        "colab": {}
      },
      "source": [
        "# 定数（学習方法設計時に必要となるもの）\n",
        "LOSS = 'mean_squared_error'          # 損失関数： 平均二乗誤差\n",
        "OPTIMIZER = tf.keras.optimizers.SGD  # 最適化： 確率的勾配降下法\n",
        "LEARNING_RATE = 0.03                  # 学習率： 0.03\n",
        "\n",
        "# モデルを生成する\n",
        "model.compile(optimizer=OPTIMIZER(lr=LEARNING_RATE),\n",
        "              loss=LOSS,\n",
        "              metrics=[tanh_accuracy])  # 精度（正解率）"
      ],
      "execution_count": 0,
      "outputs": []
    },
    {
      "cell_type": "markdown",
      "metadata": {
        "id": "0eW-44PN-eCR",
        "colab_type": "text"
      },
      "source": [
        "## ■⑥学習： トレーニング"
      ]
    },
    {
      "cell_type": "markdown",
      "metadata": {
        "id": "P8Vx0jZc--Zu",
        "colab_type": "text"
      },
      "source": [
        "### リスト6-1　【前々回の復習】データの取得と分割"
      ]
    },
    {
      "cell_type": "code",
      "metadata": {
        "id": "2ekAZt6M_BVd",
        "colab_type": "code",
        "colab": {}
      },
      "source": [
        "# （必要に応じて）座標点データを生成するライブラリをインストールする必要がある\n",
        "#!pip install playground-data\n",
        "\n",
        "# playground-dataライブラリのplygdataパッケージを「pg」という別名でインポート\n",
        "import plygdata as pg\n",
        "\n",
        "# 問題種別で「分類（Classification）」を選択し、\n",
        "# データ種別で「2つのガウシアンデータ（TwoGaussData）」を選択する場合の、\n",
        "# 設定値を定数として定義\n",
        "PROBLEM_DATA_TYPE = pg.DatasetType.ClassifyTwoGaussData\n",
        "\n",
        "# 各種設定を定数として定義\n",
        "TRAINING_DATA_RATIO = 0.5  # データの何％を訓練【Training】用に？ (残りは精度検証【Validation】用) ： 50％\n",
        "DATA_NOISE = 0.0           # ノイズ： 0％\n",
        "\n",
        "# 定義済みの定数を引数に指定して、データを生成する\n",
        "data_list = pg.generate_data(PROBLEM_DATA_TYPE, DATA_NOISE)\n",
        "\n",
        "# データを「訓練用」と「精度検証用」を指定の比率で分割し、さらにそれぞれを「データ（X）」と「教師ラベル（y）」に分ける\n",
        "X_train, y_train, X_valid, y_valid = pg.split_data(data_list, training_size=TRAINING_DATA_RATIO)"
      ],
      "execution_count": 0,
      "outputs": []
    },
    {
      "cell_type": "code",
      "metadata": {
        "id": "ibT9BFNthhXM",
        "colab_type": "code",
        "colab": {}
      },
      "source": [
        "# それぞれ5件ずつ出力\n",
        "print('X_train:'); print(X_train[:5])\n",
        "print('y_train:'); print(y_train[:5])\n",
        "print('X_valid:'); print(X_valid[:5])\n",
        "print('y_valid:'); print(y_valid[:5])"
      ],
      "execution_count": 0,
      "outputs": []
    },
    {
      "cell_type": "markdown",
      "metadata": {
        "id": "u_WjT4j5AvRt",
        "colab_type": "text"
      },
      "source": [
        "### リスト6-2　学習"
      ]
    },
    {
      "cell_type": "code",
      "metadata": {
        "id": "b72uD9v8AxeP",
        "colab_type": "code",
        "colab": {}
      },
      "source": [
        "# 定数（学習方法設計時に必要となるもの）\n",
        "BATCH_SIZE = 1   # バッチサイズ： 1（選択肢は「1」～「30」）\n",
        "EPOCHS = 100     # エポック数： 100\n",
        "\n",
        "# 学習する（※次の「リスト6-3　ミニバッチ学習」で実行するので、ここではまだ実行しないこと）\n",
        "#hist = model.fit(x=X_train,                          # 訓練用データ\n",
        "#                 y=y_train,                          # 訓練用ラベル\n",
        "#                 validation_data=(X_valid, y_valid), # 精度検証用\n",
        "#                 batch_size=BATCH_SIZE,              # バッチサイズ\n",
        "#                 epochs=EPOCHS,                      # エポック数\n",
        "#                 verbose=1)                          # 実行状況表示"
      ],
      "execution_count": 0,
      "outputs": []
    },
    {
      "cell_type": "markdown",
      "metadata": {
        "id": "MacZaXSUZiTh",
        "colab_type": "text"
      },
      "source": [
        "## ■⑥学習： バッチサイズ"
      ]
    },
    {
      "cell_type": "markdown",
      "metadata": {
        "id": "7lTC91yBZouR",
        "colab_type": "text"
      },
      "source": [
        "###リスト6-3　ミニバッチ学習"
      ]
    },
    {
      "cell_type": "code",
      "metadata": {
        "id": "PfKc72v-Z6FW",
        "colab_type": "code",
        "colab": {}
      },
      "source": [
        "# 定数（学習方法設計時に必要となるもの）\n",
        "BATCH_SIZE = 15  # バッチサイズ： 15（選択肢は「1」～「30」）\n",
        "EPOCHS = 100     # エポック数： 100\n",
        "\n",
        "# 学習する\n",
        "hist = model.fit(x=X_train,                          # 訓練用データ\n",
        "                 y=y_train,                          # 訓練用ラベル\n",
        "                 validation_data=(X_valid, y_valid), # 精度検証用\n",
        "                 batch_size=BATCH_SIZE,              # バッチサイズ\n",
        "                 epochs=EPOCHS,                      # エポック数\n",
        "                 verbose=1)                          # 実行状況表示"
      ],
      "execution_count": 0,
      "outputs": []
    },
    {
      "cell_type": "markdown",
      "metadata": {
        "id": "Jz1U1sOTaDiN",
        "colab_type": "text"
      },
      "source": [
        "## ■⑦評価： 損失のグラフ"
      ]
    },
    {
      "cell_type": "markdown",
      "metadata": {
        "id": "pl7Cau6jGqF6",
        "colab_type": "text"
      },
      "source": [
        "### リスト7-1　損失値の推移グラフ描画"
      ]
    },
    {
      "cell_type": "code",
      "metadata": {
        "id": "aWlji88SdXpS",
        "colab_type": "code",
        "colab": {}
      },
      "source": [
        "import matplotlib.pyplot as plt\n",
        "\n",
        "# 学習結果（損失）のグラフを描画\n",
        "train_loss = hist.history['loss']\n",
        "valid_loss = hist.history['val_loss']\n",
        "epochs = len(train_loss)\n",
        "plt.plot(range(epochs), train_loss, marker='.', label='loss (Training data)')\n",
        "plt.plot(range(epochs), valid_loss, marker='.', label='loss (Validation data)')\n",
        "plt.legend(loc='best')\n",
        "plt.grid()\n",
        "plt.xlabel('epoch')\n",
        "plt.ylabel('loss')\n",
        "plt.show()"
      ],
      "execution_count": 0,
      "outputs": []
    },
    {
      "cell_type": "markdown",
      "metadata": {
        "id": "6hxpyN4UHWu0",
        "colab_type": "text"
      },
      "source": [
        "### リスト7-2　コールバックの指定（早期終了とCSVログ出力）"
      ]
    },
    {
      "cell_type": "code",
      "metadata": {
        "id": "S2cNbgO1KORq",
        "colab_type": "code",
        "colab": {}
      },
      "source": [
        "# 早期終了\n",
        "es = tf.keras.callbacks.EarlyStopping(monitor='val_loss', patience=2)\n",
        "\n",
        "# CSVロガー\n",
        "csv_logger = tf.keras.callbacks.CSVLogger('training.log')\n",
        "\n",
        "# 学習する\n",
        "hist = model.fit(x=X_train,                          # 訓練用データ\n",
        "                 y=y_train,                          # 訓練用ラベル\n",
        "                 validation_data=(X_valid, y_valid), # 精度検証用\n",
        "                 batch_size=BATCH_SIZE,              # バッチサイズ\n",
        "                 epochs=EPOCHS,                      # エポック数\n",
        "                 verbose=1,                          # 実行状況表示\n",
        "                 callbacks=[es, csv_logger])         # コールバック"
      ],
      "execution_count": 0,
      "outputs": []
    },
    {
      "cell_type": "code",
      "metadata": {
        "id": "Gr2hm9-SMbL7",
        "colab_type": "code",
        "colab": {}
      },
      "source": [
        "# CSVログ出力ファイルをダウンロード\n",
        "from google.colab import files\n",
        "files.download('training.log')"
      ],
      "execution_count": 0,
      "outputs": []
    },
    {
      "cell_type": "markdown",
      "metadata": {
        "id": "qwX4x2a6XPyJ",
        "colab_type": "text"
      },
      "source": [
        "## ■⑧テスト： 未知データで推論と評価"
      ]
    },
    {
      "cell_type": "markdown",
      "metadata": {
        "id": "A2igjG_3aqTC",
        "colab_type": "text"
      },
      "source": [
        "### リスト8-1　未知データによるテスト（推論と評価）"
      ]
    },
    {
      "cell_type": "code",
      "metadata": {
        "id": "A9L2DvJDlozl",
        "colab_type": "code",
        "colab": {}
      },
      "source": [
        "import plygdata as pg\n",
        "import numpy as np\n",
        "\n",
        "# 未知のテストデータを生成\n",
        "PROBLEM_DATA_TYPE = pg.DatasetType.ClassifyTwoGaussData\n",
        "TEST_DATA_RATIO = 1.0  # データの何％を訓練【Training】用に？ (残りは精度検証【Validation】用) ： 100％\n",
        "DATA_NOISE = 0.0       # ノイズ： 0％\n",
        "data_list = pg.generate_data(PROBLEM_DATA_TYPE, DATA_NOISE)\n",
        "X_test, y_test, _, _ = pg.split_data(data_list, training_size=TEST_DATA_RATIO)\n",
        "\n",
        "# 学習済みモデルを使って推論\n",
        "result_proba = model.predict(X_test)\n",
        "result_class = np.frompyfunc(lambda x: 1 if x >= 0.0 else -1, 1, 1)(result_proba) # 離散化\n",
        "# それぞれ5件ずつ出力\n",
        "print('proba:'); print(result_proba[:5])  # 予測\n",
        "print('class:'); print(result_class[:5])  # 分類\n",
        "\n",
        "# 未知のテストデータで学習済みモデルの汎化性能を評価\n",
        "score = model.evaluate(X_test, y_test)\n",
        "print('test loss:', score[0])  # 損失\n",
        "print('test acc:', score[1])   # 正解率"
      ],
      "execution_count": 0,
      "outputs": []
    },
    {
      "cell_type": "markdown",
      "metadata": {
        "id": "FhwqkgxTfwoa",
        "colab_type": "text"
      },
      "source": [
        "## ■おまけ"
      ]
    },
    {
      "cell_type": "markdown",
      "metadata": {
        "id": "qyIh_i_Jfx79",
        "colab_type": "text"
      },
      "source": [
        "### リスト9-1　ニューラルネットワーク内の重みやバイアスを調べるためのサンプルコード"
      ]
    },
    {
      "cell_type": "code",
      "metadata": {
        "id": "GSAKki03vMg3",
        "colab_type": "code",
        "colab": {}
      },
      "source": [
        "start_index = 0 # Sequential（積層型）モデルの場合は、0スタート\n",
        "#start_index = 1 # Functional（関数型）APIの場合は、0が入力層になっているので注意\n",
        "\n",
        "\n",
        "# 隠れ層1\n",
        "hidden1_layer = model.layers[start_index]\n",
        "print(' 隠れ層1：',hidden1_layer.name)\n",
        "hidden1_weights =  hidden1_layer.get_weights()\n",
        "print(hidden1_weights)\n",
        "# weights = hidden1_weights[0]\n",
        "h1_w1 = hidden1_weights[0][0, 0]\n",
        "h1_w2 = hidden1_weights[0][1, 0]\n",
        "# biases = hidden1_weights[1]\n",
        "h1_b = hidden1_weights[1][0]\n",
        "# 一部を出力\n",
        "print('h1_w1=',h1_w1)\n",
        "print('h1_w2=',h1_w2)\n",
        "print('h1_b=',h1_b)\n",
        "print()\n",
        "\n",
        "# 中間レイヤーにおける出力例\n",
        "print(' 隠れ層1の出力')\n",
        "test_data = np.array([[0.4, 3.2], [5.8, 3.1], [-5.8, -3.1]], dtype=np.float32)\n",
        "intermediate1_model = tf.keras.models.Model(inputs=model.input, outputs=hidden1_layer.output)\n",
        "intermediate1_output = intermediate1_model.predict(test_data)\n",
        "print(intermediate1_output)\n",
        "print()\n",
        "\n",
        "\n",
        "# 隠れ層2\n",
        "hidden2_layer = model.layers[start_index+1]\n",
        "print(' 隠れ層2：',hidden2_layer.name)\n",
        "hidden2_weights =  hidden2_layer.get_weights()\n",
        "print(hidden2_weights)\n",
        "# weights = hidden2_weights[0]\n",
        "h2_w1 = hidden2_weights[0][0, 0]\n",
        "h2_w2 = hidden2_weights[0][1, 0]\n",
        "# biases = hidden2_weights[1]\n",
        "h2_b = hidden2_weights[1][0]\n",
        "# 一部を出力\n",
        "print('h2_w1=',h2_w1)\n",
        "print('h2_w2=',h2_w2)\n",
        "print('h2_b=',h2_b)\n",
        "print()\n",
        "\n",
        "# 中間レイヤーにおける出力例\n",
        "print(' 隠れ層2の出力')\n",
        "test_data = np.array([[0.4, 3.2], [5.8, 3.1], [-5.8, -3.1]], dtype=np.float32)\n",
        "intermediate2_model = tf.keras.models.Model(inputs=model.input, outputs=hidden2_layer.output)\n",
        "intermediate2_output = intermediate2_model.predict(test_data)\n",
        "print(intermediate2_output)\n",
        "print()\n",
        "\n",
        "\n",
        "# 出力層\n",
        "output_layer = model.layers[start_index+2]\n",
        "print(' 出力層：',output_layer.name)\n",
        "output_weights =  output_layer.get_weights()\n",
        "print(output_weights)\n",
        "# weights = output_weights[0]\n",
        "o_w1 = output_weights[0][0, 0]\n",
        "o_w2 = output_weights[0][1, 0]\n",
        "# biases = output_weights[1]\n",
        "o_b = output_weights[1][0]\n",
        "# 一部を出力\n",
        "print('o_w1=',o_w1)\n",
        "print('o_w2=',o_w2)\n",
        "print('o_b=',o_b)\n",
        "print()\n",
        "\n",
        "# 出力レイヤーにおける出力例\n",
        "print('出力層の出力＝モデル全体の出力')\n",
        "output_model = tf.keras.models.Model(inputs=model.input, outputs=output_layer.output)\n",
        "output_output = output_model.predict(test_data)\n",
        "print(output_output)\n",
        "print()\n",
        "\n",
        "print('モデル全体の出力')\n",
        "test_data = np.array([[0.4, 3.2], [5.8, 3.1], [-5.8, -3.1]], dtype=np.float32)\n",
        "result = model.predict(test_data)\n",
        "print(result)"
      ],
      "execution_count": 0,
      "outputs": []
    },
    {
      "cell_type": "markdown",
      "metadata": {
        "id": "E5KufJ89cs2d",
        "colab_type": "text"
      },
      "source": [
        "# お疲れさまでした。『ニューラルネットワーク、仕組みの理解×初めての実装』は修了です。"
      ]
    }
  ]
}