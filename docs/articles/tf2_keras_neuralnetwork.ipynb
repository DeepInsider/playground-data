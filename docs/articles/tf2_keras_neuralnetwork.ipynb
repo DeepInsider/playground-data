{
  "nbformat": 4,
  "nbformat_minor": 0,
  "metadata": {
    "colab": {
      "name": "tf2-keras-neuralnetwork.ipynb",
      "version": "0.3.2",
      "provenance": [],
      "collapsed_sections": [],
      "toc_visible": true,
      "include_colab_link": true
    },
    "kernelspec": {
      "name": "python3",
      "display_name": "Python 3"
    }
  },
  "cells": [
    {
      "cell_type": "markdown",
      "metadata": {
        "id": "view-in-github",
        "colab_type": "text"
      },
      "source": [
        "<a href=\"https://colab.research.google.com/github/DeepInsider/playground-data/blob/master/docs/articles/tf2_keras_neuralnetwork.ipynb\" target=\"_parent\"><img src=\"https://colab.research.google.com/assets/colab-badge.svg\" alt=\"Open In Colab\"/></a>"
      ]
    },
    {
      "cell_type": "code",
      "metadata": {
        "id": "WZhsEJSQM7Jh",
        "colab_type": "code",
        "cellView": "both",
        "colab": {}
      },
      "source": [
        "#@title Licensed under the Apache License, Version 2.0 (the \"License\");\n",
        "# you may not use this file except in compliance with the License.\n",
        "# You may obtain a copy of the License at\n",
        "#\n",
        "# https://www.apache.org/licenses/LICENSE-2.0\n",
        "#\n",
        "# Unless required by applicable law or agreed to in writing, software\n",
        "# distributed under the License is distributed on an \"AS IS\" BASIS,\n",
        "# WITHOUT WARRANTIES OR CONDITIONS OF ANY KIND, either express or implied.\n",
        "# See the License for the specific language governing permissions and\n",
        "# limitations under the License."
      ],
      "execution_count": 0,
      "outputs": []
    },
    {
      "cell_type": "markdown",
      "metadata": {
        "id": "p4JztMOxNIvu",
        "colab_type": "text"
      },
      "source": [
        "# 「ニューラルネットワーク ― 仕組みの理解×初めての実装（全3回）」 ― 連載『TensorFlow 2.0＋Keras（ tf.keras）入門』のノートブック"
      ]
    },
    {
      "cell_type": "markdown",
      "metadata": {
        "id": "FteEuY5_NVhO",
        "colab_type": "text"
      },
      "source": [
        "<table valign=\"middle\">\n",
        "  <td>\n",
        "    <a target=\"_blank\" href=\"https://www.atmarkit.co.jp/ait/subtop/features/di/tf2keras_index.html\"> <img src=\"https://re.deepinsider.jp/img/ml-logo/manabu.svg\"/>Deep Insiderで記事を読む</a>\n",
        "  </td>\n",
        "  <td>\n",
        "    <a target=\"_blank\" href=\"https://colab.research.google.com/github/DeepInsider/playground-data/blob/master/docs/articles/tf2_keras_neuralnetwork.ipynb\"> <img src=\"https://re.deepinsider.jp/img/ml-logo/gcolab.svg\" />Google Colabで実行する</a>\n",
        "  </td>\n",
        "  <td>\n",
        "    <a target=\"_blank\" href=\"https://github.com/DeepInsider/playground-data/blob/master/docs/articles/tf2_keras_neuralnetwork.ipynb\"> <img src=\"https://re.deepinsider.jp/img/ml-logo/github.svg\" />GitHubでソースコードを見る</a>\n",
        "  </td>\n",
        "</table>"
      ]
    },
    {
      "cell_type": "markdown",
      "metadata": {
        "id": "2ueKLtX95oVW",
        "colab_type": "text"
      },
      "source": [
        "# 第1回　初めてのニューラルネットワーク実装の準備をしよう ― 仕組み理解×初実装（前編）"
      ]
    },
    {
      "cell_type": "markdown",
      "metadata": {
        "id": "pzMyXEPUNmKU",
        "colab_type": "text"
      },
      "source": [
        "## ■ディープラーニングの大まかな流れ"
      ]
    },
    {
      "cell_type": "markdown",
      "metadata": {
        "id": "iFOYuPJ6Ngnu",
        "colab_type": "text"
      },
      "source": [
        "- （1）データ準備\n",
        "- （2）問題種別\n",
        "- （3）前処理\n",
        "- （4）“手法” の選択： モデルの定義\n",
        "- （5）“学習方法” の設計： モデルの生成\n",
        "- （6）学習 ： トレーニング\n",
        "- （7）評価\n",
        "- （8）テスト"
      ]
    },
    {
      "cell_type": "markdown",
      "metadata": {
        "id": "SlVhlTU3N17D",
        "colab_type": "text"
      },
      "source": [
        "## ■（1）データ準備"
      ]
    },
    {
      "cell_type": "markdown",
      "metadata": {
        "id": "lMboLmdvjYaq",
        "colab_type": "text"
      },
      "source": [
        "### 【チェック】Pythonバージョン（※3系を使うこと）\n",
        "Colabにインストール済みのものを使う。もし2系になっている場合は、メニューバーの［ランタイム］－［ランタイムのタイプを変更］をクリックして切り替えてほしい。"
      ]
    },
    {
      "cell_type": "code",
      "metadata": {
        "id": "SziRZWCujWXN",
        "colab_type": "code",
        "outputId": "d095a18b-2cf6-40c2-cd59-915e225e473c",
        "colab": {
          "base_uri": "https://localhost:8080/",
          "height": 51
        }
      },
      "source": [
        "import sys\n",
        "print('Python', sys.version)\n",
        "# Python 3.6.8 (default, Jan 14 2019, 11:02:34) …… などと表示される"
      ],
      "execution_count": 1,
      "outputs": [
        {
          "output_type": "stream",
          "text": [
            "Python 3.6.8 (default, Jan 14 2019, 11:02:34) \n",
            "[GCC 8.0.1 20180414 (experimental) [trunk revision 259383]]\n"
          ],
          "name": "stdout"
        }
      ]
    },
    {
      "cell_type": "markdown",
      "metadata": {
        "id": "j2fU5kIiRher",
        "colab_type": "text"
      },
      "source": [
        "### リスト1　座標点データを生成するライブラリのインストール"
      ]
    },
    {
      "cell_type": "code",
      "metadata": {
        "id": "vnL886VJR-HB",
        "colab_type": "code",
        "outputId": "d8ae949a-1e08-44c2-cad0-5afa2c8822ba",
        "colab": {
          "base_uri": "https://localhost:8080/",
          "height": 306
        }
      },
      "source": [
        "!pip install playground-data"
      ],
      "execution_count": 2,
      "outputs": [
        {
          "output_type": "stream",
          "text": [
            "Collecting playground-data\n",
            "  Downloading https://files.pythonhosted.org/packages/fb/cd/70706a9bc50d604bc01c5dd564066b0cf812bdc2882799ecbadea1b21696/playground-data-1.0.1.tar.gz\n",
            "Requirement already satisfied: numpy in /usr/local/lib/python3.6/dist-packages (from playground-data) (1.16.5)\n",
            "Requirement already satisfied: matplotlib in /usr/local/lib/python3.6/dist-packages (from playground-data) (3.0.3)\n",
            "Requirement already satisfied: pyparsing!=2.0.4,!=2.1.2,!=2.1.6,>=2.0.1 in /usr/local/lib/python3.6/dist-packages (from matplotlib->playground-data) (2.4.2)\n",
            "Requirement already satisfied: python-dateutil>=2.1 in /usr/local/lib/python3.6/dist-packages (from matplotlib->playground-data) (2.5.3)\n",
            "Requirement already satisfied: kiwisolver>=1.0.1 in /usr/local/lib/python3.6/dist-packages (from matplotlib->playground-data) (1.1.0)\n",
            "Requirement already satisfied: cycler>=0.10 in /usr/local/lib/python3.6/dist-packages (from matplotlib->playground-data) (0.10.0)\n",
            "Requirement already satisfied: six>=1.5 in /usr/local/lib/python3.6/dist-packages (from python-dateutil>=2.1->matplotlib->playground-data) (1.12.0)\n",
            "Requirement already satisfied: setuptools in /usr/local/lib/python3.6/dist-packages (from kiwisolver>=1.0.1->matplotlib->playground-data) (41.2.0)\n",
            "Building wheels for collected packages: playground-data\n",
            "  Building wheel for playground-data (setup.py) ... \u001b[?25l\u001b[?25hdone\n",
            "  Created wheel for playground-data: filename=playground_data-1.0.1-py2.py3-none-any.whl size=20362 sha256=8068eabb185315e683b78f1d82150fadc88ca15d5a0710351c26ab5a710ec7da\n",
            "  Stored in directory: /root/.cache/pip/wheels/33/3f/7e/477ea4684f873e5ba9f762bc7b91d68f30e852f16866e98f13\n",
            "Successfully built playground-data\n",
            "Installing collected packages: playground-data\n",
            "Successfully installed playground-data-1.0.1\n"
          ],
          "name": "stdout"
        }
      ]
    },
    {
      "cell_type": "markdown",
      "metadata": {
        "id": "BDTRqJ35OhXl",
        "colab_type": "text"
      },
      "source": [
        "## ■（2）問題種別"
      ]
    },
    {
      "cell_type": "markdown",
      "metadata": {
        "id": "GqQsWTEPuTQa",
        "colab_type": "text"
      },
      "source": [
        "### リスト2　問題種別とデータ種別の選択"
      ]
    },
    {
      "cell_type": "code",
      "metadata": {
        "id": "-M_-s3ooRmVd",
        "colab_type": "code",
        "colab": {}
      },
      "source": [
        "# playground-dataライブラリのplygdataパッケージを「pg」という別名でインポート\n",
        "import plygdata as pg\n",
        "\n",
        "# 問題種別で「分類（Classification）」を選択し、\n",
        "# データ種別で「2つのガウシアンデータ（TwoGaussData）」を選択する場合の、\n",
        "# 設定値を定数として定義\n",
        "PROBLEM_DATA_TYPE = pg.DatasetType.ClassifyTwoGaussData\n",
        "\n",
        "# ※実際のデータ生成は、後述の「pg.generate_data()関数の呼び出し」で行う"
      ],
      "execution_count": 0,
      "outputs": []
    },
    {
      "cell_type": "markdown",
      "metadata": {
        "id": "HO2bR6YxuZQb",
        "colab_type": "text"
      },
      "source": [
        "## ■（3）前処理"
      ]
    },
    {
      "cell_type": "markdown",
      "metadata": {
        "id": "n42V67PUOJXm",
        "colab_type": "text"
      },
      "source": [
        "### リスト3　前処理としてのデータ分割"
      ]
    },
    {
      "cell_type": "code",
      "metadata": {
        "id": "1A5hg4HbQvRd",
        "colab_type": "code",
        "colab": {}
      },
      "source": [
        "# 各種設定を定数として定義\n",
        "VALIDATION_DATA_RATIO = 0.5  # データの何％を訓練【Training】用に？ (残りは精度検証【Validation】用) ： 50％\n",
        "DATA_NOISE = 0.0             # ノイズ： 0％\n",
        "\n",
        "# 定義済みの定数を引数に指定して、データを生成する\n",
        "data_list = pg.generate_data(PROBLEM_DATA_TYPE, DATA_NOISE)\n",
        "\n",
        "# データを「訓練用」と「精度検証用」を指定の比率で分割し、さらにそれぞれを「データ（X）」と「教師ラベル（y）」に分ける\n",
        "X_train, y_train, X_valid, y_valid = pg.split_data(data_list, validation_size=VALIDATION_DATA_RATIO)"
      ],
      "execution_count": 0,
      "outputs": []
    },
    {
      "cell_type": "markdown",
      "metadata": {
        "id": "rM61atkBkE-0",
        "colab_type": "text"
      },
      "source": [
        "### 【チェック】データ分割後の各変数の内容例"
      ]
    },
    {
      "cell_type": "code",
      "metadata": {
        "id": "ihdjta06UTEd",
        "colab_type": "code",
        "outputId": "d5077a25-faa7-4834-9705-62020b6c4a3d",
        "colab": {
          "base_uri": "https://localhost:8080/",
          "height": 425
        }
      },
      "source": [
        "# それぞれ5件ずつ出力\n",
        "print('X_train:'); print(X_train[:5])\n",
        "print('y_train:'); print(y_train[:5])\n",
        "print('X_valid:'); print(X_valid[:5])\n",
        "print('y_valid:'); print(y_valid[:5])"
      ],
      "execution_count": 5,
      "outputs": [
        {
          "output_type": "stream",
          "text": [
            "X_train:\n",
            "[[ 1.39034857  2.58923003]\n",
            " [-0.79769331 -1.58455442]\n",
            " [-2.99285248 -2.92214721]\n",
            " [ 2.2070185   0.11854714]\n",
            " [-1.72785414 -1.92140596]]\n",
            "y_train:\n",
            "[[ 1.]\n",
            " [-1.]\n",
            " [-1.]\n",
            " [ 1.]\n",
            " [-1.]]\n",
            "X_valid:\n",
            "[[-2.66846029 -2.00772643]\n",
            " [ 2.74492874  1.91398036]\n",
            " [-2.30529458 -3.23162768]\n",
            " [ 2.06275657  1.62642082]\n",
            " [ 2.38460425  1.46516347]]\n",
            "y_valid:\n",
            "[[-1.]\n",
            " [ 1.]\n",
            " [-1.]\n",
            " [ 1.]\n",
            " [ 1.]]\n"
          ],
          "name": "stdout"
        }
      ]
    },
    {
      "cell_type": "markdown",
      "metadata": {
        "id": "5IvcvfhndoFZ",
        "colab_type": "text"
      },
      "source": [
        "# 第2回　ニューラルネットワーク最速入門 ― 仕組み理解×初実装（中編）"
      ]
    },
    {
      "cell_type": "markdown",
      "metadata": {
        "id": "VKuMufbLdpGV",
        "colab_type": "text"
      },
      "source": [
        "# 第3回　ディープラーニング最速入門 ― 仕組み理解×初実装（後編）"
      ]
    },
    {
      "cell_type": "markdown",
      "metadata": {
        "id": "E5KufJ89cs2d",
        "colab_type": "text"
      },
      "source": [
        "# 本ノートブックは未完成です。連載の進行に合わせて完成します。<!--お疲れさまでした。『ニューラルネットワーク、仕組みの理解×初めての実装』は修了です。-->"
      ]
    }
  ]
}