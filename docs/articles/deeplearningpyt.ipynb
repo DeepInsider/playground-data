{
  "nbformat": 4,
  "nbformat_minor": 0,
  "metadata": {
    "colab": {
      "name": "deeplearningpyt.ipynb",
      "version": "0.3.2",
      "provenance": [],
      "private_outputs": true,
      "collapsed_sections": [],
      "toc_visible": true,
      "include_colab_link": true
    },
    "kernelspec": {
      "name": "python3",
      "display_name": "Python 3"
    }
  },
  "cells": [
    {
      "cell_type": "markdown",
      "metadata": {
        "id": "view-in-github",
        "colab_type": "text"
      },
      "source": [
        "<a href=\"https://colab.research.google.com/github/DeepInsider/playground-data/blob/master/docs/articles/deeplearningpyt.ipynb\" target=\"_parent\"><img src=\"https://colab.research.google.com/assets/colab-badge.svg\" alt=\"Open In Colab\"/></a>"
      ]
    },
    {
      "cell_type": "markdown",
      "metadata": {
        "id": "KLI1KsptR4NH",
        "colab_type": "text"
      },
      "source": [
        "##### Copyright 2018-2019 Digital Advantage - Deep Insider."
      ]
    },
    {
      "cell_type": "code",
      "metadata": {
        "id": "VDd0rdY7R66x",
        "colab_type": "code",
        "colab": {}
      },
      "source": [
        "#@title Licensed under the Apache License, Version 2.0 (the \"License\");\n",
        "# you may not use this file except in compliance with the License.\n",
        "# You may obtain a copy of the License at\n",
        "#\n",
        "# https://www.apache.org/licenses/LICENSE-2.0\n",
        "#\n",
        "# Unless required by applicable law or agreed to in writing, software\n",
        "# distributed under the License is distributed on an \"AS IS\" BASIS,\n",
        "# WITHOUT WARRANTIES OR CONDITIONS OF ANY KIND, either express or implied.\n",
        "# See the License for the specific language governing permissions and\n",
        "# limitations under the License."
      ],
      "execution_count": 0,
      "outputs": []
    },
    {
      "cell_type": "markdown",
      "metadata": {
        "id": "m2bdi83iR9iX",
        "colab_type": "text"
      },
      "source": [
        "# 連載『機械学習 ＆ ディープラーニング入門（Python編）』のノートブック"
      ]
    },
    {
      "cell_type": "markdown",
      "metadata": {
        "id": "sWYD5NeoSUse",
        "colab_type": "text"
      },
      "source": [
        "<table valign=\"middle\">\n",
        "  <td>\n",
        "    <a target=\"_blank\" href=\"https://deepinsider.jp/tutor/deeplearningpyt\"> <img src=\"https://re.deepinsider.jp/img/ml-logo/manabu.svg\"/>Deep Insiderで記事を読む</a>\n",
        "  </td>\n",
        "  <td>\n",
        "    <a target=\"_blank\" href=\"https://colab.research.google.com/github/DeepInsider/playground-data/blob/master/docs/articles/deeplearningpyt.ipynb\"> <img src=\"https://re.deepinsider.jp/img/ml-logo/gcolab.svg\" />Google Colabで実行する</a>\n",
        "  </td>\n",
        "  <td>\n",
        "    <a target=\"_blank\" href=\"https://github.com/DeepInsider/playground-data/blob/master/docs/articles/deeplearningpyt.ipynb\"> <img src=\"https://re.deepinsider.jp/img/ml-logo/github.svg\" />GitHubでソースコードを見る</a>\n",
        "  </td>\n",
        "</table>"
      ]
    },
    {
      "cell_type": "markdown",
      "metadata": {
        "id": "qulkhNqWSeEU",
        "colab_type": "text"
      },
      "source": [
        "※上から順に実行してください。上のコードで実行したものを再利用しているところがあるため、すべて実行しないとエラーになるコードがあります。  \n",
        "　すべてのコードを一括実行したい場合は、メニューバーから［ランタイム］－［すべてのセルを実行］をクリックしてください。"
      ]
    },
    {
      "cell_type": "markdown",
      "metadata": {
        "id": "mgEPX8DnSgc2",
        "colab_type": "text"
      },
      "source": [
        "※このノートブックは「Python 2」でも実行できるようにしていますが、基本的に「Python 3」を利用することをお勧めします。\n",
        "　Python 3を利用するには、メニューバーから［ランタイム］－［ランタイムのタイプを変更］を選択すると表示される［ノートブックの設定］ダイアログの、［ランタイムのタイプ］欄で「Python 3」に選択し、その右下にある［保存］ボタンをクリックしてください。"
      ]
    },
    {
      "cell_type": "markdown",
      "metadata": {
        "id": "X-goNWkDVWmR",
        "colab_type": "text"
      },
      "source": [
        "## Python バージョン2への対応"
      ]
    },
    {
      "cell_type": "code",
      "metadata": {
        "id": "n112hTCuSAt5",
        "colab_type": "code",
        "colab": {}
      },
      "source": [
        "# Pythonファイルの冒頭で以下を記述する\n",
        "from __future__ import absolute_import\n",
        "from __future__ import division\n",
        "from __future__ import print_function\n",
        "from __future__ import unicode_literals\n",
        "\n",
        "print(3 / 2) # 「1.5」。インポートしないPython 2系だと「1」"
      ],
      "execution_count": 0,
      "outputs": []
    },
    {
      "cell_type": "markdown",
      "metadata": {
        "id": "b_Q4lXyMVTip",
        "colab_type": "text"
      },
      "source": [
        "## 本連載のゴール"
      ]
    },
    {
      "cell_type": "markdown",
      "metadata": {
        "id": "drYIhqfDXP8p",
        "colab_type": "text"
      },
      "source": [
        "以下の図1-a／b／c／dのコードが読めるし、意味も理解できるようになることが、本連載の最終的なゴール。"
      ]
    },
    {
      "cell_type": "markdown",
      "metadata": {
        "id": "jEcPB_w2W9u9",
        "colab_type": "text"
      },
      "source": [
        "図1-a　TensorFlowの公式チュートリアルのサンプルコード（1）\n",
        "![図1-a　TensorFlowの公式チュートリアルのサンプルコード（1）](https://re.deepinsider.jp/tutor/deeplearningpyt/01version/01a.gif)"
      ]
    },
    {
      "cell_type": "markdown",
      "metadata": {
        "id": "CMEPB-F8XmY1",
        "colab_type": "text"
      },
      "source": [
        "図1-b　TensorFlowの公式チュートリアルのサンプルコード（2）\n",
        "![図1-b　TensorFlowの公式チュートリアルのサンプルコード（2）](https://re.deepinsider.jp/tutor/deeplearningpyt/01version/01b.gif)\n"
      ]
    },
    {
      "cell_type": "markdown",
      "metadata": {
        "id": "kVwIXy5GXqae",
        "colab_type": "text"
      },
      "source": [
        "図1-c　TensorFlowの公式チュートリアルのサンプルコード（3）\n",
        "![図1-c　TensorFlowの公式チュートリアルのサンプルコード（3）](https://re.deepinsider.jp/tutor/deeplearningpyt/01version/01c.gif)"
      ]
    },
    {
      "cell_type": "markdown",
      "metadata": {
        "id": "IEbJWU1gXtys",
        "colab_type": "text"
      },
      "source": [
        "図1-d　TensorFlowの公式チュートリアルのサンプルコード（4）\n",
        "![図1-d　TensorFlowの公式チュートリアルのサンプルコード（4）](https://re.deepinsider.jp/tutor/deeplearningpyt/01version/01d.gif)"
      ]
    },
    {
      "cell_type": "markdown",
      "metadata": {
        "id": "jOVlvfICllx_",
        "colab_type": "text"
      },
      "source": [
        "## Python言語のバージョン"
      ]
    },
    {
      "cell_type": "markdown",
      "metadata": {
        "id": "Nf8icKrfmfs6",
        "colab_type": "text"
      },
      "source": [
        "バージョンは3系を使用。"
      ]
    },
    {
      "cell_type": "code",
      "metadata": {
        "id": "OMnJl8STYMWj",
        "colab_type": "code",
        "colab": {}
      },
      "source": [
        "import sys\n",
        "print('Version: ', str(sys.version_info.major) + '.' + str(sys.version_info.minor))\n",
        "# Version:  3.6"
      ],
      "execution_count": 0,
      "outputs": []
    },
    {
      "cell_type": "markdown",
      "metadata": {
        "id": "624xCvriKcg9",
        "colab_type": "text"
      },
      "source": [
        "## 配布用プロジェクトのインストール"
      ]
    },
    {
      "cell_type": "markdown",
      "metadata": {
        "id": "X8e257HWC2ko",
        "colab_type": "text"
      },
      "source": [
        "※リスト1の前にリスト2を実行する必要があるので、順番が前後している点に注意してほしい。"
      ]
    },
    {
      "cell_type": "markdown",
      "metadata": {
        "id": "4NYrLJV1ct3g",
        "colab_type": "text"
      },
      "source": [
        "#### リスト2　配布用プロジェクト「tensorflow」をインストールするためのシェルコマンド"
      ]
    },
    {
      "cell_type": "code",
      "metadata": {
        "id": "mb3rdKp3czcU",
        "colab_type": "code",
        "colab": {}
      },
      "source": [
        "!pip install tensorflow"
      ],
      "execution_count": 0,
      "outputs": []
    },
    {
      "cell_type": "markdown",
      "metadata": {
        "id": "1MOxCIqRerKv",
        "colab_type": "text"
      },
      "source": [
        "## モジュールのインポート"
      ]
    },
    {
      "cell_type": "markdown",
      "metadata": {
        "id": "EyXGUvzuKfBC",
        "colab_type": "text"
      },
      "source": [
        "#### リスト1　モジュールをインポートするコード例"
      ]
    },
    {
      "cell_type": "code",
      "metadata": {
        "id": "g1HSgGn9Kh1z",
        "colab_type": "code",
        "colab": {}
      },
      "source": [
        "import tensorflow as tf"
      ],
      "execution_count": 0,
      "outputs": []
    },
    {
      "cell_type": "markdown",
      "metadata": {
        "id": "EYYW35jKQ5sS",
        "colab_type": "text"
      },
      "source": [
        "#### リストex1　応用テクニック： 複数行の文を記述する例"
      ]
    },
    {
      "cell_type": "code",
      "metadata": {
        "id": "wnBs3n4sQ9Hg",
        "colab_type": "code",
        "colab": {}
      },
      "source": [
        "import tensorflow \\\n",
        "    as tf"
      ],
      "execution_count": 0,
      "outputs": []
    },
    {
      "cell_type": "markdown",
      "metadata": {
        "id": "dzWYIOS_ejM4",
        "colab_type": "text"
      },
      "source": [
        "## モジュールの利用と定義"
      ]
    },
    {
      "cell_type": "markdown",
      "metadata": {
        "id": "83dyeV4bcaB0",
        "colab_type": "text"
      },
      "source": [
        "#### リスト3-1　モジュールを利用するコード例"
      ]
    },
    {
      "cell_type": "code",
      "metadata": {
        "id": "adX7rjpfcdf0",
        "colab_type": "code",
        "colab": {}
      },
      "source": [
        "mnist = tf.keras.datasets.mnist"
      ],
      "execution_count": 0,
      "outputs": []
    },
    {
      "cell_type": "markdown",
      "metadata": {
        "id": "mVXOGqDee9af",
        "colab_type": "text"
      },
      "source": [
        "#### リスト3-2　モジュール階層の途中のモジュールをインポートするコード例"
      ]
    },
    {
      "cell_type": "code",
      "metadata": {
        "id": "SdFVx_AOcR9E",
        "colab_type": "code",
        "colab": {}
      },
      "source": [
        "from tensorflow.keras import datasets\n",
        "mnist = datasets.mnist"
      ],
      "execution_count": 0,
      "outputs": []
    },
    {
      "cell_type": "markdown",
      "metadata": {
        "id": "1jegzABtR0pt",
        "colab_type": "text"
      },
      "source": [
        "## コメント"
      ]
    },
    {
      "cell_type": "markdown",
      "metadata": {
        "id": "X-YghTlQUMEq",
        "colab_type": "text"
      },
      "source": [
        "#### リスト4-1　コメントのコード例（行全体）"
      ]
    },
    {
      "cell_type": "code",
      "metadata": {
        "id": "85wvHCvdUN87",
        "colab_type": "code",
        "colab": {}
      },
      "source": [
        "# Display training progress by printing a single dot for each completed epoch（各エポックの完了のたびに「.」を描画することでトレーニングの進捗を表示する）\n",
        "#＃ ……コメントに続くコードは省略……\n",
        "\n",
        "# Store training stats（トレーニング統計を保存する）\n",
        "## ……コメントに続くコードは省略……"
      ],
      "execution_count": 0,
      "outputs": []
    },
    {
      "cell_type": "markdown",
      "metadata": {
        "id": "7bxx3Lr6UQRi",
        "colab_type": "text"
      },
      "source": [
        "#### リスト4-2　コメントのコード例（行途中）"
      ]
    },
    {
      "cell_type": "code",
      "metadata": {
        "id": "8bOIWEEMUSUQ",
        "colab_type": "code",
        "colab": {}
      },
      "source": [
        "import tensorflow as tf  # tfという名前でtensorflowモジュールをインポート"
      ],
      "execution_count": 0,
      "outputs": []
    },
    {
      "cell_type": "markdown",
      "metadata": {
        "id": "PzGuIcq9UUPC",
        "colab_type": "text"
      },
      "source": [
        "#### リスト4-3　コメントのコード例（複数行）"
      ]
    },
    {
      "cell_type": "code",
      "metadata": {
        "id": "exehSpR0UXWc",
        "colab_type": "code",
        "colab": {}
      },
      "source": [
        "'''\n",
        "複数行の\n",
        "コメントが\n",
        "書けます\n",
        "'''"
      ],
      "execution_count": 0,
      "outputs": []
    },
    {
      "cell_type": "markdown",
      "metadata": {
        "id": "UtfND6e3FOMl",
        "colab_type": "text"
      },
      "source": [
        "## 変数の宣言と代入"
      ]
    },
    {
      "cell_type": "markdown",
      "metadata": {
        "id": "Djwp1wEDFvAU",
        "colab_type": "text"
      },
      "source": [
        "#### リスト5-1　変数の宣言と代入のサンプルコード"
      ]
    },
    {
      "cell_type": "code",
      "metadata": {
        "id": "eyAejccu8sOQ",
        "colab_type": "code",
        "colab": {}
      },
      "source": [
        "import tensorflow as tf  # 事前にインポートが必要\n",
        "mnist = tf.keras.datasets.mnist"
      ],
      "execution_count": 0,
      "outputs": []
    },
    {
      "cell_type": "markdown",
      "metadata": {
        "id": "_foDshHAF_6q",
        "colab_type": "text"
      },
      "source": [
        "#### リスト5-2　変数に代入されたオブジェクトの内容を確認"
      ]
    },
    {
      "cell_type": "code",
      "metadata": {
        "id": "P24_YScYFlzj",
        "colab_type": "code",
        "colab": {}
      },
      "source": [
        "mnist"
      ],
      "execution_count": 0,
      "outputs": []
    },
    {
      "cell_type": "markdown",
      "metadata": {
        "id": "2DdYs_OdZkX0",
        "colab_type": "text"
      },
      "source": [
        "#### リスト6-1　オブジェクトの型を調べるコード例"
      ]
    },
    {
      "cell_type": "code",
      "metadata": {
        "id": "47fWwqWcJ1aG",
        "colab_type": "code",
        "colab": {}
      },
      "source": [
        "type(mnist)  # moduleと出力される"
      ],
      "execution_count": 0,
      "outputs": []
    },
    {
      "cell_type": "markdown",
      "metadata": {
        "id": "zQYhplCsZp2V",
        "colab_type": "text"
      },
      "source": [
        "#### リスト6-2　変数「mnist」に代入されたオブジェクトのIDを調べるコード例"
      ]
    },
    {
      "cell_type": "code",
      "metadata": {
        "id": "hr9KAWT8KG0Z",
        "colab_type": "code",
        "colab": {}
      },
      "source": [
        "id(mnist)  # 140667186446808（※本稿の場合。読者ごとに違う数値）と出力される"
      ],
      "execution_count": 0,
      "outputs": []
    },
    {
      "cell_type": "markdown",
      "metadata": {
        "id": "71cQRFcHaCZK",
        "colab_type": "text"
      },
      "source": [
        "#### リスト6-3　tf.keras.datasets.mnistモジュールのIDを調べるコード例"
      ]
    },
    {
      "cell_type": "code",
      "metadata": {
        "id": "7JQSnhD2KLBN",
        "colab_type": "code",
        "colab": {}
      },
      "source": [
        "id(tf.keras.datasets.mnist)  # 140667186446808（※本稿の場合）と出力される"
      ],
      "execution_count": 0,
      "outputs": []
    },
    {
      "cell_type": "markdown",
      "metadata": {
        "id": "ZZS3SySNHCB7",
        "colab_type": "text"
      },
      "source": [
        "## データの型（基本編）"
      ]
    },
    {
      "cell_type": "markdown",
      "metadata": {
        "id": "G81S1w74HF6I",
        "colab_type": "text"
      },
      "source": [
        "#### リスト7　変数への何らかの代入を行っているコード"
      ]
    },
    {
      "cell_type": "code",
      "metadata": {
        "id": "zHpwuz0EHKAo",
        "colab_type": "code",
        "colab": {}
      },
      "source": [
        "# 変数への「数値」の代入\n",
        "EPOCHS = 500\n",
        "\n",
        "# 変数への「文字列値」の代入\n",
        "color = 'blue'\n",
        "#color = 'red'  # 同じデータ型なので説明省略"
      ],
      "execution_count": 0,
      "outputs": []
    },
    {
      "cell_type": "markdown",
      "metadata": {
        "id": "3wyDLSwr7ADu",
        "colab_type": "text"
      },
      "source": [
        "### bool型（ブール型）"
      ]
    },
    {
      "cell_type": "markdown",
      "metadata": {
        "id": "Mv_WLN227D4Y",
        "colab_type": "text"
      },
      "source": [
        "#### リスト7-1　変数の宣言と「真偽値」の代入を行うコード"
      ]
    },
    {
      "cell_type": "code",
      "metadata": {
        "id": "vE02GdaJ7GSV",
        "colab_type": "code",
        "colab": {}
      },
      "source": [
        "is_a = True\n",
        "is_b = False\n",
        "\n",
        "is_b  # Falseと出力される"
      ],
      "execution_count": 0,
      "outputs": []
    },
    {
      "cell_type": "markdown",
      "metadata": {
        "id": "407q0i7e7JEC",
        "colab_type": "text"
      },
      "source": [
        "### int型／float型（数値型）"
      ]
    },
    {
      "cell_type": "markdown",
      "metadata": {
        "id": "KUepZrLU7Mdx",
        "colab_type": "text"
      },
      "source": [
        "#### リスト7-2　変数の宣言と「整数値」の代入を行うコード"
      ]
    },
    {
      "cell_type": "code",
      "metadata": {
        "id": "4GYwi2N-7PHS",
        "colab_type": "code",
        "colab": {}
      },
      "source": [
        "EPOCHS = 500\n",
        "\n",
        "EPOCHS  # 500と出力される"
      ],
      "execution_count": 0,
      "outputs": []
    },
    {
      "cell_type": "markdown",
      "metadata": {
        "id": "6cTKcvUq7RYj",
        "colab_type": "text"
      },
      "source": [
        "#### リスト7-3　変数の宣言と「浮動小数点数値」の代入を行うコード"
      ]
    },
    {
      "cell_type": "code",
      "metadata": {
        "id": "m2uVRF1p7UAh",
        "colab_type": "code",
        "colab": {}
      },
      "source": [
        "float_variable = 123.456\n",
        "\n",
        "float_variable  # 123.456と出力される"
      ],
      "execution_count": 0,
      "outputs": []
    },
    {
      "cell_type": "markdown",
      "metadata": {
        "id": "0pbjrowX7WHW",
        "colab_type": "text"
      },
      "source": [
        "### str型（文字列型）"
      ]
    },
    {
      "cell_type": "markdown",
      "metadata": {
        "id": "EBlWuz_b7X80",
        "colab_type": "text"
      },
      "source": [
        "#### リスト7-4　変数の宣言と「文字列値」の代入を行うコード"
      ]
    },
    {
      "cell_type": "code",
      "metadata": {
        "id": "K_-_BRPU7aL1",
        "colab_type": "code",
        "colab": {}
      },
      "source": [
        "color = 'blue'\n",
        "\n",
        "color  # 'blue'と出力される"
      ],
      "execution_count": 0,
      "outputs": []
    },
    {
      "cell_type": "markdown",
      "metadata": {
        "id": "opA4bQWS7cQO",
        "colab_type": "text"
      },
      "source": [
        "#### リスト7-5　二重引用符による文字列の記述"
      ]
    },
    {
      "cell_type": "code",
      "metadata": {
        "id": "3TUNyLbb7ekF",
        "colab_type": "code",
        "colab": {}
      },
      "source": [
        "color = \"b'lue\"\n",
        "\n",
        "color  # \"b'lue\"と出力される"
      ],
      "execution_count": 0,
      "outputs": []
    },
    {
      "cell_type": "markdown",
      "metadata": {
        "id": "6M7qKxSd7sRk",
        "colab_type": "text"
      },
      "source": [
        "#### リスト7-6　文字列でエスケープシーケンスを使った例"
      ]
    },
    {
      "cell_type": "code",
      "metadata": {
        "id": "9tE3_QEe8Kln",
        "colab_type": "code",
        "colab": {}
      },
      "source": [
        "color = 'b\\'l\"ue'\n",
        "\n",
        "color  # 'b\\'l\"ue'と出力される"
      ],
      "execution_count": 0,
      "outputs": []
    },
    {
      "cell_type": "markdown",
      "metadata": {
        "id": "UtBK4fpFmi3w",
        "colab_type": "text"
      },
      "source": [
        "## データの型（コレクション編）"
      ]
    },
    {
      "cell_type": "markdown",
      "metadata": {
        "id": "rpsfoTR1wPOz",
        "colab_type": "text"
      },
      "source": [
        "#### リスト8　変数への何らかの代入を行っているコード"
      ]
    },
    {
      "cell_type": "code",
      "metadata": {
        "id": "yjfAakRywRua",
        "colab_type": "code",
        "colab": {}
      },
      "source": [
        "#import tensorflow as tf\n",
        "#mnist = tf.keras.datasets.mnist\n",
        "# 以下のコードを動かすためには、上記2行を事前に実行しておく必要がある\n",
        "#---------------------------------------------------------------------\n",
        "\n",
        "# 変数への「タプル値」の代入\n",
        "(x_train, y_train),(x_test, y_test) = mnist.load_data()\n",
        "\n",
        "# 「タプル」の構文を応用して、複数の変数にまとめて代入\n",
        "x_train, x_test = x_train / 255.0, x_test / 255.0\n",
        "\n",
        "# 以下は「タプル」の構文を応用する同じ方法なので説明を省略\n",
        "# predictions_array, true_label, img = predictions_array[i], true_label[i], img[i]"
      ],
      "execution_count": 0,
      "outputs": []
    },
    {
      "cell_type": "markdown",
      "metadata": {
        "id": "6AqLPHNceqo4",
        "colab_type": "text"
      },
      "source": [
        "### list型（リスト型）"
      ]
    },
    {
      "cell_type": "markdown",
      "metadata": {
        "id": "Mv7W2S1A4fQ6",
        "colab_type": "text"
      },
      "source": [
        "#### リスト8-1　変数へ「リスト」値を代入するコード"
      ]
    },
    {
      "cell_type": "code",
      "metadata": {
        "id": "hf3j1sIE4ihf",
        "colab_type": "code",
        "colab": {}
      },
      "source": [
        "abc_list = ['a', 'b', 'c', 'd', 'e']\n",
        "\n",
        "abc_list  # ['a', 'b', 'c', 'd', 'e']と出力される"
      ],
      "execution_count": 0,
      "outputs": []
    },
    {
      "cell_type": "markdown",
      "metadata": {
        "id": "p_jubFv-ev09",
        "colab_type": "text"
      },
      "source": [
        "#### ◇ インデクシング（要素データの取得）"
      ]
    },
    {
      "cell_type": "markdown",
      "metadata": {
        "id": "lVfwDIq14YhA",
        "colab_type": "text"
      },
      "source": [
        "#### リスト8-2　リストから単一の値／データを取得するコード"
      ]
    },
    {
      "cell_type": "code",
      "metadata": {
        "id": "1qerYy-04awc",
        "colab_type": "code",
        "colab": {}
      },
      "source": [
        "abc_list[1]\n",
        "# 'b'と出力される"
      ],
      "execution_count": 0,
      "outputs": []
    },
    {
      "cell_type": "markdown",
      "metadata": {
        "id": "RipvtPQ-IbuQ",
        "colab_type": "text"
      },
      "source": [
        "#### リスト8-3　リスト内の要素に値／データを代入するコード"
      ]
    },
    {
      "cell_type": "code",
      "metadata": {
        "id": "TseiagRUIeTT",
        "colab_type": "code",
        "colab": {}
      },
      "source": [
        "abc_list[1] = 'x'\n",
        "\n",
        "abc_list  # ['a', 'x', 'c', 'd', 'e']と出力される"
      ],
      "execution_count": 0,
      "outputs": []
    },
    {
      "cell_type": "markdown",
      "metadata": {
        "id": "Bb4C7dxqe2UW",
        "colab_type": "text"
      },
      "source": [
        "#### ◇ スライシング（範囲データの取得）"
      ]
    },
    {
      "cell_type": "markdown",
      "metadata": {
        "id": "W-ytXSvh54SZ",
        "colab_type": "text"
      },
      "source": [
        "#### リスト8-4　リストから範囲指定で複数の値／データを取得するコード"
      ]
    },
    {
      "cell_type": "code",
      "metadata": {
        "id": "9bFgwJpH-3I4",
        "colab_type": "code",
        "colab": {}
      },
      "source": [
        "abc_list[2:4]\n",
        "# ['c', 'd']と出力される"
      ],
      "execution_count": 0,
      "outputs": []
    },
    {
      "cell_type": "markdown",
      "metadata": {
        "id": "7O3cM85f87HG",
        "colab_type": "text"
      },
      "source": [
        "#### リスト8-4-1　リストから範囲指定で複数の値／データを取得するコード（応用1）"
      ]
    },
    {
      "cell_type": "code",
      "metadata": {
        "id": "KBiiMIFb8sGL",
        "colab_type": "code",
        "colab": {}
      },
      "source": [
        "abc_list[:4] # 先頭からインデックス3までを取得\n",
        "# ['a', 'x', 'c', 'd']と出力される"
      ],
      "execution_count": 0,
      "outputs": []
    },
    {
      "cell_type": "markdown",
      "metadata": {
        "id": "SH9cI-md9E8W",
        "colab_type": "text"
      },
      "source": [
        "#### リスト8-4-2　リストから範囲指定で複数の値／データを取得するコード（応用2）"
      ]
    },
    {
      "cell_type": "code",
      "metadata": {
        "id": "Ft9Bkakt8yHH",
        "colab_type": "code",
        "colab": {}
      },
      "source": [
        "abc_list[2:] # インデックス2から末尾までを取得+\n",
        "# ['c', 'd', 'e']と出力される"
      ],
      "execution_count": 0,
      "outputs": []
    },
    {
      "cell_type": "markdown",
      "metadata": {
        "id": "WhMDZxhO9Gwr",
        "colab_type": "text"
      },
      "source": [
        "#### リスト8-4-3　リストから範囲指定で複数の値／データを取得するコード（応用3）"
      ]
    },
    {
      "cell_type": "code",
      "metadata": {
        "id": "qK7G6ZxP57sy",
        "colab_type": "code",
        "colab": {}
      },
      "source": [
        "abc_list[::2] # 先頭から末尾まで2個先ごとに取得\n",
        "# ['a', 'c', 'e']と出力される"
      ],
      "execution_count": 0,
      "outputs": []
    },
    {
      "cell_type": "markdown",
      "metadata": {
        "id": "LmIHGrAYe7Bt",
        "colab_type": "text"
      },
      "source": [
        "### tuple型（タプル型）"
      ]
    },
    {
      "cell_type": "markdown",
      "metadata": {
        "id": "FW7Y1F4RB4Y9",
        "colab_type": "text"
      },
      "source": [
        "#### リスト8-5　1つの変数へ「タプル」値を代入するコード"
      ]
    },
    {
      "cell_type": "code",
      "metadata": {
        "id": "17KS9q7xB_7T",
        "colab_type": "code",
        "colab": {}
      },
      "source": [
        "# タプル値は1つの変数に代入できる\n",
        "tuple_data = ('Taro', 'Yamada')\n",
        "# 丸括弧を省略して「tuple_data = 'Taro', 'Yamada'」と記述しても同じ意味\n",
        "\n",
        "tuple_data  # ('Taro', 'Yamada')と出力される"
      ],
      "execution_count": 0,
      "outputs": []
    },
    {
      "cell_type": "markdown",
      "metadata": {
        "id": "r73MKZt0fC1_",
        "colab_type": "text"
      },
      "source": [
        "#### ◇ アンパック代入（複数の変数への分解代入）"
      ]
    },
    {
      "cell_type": "markdown",
      "metadata": {
        "id": "iwEl-WbgPNhp",
        "colab_type": "text"
      },
      "source": [
        "#### リスト8-6　複数の変数へ「タプル」値をアンパック代入するコード"
      ]
    },
    {
      "cell_type": "code",
      "metadata": {
        "id": "6O0oldtjLn7n",
        "colab_type": "code",
        "colab": {}
      },
      "source": [
        "# 変数「tuple_data」の宣言とタプル値の代入は、リスト8-5で行っている\n",
        "\n",
        "# tuple型で宣言した複数の変数に、タプル値をアンパック代入（＝分解して代入）\n",
        "(first_name, family_name) = tuple_data\n",
        "\n",
        "family_name  # 'Yamada'と出力される"
      ],
      "execution_count": 0,
      "outputs": []
    },
    {
      "cell_type": "markdown",
      "metadata": {
        "id": "5MuOUV-7fG8J",
        "colab_type": "text"
      },
      "source": [
        "#### ◇ 丸括弧の省略"
      ]
    },
    {
      "cell_type": "markdown",
      "metadata": {
        "id": "P8oh2jB8VQFb",
        "colab_type": "text"
      },
      "source": [
        "#### リスト8-7　丸括弧を省略したタプルの例"
      ]
    },
    {
      "cell_type": "code",
      "metadata": {
        "id": "KgX1wbeoVS0g",
        "colab_type": "code",
        "colab": {}
      },
      "source": [
        "first_name, family_name = 'Taro', 'Yamada'\n",
        "\n",
        "family_name  # 'Yamada'と出力される"
      ],
      "execution_count": 0,
      "outputs": []
    },
    {
      "cell_type": "markdown",
      "metadata": {
        "id": "lfBhrjitWHs4",
        "colab_type": "text"
      },
      "source": [
        "#### リスト8-8　タプルを応用して複数の変数をまとめて宣言＆代入する例"
      ]
    },
    {
      "cell_type": "code",
      "metadata": {
        "id": "SCks8DhxWLwA",
        "colab_type": "code",
        "colab": {}
      },
      "source": [
        "is_b, EPOCHS, color = False, 500, 'blue'\n",
        "\n",
        "is_b, EPOCHS, color  # '(False, 500, 'blue')'と出力される"
      ],
      "execution_count": 0,
      "outputs": []
    },
    {
      "cell_type": "markdown",
      "metadata": {
        "id": "a57Aa4ShZ1oT",
        "colab_type": "text"
      },
      "source": [
        "#### リスト8-9　複数の変数への「タプル値」のアンパック代入を行っているコード"
      ]
    },
    {
      "cell_type": "code",
      "metadata": {
        "id": "4vysLFNoZ_5P",
        "colab_type": "code",
        "colab": {}
      },
      "source": [
        "#import tensorflow as tf\n",
        "#mnist = tf.keras.datasets.mnist\n",
        "# 以下のコードを動かすためには、上記2行を事前に実行しておく必要がある\n",
        "#---------------------------------------------------------------------\n",
        "\n",
        "(x_train, y_train),(x_test, y_test) = mnist.load_data()\n",
        "\n",
        "# 右辺の「mnist.load_data()」は関数で、\n",
        "#  ((＜訓練データ＞, ＜訓練ラベル＞), (＜テストデータ＞, ＜テストラベル＞))\n",
        "# という構造のタプルを出力する"
      ],
      "execution_count": 0,
      "outputs": []
    },
    {
      "cell_type": "markdown",
      "metadata": {
        "id": "jKOagHPYehbV",
        "colab_type": "text"
      },
      "source": [
        "### dict型（辞書型）"
      ]
    },
    {
      "cell_type": "markdown",
      "metadata": {
        "id": "4Up4k4bwgR_T",
        "colab_type": "text"
      },
      "source": [
        "#### リスト8-10　変数への「辞書値」の代入を行っているコード"
      ]
    },
    {
      "cell_type": "code",
      "metadata": {
        "id": "ruPdaWHwgVqU",
        "colab_type": "code",
        "colab": {}
      },
      "source": [
        "abc_dict = { 'a': 1.2, 'b': 2.4, 'c': 3.6 }\n",
        "\n",
        "abc_dict  # { 'a': 1.2, 'b': 2.4, 'c': 3.6 }と出力される"
      ],
      "execution_count": 0,
      "outputs": []
    },
    {
      "cell_type": "markdown",
      "metadata": {
        "id": "WuWkL3j0gZEf",
        "colab_type": "text"
      },
      "source": [
        "#### ◇ キー指定による値の取得"
      ]
    },
    {
      "cell_type": "markdown",
      "metadata": {
        "id": "Lru_eAcWgevs",
        "colab_type": "text"
      },
      "source": [
        "#### リスト8-11　辞書を使用するサンプルコード"
      ]
    },
    {
      "cell_type": "code",
      "metadata": {
        "id": "ohNhqh95gh-u",
        "colab_type": "code",
        "colab": {}
      },
      "source": [
        "abc_dict['a']\n",
        "# 1.2と出力される"
      ],
      "execution_count": 0,
      "outputs": []
    },
    {
      "cell_type": "markdown",
      "metadata": {
        "id": "lNkioCa2hYay",
        "colab_type": "text"
      },
      "source": [
        "#### リスト8-12　辞書内の要素に値／データを代入するコード"
      ]
    },
    {
      "cell_type": "code",
      "metadata": {
        "id": "RJtPT_jKhbMb",
        "colab_type": "code",
        "colab": {}
      },
      "source": [
        "abc_dict['a'] = 12.3  # 代入による値の変更\n",
        "abc_dict['x'] = 9.9   # 代入によるキーと値の追加\n",
        "\n",
        "abc_dict  # {'a': 12.3, 'b': 2.4, 'c': 3.6, 'x': 9.9}と出力される"
      ],
      "execution_count": 0,
      "outputs": []
    },
    {
      "cell_type": "markdown",
      "metadata": {
        "id": "jnasTTYiiZig",
        "colab_type": "text"
      },
      "source": [
        "## データの型（各種オブジェクト編）"
      ]
    },
    {
      "cell_type": "markdown",
      "metadata": {
        "id": "ec7dJK3YlLB-",
        "colab_type": "text"
      },
      "source": [
        "#### リスト9　変数への何らかの代入を行っているコード"
      ]
    },
    {
      "cell_type": "code",
      "metadata": {
        "id": "g1N6xD0ejPbL",
        "colab_type": "code",
        "colab": {}
      },
      "source": [
        "#import tensorflow as tf  # このコードを動かすためにインポートが必要\n",
        "\n",
        "# 変数への「モジュール」の代入\n",
        "mnist = tf.keras.datasets.mnist\n",
        "\n",
        "# 変数への「何らかのオブジェクト」の代入（1）\n",
        "#model = tf.keras.models.Sequential([\n",
        "#  tf.keras.layers.Flatten(),\n",
        "#  tf.keras.layers.Dense(512, activation=tf.nn.relu),\n",
        "#  tf.keras.layers.Dropout(0.2),\n",
        "#  tf.keras.layers.Dense(10, activation=tf.nn.softmax)\n",
        "#])\n",
        "# 「tf.keras.models.Sequential([～])」の意味は、Lesson 10「クラス」の回で解説\n",
        "# ここでは、次のコードに臨時的に置き換えて解説\n",
        "model = '＜関数（厳密にはクラスのコンストラクター。詳細省略）＞が出力したオブジェクト'\n",
        "\n",
        "# 変数への「何らかのオブジェクト」の代入（2）\n",
        "#history = model.fit(train_data, train_labels, epochs=EPOCHS,\n",
        "#                    validation_split = 0.2, verbose=0,\n",
        "#                    callbacks=[PrintDot()])\n",
        "# 「model.fit(～)」の意味は、Lesson 7「関数」の回で解説\n",
        "# ここでは、次のコードに臨時的に置き換えて解説\n",
        "history = '＜関数（詳細省略）＞が出力したオブジェクト'"
      ],
      "execution_count": 0,
      "outputs": []
    },
    {
      "cell_type": "markdown",
      "metadata": {
        "id": "qceC4txAc7nJ",
        "colab_type": "text"
      },
      "source": [
        "## 関数の利用"
      ]
    },
    {
      "cell_type": "markdown",
      "metadata": {
        "id": "VPUI7Qw7eGpS",
        "colab_type": "text"
      },
      "source": [
        "#### リスト10-1　関数を利用するコード例"
      ]
    },
    {
      "cell_type": "code",
      "metadata": {
        "id": "zlXjLrMPeVHT",
        "colab_type": "code",
        "colab": {}
      },
      "source": [
        "#import tensorflow as tf\n",
        "#mnist = tf.keras.datasets.mnist\n",
        "# 以下のコードを動かすためには、上記2行を事前に実行しておく必要がある\n",
        "#---------------------------------------------------------------------\n",
        "\n",
        "(x_train, y_train),(x_test, y_test) = mnist.load_data()"
      ],
      "execution_count": 0,
      "outputs": []
    },
    {
      "cell_type": "markdown",
      "metadata": {
        "id": "kyBTu-ZUr-r4",
        "colab_type": "text"
      },
      "source": [
        "#### リスト10-2　戻り値を無視するコード例"
      ]
    },
    {
      "cell_type": "code",
      "metadata": {
        "id": "tcZBeHg7sFZ5",
        "colab_type": "code",
        "colab": {}
      },
      "source": [
        "mnist.load_data()\n",
        "# 戻り値は出力（＝表示）されるのみで、変数に保存されない"
      ],
      "execution_count": 0,
      "outputs": []
    },
    {
      "cell_type": "markdown",
      "metadata": {
        "id": "OoauCL1huH_G",
        "colab_type": "text"
      },
      "source": [
        "#### リストex2　print()関数の使用例"
      ]
    },
    {
      "cell_type": "code",
      "metadata": {
        "id": "BkBvbXBkuKvj",
        "colab_type": "code",
        "colab": {}
      },
      "source": [
        "print(y_train)\n",
        "# [5 0 4 ... 5 6 8] のように出力される"
      ],
      "execution_count": 0,
      "outputs": []
    },
    {
      "cell_type": "markdown",
      "metadata": {
        "id": "fUBlr1b7y0Dr",
        "colab_type": "text"
      },
      "source": [
        "#### リストex3　オブジェクト評価の自動出力機能の使用例"
      ]
    },
    {
      "cell_type": "code",
      "metadata": {
        "id": "sMBJ_xQHuOHj",
        "colab_type": "code",
        "colab": {}
      },
      "source": [
        "y_train\n",
        "# array([5, 0, 4, ..., 5, 6, 8], dtype=uint8) のように出力される"
      ],
      "execution_count": 0,
      "outputs": []
    },
    {
      "cell_type": "markdown",
      "metadata": {
        "id": "8TTIXFQ0GvYI",
        "colab_type": "text"
      },
      "source": [
        "## さまざまな関数の使用例"
      ]
    },
    {
      "cell_type": "markdown",
      "metadata": {
        "id": "VMq2MnNvGzF7",
        "colab_type": "text"
      },
      "source": [
        "### ライブラリ「NumPy」とライブラリ「Matplotlib」"
      ]
    },
    {
      "cell_type": "markdown",
      "metadata": {
        "id": "qI3lkmxcG3jN",
        "colab_type": "text"
      },
      "source": [
        "#### リスト10-3　ライブラリ「NumPy」のインストール"
      ]
    },
    {
      "cell_type": "code",
      "metadata": {
        "id": "qTZS3pRN8DEL",
        "colab_type": "code",
        "colab": {}
      },
      "source": [
        "!pip install numpy"
      ],
      "execution_count": 0,
      "outputs": []
    },
    {
      "cell_type": "markdown",
      "metadata": {
        "id": "2eb4ou-RG6-z",
        "colab_type": "text"
      },
      "source": [
        "#### リスト10-4　ライブラリ「Matplotlib」のインストール"
      ]
    },
    {
      "cell_type": "code",
      "metadata": {
        "id": "eRjbpVeq8WfC",
        "colab_type": "code",
        "colab": {}
      },
      "source": [
        "!pip install matplotlib"
      ],
      "execution_count": 0,
      "outputs": []
    },
    {
      "cell_type": "markdown",
      "metadata": {
        "id": "G59le8SEHQTp",
        "colab_type": "text"
      },
      "source": [
        "#### リスト10-5　numpyモジュール（名前：np）のインポート"
      ]
    },
    {
      "cell_type": "code",
      "metadata": {
        "id": "nansZFko8I5o",
        "colab_type": "code",
        "colab": {}
      },
      "source": [
        "import numpy as np"
      ],
      "execution_count": 0,
      "outputs": []
    },
    {
      "cell_type": "markdown",
      "metadata": {
        "id": "4zYQWqeYMYJH",
        "colab_type": "text"
      },
      "source": [
        "#### リスト10-6　matplotlib.pyplotモジュール（名前：plt）のインポート"
      ]
    },
    {
      "cell_type": "code",
      "metadata": {
        "id": "lJKnzTpp8-Ac",
        "colab_type": "code",
        "colab": {}
      },
      "source": [
        "import matplotlib.pyplot as plt"
      ],
      "execution_count": 0,
      "outputs": []
    },
    {
      "cell_type": "markdown",
      "metadata": {
        "id": "fGhkLRa3XmiM",
        "colab_type": "text"
      },
      "source": [
        "### 図1-aに含まれる「関数」のコード"
      ]
    },
    {
      "cell_type": "markdown",
      "metadata": {
        "id": "FO0l5cr5Xrbo",
        "colab_type": "text"
      },
      "source": [
        "#### リスト10-7　図1-aにおける「関数」（前半）"
      ]
    },
    {
      "cell_type": "code",
      "metadata": {
        "id": "pQKbeR12XubV",
        "colab_type": "code",
        "colab": {}
      },
      "source": [
        "#import tensorflow as tf\n",
        "#mnist = tf.keras.datasets.mnist\n",
        "#(x_train, y_train),(x_test, y_test) = mnist.load_data()\n",
        "#x_train, x_test = x_train / 255.0, x_test / 255.0\n",
        "# 以下のコードを動かすためには、上記4行を事前に実行しておく必要がある\n",
        "#---------------------------------------------------------------------\n",
        "\n",
        "# ニューラルネットワークで使うSequentialモデルを作成する\n",
        "model = tf.keras.models.Sequential([\n",
        "  tf.keras.layers.Flatten(),\n",
        "  tf.keras.layers.Dense(512, activation=tf.nn.relu),\n",
        "  tf.keras.layers.Dropout(0.2),\n",
        "  tf.keras.layers.Dense(10, activation=tf.nn.softmax)\n",
        "])"
      ],
      "execution_count": 0,
      "outputs": []
    },
    {
      "cell_type": "markdown",
      "metadata": {
        "id": "mpD-MCSlYHDQ",
        "colab_type": "text"
      },
      "source": [
        "#### リスト10-8　図1-aにおける「関数」（後半）"
      ]
    },
    {
      "cell_type": "code",
      "metadata": {
        "id": "uN6uDJsH9P6Z",
        "colab_type": "code",
        "colab": {}
      },
      "source": [
        "# モデルをコンパイルする（最適化手法に「Adam」、損失関数に「クロスエントロピー（の一種）」、測定項目に「正確度」を指定）\n",
        "model.compile(optimizer='adam',\n",
        "              loss='sparse_categorical_crossentropy',\n",
        "              metrics=['accuracy'])\n",
        "\n",
        "# モデルをフィット（＝学習）させる（訓練データ、訓練ラベル、エポック数は5回）\n",
        "model.fit(x_train, y_train, epochs=5)\n",
        "\n",
        "# モデルの出来を評価する（テストデータ、テストラベル）\n",
        "model.evaluate(x_test, y_test)"
      ],
      "execution_count": 0,
      "outputs": []
    },
    {
      "cell_type": "markdown",
      "metadata": {
        "id": "PJQhbCi4YWXo",
        "colab_type": "text"
      },
      "source": [
        "### 図1-bに含まれる「関数」のコード"
      ]
    },
    {
      "cell_type": "markdown",
      "metadata": {
        "id": "NPs-YSFraI5m",
        "colab_type": "text"
      },
      "source": [
        "#### リスト10-9　図1-bにおける「関数」"
      ]
    },
    {
      "cell_type": "code",
      "metadata": {
        "id": "fuSOuRnwaILO",
        "colab_type": "code",
        "colab": {}
      },
      "source": [
        "#import tensorflow as tf\n",
        "#import numpy as np\n",
        "#import matplotlib.pyplot as plt\n",
        "#mnist = tf.keras.datasets.mnist\n",
        "#(x_train, y_train),(x_test, y_test) = mnist.load_data()\n",
        "#x_train, x_test = x_train / 255.0, x_test / 255.0\n",
        "# 以下のコードを動かすためには、上記6行を事前に実行しておく必要がある\n",
        "#---------------------------------------------------------------------\n",
        "\n",
        "# 実行に必要な変数を仮で用意---ここから---\n",
        "img = x_test[0]             # テストデータの1番目の画像\n",
        "predictions_array = x_test  # 予測結果データの代わりにテストデータを使用\n",
        "# -----------------------------ここまで---\n",
        "\n",
        "# グラフに対してグリッド線の「有無（False： なし）」を設定\n",
        "plt.grid(False)\n",
        "\n",
        "# グラフに対してx軸とy軸の「目盛り値（[]： 空のリスト値）」を設定\n",
        "plt.xticks([])\n",
        "plt.yticks([])\n",
        "\n",
        "# グラフに対してx軸のラベルを設定\n",
        "plt.xlabel(\"xlabel\")\n",
        "# ※仮に「\"xlabel\"」という文字列値に置き換えているが、ここには後述する「文字列フォーマット関数」があった\n",
        "\n",
        "# グラフに対して画像（img）を、白黒（plt.cm.binary）で表示する\n",
        "plt.imshow(img, cmap=plt.cm.binary)\n",
        "\n",
        "# NumPy配列値（predictions_array）の中から最大値となる要素のインデックス集を取得して、変数predicted_labelに代入\n",
        "predicted_label = np.argmax(predictions_array)\n",
        "\n",
        "# NumPy配列値（predictions_array）の中から最大値を取得する\n",
        "np.max(predictions_array)\n",
        "# 1.0 と出力"
      ],
      "execution_count": 0,
      "outputs": []
    },
    {
      "cell_type": "markdown",
      "metadata": {
        "id": "aW30qTuZhdYT",
        "colab_type": "text"
      },
      "source": [
        "### 図1-cに含まれる「関数」のコード"
      ]
    },
    {
      "cell_type": "markdown",
      "metadata": {
        "id": "4q3FgNJPjkLv",
        "colab_type": "text"
      },
      "source": [
        "#### リスト10-10　図1-cにおける「関数」"
      ]
    },
    {
      "cell_type": "code",
      "metadata": {
        "id": "HLX-YpK2jgpC",
        "colab_type": "code",
        "colab": {}
      },
      "source": [
        "#import tensorflow as tf\n",
        "#import matplotlib.pyplot as plt\n",
        "#mnist = tf.keras.datasets.mnist\n",
        "#(x_train, y_train),(x_test, y_test) = mnist.load_data()\n",
        "#x_train, x_test = x_train / 255.0, x_test / 255.0\n",
        "# 以下のコードを動かすためには、上記5行を事前に実行しておく必要がある\n",
        "#---------------------------------------------------------------------\n",
        "\n",
        "# 実行に必要な変数を仮で用意---ここから---\n",
        "train_images = x_train  # 訓練データ（画像）\n",
        "train_labels = y_train  # 訓練ラベル\n",
        "class_names = ['0', '1', '2', '3', '4', '5', '6', '7', '8', '9']  # 分類名\n",
        "i = 0  # インデックス番号。1番目\n",
        "# -----------------------------ここまで---\n",
        "\n",
        "# グラフに対して幅10×高さ10インチの図を新規作成する\n",
        "plt.figure(figsize=(10,10))\n",
        "\n",
        "# 現在の図に5行×5列の枠組みを作って、左上のi+1番目の場所にサブプロット（＝枠内の描画領域）を追加する\n",
        "plt.subplot(5,5,i+1)\n",
        "\n",
        "# グラフに対してx軸とy軸の「目盛り値（[]： 空のリスト値）」を設定\n",
        "plt.xticks([])\n",
        "plt.yticks([])\n",
        "\n",
        "# グラフに対してグリッド線の「有無（False： なし）」を設定\n",
        "plt.grid(False)\n",
        "\n",
        "# グラフに対して画像（train_images[i]）を、白黒（plt.cm.binary）で表示する\n",
        "plt.imshow(train_images[i], cmap=plt.cm.binary)\n",
        "\n",
        "# グラフに対してx軸のラベルを設定\n",
        "plt.xlabel(class_names[train_labels[i]])"
      ],
      "execution_count": 0,
      "outputs": []
    },
    {
      "cell_type": "markdown",
      "metadata": {
        "id": "-8wQyl9rl8FK",
        "colab_type": "text"
      },
      "source": [
        "### 図1-dに含まれる「関数」のコード"
      ]
    },
    {
      "cell_type": "markdown",
      "metadata": {
        "id": "QA5yLP5AnB4B",
        "colab_type": "text"
      },
      "source": [
        "#### リスト10-11　図1-dにおける「関数」"
      ]
    },
    {
      "cell_type": "code",
      "metadata": {
        "id": "GbgctdgdnGHM",
        "colab_type": "code",
        "colab": {}
      },
      "source": [
        "#import tensorflow as tf\n",
        "#import matplotlib.pyplot as plt\n",
        "#mnist = tf.keras.datasets.mnist\n",
        "#(x_train, y_train),(x_test, y_test) = mnist.load_data()\n",
        "#x_train, x_test = x_train / 255.0, x_test / 255.0\n",
        "# 以下のコードを動かすためには、上記5行を事前に実行しておく必要がある\n",
        "#---------------------------------------------------------------------\n",
        "\n",
        "# ※さらに、リスト10-7とリスト10-8を事前に実行しておく必要がある\n",
        "#---------------------------------------------------------------------\n",
        "\n",
        "# 実行に必要な変数を仮で用意---ここから---\n",
        "from tensorflow import keras  # tf.kerasと同じモジュールのインポート\n",
        "train_data = x_train          # 訓練データ\n",
        "train_labels = y_train        # 訓練ラベル\n",
        "EPOCHS = 5                    # エポック数を5回に\n",
        "# -----------------------------ここまで---\n",
        "\n",
        "# 空行を出力する\n",
        "print('')\n",
        "\n",
        "# 末尾を改行にしない（end=''）で「.」を出力する\n",
        "print('.', end='')\n",
        "\n",
        "# モデルをフィット（＝学習）させて（訓練データ、訓練ラベル、エポック数は5回、精度検証データ用に20％分使って、詳細情報の出力はせず、コールバックもなし）、その結果を変数historyに代入する\n",
        "history = model.fit(train_data, train_labels, epochs=EPOCHS,\n",
        "                    validation_split = 0.2, verbose=0,\n",
        "                    callbacks=[])"
      ],
      "execution_count": 0,
      "outputs": []
    },
    {
      "cell_type": "markdown",
      "metadata": {
        "id": "kxtG07QbrRBf",
        "colab_type": "text"
      },
      "source": [
        "## 文字列フォーマット関数"
      ]
    },
    {
      "cell_type": "markdown",
      "metadata": {
        "id": "qsZUFwKVrTvn",
        "colab_type": "text"
      },
      "source": [
        "#### リスト10-12　文字列をフォーマットするコード例"
      ]
    },
    {
      "cell_type": "code",
      "metadata": {
        "id": "JuA9ng9S9P20",
        "colab_type": "code",
        "colab": {}
      },
      "source": [
        "msg = \"{} {:2.0f}% ({})\".format('予測結果の分類内容',\n",
        "                                72.5,\n",
        "                                '正解ラベルの分類内容')\n",
        "\n",
        "msg  # '予測結果の分類内容 72% (正解ラベルの分類内容)' と出力される"
      ],
      "execution_count": 0,
      "outputs": []
    },
    {
      "cell_type": "markdown",
      "metadata": {
        "id": "IPAwKkKJtKD9",
        "colab_type": "text"
      },
      "source": [
        "## 関数の定義"
      ]
    },
    {
      "cell_type": "markdown",
      "metadata": {
        "id": "p2Y_YgsnnSkZ",
        "colab_type": "text"
      },
      "source": [
        "#### リスト11-1　関数を定義するコード例"
      ]
    },
    {
      "cell_type": "code",
      "metadata": {
        "id": "JDLCRWpNnLOD",
        "colab_type": "code",
        "colab": {}
      },
      "source": [
        "def load_data(path='mnist.npz'):\n",
        "  # ……内部で何らかの処理を実行……\n",
        "  x_train, y_train = ['x_train'], ['y_train']\n",
        "  x_test, y_test = ['x_test'], ['y_test']\n",
        "  \n",
        "  return (x_train, y_train), (x_test, y_test)"
      ],
      "execution_count": 0,
      "outputs": []
    },
    {
      "cell_type": "markdown",
      "metadata": {
        "id": "RiGDStTftQbV",
        "colab_type": "text"
      },
      "source": [
        "## デフォルト引数"
      ]
    },
    {
      "cell_type": "markdown",
      "metadata": {
        "id": "90FIyaE4sC2x",
        "colab_type": "text"
      },
      "source": [
        "#### リスト11-2　関数の呼び出しで引数を省略するコード例"
      ]
    },
    {
      "cell_type": "code",
      "metadata": {
        "id": "5WAlZ7PvsFLi",
        "colab_type": "code",
        "colab": {}
      },
      "source": [
        "#import tensorflow as tf\n",
        "#mnist = tf.keras.datasets.mnist\n",
        "# 以下のコードを動かすためには、上記2行を事前に実行しておく必要がある\n",
        "#---------------------------------------------------------------------\n",
        "\n",
        "mnist.load_data()"
      ],
      "execution_count": 0,
      "outputs": []
    },
    {
      "cell_type": "markdown",
      "metadata": {
        "id": "AO-sy8HxsLTh",
        "colab_type": "text"
      },
      "source": [
        "#### リスト11-3　関数の呼び出しで引数を省略しないコード例"
      ]
    },
    {
      "cell_type": "code",
      "metadata": {
        "id": "kkEM3JMFsNPL",
        "colab_type": "code",
        "colab": {}
      },
      "source": [
        "mnist.load_data('mnist.npz')"
      ],
      "execution_count": 0,
      "outputs": []
    },
    {
      "cell_type": "markdown",
      "metadata": {
        "id": "q7eAFRP4t6a6",
        "colab_type": "text"
      },
      "source": [
        "#### リスト11-3　10個の引数（第2引数以降はデフォルト引数あり）を持つ関数定義の例"
      ]
    },
    {
      "cell_type": "code",
      "metadata": {
        "id": "9Zutm0akt-O5",
        "colab_type": "code",
        "colab": {}
      },
      "source": [
        "def some_function(param1, param2=2, param3=3, param4=4, param5=5, param6=6, param7=7, param8=8, param9=9, param10=10):\n",
        "  return param1 + param2 + param3 + param4 + param5 +param6 + param7 +param8 + param9 + param10"
      ],
      "execution_count": 0,
      "outputs": []
    },
    {
      "cell_type": "markdown",
      "metadata": {
        "id": "l9SXQncJuZmm",
        "colab_type": "text"
      },
      "source": [
        "#### リスト11-4　10個の引数をすべて指定して関数を呼び出す例"
      ]
    },
    {
      "cell_type": "code",
      "metadata": {
        "id": "RB6XGE2zuRG2",
        "colab_type": "code",
        "colab": {}
      },
      "source": [
        "some_function(1, 2, 3, 4, 5, 6, 7, 8, 9, 10)\n",
        "\n",
        "# 55と出力される"
      ],
      "execution_count": 0,
      "outputs": []
    },
    {
      "cell_type": "markdown",
      "metadata": {
        "id": "6kVQy3PmuYE6",
        "colab_type": "text"
      },
      "source": [
        "#### リスト11-5　デフォルト引数により9個の引数指定を省略して関数を呼び出す例"
      ]
    },
    {
      "cell_type": "code",
      "metadata": {
        "id": "IA3uAxuTu5n2",
        "colab_type": "code",
        "colab": {}
      },
      "source": [
        "some_function(1)\n",
        "\n",
        "# 55と出力される"
      ],
      "execution_count": 0,
      "outputs": []
    },
    {
      "cell_type": "markdown",
      "metadata": {
        "id": "9Kai-8rLtV9b",
        "colab_type": "text"
      },
      "source": [
        "## キーワード引数"
      ]
    },
    {
      "cell_type": "markdown",
      "metadata": {
        "id": "7AKgVT0tv3_d",
        "colab_type": "text"
      },
      "source": [
        "#### リスト11-6　第9引数の値を指定したい場合（第10引数のみ省略）"
      ]
    },
    {
      "cell_type": "code",
      "metadata": {
        "id": "H2KZ-S5Zv6eu",
        "colab_type": "code",
        "colab": {}
      },
      "source": [
        "some_function(1, 2, 3, 4, 5, 6, 7, 8, 999)\n",
        "\n",
        "# 1045と出力される"
      ],
      "execution_count": 0,
      "outputs": []
    },
    {
      "cell_type": "markdown",
      "metadata": {
        "id": "wdAJzxcvw7UP",
        "colab_type": "text"
      },
      "source": [
        "#### リスト11-7　キーワード引数で関数の第9引数に値を渡す場合（第2引数～第8引数、第10引数は省略）"
      ]
    },
    {
      "cell_type": "code",
      "metadata": {
        "id": "6bD9nuvLw3YN",
        "colab_type": "code",
        "colab": {}
      },
      "source": [
        "some_function(1, param9=999)\n",
        "\n",
        "# 1045と出力される"
      ],
      "execution_count": 0,
      "outputs": []
    },
    {
      "cell_type": "markdown",
      "metadata": {
        "id": "QCMJjP2a7Ma3",
        "colab_type": "text"
      },
      "source": [
        "##さまざまな関数の定義例"
      ]
    },
    {
      "cell_type": "markdown",
      "metadata": {
        "id": "j8C921rctdw3",
        "colab_type": "text"
      },
      "source": [
        "#### リスト11-8　図1-bにおける「関数定義」"
      ]
    },
    {
      "cell_type": "code",
      "metadata": {
        "id": "WIUPiPjytbHK",
        "colab_type": "code",
        "colab": {}
      },
      "source": [
        "# 画像をプロット（＝描画）する関数\n",
        "def plot_image(i, predictions_array, true_label, img):\n",
        "  # 予測結果と正解と画像を、インデックス番号（i）を指定してNumPy配列データから1つ取得\n",
        "  predictions_array, true_label, img = predictions_array[i], true_label[i], img[i]\n",
        "  # ……何らかの処理（一部は前回説明）……"
      ],
      "execution_count": 0,
      "outputs": []
    },
    {
      "cell_type": "markdown",
      "metadata": {
        "id": "VBtC8yUq7a0w",
        "colab_type": "text"
      },
      "source": [
        "#### リスト11-9　図1-dにおける「関数定義」"
      ]
    },
    {
      "cell_type": "code",
      "metadata": {
        "id": "cTBXjvj97fGE",
        "colab_type": "code",
        "colab": {}
      },
      "source": [
        "# ドット（.）を出力するクラスの定義\n",
        "#class PrintDot(keras.callbacks.Callback):  # Lesson 12で説明\n",
        "  # 各エポックの最後に呼び出されるクラスのメソッド（＝関数の一種）の定義\n",
        "  def on_epoch_end(self, epoch, logs):\n",
        "    # ……何らかの処理（前回説明）……\n",
        "    print('.', end='')"
      ],
      "execution_count": 0,
      "outputs": []
    },
    {
      "cell_type": "markdown",
      "metadata": {
        "id": "_bvRNRctKJWh",
        "colab_type": "text"
      },
      "source": [
        "## 条件分岐"
      ]
    },
    {
      "cell_type": "markdown",
      "metadata": {
        "id": "p_lPiUQjVu7H",
        "colab_type": "text"
      },
      "source": [
        "#### リスト12-1　条件分岐を行うコード例"
      ]
    },
    {
      "cell_type": "code",
      "metadata": {
        "id": "nyRIzuGkKLc9",
        "colab_type": "code",
        "colab": {}
      },
      "source": [
        "predicted_label = '猫'\n",
        "true_label = '犬'\n",
        "# 上の2行は下記コードの実行に必要な仮のコード\n",
        "\n",
        "if predicted_label == true_label:\n",
        "  color = 'blue'\n",
        "else:\n",
        "  color = 'red'\n",
        "\n",
        "color  # 'red'と出力される"
      ],
      "execution_count": 0,
      "outputs": []
    },
    {
      "cell_type": "markdown",
      "metadata": {
        "id": "GNWLAH_oWBEu",
        "colab_type": "text"
      },
      "source": [
        "#### リスト12-2　3つ以上の条件分岐を行うコード例"
      ]
    },
    {
      "cell_type": "code",
      "metadata": {
        "id": "mTkx2hiIKTOI",
        "colab_type": "code",
        "colab": {}
      },
      "source": [
        "predicted_label = '猫'  # この2行は下記コードの実行に必要な仮のコード\n",
        "\n",
        "if predicted_label == '犬':\n",
        "  color = 'blue'\n",
        "elif predicted_label == '猫':\n",
        "  color = 'green'\n",
        "elif predicted_label == '馬':\n",
        "  color = 'yellow'\n",
        "else:\n",
        "  color = 'red'\n",
        "\n",
        "color  # 'green'と出力される"
      ],
      "execution_count": 0,
      "outputs": []
    },
    {
      "cell_type": "markdown",
      "metadata": {
        "id": "nxrS1YS4WJ8U",
        "colab_type": "text"
      },
      "source": [
        "#### リスト12-3　else文が含まれない条件分岐のコード例"
      ]
    },
    {
      "cell_type": "code",
      "metadata": {
        "id": "eCg8ossuWM5K",
        "colab_type": "code",
        "colab": {}
      },
      "source": [
        "predicted_label = '猫'  # この2行は下記コードの実行に必要な仮のコード\n",
        "\n",
        "color = 'white'\n",
        "\n",
        "if predicted_label == '犬':\n",
        "  color = 'blue'\n",
        "elif predicted_label == '羊':\n",
        "  color = 'pink'\n",
        "\n",
        "color  # 'white'と出力される"
      ],
      "execution_count": 0,
      "outputs": []
    },
    {
      "cell_type": "markdown",
      "metadata": {
        "id": "uQEzYqw3c6Dy",
        "colab_type": "text"
      },
      "source": [
        "## ブロックとスコープの違い"
      ]
    },
    {
      "cell_type": "markdown",
      "metadata": {
        "id": "tIe7Pit0XqgD",
        "colab_type": "text"
      },
      "source": [
        "#### リスト12-4　if文内の変数宣言はグローバルスコープで宣言されている"
      ]
    },
    {
      "cell_type": "code",
      "metadata": {
        "id": "w2QykoOzXXtb",
        "colab_type": "code",
        "colab": {}
      },
      "source": [
        "predicted_label = 100  # この2行は下記コードの実行に必要な仮のコード\n",
        "\n",
        "if predicted_label == 100:\n",
        "  animal = 'イヌ'  # グローバルスコープでの変数宣言になる\n",
        "\n",
        "animal  # 'イヌ'と出力される"
      ],
      "execution_count": 0,
      "outputs": []
    },
    {
      "cell_type": "markdown",
      "metadata": {
        "id": "v7Si1RU_Y_tE",
        "colab_type": "text"
      },
      "source": [
        "#### リスト12-5　関数定義内の変数宣言はローカルスコープで宣言されている"
      ]
    },
    {
      "cell_type": "code",
      "metadata": {
        "id": "WNSmmc1bZEtY",
        "colab_type": "code",
        "colab": {}
      },
      "source": [
        "def some_function():\n",
        "  size = 10  # ローカルスコープでの変数宣言になる\n",
        "\n",
        "some_function()  # 関数を呼び出す\n",
        "#size  # 変数は定義されてないとしてNameError（名前のエラー）になる"
      ],
      "execution_count": 0,
      "outputs": []
    },
    {
      "cell_type": "markdown",
      "metadata": {
        "id": "UVftKciabbYv",
        "colab_type": "text"
      },
      "source": [
        "#### リスト12-6　関数定義内でグローバル変数を宣言することも可能"
      ]
    },
    {
      "cell_type": "code",
      "metadata": {
        "id": "QUvmcK-iZEj1",
        "colab_type": "code",
        "colab": {}
      },
      "source": [
        "def some_function():\n",
        "  global size  # グローバルスコープでの変数宣言になる\n",
        "  size = 10\n",
        "\n",
        "some_function()  # 関数を呼び出す\n",
        "size  # 10と出力される"
      ],
      "execution_count": 0,
      "outputs": []
    },
    {
      "cell_type": "markdown",
      "metadata": {
        "id": "KmweVtczc-NP",
        "colab_type": "text"
      },
      "source": [
        "## コロン（:）とセミコロン（;）"
      ]
    },
    {
      "cell_type": "markdown",
      "metadata": {
        "id": "dipgQmc2dOl3",
        "colab_type": "text"
      },
      "source": [
        "#### リスト12-7　コロン「:」の後に改行せずに単純文を記載した例"
      ]
    },
    {
      "cell_type": "code",
      "metadata": {
        "id": "mULvw0c6WTHo",
        "colab_type": "code",
        "colab": {}
      },
      "source": [
        "epoch = 100\n",
        "\n",
        "if epoch % 100 == 0: print('')"
      ],
      "execution_count": 0,
      "outputs": []
    },
    {
      "cell_type": "markdown",
      "metadata": {
        "id": "OhIDQPPsfJ4V",
        "colab_type": "text"
      },
      "source": [
        "#### リスト12-8　セミコロン「:」の後に複合文を続ける例"
      ]
    },
    {
      "cell_type": "code",
      "metadata": {
        "id": "dYDO-0aUeggV",
        "colab_type": "code",
        "colab": {}
      },
      "source": [
        "print('1'); print('2'); print('3')\n",
        "\n",
        "# 1\n",
        "# 2\n",
        "# 3 と出力される"
      ],
      "execution_count": 0,
      "outputs": []
    },
    {
      "cell_type": "markdown",
      "metadata": {
        "id": "hSWgN837bv2e",
        "colab_type": "text"
      },
      "source": [
        "## ループ処理（for文）"
      ]
    },
    {
      "cell_type": "markdown",
      "metadata": {
        "id": "J75GHgb3c5x6",
        "colab_type": "text"
      },
      "source": [
        "#### リスト13-1　ループ処理（for文）を行うコード例"
      ]
    },
    {
      "cell_type": "code",
      "metadata": {
        "id": "R8TvXy2jc-tF",
        "colab_type": "code",
        "colab": {}
      },
      "source": [
        "import matplotlib.pyplot as plt  # 下記コードの実行に必要なライブラリを追記\n",
        "\n",
        "for i in range(25):\n",
        "  plt.subplot(5, 5, i+1)\n",
        "  # ……省略……"
      ],
      "execution_count": 0,
      "outputs": []
    },
    {
      "cell_type": "markdown",
      "metadata": {
        "id": "F6TneSsZf14I",
        "colab_type": "text"
      },
      "source": [
        "#### リスト13-2　ループ処理（while文）を行うコード例"
      ]
    },
    {
      "cell_type": "code",
      "metadata": {
        "id": "Fm5zisHgf445",
        "colab_type": "code",
        "colab": {}
      },
      "source": [
        "import matplotlib.pyplot as plt  # 下記コードの実行に必要なライブラリを追記\n",
        "\n",
        "i = 0\n",
        "while i < 25:\n",
        "  plt.subplot(5, 5, i+1)\n",
        "  i = i + 1\n",
        "  # ……省略……"
      ],
      "execution_count": 0,
      "outputs": []
    },
    {
      "cell_type": "markdown",
      "metadata": {
        "id": "dN2fx7ochjFh",
        "colab_type": "text"
      },
      "source": [
        "#### リスト13-3　ループ処理を中断するコード例"
      ]
    },
    {
      "cell_type": "code",
      "metadata": {
        "id": "qdxRYgNChn_I",
        "colab_type": "code",
        "colab": {}
      },
      "source": [
        "for i in range(25):\n",
        "  plt.subplot(5, 5, i+1)\n",
        "  if i >= 2:\n",
        "    break\n",
        "  # ……省略……"
      ],
      "execution_count": 0,
      "outputs": []
    },
    {
      "cell_type": "markdown",
      "metadata": {
        "id": "tng1S8E6h3mP",
        "colab_type": "text"
      },
      "source": [
        "#### リスト13-4　次のループ処理にスキップして継続するコード例"
      ]
    },
    {
      "cell_type": "code",
      "metadata": {
        "id": "pE8PYQgvh6xY",
        "colab_type": "code",
        "colab": {}
      },
      "source": [
        "for i in range(25):\n",
        "  if i >= 2:\n",
        "    continue\n",
        "  plt.subplot(5, 5, i+1)\n",
        "  # ……省略……"
      ],
      "execution_count": 0,
      "outputs": []
    },
    {
      "cell_type": "markdown",
      "metadata": {
        "id": "SrwDW_v6i5Ro",
        "colab_type": "text"
      },
      "source": [
        "## 四則演算"
      ]
    },
    {
      "cell_type": "markdown",
      "metadata": {
        "id": "Eyvf8eXxlMAn",
        "colab_type": "text"
      },
      "source": [
        "#### リスト13-5　四則演算のコード例"
      ]
    },
    {
      "cell_type": "code",
      "metadata": {
        "id": "DxOc4TumlPgM",
        "colab_type": "code",
        "colab": {}
      },
      "source": [
        "num = 5 + 3\n",
        "print(num)  # 8（足し算）\n",
        "\n",
        "num = 5 - 3\n",
        "print(num)  # 2（引き算）\n",
        "\n",
        "num = 5 * 3\n",
        "print(num)  # 15（かけ算）\n",
        "\n",
        "num = 5 / 3\n",
        "print(num)  # 1.6666666666666667（割り算）\n",
        "\n",
        "num = 5 % 3\n",
        "print(num)  # 2（余り）"
      ],
      "execution_count": 0,
      "outputs": []
    },
    {
      "cell_type": "markdown",
      "metadata": {
        "id": "fwiKzEkDmb43",
        "colab_type": "text"
      },
      "source": [
        "#### リスト13-6　NumPyの四則演算機能が使われているコード例"
      ]
    },
    {
      "cell_type": "code",
      "metadata": {
        "id": "bpPG4ERzmeve",
        "colab_type": "code",
        "colab": {}
      },
      "source": [
        "#import tensorflow as tf\n",
        "#mnist = tf.keras.datasets.mnist\n",
        "#(x_train, y_train),(x_test, y_test) = mnist.load_data()\n",
        "# 以下のコードを動かすためには、上記2行を事前に実行しておく必要がある\n",
        "#---------------------------------------------------------------------\n",
        "\n",
        "x_train, x_test = x_train / 255.0, x_test / 255.0"
      ],
      "execution_count": 0,
      "outputs": []
    },
    {
      "cell_type": "markdown",
      "metadata": {
        "id": "T0uriLylmC2b",
        "colab_type": "text"
      },
      "source": [
        "## 【連載中】本ドキュメントは未完です。 <!--お疲れさまでした。Python基本文法の学習は修了です。-->"
      ]
    }
  ]
}