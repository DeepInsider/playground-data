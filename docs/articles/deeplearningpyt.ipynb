{
  "nbformat": 4,
  "nbformat_minor": 0,
  "metadata": {
    "colab": {
      "name": "deeplearningpyt.ipynb",
      "version": "0.3.2",
      "provenance": [],
      "private_outputs": true,
      "toc_visible": true,
      "include_colab_link": true
    },
    "kernelspec": {
      "name": "python3",
      "display_name": "Python 3"
    }
  },
  "cells": [
    {
      "cell_type": "markdown",
      "metadata": {
        "id": "view-in-github",
        "colab_type": "text"
      },
      "source": [
        "<a href=\"https://colab.research.google.com/github/DeepInsider/playground-data/blob/master/docs/articles/deeplearningpyt.ipynb\" target=\"_parent\"><img src=\"https://colab.research.google.com/assets/colab-badge.svg\" alt=\"Open In Colab\"/></a>"
      ]
    },
    {
      "metadata": {
        "id": "KLI1KsptR4NH",
        "colab_type": "text"
      },
      "cell_type": "markdown",
      "source": [
        "##### Copyright 2018 Digital Advantage - Deep Insider."
      ]
    },
    {
      "metadata": {
        "id": "VDd0rdY7R66x",
        "colab_type": "code",
        "colab": {}
      },
      "cell_type": "code",
      "source": [
        "#@title Licensed under the Apache License, Version 2.0 (the \"License\");\n",
        "# you may not use this file except in compliance with the License.\n",
        "# You may obtain a copy of the License at\n",
        "#\n",
        "# https://www.apache.org/licenses/LICENSE-2.0\n",
        "#\n",
        "# Unless required by applicable law or agreed to in writing, software\n",
        "# distributed under the License is distributed on an \"AS IS\" BASIS,\n",
        "# WITHOUT WARRANTIES OR CONDITIONS OF ANY KIND, either express or implied.\n",
        "# See the License for the specific language governing permissions and\n",
        "# limitations under the License."
      ],
      "execution_count": 0,
      "outputs": []
    },
    {
      "metadata": {
        "id": "m2bdi83iR9iX",
        "colab_type": "text"
      },
      "cell_type": "markdown",
      "source": [
        "# 連載『機械学習 ＆ ディープラーニング入門（Python編）』のノートブック"
      ]
    },
    {
      "metadata": {
        "id": "sWYD5NeoSUse",
        "colab_type": "text"
      },
      "cell_type": "markdown",
      "source": [
        "<table valign=\"middle\">\n",
        "  <td>\n",
        "    <a target=\"_blank\" href=\"https://deepinsider.jp/tutor/deeplearningpyt\"> <img src=\"https://re.deepinsider.jp/img/ml-logo/manabu.svg\"/>Deep Insiderで記事を読む</a>\n",
        "  </td>\n",
        "  <td>\n",
        "    <a target=\"_blank\" href=\"https://colab.research.google.com/github/DeepInsider/playground-data/blob/master/docs/articles/deeplearningpyt.ipynb\"> <img src=\"https://re.deepinsider.jp/img/ml-logo/gcolab.svg\" />Google Colabで実行する</a>\n",
        "  </td>\n",
        "  <td>\n",
        "    <a target=\"_blank\" href=\"https://github.com/DeepInsider/playground-data/blob/master/docs/articles/deeplearningpyt.ipynb\"> <img src=\"https://re.deepinsider.jp/img/ml-logo/github.svg\" />GitHubでソースコードを見る</a>\n",
        "  </td>\n",
        "</table>"
      ]
    },
    {
      "metadata": {
        "id": "qulkhNqWSeEU",
        "colab_type": "text"
      },
      "cell_type": "markdown",
      "source": [
        "※上から順に実行してください。上のコードで実行したものを再利用しているところがあるため、すべて実行しないとエラーになるコードがあります。  \n",
        "　すべてのコードを一括実行したい場合は、メニューバーから［ランタイム］－［すべてのセルを実行］をクリックしてください。"
      ]
    },
    {
      "metadata": {
        "id": "mgEPX8DnSgc2",
        "colab_type": "text"
      },
      "cell_type": "markdown",
      "source": [
        "※このノートブックは「Python 2」でも実行できるようにしていますが、基本的に「Python 3」を利用することをお勧めします。\n",
        "　Python 3を利用するには、メニューバーから［ランタイム］－［ランタイムのタイプを変更］を選択すると表示される［ノートブックの設定］ダイアログの、［ランタイムのタイプ］欄で「Python 3」に選択し、その右下にある［保存］ボタンをクリックしてください。"
      ]
    },
    {
      "metadata": {
        "id": "X-goNWkDVWmR",
        "colab_type": "text"
      },
      "cell_type": "markdown",
      "source": [
        "## Python バージョン2への対応"
      ]
    },
    {
      "metadata": {
        "id": "n112hTCuSAt5",
        "colab_type": "code",
        "colab": {}
      },
      "cell_type": "code",
      "source": [
        "# Pythonファイルの冒頭で以下を記述する\n",
        "from __future__ import absolute_import\n",
        "from __future__ import division\n",
        "from __future__ import print_function\n",
        "from __future__ import unicode_literals\n",
        "\n",
        "print(3 / 2) # 「1.5」。インポートしないPython 2系だと「1」"
      ],
      "execution_count": 0,
      "outputs": []
    },
    {
      "metadata": {
        "id": "b_Q4lXyMVTip",
        "colab_type": "text"
      },
      "cell_type": "markdown",
      "source": [
        "## 本連載のゴール"
      ]
    },
    {
      "metadata": {
        "id": "drYIhqfDXP8p",
        "colab_type": "text"
      },
      "cell_type": "markdown",
      "source": [
        "以下の図1-a／b／c／dのコードが読めるし、意味も理解できるようになることが、本連載の最終的なゴール。"
      ]
    },
    {
      "metadata": {
        "id": "jEcPB_w2W9u9",
        "colab_type": "text"
      },
      "cell_type": "markdown",
      "source": [
        "図1-a　TensorFlowの公式チュートリアルのサンプルコード（1）\n",
        "![図1-a　TensorFlowの公式チュートリアルのサンプルコード（1）](https://re.deepinsider.jp/tutor/deeplearningpyt/01version/01a.gif)"
      ]
    },
    {
      "metadata": {
        "id": "CMEPB-F8XmY1",
        "colab_type": "text"
      },
      "cell_type": "markdown",
      "source": [
        "図1-b　TensorFlowの公式チュートリアルのサンプルコード（2）\n",
        "![図1-b　TensorFlowの公式チュートリアルのサンプルコード（2）](https://re.deepinsider.jp/tutor/deeplearningpyt/01version/01b.gif)\n"
      ]
    },
    {
      "metadata": {
        "id": "kVwIXy5GXqae",
        "colab_type": "text"
      },
      "cell_type": "markdown",
      "source": [
        "図1-c　TensorFlowの公式チュートリアルのサンプルコード（3）\n",
        "![図1-c　TensorFlowの公式チュートリアルのサンプルコード（3）](https://re.deepinsider.jp/tutor/deeplearningpyt/01version/01c.gif)"
      ]
    },
    {
      "metadata": {
        "id": "IEbJWU1gXtys",
        "colab_type": "text"
      },
      "cell_type": "markdown",
      "source": [
        "図1-d　TensorFlowの公式チュートリアルのサンプルコード（4）\n",
        "![図1-d　TensorFlowの公式チュートリアルのサンプルコード（4）](https://re.deepinsider.jp/tutor/deeplearningpyt/01version/01d.gif)"
      ]
    },
    {
      "metadata": {
        "id": "jOVlvfICllx_",
        "colab_type": "text"
      },
      "cell_type": "markdown",
      "source": [
        "## Python言語のバージョン"
      ]
    },
    {
      "metadata": {
        "id": "Nf8icKrfmfs6",
        "colab_type": "text"
      },
      "cell_type": "markdown",
      "source": [
        "バージョンは3系を使用。"
      ]
    },
    {
      "metadata": {
        "id": "OMnJl8STYMWj",
        "colab_type": "code",
        "colab": {}
      },
      "cell_type": "code",
      "source": [
        "import sys\n",
        "print('Version: ', str(sys.version_info.major) + '.' + str(sys.version_info.minor))\n",
        "# Version:  3.6"
      ],
      "execution_count": 0,
      "outputs": []
    },
    {
      "metadata": {
        "id": "624xCvriKcg9",
        "colab_type": "text"
      },
      "cell_type": "markdown",
      "source": [
        "## モジュールとパッケージ"
      ]
    },
    {
      "metadata": {
        "id": "4NYrLJV1ct3g",
        "colab_type": "text"
      },
      "cell_type": "markdown",
      "source": [
        "#### リスト2　`tensorflow` パッケージをインストールするためのシェルコマンド\n",
        "※リスト1の前に実行する必要があるので、順番が前後している点に注意してほしい。"
      ]
    },
    {
      "metadata": {
        "id": "mb3rdKp3czcU",
        "colab_type": "code",
        "colab": {}
      },
      "cell_type": "code",
      "source": [
        "!pip install tensorflow"
      ],
      "execution_count": 0,
      "outputs": []
    },
    {
      "metadata": {
        "id": "1MOxCIqRerKv",
        "colab_type": "text"
      },
      "cell_type": "markdown",
      "source": [
        "## モジュールのインポート"
      ]
    },
    {
      "metadata": {
        "id": "EyXGUvzuKfBC",
        "colab_type": "text"
      },
      "cell_type": "markdown",
      "source": [
        "#### リスト1　モジュールをインポートするコード例"
      ]
    },
    {
      "metadata": {
        "id": "g1HSgGn9Kh1z",
        "colab_type": "code",
        "colab": {}
      },
      "cell_type": "code",
      "source": [
        "import tensorflow as tf"
      ],
      "execution_count": 0,
      "outputs": []
    },
    {
      "metadata": {
        "id": "EYYW35jKQ5sS",
        "colab_type": "text"
      },
      "cell_type": "markdown",
      "source": [
        "#### リストex1　応用テクニック： 複数行の文を記述する例"
      ]
    },
    {
      "metadata": {
        "id": "wnBs3n4sQ9Hg",
        "colab_type": "code",
        "colab": {}
      },
      "cell_type": "code",
      "source": [
        "import tensorflow \\\n",
        "    as tf"
      ],
      "execution_count": 0,
      "outputs": []
    },
    {
      "metadata": {
        "id": "dzWYIOS_ejM4",
        "colab_type": "text"
      },
      "cell_type": "markdown",
      "source": [
        "## モジュールの利用と定義"
      ]
    },
    {
      "metadata": {
        "id": "83dyeV4bcaB0",
        "colab_type": "text"
      },
      "cell_type": "markdown",
      "source": [
        "#### リスト3-1　モジュールを利用するコード例"
      ]
    },
    {
      "metadata": {
        "id": "adX7rjpfcdf0",
        "colab_type": "code",
        "colab": {}
      },
      "cell_type": "code",
      "source": [
        "mnist = tf.keras.datasets.mnist"
      ],
      "execution_count": 0,
      "outputs": []
    },
    {
      "metadata": {
        "id": "mVXOGqDee9af",
        "colab_type": "text"
      },
      "cell_type": "markdown",
      "source": [
        "#### リスト3-2　モジュール階層の途中のモジュールをインポートするコード例"
      ]
    },
    {
      "metadata": {
        "id": "SdFVx_AOcR9E",
        "colab_type": "code",
        "colab": {}
      },
      "cell_type": "code",
      "source": [
        "from tensorflow.keras import datasets\n",
        "mnist = datasets.mnist"
      ],
      "execution_count": 0,
      "outputs": []
    },
    {
      "metadata": {
        "id": "T0uriLylmC2b",
        "colab_type": "text"
      },
      "cell_type": "markdown",
      "source": [
        "## 【連載中】本ドキュメントは未完です。 <!--お疲れさまでした。Python基本文法の学習は修了です。-->"
      ]
    }
  ]
}