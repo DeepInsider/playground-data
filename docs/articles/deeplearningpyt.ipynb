{
  "nbformat": 4,
  "nbformat_minor": 0,
  "metadata": {
    "colab": {
      "name": "deeplearningpyt.ipynb",
      "version": "0.3.2",
      "provenance": [],
      "private_outputs": true,
      "collapsed_sections": [],
      "toc_visible": true,
      "include_colab_link": true
    },
    "kernelspec": {
      "name": "python3",
      "display_name": "Python 3"
    }
  },
  "cells": [
    {
      "cell_type": "markdown",
      "metadata": {
        "id": "view-in-github",
        "colab_type": "text"
      },
      "source": [
        "<a href=\"https://colab.research.google.com/github/DeepInsider/playground-data/blob/master/docs/articles/deeplearningpyt.ipynb\" target=\"_parent\"><img src=\"https://colab.research.google.com/assets/colab-badge.svg\" alt=\"Open In Colab\"/></a>"
      ]
    },
    {
      "metadata": {
        "id": "KLI1KsptR4NH",
        "colab_type": "text"
      },
      "cell_type": "markdown",
      "source": [
        "##### Copyright 2018 Digital Advantage - Deep Insider."
      ]
    },
    {
      "metadata": {
        "id": "VDd0rdY7R66x",
        "colab_type": "code",
        "colab": {}
      },
      "cell_type": "code",
      "source": [
        "#@title Licensed under the Apache License, Version 2.0 (the \"License\");\n",
        "# you may not use this file except in compliance with the License.\n",
        "# You may obtain a copy of the License at\n",
        "#\n",
        "# https://www.apache.org/licenses/LICENSE-2.0\n",
        "#\n",
        "# Unless required by applicable law or agreed to in writing, software\n",
        "# distributed under the License is distributed on an \"AS IS\" BASIS,\n",
        "# WITHOUT WARRANTIES OR CONDITIONS OF ANY KIND, either express or implied.\n",
        "# See the License for the specific language governing permissions and\n",
        "# limitations under the License."
      ],
      "execution_count": 0,
      "outputs": []
    },
    {
      "metadata": {
        "id": "m2bdi83iR9iX",
        "colab_type": "text"
      },
      "cell_type": "markdown",
      "source": [
        "# 連載『機械学習 ＆ ディープラーニング入門（Python編）』のノートブック"
      ]
    },
    {
      "metadata": {
        "id": "sWYD5NeoSUse",
        "colab_type": "text"
      },
      "cell_type": "markdown",
      "source": [
        "<table valign=\"middle\">\n",
        "  <td>\n",
        "    <a target=\"_blank\" href=\"https://deepinsider.jp/tutor/deeplearningpyt\"> <img src=\"https://re.deepinsider.jp/img/ml-logo/manabu.svg\"/>Deep Insiderで記事を読む</a>\n",
        "  </td>\n",
        "  <td>\n",
        "    <a target=\"_blank\" href=\"https://colab.research.google.com/github/DeepInsider/playground-data/blob/master/docs/articles/deeplearningpyt.ipynb\"> <img src=\"https://re.deepinsider.jp/img/ml-logo/gcolab.svg\" />Google Colabで実行する</a>\n",
        "  </td>\n",
        "  <td>\n",
        "    <a target=\"_blank\" href=\"https://github.com/DeepInsider/playground-data/blob/master/docs/articles/deeplearningpyt.ipynb\"> <img src=\"https://re.deepinsider.jp/img/ml-logo/github.svg\" />GitHubでソースコードを見る</a>\n",
        "  </td>\n",
        "</table>"
      ]
    },
    {
      "metadata": {
        "id": "qulkhNqWSeEU",
        "colab_type": "text"
      },
      "cell_type": "markdown",
      "source": [
        "※上から順に実行してください。上のコードで実行したものを再利用しているところがあるため、すべて実行しないとエラーになるコードがあります。  \n",
        "　すべてのコードを一括実行したい場合は、メニューバーから［ランタイム］－［すべてのセルを実行］をクリックしてください。"
      ]
    },
    {
      "metadata": {
        "id": "mgEPX8DnSgc2",
        "colab_type": "text"
      },
      "cell_type": "markdown",
      "source": [
        "※このノートブックは「Python 2」でも実行できるようにしていますが、基本的に「Python 3」を利用することをお勧めします。\n",
        "　Python 3を利用するには、メニューバーから［ランタイム］－［ランタイムのタイプを変更］を選択すると表示される［ノートブックの設定］ダイアログの、［ランタイムのタイプ］欄で「Python 3」に選択し、その右下にある［保存］ボタンをクリックしてください。"
      ]
    },
    {
      "metadata": {
        "id": "X-goNWkDVWmR",
        "colab_type": "text"
      },
      "cell_type": "markdown",
      "source": [
        "## Python バージョン2への対応"
      ]
    },
    {
      "metadata": {
        "id": "n112hTCuSAt5",
        "colab_type": "code",
        "colab": {}
      },
      "cell_type": "code",
      "source": [
        "# Pythonファイルの冒頭で以下を記述する\n",
        "from __future__ import absolute_import\n",
        "from __future__ import division\n",
        "from __future__ import print_function\n",
        "from __future__ import unicode_literals\n",
        "\n",
        "print(3 / 2) # 「1.5」。インポートしないPython 2系だと「1」"
      ],
      "execution_count": 0,
      "outputs": []
    },
    {
      "metadata": {
        "id": "b_Q4lXyMVTip",
        "colab_type": "text"
      },
      "cell_type": "markdown",
      "source": [
        "## 本連載のゴール"
      ]
    },
    {
      "metadata": {
        "id": "drYIhqfDXP8p",
        "colab_type": "text"
      },
      "cell_type": "markdown",
      "source": [
        "以下の図1-a／b／c／dのコードが読めるし、意味も理解できるようになることが、本連載の最終的なゴール。"
      ]
    },
    {
      "metadata": {
        "id": "jEcPB_w2W9u9",
        "colab_type": "text"
      },
      "cell_type": "markdown",
      "source": [
        "図1-a　TensorFlowの公式チュートリアルのサンプルコード（1）\n",
        "![図1-a　TensorFlowの公式チュートリアルのサンプルコード（1）](https://re.deepinsider.jp/tutor/deeplearningpyt/01version/01a.gif)"
      ]
    },
    {
      "metadata": {
        "id": "CMEPB-F8XmY1",
        "colab_type": "text"
      },
      "cell_type": "markdown",
      "source": [
        "図1-b　TensorFlowの公式チュートリアルのサンプルコード（2）\n",
        "![図1-b　TensorFlowの公式チュートリアルのサンプルコード（2）](https://re.deepinsider.jp/tutor/deeplearningpyt/01version/01b.gif)\n"
      ]
    },
    {
      "metadata": {
        "id": "kVwIXy5GXqae",
        "colab_type": "text"
      },
      "cell_type": "markdown",
      "source": [
        "図1-c　TensorFlowの公式チュートリアルのサンプルコード（3）\n",
        "![図1-c　TensorFlowの公式チュートリアルのサンプルコード（3）](https://re.deepinsider.jp/tutor/deeplearningpyt/01version/01c.gif)"
      ]
    },
    {
      "metadata": {
        "id": "IEbJWU1gXtys",
        "colab_type": "text"
      },
      "cell_type": "markdown",
      "source": [
        "図1-d　TensorFlowの公式チュートリアルのサンプルコード（4）\n",
        "![図1-d　TensorFlowの公式チュートリアルのサンプルコード（4）](https://re.deepinsider.jp/tutor/deeplearningpyt/01version/01d.gif)"
      ]
    },
    {
      "metadata": {
        "id": "jOVlvfICllx_",
        "colab_type": "text"
      },
      "cell_type": "markdown",
      "source": [
        "## Python言語のバージョン"
      ]
    },
    {
      "metadata": {
        "id": "Nf8icKrfmfs6",
        "colab_type": "text"
      },
      "cell_type": "markdown",
      "source": [
        "バージョンは3系を使用。"
      ]
    },
    {
      "metadata": {
        "id": "OMnJl8STYMWj",
        "colab_type": "code",
        "colab": {}
      },
      "cell_type": "code",
      "source": [
        "import sys\n",
        "print('Version: ', str(sys.version_info.major) + '.' + str(sys.version_info.minor))\n",
        "# Version:  3.6"
      ],
      "execution_count": 0,
      "outputs": []
    },
    {
      "metadata": {
        "id": "624xCvriKcg9",
        "colab_type": "text"
      },
      "cell_type": "markdown",
      "source": [
        "## 配布用プロジェクトのインストール"
      ]
    },
    {
      "metadata": {
        "id": "X8e257HWC2ko",
        "colab_type": "text"
      },
      "cell_type": "markdown",
      "source": [
        "※リスト1の前にリスト2を実行する必要があるので、順番が前後している点に注意してほしい。"
      ]
    },
    {
      "metadata": {
        "id": "4NYrLJV1ct3g",
        "colab_type": "text"
      },
      "cell_type": "markdown",
      "source": [
        "#### リスト2　配布用プロジェクト「tensorflow」をインストールするためのシェルコマンド"
      ]
    },
    {
      "metadata": {
        "id": "mb3rdKp3czcU",
        "colab_type": "code",
        "colab": {}
      },
      "cell_type": "code",
      "source": [
        "!pip install tensorflow"
      ],
      "execution_count": 0,
      "outputs": []
    },
    {
      "metadata": {
        "id": "1MOxCIqRerKv",
        "colab_type": "text"
      },
      "cell_type": "markdown",
      "source": [
        "## モジュールのインポート"
      ]
    },
    {
      "metadata": {
        "id": "EyXGUvzuKfBC",
        "colab_type": "text"
      },
      "cell_type": "markdown",
      "source": [
        "#### リスト1　モジュールをインポートするコード例"
      ]
    },
    {
      "metadata": {
        "id": "g1HSgGn9Kh1z",
        "colab_type": "code",
        "colab": {}
      },
      "cell_type": "code",
      "source": [
        "import tensorflow as tf"
      ],
      "execution_count": 0,
      "outputs": []
    },
    {
      "metadata": {
        "id": "EYYW35jKQ5sS",
        "colab_type": "text"
      },
      "cell_type": "markdown",
      "source": [
        "#### リストex1　応用テクニック： 複数行の文を記述する例"
      ]
    },
    {
      "metadata": {
        "id": "wnBs3n4sQ9Hg",
        "colab_type": "code",
        "colab": {}
      },
      "cell_type": "code",
      "source": [
        "import tensorflow \\\n",
        "    as tf"
      ],
      "execution_count": 0,
      "outputs": []
    },
    {
      "metadata": {
        "id": "dzWYIOS_ejM4",
        "colab_type": "text"
      },
      "cell_type": "markdown",
      "source": [
        "## モジュールの利用と定義"
      ]
    },
    {
      "metadata": {
        "id": "83dyeV4bcaB0",
        "colab_type": "text"
      },
      "cell_type": "markdown",
      "source": [
        "#### リスト3-1　モジュールを利用するコード例"
      ]
    },
    {
      "metadata": {
        "id": "adX7rjpfcdf0",
        "colab_type": "code",
        "colab": {}
      },
      "cell_type": "code",
      "source": [
        "mnist = tf.keras.datasets.mnist"
      ],
      "execution_count": 0,
      "outputs": []
    },
    {
      "metadata": {
        "id": "mVXOGqDee9af",
        "colab_type": "text"
      },
      "cell_type": "markdown",
      "source": [
        "#### リスト3-2　モジュール階層の途中のモジュールをインポートするコード例"
      ]
    },
    {
      "metadata": {
        "id": "SdFVx_AOcR9E",
        "colab_type": "code",
        "colab": {}
      },
      "cell_type": "code",
      "source": [
        "from tensorflow.keras import datasets\n",
        "mnist = datasets.mnist"
      ],
      "execution_count": 0,
      "outputs": []
    },
    {
      "metadata": {
        "id": "1jegzABtR0pt",
        "colab_type": "text"
      },
      "cell_type": "markdown",
      "source": [
        "## コメント"
      ]
    },
    {
      "metadata": {
        "id": "X-YghTlQUMEq",
        "colab_type": "text"
      },
      "cell_type": "markdown",
      "source": [
        "#### リスト4-1　コメントのコード例（行全体）"
      ]
    },
    {
      "metadata": {
        "id": "85wvHCvdUN87",
        "colab_type": "code",
        "colab": {}
      },
      "cell_type": "code",
      "source": [
        "# Display training progress by printing a single dot for each completed epoch（各エポックの完了のたびに「.」を描画することでトレーニングの進捗を表示する）\n",
        "#＃ ……コメントに続くコードは省略……\n",
        "\n",
        "# Store training stats（トレーニング統計を保存する）\n",
        "## ……コメントに続くコードは省略……"
      ],
      "execution_count": 0,
      "outputs": []
    },
    {
      "metadata": {
        "id": "7bxx3Lr6UQRi",
        "colab_type": "text"
      },
      "cell_type": "markdown",
      "source": [
        "#### リスト4-2　コメントのコード例（行途中）"
      ]
    },
    {
      "metadata": {
        "id": "8bOIWEEMUSUQ",
        "colab_type": "code",
        "colab": {}
      },
      "cell_type": "code",
      "source": [
        "import tensorflow as tf  # tfという名前でtensorflowモジュールをインポート"
      ],
      "execution_count": 0,
      "outputs": []
    },
    {
      "metadata": {
        "id": "PzGuIcq9UUPC",
        "colab_type": "text"
      },
      "cell_type": "markdown",
      "source": [
        "#### リスト4-3　コメントのコード例（複数行）"
      ]
    },
    {
      "metadata": {
        "id": "exehSpR0UXWc",
        "colab_type": "code",
        "colab": {}
      },
      "cell_type": "code",
      "source": [
        "'''\n",
        "複数行の\n",
        "コメントが\n",
        "書けます\n",
        "'''"
      ],
      "execution_count": 0,
      "outputs": []
    },
    {
      "metadata": {
        "id": "UtfND6e3FOMl",
        "colab_type": "text"
      },
      "cell_type": "markdown",
      "source": [
        "## 変数の宣言と代入"
      ]
    },
    {
      "metadata": {
        "id": "Djwp1wEDFvAU",
        "colab_type": "text"
      },
      "cell_type": "markdown",
      "source": [
        "#### リスト5-1　変数の宣言と代入のサンプルコード"
      ]
    },
    {
      "metadata": {
        "id": "eyAejccu8sOQ",
        "colab_type": "code",
        "colab": {}
      },
      "cell_type": "code",
      "source": [
        "import tensorflow as tf  # 事前にインポートが必要\n",
        "mnist = tf.keras.datasets.mnist"
      ],
      "execution_count": 0,
      "outputs": []
    },
    {
      "metadata": {
        "id": "_foDshHAF_6q",
        "colab_type": "text"
      },
      "cell_type": "markdown",
      "source": [
        "#### リスト5-2　変数に代入されたオブジェクトの内容を確認"
      ]
    },
    {
      "metadata": {
        "id": "P24_YScYFlzj",
        "colab_type": "code",
        "colab": {}
      },
      "cell_type": "code",
      "source": [
        "mnist"
      ],
      "execution_count": 0,
      "outputs": []
    },
    {
      "metadata": {
        "id": "2DdYs_OdZkX0",
        "colab_type": "text"
      },
      "cell_type": "markdown",
      "source": [
        "#### リスト6-1　オブジェクトの型を調べるコード例"
      ]
    },
    {
      "metadata": {
        "id": "47fWwqWcJ1aG",
        "colab_type": "code",
        "colab": {}
      },
      "cell_type": "code",
      "source": [
        "type(mnist)  # moduleと出力される"
      ],
      "execution_count": 0,
      "outputs": []
    },
    {
      "metadata": {
        "id": "zQYhplCsZp2V",
        "colab_type": "text"
      },
      "cell_type": "markdown",
      "source": [
        "#### リスト6-2　変数「mnist」に代入されたオブジェクトのIDを調べるコード例"
      ]
    },
    {
      "metadata": {
        "id": "hr9KAWT8KG0Z",
        "colab_type": "code",
        "colab": {}
      },
      "cell_type": "code",
      "source": [
        "id(mnist)  # 140667186446808（※本稿の場合。読者ごとに違う数値）と出力される"
      ],
      "execution_count": 0,
      "outputs": []
    },
    {
      "metadata": {
        "id": "71cQRFcHaCZK",
        "colab_type": "text"
      },
      "cell_type": "markdown",
      "source": [
        "#### リスト6-3　tf.keras.datasets.mnistモジュールのIDを調べるコード例"
      ]
    },
    {
      "metadata": {
        "id": "7JQSnhD2KLBN",
        "colab_type": "code",
        "colab": {}
      },
      "cell_type": "code",
      "source": [
        "id(tf.keras.datasets.mnist)  # 140667186446808（※本稿の場合）と出力される"
      ],
      "execution_count": 0,
      "outputs": []
    },
    {
      "metadata": {
        "id": "ZZS3SySNHCB7",
        "colab_type": "text"
      },
      "cell_type": "markdown",
      "source": [
        "## データの型（基本編）"
      ]
    },
    {
      "metadata": {
        "id": "G81S1w74HF6I",
        "colab_type": "text"
      },
      "cell_type": "markdown",
      "source": [
        "#### リスト7　変数への何らかの代入を行っているコード"
      ]
    },
    {
      "metadata": {
        "id": "zHpwuz0EHKAo",
        "colab_type": "code",
        "colab": {}
      },
      "cell_type": "code",
      "source": [
        "# 変数への「数値」の代入\n",
        "EPOCHS = 500\n",
        "\n",
        "# 変数への「文字列値」の代入\n",
        "color = 'blue'\n",
        "#color = 'red'  # 同じデータ型なので説明省略"
      ],
      "execution_count": 0,
      "outputs": []
    },
    {
      "metadata": {
        "id": "3wyDLSwr7ADu",
        "colab_type": "text"
      },
      "cell_type": "markdown",
      "source": [
        "### bool型（ブール型）"
      ]
    },
    {
      "metadata": {
        "id": "Mv_WLN227D4Y",
        "colab_type": "text"
      },
      "cell_type": "markdown",
      "source": [
        "#### リスト7-1　変数の宣言と「真偽値」の代入を行うコード"
      ]
    },
    {
      "metadata": {
        "id": "vE02GdaJ7GSV",
        "colab_type": "code",
        "colab": {}
      },
      "cell_type": "code",
      "source": [
        "is_a = True\n",
        "is_b = False\n",
        "\n",
        "is_b  # Falseと出力される"
      ],
      "execution_count": 0,
      "outputs": []
    },
    {
      "metadata": {
        "id": "407q0i7e7JEC",
        "colab_type": "text"
      },
      "cell_type": "markdown",
      "source": [
        "### int型／float型（数値型）"
      ]
    },
    {
      "metadata": {
        "id": "KUepZrLU7Mdx",
        "colab_type": "text"
      },
      "cell_type": "markdown",
      "source": [
        "#### リスト7-2　変数の宣言と「整数値」の代入を行うコード"
      ]
    },
    {
      "metadata": {
        "id": "4GYwi2N-7PHS",
        "colab_type": "code",
        "colab": {}
      },
      "cell_type": "code",
      "source": [
        "EPOCHS = 500\n",
        "\n",
        "EPOCHS  # 500と出力される"
      ],
      "execution_count": 0,
      "outputs": []
    },
    {
      "metadata": {
        "id": "6cTKcvUq7RYj",
        "colab_type": "text"
      },
      "cell_type": "markdown",
      "source": [
        "#### リスト7-3　変数の宣言と「浮動小数点数値」の代入を行うコード"
      ]
    },
    {
      "metadata": {
        "id": "m2uVRF1p7UAh",
        "colab_type": "code",
        "colab": {}
      },
      "cell_type": "code",
      "source": [
        "float_variable = 123.456\n",
        "\n",
        "float_variable  # 123.456と出力される"
      ],
      "execution_count": 0,
      "outputs": []
    },
    {
      "metadata": {
        "id": "0pbjrowX7WHW",
        "colab_type": "text"
      },
      "cell_type": "markdown",
      "source": [
        "### str型（文字列型）"
      ]
    },
    {
      "metadata": {
        "id": "EBlWuz_b7X80",
        "colab_type": "text"
      },
      "cell_type": "markdown",
      "source": [
        "#### リスト7-4　変数の宣言と「文字列値」の代入を行うコード"
      ]
    },
    {
      "metadata": {
        "id": "K_-_BRPU7aL1",
        "colab_type": "code",
        "colab": {}
      },
      "cell_type": "code",
      "source": [
        "color = 'blue'\n",
        "\n",
        "color  # 'blue'と出力される"
      ],
      "execution_count": 0,
      "outputs": []
    },
    {
      "metadata": {
        "id": "opA4bQWS7cQO",
        "colab_type": "text"
      },
      "cell_type": "markdown",
      "source": [
        "#### リスト7-5　二重引用符による文字列の記述"
      ]
    },
    {
      "metadata": {
        "id": "3TUNyLbb7ekF",
        "colab_type": "code",
        "colab": {}
      },
      "cell_type": "code",
      "source": [
        "color = \"b'lue\"\n",
        "\n",
        "color  # \"b'lue\"と出力される"
      ],
      "execution_count": 0,
      "outputs": []
    },
    {
      "metadata": {
        "id": "6M7qKxSd7sRk",
        "colab_type": "text"
      },
      "cell_type": "markdown",
      "source": [
        "#### リスト7-6　文字列でエスケープシーケンスを使った例"
      ]
    },
    {
      "metadata": {
        "id": "9tE3_QEe8Kln",
        "colab_type": "code",
        "colab": {}
      },
      "cell_type": "code",
      "source": [
        "color = 'b\\'l\"ue'\n",
        "\n",
        "color  # 'b\\'l\"ue'と出力される"
      ],
      "execution_count": 0,
      "outputs": []
    },
    {
      "metadata": {
        "id": "UtBK4fpFmi3w",
        "colab_type": "text"
      },
      "cell_type": "markdown",
      "source": [
        "## データの型（コレクション編）"
      ]
    },
    {
      "metadata": {
        "id": "rpsfoTR1wPOz",
        "colab_type": "text"
      },
      "cell_type": "markdown",
      "source": [
        "#### リスト8　変数への何らかの代入を行っているコード"
      ]
    },
    {
      "metadata": {
        "id": "yjfAakRywRua",
        "colab_type": "code",
        "colab": {}
      },
      "cell_type": "code",
      "source": [
        "#import tensorflow as tf\n",
        "#mnist = tf.keras.datasets.mnist\n",
        "# 以下のコードを動かすためには、上記2行を事前に実行しておく必要がある\n",
        "#---------------------------------------------------------------------\n",
        "\n",
        "# 変数への「タプル値」の代入\n",
        "(x_train, y_train),(x_test, y_test) = mnist.load_data()\n",
        "\n",
        "# 「タプル」の構文を応用して、複数の変数にまとめて代入\n",
        "x_train, x_test = x_train / 255.0, x_test / 255.0\n",
        "\n",
        "# 以下は「タプル」の構文を応用する同じ方法なので説明を省略\n",
        "# predictions_array, true_label = predictions_array[i], true_label[i]"
      ],
      "execution_count": 0,
      "outputs": []
    },
    {
      "metadata": {
        "id": "6AqLPHNceqo4",
        "colab_type": "text"
      },
      "cell_type": "markdown",
      "source": [
        "### list型（リスト型）"
      ]
    },
    {
      "metadata": {
        "id": "Mv7W2S1A4fQ6",
        "colab_type": "text"
      },
      "cell_type": "markdown",
      "source": [
        "#### リスト8-1　変数へ「リスト」値を代入するコード"
      ]
    },
    {
      "metadata": {
        "id": "hf3j1sIE4ihf",
        "colab_type": "code",
        "colab": {}
      },
      "cell_type": "code",
      "source": [
        "abc_list = ['a', 'b', 'c', 'd', 'e']\n",
        "\n",
        "abc_list  # ['a', 'b', 'c', 'd', 'e']と出力される"
      ],
      "execution_count": 0,
      "outputs": []
    },
    {
      "metadata": {
        "id": "p_jubFv-ev09",
        "colab_type": "text"
      },
      "cell_type": "markdown",
      "source": [
        "#### ◇ インデクシング（要素データの取得）"
      ]
    },
    {
      "metadata": {
        "id": "lVfwDIq14YhA",
        "colab_type": "text"
      },
      "cell_type": "markdown",
      "source": [
        "#### リスト8-2　リストから単一の値／データを取得するコード"
      ]
    },
    {
      "metadata": {
        "id": "1qerYy-04awc",
        "colab_type": "code",
        "colab": {}
      },
      "cell_type": "code",
      "source": [
        "abc_list[1]\n",
        "# 'b'と出力される"
      ],
      "execution_count": 0,
      "outputs": []
    },
    {
      "metadata": {
        "id": "RipvtPQ-IbuQ",
        "colab_type": "text"
      },
      "cell_type": "markdown",
      "source": [
        "#### リスト8-3　リスト内の要素に値／データを代入するコード"
      ]
    },
    {
      "metadata": {
        "id": "TseiagRUIeTT",
        "colab_type": "code",
        "colab": {}
      },
      "cell_type": "code",
      "source": [
        "abc_list[1] = 'x'\n",
        "\n",
        "abc_list  # ['a', 'x', 'c', 'd', 'e']と出力される"
      ],
      "execution_count": 0,
      "outputs": []
    },
    {
      "metadata": {
        "id": "Bb4C7dxqe2UW",
        "colab_type": "text"
      },
      "cell_type": "markdown",
      "source": [
        "#### ◇ スライシング（範囲データの取得）"
      ]
    },
    {
      "metadata": {
        "id": "W-ytXSvh54SZ",
        "colab_type": "text"
      },
      "cell_type": "markdown",
      "source": [
        "#### リスト8-4　リストから範囲指定で複数の値／データを取得するコード"
      ]
    },
    {
      "metadata": {
        "id": "9bFgwJpH-3I4",
        "colab_type": "code",
        "colab": {}
      },
      "cell_type": "code",
      "source": [
        "abc_list[2:4]\n",
        "# ['c', 'd']と出力される"
      ],
      "execution_count": 0,
      "outputs": []
    },
    {
      "metadata": {
        "id": "7O3cM85f87HG",
        "colab_type": "text"
      },
      "cell_type": "markdown",
      "source": [
        "#### リスト8-4-1　リストから範囲指定で複数の値／データを取得するコード（応用1）"
      ]
    },
    {
      "metadata": {
        "id": "KBiiMIFb8sGL",
        "colab_type": "code",
        "colab": {}
      },
      "cell_type": "code",
      "source": [
        "abc_list[:4] # 先頭からインデックス3までを取得\n",
        "# ['a', 'x', 'c', 'd']と出力される"
      ],
      "execution_count": 0,
      "outputs": []
    },
    {
      "metadata": {
        "id": "SH9cI-md9E8W",
        "colab_type": "text"
      },
      "cell_type": "markdown",
      "source": [
        "#### リスト8-4-2　リストから範囲指定で複数の値／データを取得するコード（応用2）"
      ]
    },
    {
      "metadata": {
        "id": "Ft9Bkakt8yHH",
        "colab_type": "code",
        "colab": {}
      },
      "cell_type": "code",
      "source": [
        "abc_list[2:] # インデックス2から末尾までを取得+\n",
        "# ['c', 'd', 'e']と出力される"
      ],
      "execution_count": 0,
      "outputs": []
    },
    {
      "metadata": {
        "id": "WhMDZxhO9Gwr",
        "colab_type": "text"
      },
      "cell_type": "markdown",
      "source": [
        "#### リスト8-4-3　リストから範囲指定で複数の値／データを取得するコード（応用3）"
      ]
    },
    {
      "metadata": {
        "id": "qK7G6ZxP57sy",
        "colab_type": "code",
        "colab": {}
      },
      "cell_type": "code",
      "source": [
        "abc_list[::2] # 先頭から末尾まで2個先ごとに取得\n",
        "# ['a', 'c', 'e']と出力される"
      ],
      "execution_count": 0,
      "outputs": []
    },
    {
      "metadata": {
        "id": "LmIHGrAYe7Bt",
        "colab_type": "text"
      },
      "cell_type": "markdown",
      "source": [
        "### tuple型（タプル型）"
      ]
    },
    {
      "metadata": {
        "id": "FW7Y1F4RB4Y9",
        "colab_type": "text"
      },
      "cell_type": "markdown",
      "source": [
        "#### リスト8-5　1つの変数へ「タプル」値を代入するコード"
      ]
    },
    {
      "metadata": {
        "id": "17KS9q7xB_7T",
        "colab_type": "code",
        "colab": {}
      },
      "cell_type": "code",
      "source": [
        "# タプル値は1つの変数に代入できる\n",
        "tuple_data = ('Taro', 'Yamada')\n",
        "# 丸括弧を省略して「tuple_data = 'Taro', 'Yamada'」と記述しても同じ意味\n",
        "\n",
        "tuple_data  # ('Taro', 'Yamada')と出力される"
      ],
      "execution_count": 0,
      "outputs": []
    },
    {
      "metadata": {
        "id": "r73MKZt0fC1_",
        "colab_type": "text"
      },
      "cell_type": "markdown",
      "source": [
        "#### ◇ アンパック代入（複数の変数への分解代入）"
      ]
    },
    {
      "metadata": {
        "id": "iwEl-WbgPNhp",
        "colab_type": "text"
      },
      "cell_type": "markdown",
      "source": [
        "#### リスト8-6　複数の変数へ「タプル」値をアンパック代入するコード"
      ]
    },
    {
      "metadata": {
        "id": "6O0oldtjLn7n",
        "colab_type": "code",
        "colab": {}
      },
      "cell_type": "code",
      "source": [
        "# 変数「tuple_data」の宣言とタプル値の代入は、リスト8-5で行っている\n",
        "\n",
        "# tuple型で宣言した複数の変数に、タプル値をアンパック代入（＝分解して代入）\n",
        "(first_name, family_name) = tuple_data\n",
        "\n",
        "family_name  # 'Yamada'と出力される"
      ],
      "execution_count": 0,
      "outputs": []
    },
    {
      "metadata": {
        "id": "5MuOUV-7fG8J",
        "colab_type": "text"
      },
      "cell_type": "markdown",
      "source": [
        "#### ◇ 丸括弧の省略"
      ]
    },
    {
      "metadata": {
        "id": "P8oh2jB8VQFb",
        "colab_type": "text"
      },
      "cell_type": "markdown",
      "source": [
        "#### リスト8-7　丸括弧を省略したタプルの例"
      ]
    },
    {
      "metadata": {
        "id": "KgX1wbeoVS0g",
        "colab_type": "code",
        "colab": {}
      },
      "cell_type": "code",
      "source": [
        "first_name, family_name = 'Taro', 'Yamada'\n",
        "\n",
        "family_name  # 'Yamada'と出力される"
      ],
      "execution_count": 0,
      "outputs": []
    },
    {
      "metadata": {
        "id": "lfBhrjitWHs4",
        "colab_type": "text"
      },
      "cell_type": "markdown",
      "source": [
        "#### リスト8-8　タプルを応用して複数の変数をまとめて宣言＆代入する例"
      ]
    },
    {
      "metadata": {
        "id": "SCks8DhxWLwA",
        "colab_type": "code",
        "colab": {}
      },
      "cell_type": "code",
      "source": [
        "is_b, EPOCHS, color = False, 500, 'blue'\n",
        "\n",
        "is_b, EPOCHS, color  # '(False, 500, 'blue')'と出力される"
      ],
      "execution_count": 0,
      "outputs": []
    },
    {
      "metadata": {
        "id": "a57Aa4ShZ1oT",
        "colab_type": "text"
      },
      "cell_type": "markdown",
      "source": [
        "#### リスト8-9　複数の変数への「タプル値」のアンパック代入を行っているコード"
      ]
    },
    {
      "metadata": {
        "id": "4vysLFNoZ_5P",
        "colab_type": "code",
        "colab": {}
      },
      "cell_type": "code",
      "source": [
        "#import tensorflow as tf\n",
        "#mnist = tf.keras.datasets.mnist\n",
        "# 以下のコードを動かすためには、上記2行を事前に実行しておく必要がある\n",
        "#---------------------------------------------------------------------\n",
        "\n",
        "(x_train, y_train),(x_test, y_test) = mnist.load_data()\n",
        "\n",
        "# 右辺の「mnist.load_data()」は関数で、\n",
        "#  ((＜訓練データ＞, ＜訓練ラベル＞), (＜テストデータ＞, ＜テストラベル＞))\n",
        "# という構造のタプルを出力する"
      ],
      "execution_count": 0,
      "outputs": []
    },
    {
      "metadata": {
        "id": "jKOagHPYehbV",
        "colab_type": "text"
      },
      "cell_type": "markdown",
      "source": [
        "### dict型（辞書型）"
      ]
    },
    {
      "metadata": {
        "id": "4Up4k4bwgR_T",
        "colab_type": "text"
      },
      "cell_type": "markdown",
      "source": [
        "#### リスト8-10　変数への「辞書値」の代入を行っているコード"
      ]
    },
    {
      "metadata": {
        "id": "ruPdaWHwgVqU",
        "colab_type": "code",
        "colab": {}
      },
      "cell_type": "code",
      "source": [
        "abc_dict = { 'a': 1.2, 'b': 2.4, 'c': 3.6 }\n",
        "\n",
        "abc_dict  # { 'a': 1.2, 'b': 2.4, 'c': 3.6 }と出力される"
      ],
      "execution_count": 0,
      "outputs": []
    },
    {
      "metadata": {
        "id": "WuWkL3j0gZEf",
        "colab_type": "text"
      },
      "cell_type": "markdown",
      "source": [
        "#### ◇ キー指定による値の取得"
      ]
    },
    {
      "metadata": {
        "id": "Lru_eAcWgevs",
        "colab_type": "text"
      },
      "cell_type": "markdown",
      "source": [
        "#### リスト8-11　辞書を使用するサンプルコード"
      ]
    },
    {
      "metadata": {
        "id": "ohNhqh95gh-u",
        "colab_type": "code",
        "colab": {}
      },
      "cell_type": "code",
      "source": [
        "abc_dict['a']\n",
        "# 1.2と出力される"
      ],
      "execution_count": 0,
      "outputs": []
    },
    {
      "metadata": {
        "id": "lNkioCa2hYay",
        "colab_type": "text"
      },
      "cell_type": "markdown",
      "source": [
        "#### リスト8-12　辞書内の要素に値／データを代入するコード"
      ]
    },
    {
      "metadata": {
        "id": "RJtPT_jKhbMb",
        "colab_type": "code",
        "colab": {}
      },
      "cell_type": "code",
      "source": [
        "abc_dict['a'] = 12.3  # 代入による値の変更\n",
        "abc_dict['x'] = 9.9   # 代入によるキーと値の追加\n",
        "\n",
        "abc_dict  # {'a': 12.3, 'b': 2.4, 'c': 3.6, 'x': 9.9}と出力される"
      ],
      "execution_count": 0,
      "outputs": []
    },
    {
      "metadata": {
        "id": "jnasTTYiiZig",
        "colab_type": "text"
      },
      "cell_type": "markdown",
      "source": [
        "## データの型（各種オブジェクト編）"
      ]
    },
    {
      "metadata": {
        "id": "ec7dJK3YlLB-",
        "colab_type": "text"
      },
      "cell_type": "markdown",
      "source": [
        "#### リスト9　変数への何らかの代入を行っているコード"
      ]
    },
    {
      "metadata": {
        "id": "g1N6xD0ejPbL",
        "colab_type": "code",
        "colab": {}
      },
      "cell_type": "code",
      "source": [
        "#import tensorflow as tf  # このコードを動かすためにインポートが必要\n",
        "\n",
        "# 変数への「モジュール」の代入\n",
        "mnist = tf.keras.datasets.mnist\n",
        "\n",
        "# 変数への「何らかのオブジェクト」の代入（1）\n",
        "#model = tf.keras.models.Sequential([\n",
        "#  tf.keras.layers.Flatten(),\n",
        "#  tf.keras.layers.Dense(512, activation=tf.nn.relu),\n",
        "#  tf.keras.layers.Dropout(0.2),\n",
        "#  tf.keras.layers.Dense(10, activation=tf.nn.softmax)\n",
        "#])\n",
        "# 「tf.keras.models.Sequential([～])」の意味は、Lesson 10「クラス」の回で解説\n",
        "# ここでは、次のコードに臨時的に置き換えて解説\n",
        "model = '＜関数（厳密にはクラスのコンストラクター。詳細省略）＞が出力したオブジェクト'\n",
        "\n",
        "# 変数への「何らかのオブジェクト」の代入（2）\n",
        "#history = model.fit(train_data, train_labels, epochs=EPOCHS,\n",
        "#                    validation_split = 0.2, verbose=0,\n",
        "#                    callbacks=[PrintDot()])\n",
        "# 「model.fit(～)」の意味は、Lesson 7「関数」の回で解説\n",
        "# ここでは、次のコードに臨時的に置き換えて解説\n",
        "history = '＜関数（詳細省略）＞が出力したオブジェクト'"
      ],
      "execution_count": 0,
      "outputs": []
    },
    {
      "metadata": {
        "id": "T0uriLylmC2b",
        "colab_type": "text"
      },
      "cell_type": "markdown",
      "source": [
        "## 【連載中】本ドキュメントは未完です。 <!--お疲れさまでした。Python基本文法の学習は修了です。-->"
      ]
    }
  ]
}