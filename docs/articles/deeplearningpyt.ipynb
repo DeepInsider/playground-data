{
  "nbformat": 4,
  "nbformat_minor": 0,
  "metadata": {
    "colab": {
      "name": "deeplearningpyt.ipynb",
      "version": "0.3.2",
      "provenance": [],
      "private_outputs": true,
      "toc_visible": true,
      "include_colab_link": true
    },
    "kernelspec": {
      "name": "python3",
      "display_name": "Python 3"
    }
  },
  "cells": [
    {
      "cell_type": "markdown",
      "metadata": {
        "id": "view-in-github",
        "colab_type": "text"
      },
      "source": [
        "<a href=\"https://colab.research.google.com/github/DeepInsider/playground-data/blob/master/docs/articles/deeplearningpyt.ipynb\" target=\"_parent\"><img src=\"https://colab.research.google.com/assets/colab-badge.svg\" alt=\"Open In Colab\"/></a>"
      ]
    },
    {
      "metadata": {
        "id": "KLI1KsptR4NH",
        "colab_type": "text"
      },
      "cell_type": "markdown",
      "source": [
        "##### Copyright 2018 Digital Advantage - Deep Insider."
      ]
    },
    {
      "metadata": {
        "id": "VDd0rdY7R66x",
        "colab_type": "code",
        "colab": {}
      },
      "cell_type": "code",
      "source": [
        "#@title Licensed under the Apache License, Version 2.0 (the \"License\");\n",
        "# you may not use this file except in compliance with the License.\n",
        "# You may obtain a copy of the License at\n",
        "#\n",
        "# https://www.apache.org/licenses/LICENSE-2.0\n",
        "#\n",
        "# Unless required by applicable law or agreed to in writing, software\n",
        "# distributed under the License is distributed on an \"AS IS\" BASIS,\n",
        "# WITHOUT WARRANTIES OR CONDITIONS OF ANY KIND, either express or implied.\n",
        "# See the License for the specific language governing permissions and\n",
        "# limitations under the License."
      ],
      "execution_count": 0,
      "outputs": []
    },
    {
      "metadata": {
        "id": "m2bdi83iR9iX",
        "colab_type": "text"
      },
      "cell_type": "markdown",
      "source": [
        "# 連載『機械学習 ＆ ディープラーニング入門（Python編）』のノートブック"
      ]
    },
    {
      "metadata": {
        "id": "sWYD5NeoSUse",
        "colab_type": "text"
      },
      "cell_type": "markdown",
      "source": [
        "<table valign=\"middle\">\n",
        "  <td>\n",
        "    <a target=\"_blank\" href=\"https://deepinsider.jp/tutor/deeplearningpyt\"> <img src=\"https://re.deepinsider.jp/img/ml-logo/manabu.svg\"/>Deep Insiderで記事を読む</a>\n",
        "  </td>\n",
        "  <td>\n",
        "    <a target=\"_blank\" href=\"https://colab.research.google.com/github/DeepInsider/playground-data/blob/master/docs/articles/deeplearningpyt.ipynb\"> <img src=\"https://re.deepinsider.jp/img/ml-logo/gcolab.svg\" />Google Colabで実行する</a>\n",
        "  </td>\n",
        "  <td>\n",
        "    <a target=\"_blank\" href=\"https://github.com/DeepInsider/playground-data/blob/master/docs/articles/deeplearningpyt.ipynb\"> <img src=\"https://re.deepinsider.jp/img/ml-logo/github.svg\" />GitHubでソースコードを見る</a>\n",
        "  </td>\n",
        "</table>"
      ]
    },
    {
      "metadata": {
        "id": "qulkhNqWSeEU",
        "colab_type": "text"
      },
      "cell_type": "markdown",
      "source": [
        "※上から順に実行してください。上のコードで実行したものを再利用しているところがあるため、すべて実行しないとエラーになるコードがあります。  \n",
        "　すべてのコードを一括実行したい場合は、メニューバーから［ランタイム］－［すべてのセルを実行］をクリックしてください。"
      ]
    },
    {
      "metadata": {
        "id": "mgEPX8DnSgc2",
        "colab_type": "text"
      },
      "cell_type": "markdown",
      "source": [
        "※このノートブックは「Python 2」でも実行できるようにしていますが、基本的に「Python 3」を利用することをお勧めします。\n",
        "　Python 3を利用するには、メニューバーから［ランタイム］－［ランタイムのタイプを変更］を選択すると表示される［ノートブックの設定］ダイアログの、［ランタイムのタイプ］欄で「Python 3」に選択し、その右下にある［保存］ボタンをクリックしてください。"
      ]
    },
    {
      "metadata": {
        "id": "X-goNWkDVWmR",
        "colab_type": "text"
      },
      "cell_type": "markdown",
      "source": [
        "## Python バージョン2への対応"
      ]
    },
    {
      "metadata": {
        "id": "n112hTCuSAt5",
        "colab_type": "code",
        "colab": {}
      },
      "cell_type": "code",
      "source": [
        "# Pythonファイルの冒頭で以下を記述する\n",
        "from __future__ import absolute_import\n",
        "from __future__ import division\n",
        "from __future__ import print_function\n",
        "from __future__ import unicode_literals\n",
        "\n",
        "print(3 / 2) # 「1.5」。インポートしないPython 2系だと「1」"
      ],
      "execution_count": 0,
      "outputs": []
    },
    {
      "metadata": {
        "id": "b_Q4lXyMVTip",
        "colab_type": "text"
      },
      "cell_type": "markdown",
      "source": [
        "## 本連載のゴール"
      ]
    },
    {
      "metadata": {
        "id": "drYIhqfDXP8p",
        "colab_type": "text"
      },
      "cell_type": "markdown",
      "source": [
        "以下の図1-a／b／c／dのコードが読めるし、意味も理解できるようになることが、本連載の最終的なゴール。"
      ]
    },
    {
      "metadata": {
        "id": "jEcPB_w2W9u9",
        "colab_type": "text"
      },
      "cell_type": "markdown",
      "source": [
        "図1-a　TensorFlowの公式チュートリアルのサンプルコード（1）\n",
        "![図1-a　TensorFlowの公式チュートリアルのサンプルコード（1）](https://re.deepinsider.jp/tutor/deeplearningpyt/01version/01a.gif)"
      ]
    },
    {
      "metadata": {
        "id": "CMEPB-F8XmY1",
        "colab_type": "text"
      },
      "cell_type": "markdown",
      "source": [
        "図1-b　TensorFlowの公式チュートリアルのサンプルコード（2）\n",
        "![図1-b　TensorFlowの公式チュートリアルのサンプルコード（2）](https://re.deepinsider.jp/tutor/deeplearningpyt/01version/01b.gif)\n"
      ]
    },
    {
      "metadata": {
        "id": "kVwIXy5GXqae",
        "colab_type": "text"
      },
      "cell_type": "markdown",
      "source": [
        "図1-c　TensorFlowの公式チュートリアルのサンプルコード（3）\n",
        "![図1-c　TensorFlowの公式チュートリアルのサンプルコード（3）](https://re.deepinsider.jp/tutor/deeplearningpyt/01version/01c.gif)"
      ]
    },
    {
      "metadata": {
        "id": "IEbJWU1gXtys",
        "colab_type": "text"
      },
      "cell_type": "markdown",
      "source": [
        "図1-d　TensorFlowの公式チュートリアルのサンプルコード（4）\n",
        "![図1-d　TensorFlowの公式チュートリアルのサンプルコード（4）](https://re.deepinsider.jp/tutor/deeplearningpyt/01version/01d.gif)"
      ]
    },
    {
      "metadata": {
        "id": "jOVlvfICllx_",
        "colab_type": "text"
      },
      "cell_type": "markdown",
      "source": [
        "## Python言語のバージョン"
      ]
    },
    {
      "metadata": {
        "id": "Nf8icKrfmfs6",
        "colab_type": "text"
      },
      "cell_type": "markdown",
      "source": [
        "バージョンは3系を使用。"
      ]
    },
    {
      "metadata": {
        "id": "OMnJl8STYMWj",
        "colab_type": "code",
        "colab": {}
      },
      "cell_type": "code",
      "source": [
        "import sys\n",
        "print('Version: ', str(sys.version_info.major) + '.' + str(sys.version_info.minor))\n",
        "# Version:  3.6"
      ],
      "execution_count": 0,
      "outputs": []
    },
    {
      "metadata": {
        "id": "624xCvriKcg9",
        "colab_type": "text"
      },
      "cell_type": "markdown",
      "source": [
        "## 配布用プロジェクトのインストール"
      ]
    },
    {
      "metadata": {
        "id": "4NYrLJV1ct3g",
        "colab_type": "text"
      },
      "cell_type": "markdown",
      "source": [
        "#### リスト2　配布用プロジェクト「tensorflow」をインストールするためのシェルコマンド\n",
        "※リスト1の前に実行する必要があるので、順番が前後している点に注意してほしい。"
      ]
    },
    {
      "metadata": {
        "id": "mb3rdKp3czcU",
        "colab_type": "code",
        "colab": {}
      },
      "cell_type": "code",
      "source": [
        "!pip install tensorflow"
      ],
      "execution_count": 0,
      "outputs": []
    },
    {
      "metadata": {
        "id": "1MOxCIqRerKv",
        "colab_type": "text"
      },
      "cell_type": "markdown",
      "source": [
        "## モジュールのインポート"
      ]
    },
    {
      "metadata": {
        "id": "EyXGUvzuKfBC",
        "colab_type": "text"
      },
      "cell_type": "markdown",
      "source": [
        "#### リスト1　モジュールをインポートするコード例"
      ]
    },
    {
      "metadata": {
        "id": "g1HSgGn9Kh1z",
        "colab_type": "code",
        "colab": {}
      },
      "cell_type": "code",
      "source": [
        "import tensorflow as tf"
      ],
      "execution_count": 0,
      "outputs": []
    },
    {
      "metadata": {
        "id": "EYYW35jKQ5sS",
        "colab_type": "text"
      },
      "cell_type": "markdown",
      "source": [
        "#### リストex1　応用テクニック： 複数行の文を記述する例"
      ]
    },
    {
      "metadata": {
        "id": "wnBs3n4sQ9Hg",
        "colab_type": "code",
        "colab": {}
      },
      "cell_type": "code",
      "source": [
        "import tensorflow \\\n",
        "    as tf"
      ],
      "execution_count": 0,
      "outputs": []
    },
    {
      "metadata": {
        "id": "dzWYIOS_ejM4",
        "colab_type": "text"
      },
      "cell_type": "markdown",
      "source": [
        "## モジュールの利用と定義"
      ]
    },
    {
      "metadata": {
        "id": "83dyeV4bcaB0",
        "colab_type": "text"
      },
      "cell_type": "markdown",
      "source": [
        "#### リスト3-1　モジュールを利用するコード例"
      ]
    },
    {
      "metadata": {
        "id": "adX7rjpfcdf0",
        "colab_type": "code",
        "colab": {}
      },
      "cell_type": "code",
      "source": [
        "mnist = tf.keras.datasets.mnist"
      ],
      "execution_count": 0,
      "outputs": []
    },
    {
      "metadata": {
        "id": "mVXOGqDee9af",
        "colab_type": "text"
      },
      "cell_type": "markdown",
      "source": [
        "#### リスト3-2　モジュール階層の途中のモジュールをインポートするコード例"
      ]
    },
    {
      "metadata": {
        "id": "SdFVx_AOcR9E",
        "colab_type": "code",
        "colab": {}
      },
      "cell_type": "code",
      "source": [
        "from tensorflow.keras import datasets\n",
        "mnist = datasets.mnist"
      ],
      "execution_count": 0,
      "outputs": []
    },
    {
      "metadata": {
        "id": "1jegzABtR0pt",
        "colab_type": "text"
      },
      "cell_type": "markdown",
      "source": [
        "## コメント"
      ]
    },
    {
      "metadata": {
        "id": "X-YghTlQUMEq",
        "colab_type": "text"
      },
      "cell_type": "markdown",
      "source": [
        "#### リスト4-1　コメントのコード例（行全体）"
      ]
    },
    {
      "metadata": {
        "id": "85wvHCvdUN87",
        "colab_type": "code",
        "colab": {}
      },
      "cell_type": "code",
      "source": [
        "# Display training progress by printing a single dot for each completed epoch（各エポックの完了のたびに「.」を描画することでトレーニングの進捗を表示する）\n",
        "#＃ ……コメントに続くコードは省略……\n",
        "\n",
        "# Store training stats（トレーニング統計を保存する）\n",
        "## ……コメントに続くコードは省略……"
      ],
      "execution_count": 0,
      "outputs": []
    },
    {
      "metadata": {
        "id": "7bxx3Lr6UQRi",
        "colab_type": "text"
      },
      "cell_type": "markdown",
      "source": [
        "#### リスト4-2　コメントのコード例（行途中）"
      ]
    },
    {
      "metadata": {
        "id": "8bOIWEEMUSUQ",
        "colab_type": "code",
        "colab": {}
      },
      "cell_type": "code",
      "source": [
        "import tensorflow as tf  # tfという名前でtensorflowモジュールをインポート"
      ],
      "execution_count": 0,
      "outputs": []
    },
    {
      "metadata": {
        "id": "PzGuIcq9UUPC",
        "colab_type": "text"
      },
      "cell_type": "markdown",
      "source": [
        "#### リスト4-3　コメントのコード例（複数行）"
      ]
    },
    {
      "metadata": {
        "id": "exehSpR0UXWc",
        "colab_type": "code",
        "colab": {}
      },
      "cell_type": "code",
      "source": [
        "'''\n",
        "複数行の\n",
        "コメントが\n",
        "書けます\n",
        "'''"
      ],
      "execution_count": 0,
      "outputs": []
    },
    {
      "metadata": {
        "id": "UtfND6e3FOMl",
        "colab_type": "text"
      },
      "cell_type": "markdown",
      "source": [
        "## 変数の宣言と代入"
      ]
    },
    {
      "metadata": {
        "id": "Djwp1wEDFvAU",
        "colab_type": "text"
      },
      "cell_type": "markdown",
      "source": [
        "#### リスト5-1　変数の宣言と代入のサンプルコード"
      ]
    },
    {
      "metadata": {
        "id": "eyAejccu8sOQ",
        "colab_type": "code",
        "colab": {}
      },
      "cell_type": "code",
      "source": [
        "import tensorflow as tf  # 事前にインポートが必要\n",
        "mnist = tf.keras.datasets.mnist"
      ],
      "execution_count": 0,
      "outputs": []
    },
    {
      "metadata": {
        "id": "P24_YScYFlzj",
        "colab_type": "code",
        "colab": {}
      },
      "cell_type": "code",
      "source": [
        "mnist"
      ],
      "execution_count": 0,
      "outputs": []
    },
    {
      "metadata": {
        "id": "ZZS3SySNHCB7",
        "colab_type": "text"
      },
      "cell_type": "markdown",
      "source": [
        "## データの型（基本編）"
      ]
    },
    {
      "metadata": {
        "id": "G81S1w74HF6I",
        "colab_type": "text"
      },
      "cell_type": "markdown",
      "source": [
        "#### リスト6　変数への何らかの代入を行っているコード"
      ]
    },
    {
      "metadata": {
        "id": "zHpwuz0EHKAo",
        "colab_type": "code",
        "colab": {}
      },
      "cell_type": "code",
      "source": [
        "''' ★実行できないコードなのでコメントアウトしています★\n",
        "\n",
        "# 変数への「モジュール」の代入\n",
        "mnist = tf.keras.datasets.mnist\n",
        "\n",
        "# 変数への「数値」の代入\n",
        "EPOCHS = 500\n",
        "\n",
        "# 変数への「文字列」の代入\n",
        "color = 'blue'\n",
        "#color = 'red'  # 同じデータ型なので説明省略\n",
        "\n",
        "# 変数への「タプル」の代入\n",
        "(x_train, y_train),(x_test, y_test) = ＜関数（詳細省略）＞\n",
        "x_train, x_test = ＜NumPy機能による計算式（詳細省略）＞\n",
        "#predictions_array, true_label = predictions_array[i], true_label[i]  # 同様のデータ型なので説明省略\n",
        "\n",
        "# 変数への「オブジェクト」の代入\n",
        "history = ＜関数（詳細省略）＞\n",
        "\n",
        "'''"
      ],
      "execution_count": 0,
      "outputs": []
    },
    {
      "metadata": {
        "id": "3wyDLSwr7ADu",
        "colab_type": "text"
      },
      "cell_type": "markdown",
      "source": [
        "### bool型（ブール型）"
      ]
    },
    {
      "metadata": {
        "id": "Mv_WLN227D4Y",
        "colab_type": "text"
      },
      "cell_type": "markdown",
      "source": [
        "#### リスト6-1　変数の宣言と「真偽値」の代入を行うコード"
      ]
    },
    {
      "metadata": {
        "id": "vE02GdaJ7GSV",
        "colab_type": "code",
        "colab": {}
      },
      "cell_type": "code",
      "source": [
        "is_a = True\n",
        "is_b = False\n",
        "\n",
        "is_b  # Falseと出力される"
      ],
      "execution_count": 0,
      "outputs": []
    },
    {
      "metadata": {
        "id": "407q0i7e7JEC",
        "colab_type": "text"
      },
      "cell_type": "markdown",
      "source": [
        "### int型／float型（数値型）"
      ]
    },
    {
      "metadata": {
        "id": "KUepZrLU7Mdx",
        "colab_type": "text"
      },
      "cell_type": "markdown",
      "source": [
        "#### リスト6-2　変数の宣言と「整数値」の代入を行うコード"
      ]
    },
    {
      "metadata": {
        "id": "4GYwi2N-7PHS",
        "colab_type": "code",
        "colab": {}
      },
      "cell_type": "code",
      "source": [
        "EPOCHS = 500\n",
        "\n",
        "EPOCHS  # 500と出力される"
      ],
      "execution_count": 0,
      "outputs": []
    },
    {
      "metadata": {
        "id": "6cTKcvUq7RYj",
        "colab_type": "text"
      },
      "cell_type": "markdown",
      "source": [
        "#### リスト6-3　変数の宣言と「浮動小数点数値」の代入を行うコード"
      ]
    },
    {
      "metadata": {
        "id": "m2uVRF1p7UAh",
        "colab_type": "code",
        "colab": {}
      },
      "cell_type": "code",
      "source": [
        "float_variable = 123.456\n",
        "\n",
        "float_variable  # 123.456と出力される"
      ],
      "execution_count": 0,
      "outputs": []
    },
    {
      "metadata": {
        "id": "0pbjrowX7WHW",
        "colab_type": "text"
      },
      "cell_type": "markdown",
      "source": [
        "### str型（文字列型）"
      ]
    },
    {
      "metadata": {
        "id": "EBlWuz_b7X80",
        "colab_type": "text"
      },
      "cell_type": "markdown",
      "source": [
        "#### リスト6-4　変数の宣言と「文字列」の代入を行うコード"
      ]
    },
    {
      "metadata": {
        "id": "K_-_BRPU7aL1",
        "colab_type": "code",
        "colab": {}
      },
      "cell_type": "code",
      "source": [
        "color = 'blue'\n",
        "\n",
        "color  # 'blue'と出力される"
      ],
      "execution_count": 0,
      "outputs": []
    },
    {
      "metadata": {
        "id": "opA4bQWS7cQO",
        "colab_type": "text"
      },
      "cell_type": "markdown",
      "source": [
        "#### リスト6-5　二重引用符による文字列の記述"
      ]
    },
    {
      "metadata": {
        "id": "3TUNyLbb7ekF",
        "colab_type": "code",
        "colab": {}
      },
      "cell_type": "code",
      "source": [
        "color = \"b'lue\"\n",
        "\n",
        "color  # \"b'lue\"と出力される"
      ],
      "execution_count": 0,
      "outputs": []
    },
    {
      "metadata": {
        "id": "6M7qKxSd7sRk",
        "colab_type": "text"
      },
      "cell_type": "markdown",
      "source": [
        "#### リスト6-6　文字列でエスケープシーケンスを使った例"
      ]
    },
    {
      "metadata": {
        "id": "9tE3_QEe8Kln",
        "colab_type": "code",
        "colab": {}
      },
      "cell_type": "code",
      "source": [
        "color = 'b\\'l\"ue'\n",
        "\n",
        "color  # 'b\\'l\"ue'と出力される"
      ],
      "execution_count": 0,
      "outputs": []
    },
    {
      "metadata": {
        "id": "T0uriLylmC2b",
        "colab_type": "text"
      },
      "cell_type": "markdown",
      "source": [
        "## 【連載中】本ドキュメントは未完です。 <!--お疲れさまでした。Python基本文法の学習は修了です。-->"
      ]
    }
  ]
}