{
  "nbformat": 4,
  "nbformat_minor": 0,
  "metadata": {
    "colab": {
      "name": "deeplearning1g2t_lesson01.ipynb",
      "version": "0.3.2",
      "provenance": [],
      "private_outputs": true,
      "collapsed_sections": [],
      "toc_visible": true,
      "include_colab_link": true
    },
    "kernelspec": {
      "name": "python3",
      "display_name": "Python 3"
    }
  },
  "cells": [
    {
      "cell_type": "markdown",
      "metadata": {
        "id": "view-in-github",
        "colab_type": "text"
      },
      "source": [
        "<a href=\"https://colab.research.google.com/github/DeepInsider/playground-data/blob/master/docs/articles/deeplearning1g2t_lesson01.ipynb\" target=\"_parent\"><img src=\"https://colab.research.google.com/assets/colab-badge.svg\" alt=\"Open In Colab\"/></a>"
      ]
    },
    {
      "metadata": {
        "id": "nN_AO8rxMgcp",
        "colab_type": "text"
      },
      "cell_type": "markdown",
      "source": [
        "##### Copyright 2018 Digital Advantage - Deep Insider."
      ]
    },
    {
      "metadata": {
        "id": "6cVCAaGOMMFn",
        "colab_type": "code",
        "colab": {}
      },
      "cell_type": "code",
      "source": [
        "#@title Licensed under the Apache License, Version 2.0 (the \"License\");\n",
        "# you may not use this file except in compliance with the License.\n",
        "# You may obtain a copy of the License at\n",
        "#\n",
        "# https://www.apache.org/licenses/LICENSE-2.0\n",
        "#\n",
        "# Unless required by applicable law or agreed to in writing, software\n",
        "# distributed under the License is distributed on an \"AS IS\" BASIS,\n",
        "# WITHOUT WARRANTIES OR CONDITIONS OF ANY KIND, either express or implied.\n",
        "# See the License for the specific language governing permissions and\n",
        "# limitations under the License."
      ],
      "execution_count": 0,
      "outputs": []
    },
    {
      "metadata": {
        "id": "a85JpHi7MrwM",
        "colab_type": "text"
      },
      "cell_type": "markdown",
      "source": [
        "# 「Lesson 1. ディープラーニング、まずはデータに慣れよう！ 初めての座標点データとグラフ化」のノートブック"
      ]
    },
    {
      "metadata": {
        "id": "CGthoyiRMxly",
        "colab_type": "text"
      },
      "cell_type": "markdown",
      "source": [
        "<table valign=\"middle\">\n",
        "  <td>\n",
        "    <a target=\"_blank\" href=\"https://deepinsider.jp/tutor/deeplearning1g2t/lesson01\"> <img src=\"https://re.deepinsider.jp/img/ml-logo/manabu.svg\"/>Deep Insiderで記事を読む</a>\n",
        "  </td>\n",
        "  <td>\n",
        "    <a target=\"_blank\" href=\"https://colab.research.google.com/github/DeepInsider/playground-data/blob/master/docs/articles/deeplearning1g2t_lesson01.ipynb\"> <img src=\"https://re.deepinsider.jp/img/ml-logo/gcolab.svg\" />Google Colabで実行する</a>\n",
        "  </td>\n",
        "  <td>\n",
        "    <a target=\"_blank\" href=\"https://github.com/DeepInsider/playground-data/blob/master/docs/articles/deeplearning1g2t_lesson01.ipynb\"> <img src=\"https://re.deepinsider.jp/img/ml-logo/github.svg\" />GitHubでソースコードを見る</a>\n",
        "  </td>\n",
        "</table>"
      ]
    },
    {
      "metadata": {
        "id": "Oea0vRfaM5ai",
        "colab_type": "text"
      },
      "cell_type": "markdown",
      "source": [
        "※上から順に実行してください。上のコードで実行したものを再利用しているところがあるため、すべて実行しないとエラーになるコードがあります。  \n",
        "　すべてのコードを一括実行したい場合は、メニューバーから［ランタイム］－［すべてのセルを実行］をクリックしてください。"
      ]
    },
    {
      "metadata": {
        "id": "hAtF-7lCM7e2",
        "colab_type": "text"
      },
      "cell_type": "markdown",
      "source": [
        "※このノートブックは「Python 2」でも実行できるようにしていますが、基本的に「Python 3」を利用することをお勧めします。\n",
        "　Python 3を利用するには、メニューバーから［ランタイム］－［ランタイムのタイプを変更］を選択すると表示される［ノートブックの設定］ダイアログの、［ランタイムのタイプ］欄で「Python 3」に選択し、その右下にある［保存］ボタンをクリックしてください。"
      ]
    },
    {
      "metadata": {
        "id": "mW6EWe_EMwvL",
        "colab_type": "code",
        "colab": {}
      },
      "cell_type": "code",
      "source": [
        "# Python バージョン2への対応\n",
        "from __future__ import absolute_import\n",
        "from __future__ import division\n",
        "from __future__ import print_function\n",
        "from __future__ import unicode_literals\n",
        "\n",
        "import sys\n",
        "print(sys.version_info.major)  # 3  # バージョン（メジャー）\n",
        "print(sys.version_info.minor)  # 6  # バージョン（マイナー）"
      ],
      "execution_count": 0,
      "outputs": []
    },
    {
      "metadata": {
        "id": "T8dKU9RWNEJ4",
        "colab_type": "text"
      },
      "cell_type": "markdown",
      "source": [
        "## Pythonによる座標点データの作成"
      ]
    },
    {
      "metadata": {
        "id": "6S_IDq7SNGWP",
        "colab_type": "text"
      },
      "cell_type": "markdown",
      "source": [
        "### 座標点データ"
      ]
    },
    {
      "metadata": {
        "id": "3dNNrY-SNcR5",
        "colab_type": "code",
        "colab": {}
      },
      "cell_type": "code",
      "source": [
        "# NumPyのインストール（※念のため）\n",
        "!pip install numpy"
      ],
      "execution_count": 0,
      "outputs": []
    },
    {
      "metadata": {
        "id": "skgTPUc9NSCQ",
        "colab_type": "text"
      },
      "cell_type": "markdown",
      "source": [
        "#### リスト1　Pythonで作成する座標点データのコード例"
      ]
    },
    {
      "metadata": {
        "id": "N9yvH8i1NJ3m",
        "colab_type": "code",
        "colab": {}
      },
      "cell_type": "code",
      "source": [
        "import numpy as np\n",
        "\n",
        "array2d = np.array([ [ -3.18,  1.80,  1 ],\n",
        "                     [ -0.83, -1.34,  1 ],\n",
        "                     [  4.66,  1.52, -1 ] ])\n",
        "\n",
        "array2d  # array([[-3.18,  1.8 ,  1.  ],\n",
        "         #        [-0.83, -1.34,  1.  ],\n",
        "         #        [ 4.66,  1.52, -1.  ]])"
      ],
      "execution_count": 0,
      "outputs": []
    },
    {
      "metadata": {
        "id": "SFLfl-0-QPck",
        "colab_type": "text"
      },
      "cell_type": "markdown",
      "source": [
        "#### リスト2　playground-dataライブラリのインストール"
      ]
    },
    {
      "metadata": {
        "id": "i98aKy1bQuqM",
        "colab_type": "code",
        "colab": {}
      },
      "cell_type": "code",
      "source": [
        "!pip install playground-data"
      ],
      "execution_count": 0,
      "outputs": []
    },
    {
      "metadata": {
        "id": "4HTZpi4ZRXgL",
        "colab_type": "text"
      },
      "cell_type": "markdown",
      "source": [
        "#### リスト3　plygdataモジュールのインポート"
      ]
    },
    {
      "metadata": {
        "id": "cqyijp6GRZrJ",
        "colab_type": "code",
        "colab": {}
      },
      "cell_type": "code",
      "source": [
        "import plygdata as pg"
      ],
      "execution_count": 0,
      "outputs": []
    },
    {
      "metadata": {
        "id": "O30NqkcIWWuF",
        "colab_type": "text"
      },
      "cell_type": "markdown",
      "source": [
        "#### リスト4　データ種別の選択"
      ]
    },
    {
      "metadata": {
        "id": "oeRYE6BHRhPB",
        "colab_type": "code",
        "colab": {}
      },
      "cell_type": "code",
      "source": [
        "data_type = pg.DatasetType.ClassifyTwoGaussData"
      ],
      "execution_count": 0,
      "outputs": []
    },
    {
      "metadata": {
        "id": "4SG21ZYZXPOF",
        "colab_type": "text"
      },
      "cell_type": "markdown",
      "source": [
        "#### リスト5　Playgroundデータの生成"
      ]
    },
    {
      "metadata": {
        "id": "l9n0EqC5XRpw",
        "colab_type": "code",
        "colab": {}
      },
      "cell_type": "code",
      "source": [
        "data_list = pg.generate_data(data_type)\n",
        "data_array = np.array(data_list)"
      ],
      "execution_count": 0,
      "outputs": []
    },
    {
      "metadata": {
        "id": "EFPcxu2ccKKW",
        "colab_type": "text"
      },
      "cell_type": "markdown",
      "source": [
        "### データ内容の確認とNumPyのスライシング"
      ]
    },
    {
      "metadata": {
        "id": "3g65_mqwcMnV",
        "colab_type": "text"
      },
      "cell_type": "markdown",
      "source": [
        "#### リスト6　NumPyのスライシング"
      ]
    },
    {
      "metadata": {
        "id": "BmRdLPRmXU5b",
        "colab_type": "code",
        "colab": {}
      },
      "cell_type": "code",
      "source": [
        "data_array[247:252]\n",
        "\n",
        "\n",
        "# 出力例：\n",
        "# array([[ 3.02896704,  2.70391185,  1.        ],\n",
        "#        [ 1.19816524,  0.54159088,  1.        ],\n",
        "#        [ 1.81998105,  2.81966864,  1.        ],\n",
        "#        [-2.60865641, -1.80572582, -1.        ],\n",
        "#        [-1.66184198, -2.85313068, -1.        ]])"
      ],
      "execution_count": 0,
      "outputs": []
    },
    {
      "metadata": {
        "id": "RYW0Oln2cqLR",
        "colab_type": "text"
      },
      "cell_type": "markdown",
      "source": [
        "### NumPyのスライシング（多次元配列）"
      ]
    },
    {
      "metadata": {
        "id": "BQwFYdBBgUId",
        "colab_type": "text"
      },
      "cell_type": "markdown",
      "source": [
        "#### リスト7　NumPyのスライシング（多次元配列）"
      ]
    },
    {
      "metadata": {
        "id": "baqGOfqTdli1",
        "colab_type": "code",
        "colab": {}
      },
      "cell_type": "code",
      "source": [
        "data_array[247:252, 2]\n",
        "\n",
        "# array([ 1.,  1.,  1., -1., -1.])"
      ],
      "execution_count": 0,
      "outputs": []
    },
    {
      "metadata": {
        "id": "xtaHEbD9wK4c",
        "colab_type": "text"
      },
      "cell_type": "markdown",
      "source": [
        "### 訓練データと精度検証データの分割（行の分割）"
      ]
    },
    {
      "metadata": {
        "id": "hc7bhiT73V1K",
        "colab_type": "text"
      },
      "cell_type": "markdown",
      "source": [
        "#### リスト8　訓練データと精度検証データの分割"
      ]
    },
    {
      "metadata": {
        "id": "mPn6dSUVvIW_",
        "colab_type": "code",
        "colab": {}
      },
      "cell_type": "code",
      "source": [
        "row_count, _ = data_array.shape  # タプル値。(行数, 列数)で取得して、列数は無視する\n",
        "train_count  = int(row_count * 0.8)  # 訓練データは500×0.8＝400件\n",
        "valid_count  = int(row_count * 0.2)  # 精度検証データは500×0.2＝100件\n",
        "\n",
        "np.random.shuffle(data_array)  # データをシャッフルして、ランダムに並び替え\n",
        "\n",
        "train = data_array[:train_count]  # 訓練データ\n",
        "valid = data_array[valid_count:]  # 精度検証データ\n",
        "\n",
        "print(train[:3])  # 内容確認用に、訓練データの先頭3件の出力例\n",
        "# [[ 1.79815681  2.17092844  1.        ]\n",
        "#  [-1.37980024 -2.32030578 -1.        ]\n",
        "#  [ 0.47576469  1.77740128  1.        ]]\n",
        "\n",
        "print(valid[:3])  # 内容確認用に、精度検証データの先頭3件の出力例\n",
        "# [[-1.02936991 -2.98095861 -1.        ]\n",
        "#  [ 3.07660177  2.04484417  1.        ]\n",
        "#  [ 2.17245687  2.65598799  1.        ]]"
      ],
      "execution_count": 0,
      "outputs": []
    },
    {
      "metadata": {
        "id": "hExinZLH_8G0",
        "colab_type": "text"
      },
      "cell_type": "markdown",
      "source": [
        "### 座標点データと教師ラベルの分割（列の分割）"
      ]
    },
    {
      "metadata": {
        "id": "ubycpyKT_5h7",
        "colab_type": "text"
      },
      "cell_type": "markdown",
      "source": [
        "#### リスト9　座標点データと教師ラベルの分割"
      ]
    },
    {
      "metadata": {
        "id": "CZqn3M335jJ8",
        "colab_type": "code",
        "colab": {}
      },
      "cell_type": "code",
      "source": [
        "# 訓練データ\n",
        "X_train = train[:, :2]  # 座標点データ\n",
        "y_train = train[:, 2:]  # 教師ラベル\n",
        "\n",
        "# 精度検証データ\n",
        "X_valid = valid[:, :2]  # 座標点データ\n",
        "y_valid = valid[:, 2:]  # 精度検証データ\n",
        "\n",
        "print(X_train[:3])  # 内容確認用に、訓練データ（座標点データ）の先頭3件の出力例\n",
        "# [[ 1.79815681  2.17092844]\n",
        "#  [-1.37980024 -2.32030578]\n",
        "#  [ 0.47576469  1.77740128]]\n",
        "\n",
        "print(y_train[:3])  # 内容確認用に、訓練データ（教師ラベル）の先頭3件の出力例\n",
        "# [[ 1.]\n",
        "#  [-1.]\n",
        "#  [ 1.]]\n",
        "\n",
        "print(X_valid[:3])  # 内容確認用に、訓練データ（座標点データ）の先頭3件の出力例\n",
        "# [[-1.02936991 -2.98095861]\n",
        "#  [ 3.07660177  2.04484417]\n",
        "#  [ 2.17245687  2.65598799]]\n",
        "\n",
        "print(y_valid[:3])  # 内容確認用に、訓練データ（教師ラベル）の先頭3件の出力例\n",
        "# [[-1.]\n",
        "#  [ 1.]\n",
        "#  [ 1.]]"
      ],
      "execution_count": 0,
      "outputs": []
    },
    {
      "metadata": {
        "id": "_TK8VZq9_0B1",
        "colab_type": "text"
      },
      "cell_type": "markdown",
      "source": [
        "### 簡単にデータ分割（playground-dataライブラリの場合）"
      ]
    },
    {
      "metadata": {
        "id": "M6RFNvKXFe8y",
        "colab_type": "text"
      },
      "cell_type": "markdown",
      "source": [
        "#### リスト10　pg.split_data()関数によるデータ分割"
      ]
    },
    {
      "metadata": {
        "id": "qUBi45fDBQKu",
        "colab_type": "code",
        "colab": {}
      },
      "cell_type": "code",
      "source": [
        "X_train2, y_train2, X_valid2, y_valid2 = pg.split_data(data_array, validation_size=0.2)\n",
        "\n",
        "print(X_train2[:3])  # 内容確認用に、訓練データ（座標点データ）の先頭3件の出力例\n",
        "# [[-2.00731056 -1.717776  ]\n",
        "#  [ 2.09417471  1.57374136]\n",
        "#  [ 1.05214252  3.30017127]]\n",
        "\n",
        "print(y_train2[:3])  # 内容確認用に、訓練データ（教師ラベル）の先頭3件の出力例\n",
        "# [[-1.]\n",
        "#  [ 1.]\n",
        "#  [ 1.]]\n",
        "\n",
        "print(X_valid2[:3])  # 内容確認用に、訓練データ（座標点データ）の先頭3件の出力例\n",
        "# [[ 2.44985369  2.97939926]\n",
        "#  [-3.17870688 -2.25489085]\n",
        "#  [-2.8871559  -3.11640629]]\n",
        "\n",
        "print(y_valid2[:3])  # 内容確認用に、訓練データ（教師ラベル）の先頭3件の出力例\n",
        "# [[ 1.]\n",
        "#  [-1.]\n",
        "#  [-1.]]"
      ],
      "execution_count": 0,
      "outputs": []
    },
    {
      "metadata": {
        "id": "8zp2LecJF68c",
        "colab_type": "text"
      },
      "cell_type": "markdown",
      "source": [
        "## Pythonによる座標点データのグラフ化"
      ]
    },
    {
      "metadata": {
        "id": "8bKRBJnRF-IP",
        "colab_type": "text"
      },
      "cell_type": "markdown",
      "source": [
        "### Matplotlibの使い方"
      ]
    },
    {
      "metadata": {
        "id": "oVy9BVZ-F2OX",
        "colab_type": "text"
      },
      "cell_type": "markdown",
      "source": [
        "#### リスト11　Matplotlibのインストール"
      ]
    },
    {
      "metadata": {
        "id": "8wVq9E-xGYDH",
        "colab_type": "code",
        "colab": {}
      },
      "cell_type": "code",
      "source": [
        "!pip install matplotlib"
      ],
      "execution_count": 0,
      "outputs": []
    },
    {
      "metadata": {
        "id": "hCGhGOYOGm8H",
        "colab_type": "text"
      },
      "cell_type": "markdown",
      "source": [
        "#### リスト12　matplotlib.pyplotモジュールのインポート"
      ]
    },
    {
      "metadata": {
        "id": "8HNffYwmGpbl",
        "colab_type": "code",
        "colab": {}
      },
      "cell_type": "code",
      "source": [
        "import matplotlib.pyplot as plt"
      ],
      "execution_count": 0,
      "outputs": []
    },
    {
      "metadata": {
        "id": "0gEVbYxERKp4",
        "colab_type": "text"
      },
      "cell_type": "markdown",
      "source": [
        "#### リスト13　枠（Figure：図）の作成と、そこへの1つのグラフ（Axes：座標軸）の追加"
      ]
    },
    {
      "metadata": {
        "id": "X1PPj0_OGXW4",
        "colab_type": "code",
        "colab": {}
      },
      "cell_type": "code",
      "source": [
        "#%matplotlib inline          # Google Colabでは不要だが、必要な場合がある*3\n",
        "\n",
        "fig = plt.figure()           # Figure（図）インスタンスの作成\n",
        "\n",
        "ax = fig.add_subplot(1,1,1)  # subplot（サブプロット）配置の一部として、FigureへAxes（座標軸）を追加\n",
        "# subplotとは、タイル状に配置されたAxes（複数の座標軸）のこと。この例では、行 1、列 1、のタイル配置で、左上からの 1 番目の場所、という意味\n",
        "\n",
        "_ = ax.scatter(X_train[:, 0], X_train[:, 1]) # 散布図を描画*4\n",
        "\n",
        "#fig.show()                  # Figureを表示"
      ],
      "execution_count": 0,
      "outputs": []
    },
    {
      "metadata": {
        "id": "1-wq1QV7baGI",
        "colab_type": "text"
      },
      "cell_type": "markdown",
      "source": [
        "### Playground用グラフの描画"
      ]
    },
    {
      "metadata": {
        "id": "_o2g0okab-lu",
        "colab_type": "text"
      },
      "cell_type": "markdown",
      "source": [
        "#### リスト14　pg.plot_points_with_playground_style()関数による散布図の描画"
      ]
    },
    {
      "metadata": {
        "id": "7pGqnGkzbyUf",
        "colab_type": "code",
        "colab": {}
      },
      "cell_type": "code",
      "source": [
        "fig, ax = pg.plot_points_with_playground_style(X_train, y_train, X_valid, y_valid)"
      ],
      "execution_count": 0,
      "outputs": []
    },
    {
      "metadata": {
        "id": "OG6VxvYThJpF",
        "colab_type": "text"
      },
      "cell_type": "markdown",
      "source": [
        "## チャレンジ問題の解答例"
      ]
    },
    {
      "metadata": {
        "id": "qnLlOHlDtG0x",
        "colab_type": "code",
        "colab": {}
      },
      "cell_type": "code",
      "source": [
        "#!pip install playground-data"
      ],
      "execution_count": 0,
      "outputs": []
    },
    {
      "metadata": {
        "id": "PAzqUygTiJYf",
        "colab_type": "code",
        "colab": {}
      },
      "cell_type": "code",
      "source": [
        "# NumPyライブラリのモジュールをインポート\n",
        "import numpy as np\n",
        "\n",
        "# playground-dataライブラリのモジュールをインポート\n",
        "import plygdata as pg\n",
        "\n",
        "# データ種別は回帰（Regress）の平面（Plain）\n",
        "data_type2 = pg.DatasetType.RegressPlane\n",
        "\n",
        "# データを生成\n",
        "data_list2 = pg.generate_data(data_type2)\n",
        "\n",
        "# データを多次元配列化\n",
        "data_array2 = np.array(data_list2)\n",
        "\n",
        "# データを分割\n",
        "X_train3, y_train3, X_valid3, y_valid3 = pg.split_data(data_array2, validation_size=0.4)\n",
        "\n",
        "# グラフを描画\n",
        "fig2, ax2 = pg.plot_points_with_playground_style(X_train3, y_train3, X_valid3, y_valid3)"
      ],
      "execution_count": 0,
      "outputs": []
    }
  ]
}